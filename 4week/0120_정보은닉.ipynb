{
 "cells": [
  {
   "cell_type": "markdown",
   "metadata": {},
   "source": [
    "정보은닉의 개념 = 변수에 값을 다이렉트로 못넣게 만드는것. = 변수를 최대한 노출 시키지 않는것.\n",
    "\n",
    "정보은닉 = 접근제한.\n",
    "\n",
    "자바에서는 접근제한 문법키워드가 제공된다.\n",
    "\n",
    "파이썬의 보안을 높이기 위한 간접접근 방법.\n",
    "앞에 언더바 두개 붙이기 self.__name, self.__age"
   ]
  },
  {
   "cell_type": "code",
   "execution_count": 9,
   "metadata": {},
   "outputs": [
    {
     "name": "stdout",
     "output_type": "stream",
     "text": [
      "이름은홍길동, 나이는21\n",
      "나이는 0보다 커야합니다. 나이 정보 오류\n",
      "이름은홍길동, 나이는21\n",
      "이름은홍길동, 나이는-9\n"
     ]
    }
   ],
   "source": [
    "# 정보은닉의 개념 및 __dict__\n",
    "\n",
    "\n",
    "class Person:\n",
    "    def __init__(self,name,age):\n",
    "        self.name = name\n",
    "        self.age = age\n",
    "\n",
    "# if 문의 해당 함수에 0이 들어가지 않도록 막음.\n",
    "    def add_age(self,age): \n",
    "         if age < 0:\n",
    "             print(\"나이는 0보다 커야합니다. 나이 정보 오류\")\n",
    "         else:\n",
    "            self.age += age\n",
    "    \n",
    "    def __str__(self):\n",
    "        return f'이름은{self.name}, 나이는{self.age}'\n",
    "    \n",
    "p = Person('홍길동',20)\n",
    "p.add_age(1)\n",
    "print(p)\n",
    "\n",
    "p.add_age(-30)\n",
    "print(p)\n",
    "\n",
    "p.age -= 30 # 파이썬에서는 직접 값을 넣어 버림\n",
    "print(p)\n"
   ]
  },
  {
   "cell_type": "markdown",
   "metadata": {},
   "source": [
    "파이썬은 변수에 (_)를 두개 붙이면 변수에 직접 접근이 불가하다.\n",
    "단 언더바 하나를 붙이는 경우도 있다.\n",
    "이는 변수에 직접 접근하지 말라는 개발자들간의 약속이다.\n",
    "(문법적으로는 접근 가능.)"
   ]
  },
  {
   "cell_type": "code",
   "execution_count": 28,
   "metadata": {},
   "outputs": [
    {
     "name": "stdout",
     "output_type": "stream",
     "text": [
      "이름은홍길동, 나이는21\n",
      "나이는 0보다 커야합니다. 나이 정보 오류\n",
      "이름은홍길동, 나이는21\n",
      "{'_Person__name': '홍길동', '_Person__age': 21, '__age': 30}\n",
      "이름은강아지, 나이는-9\n"
     ]
    }
   ],
   "source": [
    "# 앞에 언더바 두개 __\n",
    "\n",
    "class Person:\n",
    "    def __init__(self,name,age):\n",
    "        self.__name = name\n",
    "        self.__age = age\n",
    "\n",
    "# if 문의 해당 함수에 0이 들어가지 않도록 막음.\n",
    "    def add_age(self,age): \n",
    "         if age < 0:\n",
    "             print(\"나이는 0보다 커야합니다. 나이 정보 오류\")\n",
    "         else:\n",
    "            self.__age += age\n",
    "    \n",
    "    def __str__(self):\n",
    "        return f'이름은{self.__name}, 나이는{self.__age}'\n",
    "    \n",
    "p = Person('홍길동',20)\n",
    "p.add_age(1)\n",
    "print(p)\n",
    "\n",
    "p.add_age(-30) # 조건문으로 막힘.\n",
    "print(p)\n",
    "\n",
    "#p.__age -= 30 # 외부에서 변수에 접근이 불가\n",
    "#print(p)\n",
    "\n",
    "print(p.__dict__) # {'_Person__name': '홍길동', '_Person__age': -9}\n",
    "\n",
    "# 접근가능.\n",
    "p._Person__age -= 30 \n",
    "p.__dict__['_Person__name'] = '강아지'\n",
    "print(p)\n",
    "\n"
   ]
  },
  {
   "cell_type": "code",
   "execution_count": 19,
   "metadata": {},
   "outputs": [
    {
     "name": "stdout",
     "output_type": "stream",
     "text": [
      "이름은 홍길동, 나이는 21\n",
      "나이는 0보다 커야 합니다. 나이 정보 오류\n",
      "이름은 홍길동, 나이는 21\n",
      "이름은 홍길동, 나이는 -9\n",
      "{'_name': '홍길동', '_age': -9}\n",
      "{'_name': '홍길동', '_age': -9, 'hi': 'hi', 'hello': 'hello'}\n",
      "{'_name': 'lee', '_age': -9, 'hi': 'hi', 'hello': 'hello'}\n",
      "{'_name': '홍길동', '_age': -9, 'hi': 'hi', 'hello': 'hello'}\n"
     ]
    }
   ],
   "source": [
    "#__dict__ 의 비밀\n",
    "\n",
    "class Person:\n",
    "    def __init__(self, name, age):\n",
    "        self._name = name\n",
    "        self._age = age\n",
    "\n",
    "    # if 문의 해당 함수에서 0이 들어 가지 않도록 막음\n",
    "    def add_age(self,age):\n",
    "        if age < 0:\n",
    "            print('나이는 0보다 커야 합니다. 나이 정보 오류')\n",
    "        else:\n",
    "            self._age += age \n",
    "\n",
    "    def __str__(self):\n",
    "        return f'이름은 {self._name}, 나이는 {self._age}'\n",
    "\n",
    "\n",
    "p = Person('홍길동', 20)\n",
    "\n",
    "p.add_age(1)\n",
    "print(p)\n",
    "\n",
    "p.add_age(-30) #\n",
    "print(p)\n",
    "\n",
    "p._age -= 30 #파이썬에서는 직접 값을 넣어 버림\n",
    "print(p)\n",
    "\n",
    "#클래스 인스턴스 내에는 해당 객체의 변수 정보를(속성 정보) 을 담고 있는 딕셔너리가 존재\n",
    "#{'_name': '홍길동', '_age': -9}\n",
    "print(p.__dict__)\n",
    "p.hi = 'hi'\n",
    "p.hello = 'hello'\n",
    "print(p.__dict__)\n",
    "\n",
    "p._name = 'lee'\n",
    "print(p.__dict__)\n",
    "\n",
    "p.__dict__['_name'] = '홍길동' # __dict__를 이용해 다이렉트로 접근이 가능핟.\n",
    "print(p.__dict__)\n"
   ]
  },
  {
   "cell_type": "markdown",
   "metadata": {},
   "source": [
    "클래스의 객체가 생성되면, 해당 객체의 변수와 값을 따로 관리하는 딕셔너리가 있다.\n",
    "이값을 확인하는 방법은 `객체명.__dict__`를 실행시키면 된다.\n",
    "\n",
    "`__변수명` 생성시 => `_클래스명__변수명`  이렇게 생성이 된다.\n",
    "\n",
    "관습적으로는 변수명 앞에 _한개를 붙인건 변수에 직접 접근을 하지말라는 표시이다.\n"
   ]
  }
 ],
 "metadata": {
  "kernelspec": {
   "display_name": "env_django",
   "language": "python",
   "name": "python3"
  },
  "language_info": {
   "codemirror_mode": {
    "name": "ipython",
    "version": 3
   },
   "file_extension": ".py",
   "mimetype": "text/x-python",
   "name": "python",
   "nbconvert_exporter": "python",
   "pygments_lexer": "ipython3",
   "version": "3.10.16"
  }
 },
 "nbformat": 4,
 "nbformat_minor": 2
}
