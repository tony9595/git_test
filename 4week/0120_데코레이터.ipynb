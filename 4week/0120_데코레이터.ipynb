{
 "cells": [
  {
   "cell_type": "markdown",
   "metadata": {},
   "source": [
    "데코레이터\n",
    "기존 함수를 수정하지 않으면서 추가기능을 구현"
   ]
  },
  {
   "cell_type": "code",
   "execution_count": 13,
   "metadata": {},
   "outputs": [
    {
     "name": "stdout",
     "output_type": "stream",
     "text": [
      "emotion!\n",
      ":)\n",
      "emotion!\n",
      "emotion!\n",
      ":/\n",
      "emotion!\n"
     ]
    }
   ],
   "source": [
    "def smile():\n",
    "    print(':)')\n",
    "\n",
    "def confused():\n",
    "    print(':/')\n",
    "\n",
    "# 함수속 함수\n",
    "def deco(func):\n",
    "    def wrapper():\n",
    "        print('emotion!')\n",
    "        func()\n",
    "        print('emotion!')\n",
    "    \n",
    "    return wrapper\n",
    "\n",
    "# deco 는 wrapper를 반환한다.\n",
    "# wrapper함수는 func를(입력받은 함수) 호출하고 위아래에 이모션을 출력한다.\n",
    "\n",
    "\n",
    "\n",
    "smile_deco = deco(smile)\n",
    "smile_deco()\n",
    "confused_deco= deco(confused)\n",
    "confused_deco()\n",
    "#confused()"
   ]
  },
  {
   "cell_type": "code",
   "execution_count": 28,
   "metadata": {},
   "outputs": [
    {
     "name": "stdout",
     "output_type": "stream",
     "text": [
      "emotion!\n",
      ":)\n",
      "emotion!\n",
      "\n",
      "emotion!\n",
      "emotion!\n",
      ":)\n",
      "emotion!\n",
      "emotion!\n"
     ]
    }
   ],
   "source": [
    "def smile():\n",
    "    print(':)')\n",
    "\n",
    "@deco\n",
    "def confused():\n",
    "    print(':/')\n",
    "\n",
    "# 함수속 함수\n",
    "def deco(func):\n",
    "    def wrapper():\n",
    "        print('emotion!')\n",
    "        func()\n",
    "        print('emotion!')\n",
    "    \n",
    "    return wrapper\n",
    "    \n",
    "\n",
    "@deco  # 데코레이터 = @ + 함수명 = 함수호출을 의미\n",
    "def smile2():\n",
    "    print(':)')\n",
    "\n",
    "smile2()\n",
    "print()\n",
    "\n",
    "@deco\n",
    "@deco  # 데코레이터 = @ + 함수명 = 함수호출을 의미\n",
    "def smile2():\n",
    "    print(':)')\n",
    "\n",
    "smile2()\n"
   ]
  },
  {
   "cell_type": "code",
   "execution_count": 25,
   "metadata": {},
   "outputs": [
    {
     "name": "stdout",
     "output_type": "stream",
     "text": [
      "8\n",
      "6\n"
     ]
    }
   ],
   "source": [
    "# 기존 함수를 수정하지 않으면서 추가기능을 구현\n",
    "# 데코레이터 파라미터가 붙을때\n",
    "\n",
    "\n",
    "\n",
    "def adder_deco(func):\n",
    "\n",
    "    def add(*n):\n",
    "        #함수의 파라미터 호출\n",
    "        print('{0}'.format(func(*n)))\n",
    "    return add\n",
    "\n",
    "\n",
    "@adder_deco\n",
    "def adder1(n1,n2):\n",
    "    return n1+n2\n",
    "\n",
    "@adder_deco\n",
    "def adder2(n1,n2,n3):\n",
    "    return n1+n2+n3\n",
    "\n",
    "adder1(3,5)\n",
    "adder2(1,2,3)"
   ]
  },
  {
   "cell_type": "code",
   "execution_count": null,
   "metadata": {},
   "outputs": [],
   "source": []
  }
 ],
 "metadata": {
  "kernelspec": {
   "display_name": "env_django",
   "language": "python",
   "name": "python3"
  },
  "language_info": {
   "codemirror_mode": {
    "name": "ipython",
    "version": 3
   },
   "file_extension": ".py",
   "mimetype": "text/x-python",
   "name": "python",
   "nbconvert_exporter": "python",
   "pygments_lexer": "ipython3",
   "version": "3.10.16"
  }
 },
 "nbformat": 4,
 "nbformat_minor": 2
}
