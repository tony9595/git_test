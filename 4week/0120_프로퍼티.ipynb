{
 "cells": [
  {
   "cell_type": "markdown",
   "metadata": {},
   "source": [
    "프로퍼티\n",
    "프로퍼티도 클래스이다.\n",
    "프로퍼티 클래스 사용\n",
    "`=` 를 사용하면 `setter` 함수가 호출된다. = 연산자 오버로딩과 유사하다.\n",
    "\n"
   ]
  },
  {
   "cell_type": "code",
   "execution_count": 2,
   "metadata": {},
   "outputs": [
    {
     "name": "stdout",
     "output_type": "stream",
     "text": [
      "1\n",
      "1\n",
      "5\n"
     ]
    }
   ],
   "source": [
    "class Natural:\n",
    "\n",
    "    def __init__(self,n):\n",
    "        # 음수 차단\n",
    "        if n < 0: \n",
    "            self.__n = 0\n",
    "        else:\n",
    "            self.__n = n\n",
    "\n",
    "    def getn(self):\n",
    "        return self.__n\n",
    "    \n",
    "    def setn(self,n):\n",
    "        if n < 1:\n",
    "            self.__n = 1\n",
    "        else:\n",
    "            self.__n = n\n",
    "    \n",
    "    p = property(getn, setn) #클래스 변수\n",
    "\n",
    "n1 = Natural(1)\n",
    "n2 = Natural(2)\n",
    "n3 = Natural(3)\n",
    "\n",
    "\n",
    "print(n1.getn())\n",
    "print(n1.p) # .p가 단독으로 사용이되면 getter 함수가 호출된다.\n",
    "\n",
    "n1.p = n2.p + n3.p # `.p`가 `=` 과 함께 사용되면 setter 함수가 호출된다.\n",
    "\n",
    "print(n1.p)\n",
    "\n",
    "\n",
    "#print(n2.getn())"
   ]
  },
  {
   "cell_type": "markdown",
   "metadata": {},
   "source": [
    "프로퍼티 데코레이터를 사용한다."
   ]
  },
  {
   "cell_type": "code",
   "execution_count": 4,
   "metadata": {},
   "outputs": [
    {
     "name": "stdout",
     "output_type": "stream",
     "text": [
      "나이를 리턴합니다.\n",
      "20\n",
      "나이를 설정합니다.\n",
      "나이를 리턴합니다.\n",
      "40\n"
     ]
    }
   ],
   "source": [
    "class Citzen:\n",
    "    def __init__(self,age_value):\n",
    "        self.__age = age_value\n",
    "\n",
    "    @property # 프로퍼티 함수에 age 함수를 전달\n",
    "    def age(self):\n",
    "        print(\"나이를 리턴합니다.\")\n",
    "        return self.__age\n",
    "    \n",
    "    @age.setter # age가 프로퍼티 객체가 되어서 안에있는 setter 함수를 호출\n",
    "    def age(self, age_value):\n",
    "        print(\"나이를 설정합니다.\")\n",
    "        self.__age = age_value\n",
    "    \n",
    "a = Citzen(20)\n",
    "print(a.age) # .age는 변수가 아니라 프로퍼티 함수다.\n",
    "a.age = 40\n",
    "print(a.age)"
   ]
  },
  {
   "cell_type": "code",
   "execution_count": 5,
   "metadata": {},
   "outputs": [
    {
     "name": "stdout",
     "output_type": "stream",
     "text": [
      "(GET)정보 조회됨\n",
      "<__main__.CharacterInfo object at 0x000001EC570AFBB0> <__main__.Guardian object at 0x000001EC570AD600> <class '__main__.Guardian'>\n",
      "공격력 : 10 / 스피드 : 50km/h\n",
      "(UPDATE)정보 갱신 시작\n",
      "(GET)정보 조회됨\n",
      "<__main__.CharacterInfo object at 0x000001EC570AFBB0> <__main__.Guardian object at 0x000001EC570AD600> <class '__main__.Guardian'>\n",
      "공격력 : 15 / 스피드 : 70km/h\n",
      "(DELETE)정보 삭제하기\n",
      "(GET)정보 조회됨\n",
      "<__main__.CharacterInfo object at 0x000001EC570AFBB0> <__main__.Guardian object at 0x000001EC570AD600> <class '__main__.Guardian'>\n",
      "공격력 :  / 스피드 : \n"
     ]
    }
   ],
   "source": [
    "# 프로퍼티 클래스의 이해\n",
    "\n",
    "# 디스크립터 클래스\n",
    "\n",
    "class CharacterInfo:\n",
    "    def __init__(self, power, speed):\n",
    "        self.power = power\n",
    "        self.speed = speed\n",
    "\n",
    "    def __get__(self, obj, objtype):\n",
    "        print('(GET)정보 조회됨')\n",
    "        #<main.CharacterInfo object at 0x000001BCB2AD7D30> \n",
    "        # <main.Guardian object at 0x000001BCB2AD7BB0> \n",
    "        # <class 'main.Guardian'>\n",
    "        print(self, obj, objtype)\n",
    "        return (\"공격력 : \"+str(self.power) + \" / 스피드 : \" + self.speed)\n",
    "\n",
    "    def __set__(self, obj, val):\n",
    "        print('(UPDATE)정보 갱신 시작')\n",
    "        self.power = val.power\n",
    "        self.speed = val.speed\n",
    "\n",
    "    def __delete__(self, obj):\n",
    "        print(\"(DELETE)정보 삭제하기\")\n",
    "        self.power =\"\"\n",
    "        self.speed = \"\"\n",
    "\n",
    "class Guardian:\n",
    "    info = CharacterInfo(10, \"50km/h\")\n",
    "\n",
    "\n",
    "g1 = Guardian()   # g1 이라는 수호천사 인스턴스 하나 생성\n",
    "print(g1.info)   # 인스턴스 g1의 초기 정보 출력 \n",
    "\n",
    "\n",
    "info_after_upgrade = CharacterInfo(15, \"70km/h\")   # 업그레이드 아이템 적용 후 캐릭터 정보\n",
    "g1.info = info_after_upgrade   # 새 캐릭터 정보를 인스턴스 g1 에 설정\n",
    "print(g1.info)   # 인스턴스 g1의 정보 출력\n",
    "\n",
    "\n",
    "del g1.info   # 인스턴스 g1의 정보 삭제\n",
    "print(g1.info)   # 인스턴스 g1의 정보 출력"
   ]
  },
  {
   "cell_type": "code",
   "execution_count": null,
   "metadata": {},
   "outputs": [],
   "source": [
    "class Car:\n",
    "    def __init__(self, initial_speed):\n",
    "        self._speed = initial_speed\n",
    "\n",
    "    @property #__get__\n",
    "    def speed(self):\n",
    "        \"\"\"I'm the 'speed' property.\"\"\"\n",
    "        print('현재 속도 구하기')\n",
    "        return self._speed\n",
    "\n",
    "    @speed.setter #__set__\n",
    "    def speed(self, value):\n",
    "        print('현재 속도 설정하기')\n",
    "        self._speed = value\n",
    "\n",
    "    @speed.deleter #__delete__\n",
    "    def speed(self):\n",
    "        print('현재 속도 정보 삭제하기')\n",
    "        del self._speed\n",
    "\n",
    "\n",
    "car = Car(50)\n",
    "print(car.speed)\n",
    "car.speed = 100\n",
    "print(car.speed)\n",
    "del car.speed"
   ]
  },
  {
   "cell_type": "code",
   "execution_count": null,
   "metadata": {},
   "outputs": [],
   "source": [
    "class Property:\n",
    "    \"Emulate PyProperty_Type() in Objects/descrobject.c\"\n",
    "\n",
    "    def __init__(self, fget=None, fset=None, fdel=None, doc=None):\n",
    "        self.fget = fget\n",
    "        self.fset = fset\n",
    "        self.fdel = fdel\n",
    "        if doc is None and fget is not None:\n",
    "            doc = fget.doc\n",
    "        self.doc = doc\n",
    "\n",
    "    def set_name(self, owner, name):\n",
    "        self.name = name\n",
    "\n",
    "    def __get__(self, obj, objtype=None):\n",
    "        if obj is None:\n",
    "            return self\n",
    "        if self.fget is None:\n",
    "            raise AttributeError\n",
    "        return self.fget(obj)\n",
    "\n",
    "    def __set__(self, obj, value):\n",
    "        if self.fset is None:\n",
    "            raise AttributeError\n",
    "        self.fset(obj, value)\n",
    "\n",
    "    def __delete__(self, obj):\n",
    "        if self.fdel is None:\n",
    "            raise AttributeError\n",
    "        self.fdel(obj)\n",
    "\n",
    "    def getter(self, fget):\n",
    "        return type(self)(fget, self.fset, self.fdel, self.doc)\n",
    "\n",
    "    def setter(self, fset):\n",
    "        return type(self)(self.fget, fset, self.fdel, self.doc)\n",
    "\n",
    "    def deleter(self, fdel):\n",
    "        return type(self)(self.fget, self.fset, fdel, self.doc)"
   ]
  }
 ],
 "metadata": {
  "kernelspec": {
   "display_name": "env_django",
   "language": "python",
   "name": "python3"
  },
  "language_info": {
   "codemirror_mode": {
    "name": "ipython",
    "version": 3
   },
   "file_extension": ".py",
   "mimetype": "text/x-python",
   "name": "python",
   "nbconvert_exporter": "python",
   "pygments_lexer": "ipython3",
   "version": "3.10.16"
  }
 },
 "nbformat": 4,
 "nbformat_minor": 2
}
