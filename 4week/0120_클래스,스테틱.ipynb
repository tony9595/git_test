{
 "cells": [
  {
   "cell_type": "markdown",
   "metadata": {},
   "source": [
    " - ## 클래스 변수 , 클래스 함수, 스태틱 함수\n",
    " "
   ]
  },
  {
   "cell_type": "code",
   "execution_count": 12,
   "metadata": {},
   "outputs": [
    {
     "name": "stdout",
     "output_type": "stream",
     "text": [
      "10\n",
      "20\n",
      "0\n",
      "1\n",
      "2 1 1\n"
     ]
    }
   ],
   "source": [
    "# 클래스 변수 = 클래스속 메스드밖의 변수.\n",
    "# self.변수 = 인스턴스 변수\n",
    "\n",
    "class Simple:\n",
    "    #클래스 안, 함수 밖\n",
    "    #클래스 변수 = 공용 변수\n",
    "    count = 0\n",
    "\n",
    "    def __init__(self, num):\n",
    "        self.num = num\n",
    "    \n",
    "    def get_num(self):\n",
    "        return self.num\n",
    "    \n",
    "    def set_num(self, num):\n",
    "        self.num = num\n",
    "\n",
    "s= Simple(10)\n",
    "print(s.get_num())\n",
    "s.set_num(20)\n",
    "print(s.get_num())\n",
    "\n",
    "\n",
    "#클래스 변수 접근하는법 = 클래스명, 객체명으로 접근함.\n",
    "print(Simple.count)\n",
    "Simple.count += 1\n",
    "print(Simple.count)\n",
    "s.count += 1\n",
    "print(s.count, Simple.count) \n",
    "\n",
    "# print(Simple.num) 인스턴스 변수 = 클래스병으로 접근 불가 "
   ]
  },
  {
   "cell_type": "code",
   "execution_count": 15,
   "metadata": {},
   "outputs": [
    {
     "name": "stdout",
     "output_type": "stream",
     "text": [
      "1\n",
      "2\n",
      "78.5\n"
     ]
    }
   ],
   "source": [
    "# 어떨때 클래스 변수가 사용되는가\n",
    "\n",
    "# 1. 객체가 몇개 생성되어 있는가?\n",
    "\n",
    "class Simple:\n",
    "\n",
    "    count = 0\n",
    "\n",
    "    def __init__(self, num):\n",
    "        self.num = num\n",
    "        Simple.count += 1\n",
    "    def get_num(self):\n",
    "        return self.num\n",
    "    \n",
    "    def set_num(self, num):\n",
    "        self.num = num\n",
    "\n",
    "s = Simple(10)\n",
    "print(Simple.count)\n",
    "t = Simple(20)\n",
    "print(Simple.count)\n",
    "\n",
    "\n",
    "# 2. 불변값 설정.\n",
    "class Circle:\n",
    "    PI = 3.14\n",
    "\n",
    "    def get_area(self, r):\n",
    "        return Circle.PI *(r**2)\n",
    "c = Circle()\n",
    "print(c.get_area(5))\n",
    "\n"
   ]
  },
  {
   "cell_type": "code",
   "execution_count": 21,
   "metadata": {},
   "outputs": [
    {
     "name": "stdout",
     "output_type": "stream",
     "text": [
      "30\n",
      "30\n",
      "200\n"
     ]
    }
   ],
   "source": [
    "#스태틱 함수와 클래스 함수\n",
    "# self 유무의 차이\n",
    "\n",
    "class Calculatol:\n",
    "\n",
    "    @staticmethod # 스태틱 메소드 = 정적 메소드\n",
    "    def add(n1,n2):\n",
    "        return n1+n2\n",
    "    \n",
    "    def add2(self,n1,n2): # 인스턴스 메소드\n",
    "        return n1+n2\n",
    "    \n",
    "    @staticmethod\n",
    "    def mul(n1,n2):\n",
    "        return n1*n2\n",
    "    \n",
    "cal = Calculatol()\n",
    "print(cal.add(10,20))\n",
    "print(Calculatol.add(10,20))\n",
    "print(Calculatol.mul(10,20))\n",
    "# print(Calculatol.add2(10,20)) 에러 발생 인스턴스 메소드는 객체로 접근해야 한다.\n"
   ]
  },
  {
   "cell_type": "markdown",
   "metadata": {},
   "source": [
    "스태틱 함수 = 정적 메소드\n",
    "객체와 상관 없이 사용이 가능하다.\n",
    "간단한 함수들을 스태틱 함수로 생성한다."
   ]
  },
  {
   "cell_type": "code",
   "execution_count": 25,
   "metadata": {},
   "outputs": [
    {
     "name": "stdout",
     "output_type": "stream",
     "text": [
      "3.14\n",
      "78.5\n",
      "3.14\n",
      "78.5\n"
     ]
    }
   ],
   "source": [
    "#클래스 메소드\n",
    "class Circle2:\n",
    "    PI = 3.14\n",
    "\n",
    "    # 클래스 자체 메소드 = 클래스를 첫번째 인자로 넘기겠다 = 클래스 명으로 함수를 접근할 수 있게끔 하겠다.\n",
    "    @classmethod\n",
    "    def get_area(cls,radius):\n",
    "        return cls.PI * radius * radius\n",
    "    \n",
    "print(Circle2.PI)\n",
    "\n",
    "result = Circle2.get_area(5) #Circle2.get_area(Circle2, 5)\n",
    "print(result)\n",
    "\n",
    "c2 = Circle2()\n",
    "print(c2.PI)\n",
    "result = c2.get_area(5) #c2.get_area(c2,5)\n",
    "print(result)\n"
   ]
  }
 ],
 "metadata": {
  "kernelspec": {
   "display_name": "env_django",
   "language": "python",
   "name": "python3"
  },
  "language_info": {
   "codemirror_mode": {
    "name": "ipython",
    "version": 3
   },
   "file_extension": ".py",
   "mimetype": "text/x-python",
   "name": "python",
   "nbconvert_exporter": "python",
   "pygments_lexer": "ipython3",
   "version": "3.10.16"
  }
 },
 "nbformat": 4,
 "nbformat_minor": 2
}
