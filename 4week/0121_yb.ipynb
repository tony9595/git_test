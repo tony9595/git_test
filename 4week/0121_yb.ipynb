{
 "cells": [
  {
   "cell_type": "markdown",
   "metadata": {},
   "source": [
    "- 정보 은닉\n",
    "변수에 직접인 접근을 제한하는것\n",
    "클래스의 변수와 값이 딕셔너리 자료형으로 관리됨.\n",
    "`__dict__`함수로 확인 가능.\n",
    "클래스의 변수명을 `_`언더바를 활용해 은닉할 수 있다.\n",
    "언더바 두개를 변수명 앞에 작성하게 되면 변수명이 `_클래스명__변수명`으로 변경이 된다.\n",
    "언더바 한개를 붙이면 변수명에 직접적인 접근을 하지말라는 개발자들간의 표시이다.(접근은 가능)"
   ]
  },
  {
   "cell_type": "markdown",
   "metadata": {},
   "source": [
    "- 데코레이터\n",
    "`@`+`함수명`로 표현한다.\n",
    "함수를 수정하지 않고, 기능을 수정한다.\n",
    "콜백함수처럼 함수안의 함수를 넣는 개념으로 생각하면 편하다.\n"
   ]
  },
  {
   "cell_type": "markdown",
   "metadata": {},
   "source": [
    "클래스 변수 = 클래스[클래스 변수, 메서드()]\n",
    "객체명으로    클래스 내에는 인스턴스 변수, 클래스 변수 2가지만 존재한다.\n",
    "접근가능      클래스내에 있는(메서드 밖에 있다.) 변수로서 공유 변수라고도 부른다.\n",
    "             클래스명으로 접근 가능한 변수이다.\n",
    "             클래스변수는 클래스가 메모리에 올라갈때 생성이 된다.\n",
    "             클래스 객체가 생성될때 카운터로 활용.\n",
    "             공유해야할 상수의 경우에도 클래스 변수로 선언해둔다.\n",
    "\n",
    "\n",
    "클래스 메소드 = 클래스 메소드 클래스명으로 호출할 수 있는 메서드이다.\n",
    "객체명으로      위에 `@classmethod` 데코레이터를 붙여주어야 한다.\n",
    "접근가능        첫번째로 받는 인자가 `cls` 클래스명이다.\n",
    "               \n",
    "\n",
    "스태틱 메소드 = 정적메소드라고도 부른다.\n",
    "객체명으로      위에 `@staticmethod` 데코레이터를 붙여주어야 한다.\n",
    "접근가능        객체명으로 접근할 수 있다.\n",
    "               self가 붙지 않고, 간단한 함수로만 작성한다.\n"
   ]
  },
  {
   "cell_type": "code",
   "execution_count": 14,
   "metadata": {},
   "outputs": [
    {
     "name": "stdout",
     "output_type": "stream",
     "text": [
      "1\n",
      "2\n",
      "{}\n",
      "{'__module__': '__main__', '_Simple__count': 2, 'up_count': <classmethod(<function Simple.up_count at 0x00000210EC00DA20>)>, 'get_count': <classmethod(<function Simple.get_count at 0x00000210EC00C9D0>)>, '__dict__': <attribute '__dict__' of 'Simple' objects>, '__weakref__': <attribute '__weakref__' of 'Simple' objects>, '__doc__': None}\n",
      "100\n"
     ]
    }
   ],
   "source": [
    "# 클래스 메소드\n",
    "# 은닉된 클래스 변수에 접근\n",
    "\n",
    "\n",
    "class Simple:\n",
    "    __count = 0\n",
    "\n",
    "    @classmethod\n",
    "    def up_count(cls):\n",
    "        cls.__count += 1\n",
    "        return cls.__count\n",
    "    \n",
    "    @classmethod\n",
    "    def get_count(cls):\n",
    "        return cls.__count\n",
    "    \n",
    "\n",
    "# 클래스 메소드로 접근   \n",
    "s = Simple()\n",
    "s.up_count()\n",
    "print(s.get_count())\n",
    "s.up_count()\n",
    "print(s.get_count())\n",
    "print(s.__dict__)\n",
    "# or\n",
    "# 직접 접근\n",
    "print(Simple.__dict__)\n",
    "# __dict__함수로 클래스의 변수명 조회\n",
    "Simple._Simple__count = 100\n",
    "# 은닉된 클래스 변수명으로 직접 접근.\n",
    "print(s.get_count())\n"
   ]
  }
 ],
 "metadata": {
  "kernelspec": {
   "display_name": "env_django",
   "language": "python",
   "name": "python3"
  },
  "language_info": {
   "codemirror_mode": {
    "name": "ipython",
    "version": 3
   },
   "file_extension": ".py",
   "mimetype": "text/x-python",
   "name": "python",
   "nbconvert_exporter": "python",
   "pygments_lexer": "ipython3",
   "version": "3.10.16"
  }
 },
 "nbformat": 4,
 "nbformat_minor": 2
}
