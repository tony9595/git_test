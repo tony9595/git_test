{
 "cells": [
  {
   "cell_type": "markdown",
   "metadata": {},
   "source": [
    "타입 어노테이션은 3.5버전 부터 지원.\n",
    "\n",
    "가독성 향상\n",
    "타입 검사 도구 활용\n",
    "문서화 향상"
   ]
  },
  {
   "cell_type": "code",
   "execution_count": 4,
   "metadata": {},
   "outputs": [
    {
     "name": "stdout",
     "output_type": "stream",
     "text": [
      "1\n",
      "3\n"
     ]
    },
    {
     "data": {
      "text/plain": [
       "3"
      ]
     },
     "execution_count": 4,
     "metadata": {},
     "output_type": "execute_result"
    }
   ],
   "source": [
    "# 타입 어노테이션\n",
    "# 해당 변수가 어떤 데이터 타입을 넣을건지 알려주는정도.\n",
    "# 가독성은 높이지만, 런타임에 영향이 없다.\n",
    "# 강제성이 없다.\n",
    "\n",
    "num =1\n",
    "print(num)\n",
    "\n",
    "num:int = 3\n",
    "print(num)\n",
    "\n",
    "def add (a:int,b:int) -> int:\n",
    "    return(a+b)\n",
    "\n",
    "add(1,2)"
   ]
  },
  {
   "cell_type": "markdown",
   "metadata": {},
   "source": [
    "자바의 예\n",
    "\n",
    "int num = 3 / 데이터 타입(정수형), 변수명 = 값 (4bit)\n",
    "\n",
    "double num2 = 3.14 / 실수형 타입 , 변수명 = 값 (8bit)"
   ]
  }
 ],
 "metadata": {
  "kernelspec": {
   "display_name": "env_django",
   "language": "python",
   "name": "python3"
  },
  "language_info": {
   "codemirror_mode": {
    "name": "ipython",
    "version": 3
   },
   "file_extension": ".py",
   "mimetype": "text/x-python",
   "name": "python",
   "nbconvert_exporter": "python",
   "pygments_lexer": "ipython3",
   "version": "3.10.16"
  }
 },
 "nbformat": 4,
 "nbformat_minor": 2
}
