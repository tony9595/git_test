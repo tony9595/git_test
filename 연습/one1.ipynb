{
 "cells": [
  {
   "cell_type": "code",
   "execution_count": 1,
   "metadata": {},
   "outputs": [
    {
     "name": "stdout",
     "output_type": "stream",
     "text": [
      "가위 바위 보 게임\n",
      "가위,바위,보 중에 하나만! 내세요\n",
      "가위,바위,보 중에 하나만! 내세요\n",
      "가위,바위,보 중에 하나만! 내세요\n",
      "가위,바위,보 중에 하나만! 내세요\n",
      "가위,바위,보 중에 하나만! 내세요\n",
      "가위,바위,보 중에 하나만! 내세요\n",
      "가위,바위,보 중에 하나만! 내세요\n"
     ]
    },
    {
     "ename": "KeyboardInterrupt",
     "evalue": "Interrupted by user",
     "output_type": "error",
     "traceback": [
      "\u001b[1;31m---------------------------------------------------------------------------\u001b[0m",
      "\u001b[1;31mKeyboardInterrupt\u001b[0m                         Traceback (most recent call last)",
      "Cell \u001b[1;32mIn[1], line 41\u001b[0m\n\u001b[0;32m     36\u001b[0m                 \u001b[38;5;28;01mbreak\u001b[39;00m\n\u001b[0;32m     40\u001b[0m game \u001b[38;5;241m=\u001b[39m RSPGame()\n\u001b[1;32m---> 41\u001b[0m \u001b[43mgame\u001b[49m\u001b[38;5;241;43m.\u001b[39;49m\u001b[43mrun\u001b[49m\u001b[43m(\u001b[49m\u001b[43m)\u001b[49m\n",
      "Cell \u001b[1;32mIn[1], line 16\u001b[0m, in \u001b[0;36mRSPGame.run\u001b[1;34m(self)\u001b[0m\n\u001b[0;32m     14\u001b[0m \u001b[38;5;28mself\u001b[39m\u001b[38;5;241m.\u001b[39mcpu \u001b[38;5;241m=\u001b[39m random\u001b[38;5;241m.\u001b[39mchoice(\u001b[38;5;28mself\u001b[39m\u001b[38;5;241m.\u001b[39mrsps)\n\u001b[0;32m     15\u001b[0m \u001b[38;5;28;01mtry\u001b[39;00m:\n\u001b[1;32m---> 16\u001b[0m     palyer_rsp \u001b[38;5;241m=\u001b[39m \u001b[38;5;28mstr\u001b[39m(\u001b[38;5;28;43minput\u001b[39;49m\u001b[43m(\u001b[49m\u001b[38;5;124;43m\"\u001b[39;49m\u001b[38;5;124;43m가위 바위 보 중 하나를 입력하세요:\u001b[39;49m\u001b[38;5;124;43m\"\u001b[39;49m\u001b[43m)\u001b[49m)\n\u001b[0;32m     17\u001b[0m     \u001b[38;5;28;01mif\u001b[39;00m palyer_rsp \u001b[38;5;129;01mnot\u001b[39;00m \u001b[38;5;129;01min\u001b[39;00m [\u001b[38;5;124m\"\u001b[39m\u001b[38;5;124m가위\u001b[39m\u001b[38;5;124m\"\u001b[39m,\u001b[38;5;124m\"\u001b[39m\u001b[38;5;124m바위\u001b[39m\u001b[38;5;124m\"\u001b[39m,\u001b[38;5;124m\"\u001b[39m\u001b[38;5;124m보\u001b[39m\u001b[38;5;124m\"\u001b[39m]:\n\u001b[0;32m     18\u001b[0m         \u001b[38;5;28mprint\u001b[39m(\u001b[38;5;124m\"\u001b[39m\u001b[38;5;124m가위,바위,보 중에 하나만! 내세요\u001b[39m\u001b[38;5;124m\"\u001b[39m)\n",
      "File \u001b[1;32mc:\\Users\\tony9\\anaconda3\\envs\\env_django\\lib\\site-packages\\ipykernel\\kernelbase.py:1282\u001b[0m, in \u001b[0;36mKernel.raw_input\u001b[1;34m(self, prompt)\u001b[0m\n\u001b[0;32m   1280\u001b[0m     msg \u001b[38;5;241m=\u001b[39m \u001b[38;5;124m\"\u001b[39m\u001b[38;5;124mraw_input was called, but this frontend does not support input requests.\u001b[39m\u001b[38;5;124m\"\u001b[39m\n\u001b[0;32m   1281\u001b[0m     \u001b[38;5;28;01mraise\u001b[39;00m StdinNotImplementedError(msg)\n\u001b[1;32m-> 1282\u001b[0m \u001b[38;5;28;01mreturn\u001b[39;00m \u001b[38;5;28;43mself\u001b[39;49m\u001b[38;5;241;43m.\u001b[39;49m\u001b[43m_input_request\u001b[49m\u001b[43m(\u001b[49m\n\u001b[0;32m   1283\u001b[0m \u001b[43m    \u001b[49m\u001b[38;5;28;43mstr\u001b[39;49m\u001b[43m(\u001b[49m\u001b[43mprompt\u001b[49m\u001b[43m)\u001b[49m\u001b[43m,\u001b[49m\n\u001b[0;32m   1284\u001b[0m \u001b[43m    \u001b[49m\u001b[38;5;28;43mself\u001b[39;49m\u001b[38;5;241;43m.\u001b[39;49m\u001b[43m_parent_ident\u001b[49m\u001b[43m[\u001b[49m\u001b[38;5;124;43m\"\u001b[39;49m\u001b[38;5;124;43mshell\u001b[39;49m\u001b[38;5;124;43m\"\u001b[39;49m\u001b[43m]\u001b[49m\u001b[43m,\u001b[49m\n\u001b[0;32m   1285\u001b[0m \u001b[43m    \u001b[49m\u001b[38;5;28;43mself\u001b[39;49m\u001b[38;5;241;43m.\u001b[39;49m\u001b[43mget_parent\u001b[49m\u001b[43m(\u001b[49m\u001b[38;5;124;43m\"\u001b[39;49m\u001b[38;5;124;43mshell\u001b[39;49m\u001b[38;5;124;43m\"\u001b[39;49m\u001b[43m)\u001b[49m\u001b[43m,\u001b[49m\n\u001b[0;32m   1286\u001b[0m \u001b[43m    \u001b[49m\u001b[43mpassword\u001b[49m\u001b[38;5;241;43m=\u001b[39;49m\u001b[38;5;28;43;01mFalse\u001b[39;49;00m\u001b[43m,\u001b[49m\n\u001b[0;32m   1287\u001b[0m \u001b[43m\u001b[49m\u001b[43m)\u001b[49m\n",
      "File \u001b[1;32mc:\\Users\\tony9\\anaconda3\\envs\\env_django\\lib\\site-packages\\ipykernel\\kernelbase.py:1325\u001b[0m, in \u001b[0;36mKernel._input_request\u001b[1;34m(self, prompt, ident, parent, password)\u001b[0m\n\u001b[0;32m   1322\u001b[0m \u001b[38;5;28;01mexcept\u001b[39;00m \u001b[38;5;167;01mKeyboardInterrupt\u001b[39;00m:\n\u001b[0;32m   1323\u001b[0m     \u001b[38;5;66;03m# re-raise KeyboardInterrupt, to truncate traceback\u001b[39;00m\n\u001b[0;32m   1324\u001b[0m     msg \u001b[38;5;241m=\u001b[39m \u001b[38;5;124m\"\u001b[39m\u001b[38;5;124mInterrupted by user\u001b[39m\u001b[38;5;124m\"\u001b[39m\n\u001b[1;32m-> 1325\u001b[0m     \u001b[38;5;28;01mraise\u001b[39;00m \u001b[38;5;167;01mKeyboardInterrupt\u001b[39;00m(msg) \u001b[38;5;28;01mfrom\u001b[39;00m \u001b[38;5;28;01mNone\u001b[39;00m\n\u001b[0;32m   1326\u001b[0m \u001b[38;5;28;01mexcept\u001b[39;00m \u001b[38;5;167;01mException\u001b[39;00m:\n\u001b[0;32m   1327\u001b[0m     \u001b[38;5;28mself\u001b[39m\u001b[38;5;241m.\u001b[39mlog\u001b[38;5;241m.\u001b[39mwarning(\u001b[38;5;124m\"\u001b[39m\u001b[38;5;124mInvalid Message:\u001b[39m\u001b[38;5;124m\"\u001b[39m, exc_info\u001b[38;5;241m=\u001b[39m\u001b[38;5;28;01mTrue\u001b[39;00m)\n",
      "\u001b[1;31mKeyboardInterrupt\u001b[0m: Interrupted by user"
     ]
    }
   ],
   "source": [
    "import random\n",
    "\n",
    "class RSPGame():\n",
    "    def __init__(self):\n",
    "        self.rsps = [\"가위\",\"바위\",\"보\"]\n",
    "        self.cpu = \"\"\n",
    "    def run(self):\n",
    "\n",
    "        print(\"가위 바위 보 게임\")\n",
    "        \n",
    "        while True:\n",
    "            self.cpu = \"\"\n",
    "            random.shuffle(self.rsps)\n",
    "            self.cpu = random.choice(self.rsps)\n",
    "            try:\n",
    "                palyer_rsp = str(input(\"가위 바위 보 중 하나를 입력하세요:\"))\n",
    "                if palyer_rsp not in [\"가위\",\"바위\",\"보\"]:\n",
    "                    print(\"가위,바위,보 중에 하나만! 내세요\")\n",
    "                    continue\n",
    "            except ValueError:\n",
    "                print(\"가위,바위,보 중에 하나만! 내세요\")\n",
    "                continue\n",
    "            print(f\"{palyer_rsp}를 내셨습니다.\")\n",
    "            print(f\"컴퓨터는 {self.cpu}를 냈습니다.\")\n",
    "\n",
    "            if palyer_rsp == self.cpu:\n",
    "                print(\"비겼습니다\")\n",
    "            elif (palyer_rsp == \"가위\" and self.cpu == \"보\") or (palyer_rsp == \"바위\" and self.cpu ==\"가위\") or (palyer_rsp == \"보\" and self.cpu ==\"바위\"):\n",
    "                print(\"이겼습니다\")\n",
    "            else:\n",
    "                print(\"졌습니다.\")\n",
    "\n",
    "            stop = str(input(\"계속 하시겠습니까? y/n\"))\n",
    "            if stop.upper() in ['N','NO']:\n",
    "                print(\"게임을 종료합니다.\")\n",
    "                break\n",
    "    \n",
    "\n",
    "\n",
    "game = RSPGame()\n",
    "game.run()"
   ]
  },
  {
   "cell_type": "code",
   "execution_count": 1,
   "metadata": {},
   "outputs": [
    {
     "name": "stdout",
     "output_type": "stream",
     "text": [
      "['John', ('man', 'USA'), [175, 24]]\n",
      "['John', ('man', 'USA'), [175, 23]]\n"
     ]
    }
   ],
   "source": [
    "import copy as cp\n",
    "john = ['John', ('man','USA'),[175,23]]\n",
    "chulsu = cp.deepcopy(john)\n",
    "john[2][1] += 1\n",
    "print(john)\n",
    "print(chulsu)"
   ]
  },
  {
   "cell_type": "code",
   "execution_count": 4,
   "metadata": {},
   "outputs": [
    {
     "name": "stdout",
     "output_type": "stream",
     "text": [
      "[2, 4, 6, 8, 10, 12, 14, 16, 18, 20, 22, 24, 26, 28, 30, 32, 34, 36, 38, 40, 42, 44, 46, 48, 50, 52, 54, 56, 58, 60, 62, 64, 66, 68, 70, 72, 74, 76, 78, 80, 82, 84, 86, 88, 90, 92, 94, 96, 98, 100]\n"
     ]
    }
   ],
   "source": [
    "num = [i for i in range(1,101) if i% 2 == 0]\n",
    "print(num)"
   ]
  },
  {
   "cell_type": "markdown",
   "metadata": {},
   "source": [
    "## ccount 클래스\n",
    "- 은행에 가서 계좌를 개설.\n",
    "   -  은행이름, 예금주, 계좌번호, 잔액이 설정됩니다.\n",
    "- Account 클래스를 생성한 후 생성자를 구현해보세요.\n",
    "   - 생성자에서는 예금주와 초기 잔액만 입력 받습니다. \n",
    "- 은행이름은 SC은행으로 계좌번호는 3자리-2자리-6자리 형태로 랜덤하게 생성됩니다."
   ]
  },
  {
   "cell_type": "code",
   "execution_count": 111,
   "metadata": {},
   "outputs": [
    {
     "name": "stdout",
     "output_type": "stream",
     "text": [
      "['아마최', 100000, 'SC은행', '495-06-319191']\n",
      "아마최\n",
      "100000\n",
      "SC은행\n",
      "495-06-319191\n"
     ]
    }
   ],
   "source": [
    "import random\n",
    "\n",
    "class Account:\n",
    "    def __init__(self):\n",
    "        # 은행명 고정\n",
    "        self.bank_name = \"SC은행\"\n",
    "\n",
    "        # 계좌 번호 생성\n",
    "        a = str(random.randint(1,999))\n",
    "        b = str(random.randint(1,99))\n",
    "        c = str(random.randint(1,999999))\n",
    "\n",
    "        if len(a) < 3: #빈칸 채우기.\n",
    "            num = 3 - len(a)\n",
    "            emt = '0'\n",
    "            for i in range(num):\n",
    "                a = emt+a\n",
    "\n",
    "        if len(b) < 2:\n",
    "            num = 2 - len(b)\n",
    "            emt = '0'\n",
    "            for i in range(num):\n",
    "                b = emt+b\n",
    "\n",
    "        if len(c) < 6:\n",
    "            num = 6 - len(c)\n",
    "            emt = '0'\n",
    "            for i in range(num):\n",
    "                c = emt+c\n",
    "        self.bank_account = (a[:]+'-'+b[:]+'-'+c[:])\n",
    "\n",
    "        #정보 입력\n",
    "        while True:\n",
    "            try:\n",
    "                self.name = str(input(\"이름을 입력해주세요. :\"))\n",
    "                break\n",
    "            except:\n",
    "                print(\"잘못된 입력입니다. 다시 입력해주세요.\")\n",
    "                continue\n",
    "        while True:\n",
    "            try:\n",
    "                self.money = int(input(\"잔액을 숫자로 입력해주세요. :\"))\n",
    "                break\n",
    "            except:\n",
    "                print(\"잘못된 입력입니다. 숫자로 다시 입력해주세요.\")\n",
    "                continue\n",
    "        self.info_list = [self.name,self.money,self.bank_name,self.bank_account]\n",
    "        \n",
    "\n",
    "    def get_info(self,info_list):\n",
    "        return info_list\n",
    "\n",
    "\n",
    "man = Account()\n",
    "print(man.get_info(man.info_list))\n",
    "print(man.name)\n",
    "print(man.money)\n",
    "print(man.bank_name)\n",
    "print(man.bank_account)\n",
    "\n",
    "        "
   ]
  },
  {
   "cell_type": "code",
   "execution_count": 103,
   "metadata": {},
   "outputs": [
    {
     "name": "stdout",
     "output_type": "stream",
     "text": [
      "287 64 134020\n",
      "287-64-134020\n"
     ]
    }
   ],
   "source": [
    "import random\n",
    "\n",
    "a = str(random.randint(1,999))\n",
    "b = str(random.randint(1,99))\n",
    "c = str(random.randint(1,999999))\n",
    "\n",
    "\n",
    "if len(a) < 3:\n",
    "    num = 3 - len(a)\n",
    "    emt = '0'\n",
    "    for i in range(num):\n",
    "        a = emt+a\n",
    "\n",
    "if len(b) < 2:\n",
    "    num = 2 - len(b)\n",
    "    emt = '0'\n",
    "    for i in range(num):\n",
    "        b = emt+b\n",
    "\n",
    "if len(c) < 6:\n",
    "    num = 6 - len(c)\n",
    "    emt = '0'\n",
    "    for i in range(num):\n",
    "        c = emt+c\n",
    "\n",
    "num_list = (a[:]+'-'+b[:]+'-'+c[:])\n",
    "print(a,b,c)\n",
    "print(num_list)"
   ]
  }
 ],
 "metadata": {
  "kernelspec": {
   "display_name": "env_django",
   "language": "python",
   "name": "python3"
  },
  "language_info": {
   "codemirror_mode": {
    "name": "ipython",
    "version": 3
   },
   "file_extension": ".py",
   "mimetype": "text/x-python",
   "name": "python",
   "nbconvert_exporter": "python",
   "pygments_lexer": "ipython3",
   "version": "3.10.16"
  }
 },
 "nbformat": 4,
 "nbformat_minor": 2
}
