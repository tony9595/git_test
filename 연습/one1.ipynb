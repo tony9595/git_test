{
 "cells": [
  {
   "cell_type": "code",
   "execution_count": 3,
   "metadata": {},
   "outputs": [
    {
     "name": "stdout",
     "output_type": "stream",
     "text": [
      "가위 바위 보 게임\n",
      "가위를 내셨습니다.\n",
      "컴퓨터는 가위를 냈습니다.\n",
      "비겼습니다\n",
      "가위를 내셨습니다.\n",
      "컴퓨터는 바위를 냈습니다.\n",
      "졌습니다.\n",
      "바위를 내셨습니다.\n",
      "컴퓨터는 가위를 냈습니다.\n",
      "이겼습니다\n",
      "바위를 내셨습니다.\n",
      "컴퓨터는 바위를 냈습니다.\n",
      "비겼습니다\n",
      "가위를 내셨습니다.\n",
      "컴퓨터는 보를 냈습니다.\n",
      "이겼습니다\n",
      "가위를 내셨습니다.\n",
      "컴퓨터는 바위를 냈습니다.\n",
      "졌습니다.\n",
      "바위를 내셨습니다.\n",
      "컴퓨터는 가위를 냈습니다.\n",
      "이겼습니다\n",
      "게임을 종료합니다.\n"
     ]
    }
   ],
   "source": [
    "import random\n",
    "\n",
    "class RSPGame():\n",
    "    def __init__(self):\n",
    "        self.rsps = [\"가위\",\"바위\",\"보\"]\n",
    "        self.cpu = \"\"\n",
    "    def run(self):\n",
    "\n",
    "        print(\"가위 바위 보 게임\")\n",
    "        \n",
    "        while True:\n",
    "            self.cpu = \"\"\n",
    "            random.shuffle(self.rsps)\n",
    "            self.cpu = random.choice(self.rsps)\n",
    "            try:\n",
    "                palyer_rsp = str(input(\"가위 바위 보 중 하나를 입력하세요:\"))\n",
    "                if palyer_rsp not in [\"가위\",\"바위\",\"보\"]:\n",
    "                    print(\"가위,바위,보 중에 하나만! 내세요\")\n",
    "                    continue\n",
    "            except ValueError:\n",
    "                print(\"가위,바위,보 중에 하나만! 내세요\")\n",
    "                continue\n",
    "            print(f\"{palyer_rsp}를 내셨습니다.\")\n",
    "            print(f\"컴퓨터는 {self.cpu}를 냈습니다.\")\n",
    "\n",
    "            if palyer_rsp == self.cpu:\n",
    "                print(\"비겼습니다\")\n",
    "            elif (palyer_rsp == \"가위\" and self.cpu == \"보\") or (palyer_rsp == \"바위\" and self.cpu ==\"가위\") or (palyer_rsp == \"보\" and self.cpu ==\"바위\"):\n",
    "                print(\"이겼습니다\")\n",
    "            else:\n",
    "                print(\"졌습니다.\")\n",
    "\n",
    "            stop = str(input(\"계속 하시겠습니까? y/n\"))\n",
    "            if stop.upper() in ['N','NO']:\n",
    "                print(\"게임을 종료합니다.\")\n",
    "                break\n",
    "    \n",
    "\n",
    "\n",
    "game = RSPGame()\n",
    "game.run()"
   ]
  }
 ],
 "metadata": {
  "kernelspec": {
   "display_name": "env_django",
   "language": "python",
   "name": "python3"
  },
  "language_info": {
   "codemirror_mode": {
    "name": "ipython",
    "version": 3
   },
   "file_extension": ".py",
   "mimetype": "text/x-python",
   "name": "python",
   "nbconvert_exporter": "python",
   "pygments_lexer": "ipython3",
   "version": "3.10.16"
  }
 },
 "nbformat": 4,
 "nbformat_minor": 2
}
