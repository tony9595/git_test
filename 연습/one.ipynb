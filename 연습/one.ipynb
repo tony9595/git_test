{
 "cells": [
  {
   "cell_type": "code",
   "execution_count": 1,
   "metadata": {},
   "outputs": [
    {
     "name": "stdout",
     "output_type": "stream",
     "text": [
      "잘못된 입력입니다. 숫자로 입력해주세요.\n",
      "저장되었습니다.\n",
      "1 1\n",
      "1 1\n",
      "프로그램을 종료합니다.\n"
     ]
    }
   ],
   "source": [
    "# 폰북\n",
    "class Phone:\n",
    "    def __init__(self,name,tel):\n",
    "        self.name =name\n",
    "        self.tel =tel\n",
    "\n",
    "    def set_name(self,name):\n",
    "        self.name =name\n",
    "    \n",
    "    def set_tel(self,tel):\n",
    "        self.tel = tel\n",
    "\n",
    "class PhoneBook:\n",
    "    def __init__(self):\n",
    "        self.phone_list = [] # 동명이인이 있을 수 있음. (key값이 겹칠 수 있음) list형으로 받음.\n",
    "        self.phone_list_max = None # 인원수.\n",
    "\n",
    "    def add(self,name,tel):\n",
    "        self.phone_list.append(Phone(name,tel))\n",
    "\n",
    "    def run(self):\n",
    "        # 인원수 입력받기\n",
    "        while True:\n",
    "            try:\n",
    "                self.phone_list_max = int(input(\"인원수 >>\"))\n",
    "                break\n",
    "            except:\n",
    "                print(\"잘못된 입력입니다. 숫자로 입력해주세요.\")\n",
    "                continue\n",
    "\n",
    "        # 이름과 전화번호 입력\n",
    "        while True:\n",
    "            try:\n",
    "                for i in range(self.phone_list_max):\n",
    "                    tel_name = input(\"이름과 전화번호를 입력해주세요.(빈 칸은 종료) : \")\n",
    "                    tel_name = tel_name.split(\" \")\n",
    "                    self.add(tel_name[0],tel_name[1])\n",
    "                break\n",
    "            except:\n",
    "                print(\"잘못된 입력입니다. 다시 입력해주세요.\")\n",
    "                continue\n",
    "\n",
    "        print(\"저장되었습니다.\") \n",
    "\n",
    "        #  검색\n",
    "        while True:\n",
    "            try:\n",
    "                name = input(\"검색할 이름 입력 :\")\n",
    "                if name == \"그만\":\n",
    "                    print(\"프로그램을 종료합니다.\")\n",
    "                    break\n",
    "                # 중복(같은이름)\n",
    "                searched_list = [phone for phone in self.phone_list if phone.name == name]\n",
    "                if len(searched_list) == 0:\n",
    "                    print(\"찾는 이름이 없습니다.\")\n",
    "                else:\n",
    "                    for phone in searched_list:\n",
    "                        print(phone.name, phone.tel)\n",
    "            except:\n",
    "                print(\"잘못된 입력입니다.\")\n",
    "                continue\n",
    "\n",
    "        \n",
    "\n",
    "\n",
    "phone_book = PhoneBook()\n",
    "phone_book.run()"
   ]
  },
  {
   "cell_type": "markdown",
   "metadata": {},
   "source": [
    "리스트 안에는 객체가 들어간다.\n",
    "리스트 안의 객체를 검색하기 위해 for 반복문으로 값을 꺼내서 비교한다."
   ]
  }
 ],
 "metadata": {
  "kernelspec": {
   "display_name": "env_django",
   "language": "python",
   "name": "python3"
  },
  "language_info": {
   "codemirror_mode": {
    "name": "ipython",
    "version": 3
   },
   "file_extension": ".py",
   "mimetype": "text/x-python",
   "name": "python",
   "nbconvert_exporter": "python",
   "pygments_lexer": "ipython3",
   "version": "3.10.16"
  }
 },
 "nbformat": 4,
 "nbformat_minor": 2
}
