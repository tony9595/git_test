{
 "cells": [
  {
   "cell_type": "code",
   "execution_count": 8,
   "metadata": {},
   "outputs": [
    {
     "name": "stdout",
     "output_type": "stream",
     "text": [
      "초콜릿\n",
      "바닐라\n",
      "딸기\n"
     ]
    }
   ],
   "source": [
    "class Bread:\n",
    "    def __init__(self, flavor):\n",
    "        self.flavor = flavor\n",
    "\n",
    "breads = [Bread(\"초콜릿\"), Bread(\"바닐라\"), Bread(\"딸기\")]\n",
    "\n",
    "for bread in breads:\n",
    "    print(bread.flavor)\n"
   ]
  },
  {
   "cell_type": "code",
   "execution_count": 19,
   "metadata": {},
   "outputs": [
    {
     "name": "stdout",
     "output_type": "stream",
     "text": [
      "<class '__main__.Dog'>\n",
      "멍멍\n"
     ]
    }
   ],
   "source": [
    "class Dog:\n",
    "    def dark(self):\n",
    "        print(\"멍멍\")\n",
    "    \n",
    "    \n",
    "    \n",
    "my_dog = Dog()\n",
    "print(type(my_dog))\n",
    "my_dog.dark()"
   ]
  },
  {
   "cell_type": "markdown",
   "metadata": {},
   "source": [
    "클래스\n",
    "- 특정 기능을 하는 함수의 집합\n",
    "\n",
    "- __init__ 은 생성자, 객체를 생성할때 초기값을 설정해줌.\n",
    "함수에 초기값을 설정하는것과 비슷한것 같음.\n",
    "\n",
    "- self 객체값을 스스로에게 반환해주는 변수.\n",
    "클래스 사용시 사용자가 입력한 매서드 값을 클래스 내에서 스스로에게 반환한다"
   ]
  },
  {
   "cell_type": "code",
   "execution_count": 14,
   "metadata": {},
   "outputs": [
    {
     "name": "stdout",
     "output_type": "stream",
     "text": [
      "안녕하세요, 저는 김덕철입니다.\n"
     ]
    }
   ],
   "source": [
    "class person:\n",
    "    def __init__(self,name):\n",
    "        self.name = name\n",
    "\n",
    "    def greet(self):\n",
    "        print(f\"안녕하세요, 저는 {self.name}입니다.\")\n",
    "\n",
    "person1 = person(\"김덕철\")\n",
    "person1.greet()"
   ]
  },
  {
   "cell_type": "code",
   "execution_count": 17,
   "metadata": {},
   "outputs": [
    {
     "name": "stdout",
     "output_type": "stream",
     "text": [
      "두수의 합은 : 12\n",
      "두수를 뺀 값은 : 8\n",
      "두수의 합은 : 20\n",
      "두 수를 나눈값은 :5.0\n"
     ]
    }
   ],
   "source": [
    "class Calculator:\n",
    "    def __init__(self,num1,num2):\n",
    "        self.num1 = num1\n",
    "        self.num2 = num2\n",
    "\n",
    "    def add(self):\n",
    "        add_num = self.num1 + self.num2\n",
    "        print(f\"두수의 합은 : {add_num}\")\n",
    "\n",
    "    def subtract(self):\n",
    "        subtract_num = self.num1 - self.num2\n",
    "        print(f\"두수를 뺀 값은 : {subtract_num}\")\n",
    "\n",
    "    def multiply(self):\n",
    "        multiply_num = self.num1 * self.num2\n",
    "        print(f\"두수의 합은 : {multiply_num}\")\n",
    "\n",
    "    def divide(self):\n",
    "        if self.num1 == 0 or self.num2 == 0:\n",
    "            print(\"0으로 나눌 수 없습니다.\")\n",
    "        else:\n",
    "            divide_num = self.num1 / self.num2\n",
    "            print(f\"두 수를 나눈값은 :{divide_num}\")\n",
    "\n",
    "\n",
    "num = Calculator(10,2)\n",
    "\n",
    "num.add()\n",
    "num.subtract()\n",
    "num.multiply()\n",
    "num.divide()\n",
    "\n"
   ]
  },
  {
   "cell_type": "code",
   "execution_count": 25,
   "metadata": {},
   "outputs": [
    {
     "name": "stdout",
     "output_type": "stream",
     "text": [
      "철수의 평균 점수 :70.00000\n"
     ]
    }
   ],
   "source": [
    "class student:\n",
    "    def __init__(self,name):\n",
    "        self.name = name\n",
    "        self.scores = []\n",
    "\n",
    "    def add_score(self, score):\n",
    "        self.scores.append(score)\n",
    "\n",
    "    def get_average(self):\n",
    "        if self.scores:\n",
    "            return sum(self.scores) / len(self.scores)\n",
    "        else:\n",
    "            return 0.0\n",
    "        \n",
    "jam = student(\"철수\")\n",
    "\n",
    "jam.add_score(90)\n",
    "jam.add_score(70)\n",
    "jam.add_score(50)\n",
    "\n",
    "print(f\"{jam.name}의 평균 점수 :{jam.get_average():.5f}\")"
   ]
  },
  {
   "cell_type": "code",
   "execution_count": 8,
   "metadata": {},
   "outputs": [
    {
     "name": "stdout",
     "output_type": "stream",
     "text": [
      "철수의 평균 점수: 84.33\n",
      "90\n"
     ]
    }
   ],
   "source": [
    "class Student:\n",
    "    def __init__(self, name):\n",
    "        self.name = name         # 학생 이름\n",
    "        self.scores = []         # 점수를 저장할 빈 리스트 초기화\n",
    "\n",
    "    def add_score(self, score):\n",
    "        self.scores.append(score)  # 점수를 리스트에 추가\n",
    "\n",
    "    def get_total(self):\n",
    "        return sum(self.scores())\n",
    "\n",
    "    def get_average(self):\n",
    "        if self.scores:  # 리스트가 비어있지 않을 때 평균 계산\n",
    "            return self.get_total() / len(self.scores)\n",
    "        else:  # 리스트가 비어있으면 평균은 0\n",
    "            return 0.0\n",
    "        \n",
    "\n",
    "student = Student(\"철수\")\n",
    "\n",
    "# 점수 추가\n",
    "student.add_score(85)\n",
    "student.add_score(90)\n",
    "student.add_score(78)\n",
    "\n",
    "# 결과 확인\n",
    "print(f\"{student.name}의 평균 점수: {student.get_average():.2f}\")\n",
    "print(f\"{student.scores}\")\n"
   ]
  },
  {
   "cell_type": "code",
   "execution_count": 8,
   "metadata": {},
   "outputs": [
    {
     "name": "stdout",
     "output_type": "stream",
     "text": [
      "[1, 2, 3, 4]\n"
     ]
    }
   ],
   "source": [
    "x = [1, 2, 3]\n",
    "y = x\n",
    "x.append(4)\n",
    "print(y)\n"
   ]
  },
  {
   "cell_type": "code",
   "execution_count": 2,
   "metadata": {},
   "outputs": [
    {
     "name": "stdout",
     "output_type": "stream",
     "text": [
      "6. 제목 : 6\n",
      "7. 등록된 게시물이 없습둥\n",
      "8. 등록된 게시물이 없습둥\n",
      "9. 등록된 게시물이 없습둥\n",
      "10. 등록된 게시물이 없습둥\n"
     ]
    }
   ],
   "source": [
    "posts= [[1,\"김박덕철\"],[2,\"지각변동\"],[3,\"철가면짱\"],[4,\"나로호\"],[5,\"김치찌게\"],[6,\"홍박사\"]]\n",
    "\n",
    "def show(hsp=None):\n",
    "    num = 5\n",
    "    if hsp == None:\n",
    "        pass\n",
    "    elif (hsp == '<' and num-5 < 5) or (hsp == '>' and num > len(posts)+5):\n",
    "        print(\"범위를 초과했습니다.\")\n",
    "    elif hsp == '<' and num >= 10:\n",
    "        num = num-5\n",
    "    elif hsp == '>' and num < len(posts):\n",
    "        num = num+5\n",
    "\n",
    "    for i in range(num-5,num):\n",
    "        if i < len(posts):\n",
    "            print(f\"{i+1}. 제목 : {posts[i][0]}\")\n",
    "        elif i >= len(posts):\n",
    "            print(f\"{i+1}. 등록된 게시물이 없습둥\")\n",
    "        \n",
    "def show_ez(hsp=None):\n",
    "    nums = 5\n",
    "    if hsp == None:\n",
    "        show(nums)\n",
    "    elif hsp == '<' and nums >= 10:\n",
    "        show(nums-5)\n",
    "    elif hsp == '>' and nums < len(posts):\n",
    "        show(nums+5)\n",
    "    \n",
    "show('>')"
   ]
  },
  {
   "cell_type": "code",
   "execution_count": 39,
   "metadata": {},
   "outputs": [
    {
     "name": "stdout",
     "output_type": "stream",
     "text": [
      "지\n"
     ]
    }
   ],
   "source": [
    "posts= [[1,\"김박덕철\"],[2,\"지각변동\"],[3,\"철가면짱\"],[4,\"나로호\"],[5,\"김치찌게\"],[6,\"홍박사\"]]\n",
    "print(posts[1][1][:1])"
   ]
  },
  {
   "cell_type": "markdown",
   "metadata": {},
   "source": [
    "- ## 유저 클래스\n",
    "  - 회원수 (count,int)\n",
    "  - 회원 정보, 이름+회원번호 (user_info,dict(int:str))\n",
    "\n",
    "- ## 포트트 클래스\n",
    "  - 게시물 갯수 (post_num, int)\n",
    "  - 게시물 내용 (posts, list[[title, content],...])\n",
    "  - 페이지 (num, int)\n",
    "  - 로그인 (login, bool)\n",
    "\n",
    "- ### 현재 구현한 내용\n",
    "  - 회원생성 (이름을 입력하면, 회원번호를 지정해줌.)\n",
    "  - 로그인 (이름과, 회원번호를 입력하면 메뉴창이 열림.)\n",
    "  - 메뉴창 (가능한 명령과, 작성된 게시물의 제목을 확인할 수 있음.)\n",
    "  - 글 작성 (제목, 내용)*\n",
    "  - 글 조회 \n",
    "  - 글 수정*\n",
    "  - 글 삭제*\n",
    "  - 종료\n",
    "  - 저장하고 있는 데이터 형식 변경 리스트(딕셔너리1, 딕셔너리2, ...) \n",
    "    >{게시물 id : 1, 게시물 제목 : 제목, 게시물 내용: 내용, 게시물 작성자: 작성자}\n",
    "\n",
    "\n",
    "- ### 추가해야 할 기능\n",
    "  - 게시글에 댓글생성,삭제,수정\n",
    "  - 게시물 작성일.\n",
    "  - 달성률\n"
   ]
  },
  {
   "cell_type": "code",
   "execution_count": 34,
   "metadata": {},
   "outputs": [
    {
     "ename": "TypeError",
     "evalue": "int() argument must be a string, a bytes-like object or a real number, not 'dict'",
     "output_type": "error",
     "traceback": [
      "\u001b[1;31m---------------------------------------------------------------------------\u001b[0m",
      "\u001b[1;31mTypeError\u001b[0m                                 Traceback (most recent call last)",
      "Cell \u001b[1;32mIn[34], line 4\u001b[0m\n\u001b[0;32m      1\u001b[0m a \u001b[38;5;241m=\u001b[39m {\u001b[38;5;124m'\u001b[39m\u001b[38;5;124mline1\u001b[39m\u001b[38;5;124m'\u001b[39m:{\u001b[38;5;124m'\u001b[39m\u001b[38;5;124mcontent1\u001b[39m\u001b[38;5;124m'\u001b[39m:\u001b[38;5;124m'\u001b[39m\u001b[38;5;124m첫번째줄\u001b[39m\u001b[38;5;124m'\u001b[39m,\u001b[38;5;124m'\u001b[39m\u001b[38;5;124mDone1\u001b[39m\u001b[38;5;124m'\u001b[39m:\u001b[38;5;28;01mFalse\u001b[39;00m,\u001b[38;5;124m'\u001b[39m\u001b[38;5;124mcontent2\u001b[39m\u001b[38;5;124m'\u001b[39m:\u001b[38;5;124m'\u001b[39m\u001b[38;5;124m두번째줄\u001b[39m\u001b[38;5;124m'\u001b[39m,\u001b[38;5;124m'\u001b[39m\u001b[38;5;124mDone2\u001b[39m\u001b[38;5;124m'\u001b[39m:\u001b[38;5;28;01mFalse\u001b[39;00m,\u001b[38;5;124m'\u001b[39m\u001b[38;5;124mcontent3\u001b[39m\u001b[38;5;124m'\u001b[39m:\u001b[38;5;124m'\u001b[39m\u001b[38;5;124m세번째줄\u001b[39m\u001b[38;5;124m'\u001b[39m,\u001b[38;5;124m'\u001b[39m\u001b[38;5;124mDone3\u001b[39m\u001b[38;5;124m'\u001b[39m:\u001b[38;5;28;01mFalse\u001b[39;00m}}\n\u001b[1;32m----> 4\u001b[0m \u001b[38;5;28;01mfor\u001b[39;00m i \u001b[38;5;129;01min\u001b[39;00m \u001b[38;5;28mrange\u001b[39m(\u001b[38;5;28mlen\u001b[39m(\u001b[38;5;28;43mint\u001b[39;49m\u001b[43m(\u001b[49m\u001b[43ma\u001b[49m\u001b[43m[\u001b[49m\u001b[38;5;124;43m'\u001b[39;49m\u001b[38;5;124;43mline1\u001b[39;49m\u001b[38;5;124;43m'\u001b[39;49m\u001b[43m]\u001b[49m\u001b[43m)\u001b[49m\u001b[38;5;241m/\u001b[39m\u001b[38;5;241m2\u001b[39m)):\n\u001b[0;32m      5\u001b[0m     \u001b[38;5;28mprint\u001b[39m(a[\u001b[38;5;124m'\u001b[39m\u001b[38;5;124mline1\u001b[39m\u001b[38;5;124m'\u001b[39m][\u001b[38;5;124m'\u001b[39m\u001b[38;5;124mcontent\u001b[39m\u001b[38;5;124m'\u001b[39m\u001b[38;5;241m+\u001b[39m\u001b[38;5;28mstr\u001b[39m(i)])\n",
      "\u001b[1;31mTypeError\u001b[0m: int() argument must be a string, a bytes-like object or a real number, not 'dict'"
     ]
    }
   ],
   "source": [
    "a = {'line1':{'content1':'첫번째줄','Done1':False,'content2':'두번째줄','Done2':False,'content3':'세번째줄','Done3':False}}\n",
    "\n",
    "\n",
    "for i in range(len(int(a['line1'])/2)):\n",
    "    print(a['line1']['content'+str(i)])"
   ]
  },
  {
   "cell_type": "code",
   "execution_count": 49,
   "metadata": {},
   "outputs": [
    {
     "name": "stdout",
     "output_type": "stream",
     "text": [
      "{'1': '123321', '1done': False, '2': '123', '2done': False, '3': '156', '3done': False}\n",
      "123321\n",
      "123\n",
      "156\n"
     ]
    },
    {
     "ename": "IndexError",
     "evalue": "list index out of range",
     "output_type": "error",
     "traceback": [
      "\u001b[1;31m---------------------------------------------------------------------------\u001b[0m",
      "\u001b[1;31mIndexError\u001b[0m                                Traceback (most recent call last)",
      "Cell \u001b[1;32mIn[49], line 35\u001b[0m\n\u001b[0;32m     31\u001b[0m     \u001b[38;5;28;01mif\u001b[39;00m k\u001b[38;5;241m.\u001b[39misdigit():\n\u001b[0;32m     32\u001b[0m         \u001b[38;5;28mprint\u001b[39m(v)\n\u001b[1;32m---> 35\u001b[0m \u001b[38;5;28;01mfor\u001b[39;00m k,v \u001b[38;5;129;01min\u001b[39;00m \u001b[43ma\u001b[49m\u001b[43m[\u001b[49m\u001b[38;5;241;43m1\u001b[39;49m\u001b[43m]\u001b[49m\u001b[38;5;241m.\u001b[39mitems():\n\u001b[0;32m     36\u001b[0m     \u001b[38;5;28;01mif\u001b[39;00m k\u001b[38;5;241m.\u001b[39misdigit():\n\u001b[0;32m     37\u001b[0m         \u001b[38;5;28mprint\u001b[39m(v)\n",
      "\u001b[1;31mIndexError\u001b[0m: list index out of range"
     ]
    }
   ],
   "source": [
    "dbtd = dict()\n",
    "post_num = 1\n",
    "while True:\n",
    "    try:\n",
    "        title = input(\"제목을 입력해주세요.\")\n",
    "        break\n",
    "    except:\n",
    "        print(\"오류발생\")\n",
    "    continue\n",
    "    \n",
    "content = dict()\n",
    "con_num = 1\n",
    "\n",
    "while True:\n",
    "    try:\n",
    "        \n",
    "        line_con = input(\"내용을 입력해주세요.\")\n",
    "        if line_con == 'q':\n",
    "            dbtd[post_num] = content\n",
    "            break\n",
    "        else:\n",
    "            content[str(con_num)] = line_con\n",
    "            content[str(con_num) + 'done'] = False\n",
    "            con_num += 1\n",
    "        \n",
    "    except:\n",
    "        print('오류발생')\n",
    "print(content)\n",
    "\n",
    "for k,v in dbtd[1].items():\n",
    "    if k.isdigit():\n",
    "        print(v)\n",
    "\n",
    "\n",
    "\n"
   ]
  },
  {
   "cell_type": "code",
   "execution_count": 58,
   "metadata": {},
   "outputs": [
    {
     "name": "stdout",
     "output_type": "stream",
     "text": [
      "[{'1': '첫번째줄', 'Done1': False, '2': '두번째줄', 'Done2': False, '3': '세번째줄', 'Done3': False}]\n"
     ]
    }
   ],
   "source": [
    "a = [{'1':'첫번째줄','Done1':False,'2':'두번째줄','Done2':False,'3':'세번째줄','Done3':False}]\n",
    "print(a)\n",
    "\n",
    "for k,v in a[0].items():\n",
    "    if k is False:\n",
    "        if k.isdigit():\n",
    "            print(v)"
   ]
  },
  {
   "cell_type": "code",
   "execution_count": 68,
   "metadata": {},
   "outputs": [
    {
     "name": "stdout",
     "output_type": "stream",
     "text": [
      "안녕하세요\n",
      "안녕하세요\n",
      "안녕하세요\n",
      "[{'id': 1, 'con': '안녕하세요', '2done': False}, {'id': 1, 'con': '안녕하세요', '2done': False}, {'id': 1, 'con': '안녕하세요', '2done': False}]\n"
     ]
    }
   ],
   "source": [
    "conten = []\n",
    "dumi ={}\n",
    "dumi['id'] = 1\n",
    "dumi['con'] = \"안녕하세요\"\n",
    "dumi[(str(num)+'done')]=False\n",
    "conten.append(dumi)\n",
    "dumi['id'] = 1\n",
    "dumi['con'] = \"안녕하세요\"\n",
    "dumi[(str(num)+'done')]=False\n",
    "conten.append(dumi)\n",
    "dumi['id'] = 1\n",
    "dumi['con'] = \"안녕하세요\"\n",
    "dumi[(str(num)+'done')]=False\n",
    "conten.append(dumi)\n",
    "for i in conten:\n",
    "    if i[]\n",
    "    print(i[\"con\"])\n",
    "print(conten)"
   ]
  },
  {
   "cell_type": "code",
   "execution_count": 72,
   "metadata": {},
   "outputs": [
    {
     "name": "stdout",
     "output_type": "stream",
     "text": [
      "내용을 입력하고 완료되면 'q'를 눌러주세요. \n",
      "[[{'id': 1, 'con': '1', 'done': False}], [{'id': 2, 'con': '2', 'done': False}], [{'id': 3, 'con': '3', 'done': False}], [{'id': 4, 'con': '4', 'done': False}]]\n"
     ]
    }
   ],
   "source": [
    "result =[]\n",
    "stop = True\n",
    "num = 1\n",
    "while stop:\n",
    "\n",
    "            print(\"내용을 입력하고 완료되면 'q'를 눌러주세요. \")\n",
    "            while True:        \n",
    "                conten = []\n",
    "                con_dic = {}\n",
    "                i = input()\n",
    "                if i.lower() in ['q']:\n",
    "                    stop =False\n",
    "                    break\n",
    "                else:\n",
    "                    con_dic['id'] = num\n",
    "                    con_dic['con'] = i\n",
    "                    con_dic['done']=False\n",
    "                    conten.append(con_dic)\n",
    "                    num +=1\n",
    "                    result.append(conten)\n",
    "\n",
    "print(result)"
   ]
  },
  {
   "cell_type": "code",
   "execution_count": 42,
   "metadata": {},
   "outputs": [
    {
     "name": "stdout",
     "output_type": "stream",
     "text": [
      "[{'id': 1, 'coment': '안녕하세요', 'user': '홍길동'}, {'id': 2, 'coment': '하이', 'user': '홍길팔'}, {'id': 1, 'coment': '봉주르요', 'user': '도널드길동'}]\n"
     ]
    },
    {
     "data": {
      "text/plain": [
       "'\\nfor i in com:\\n    if i[\\'id\\'] == 1:\\n        com.remove(i)\\nprint(com)\\n\\n\\nif [i[\\'id\\'] for i in com if i[\\'id\\'] in [2]] :\\n    print(\"ㅎㅇ\")\\nelse:\\n    print(\\'ㅂㅇ\\')\\n'"
      ]
     },
     "execution_count": 42,
     "metadata": {},
     "output_type": "execute_result"
    }
   ],
   "source": [
    "com = [{'id':1, 'coment':\"안녕하세요\", 'user': \"홍길동\"},{'id':2, 'coment':\"하이\", 'user': \"홍길팔\"},{'id':1, 'coment':\"봉주르요\", 'user': \"도널드길동\"}]\n",
    "print(com)\n",
    "\n",
    "\n",
    "\n",
    "\n",
    "\n",
    "\n",
    "#for i in com:\n",
    "#    if i['id'] == 1:\n",
    "#        com.remove(i)\n",
    "#print(com)\n",
    "\n",
    "\n",
    "#if [i['id'] for i in com if i['id'] in [2]] :\n",
    "#    print(\"ㅎㅇ\")\n",
    "#else:\n",
    "#    print('ㅂㅇ')\n"
   ]
  }
 ],
 "metadata": {
  "kernelspec": {
   "display_name": "env_django",
   "language": "python",
   "name": "python3"
  },
  "language_info": {
   "codemirror_mode": {
    "name": "ipython",
    "version": 3
   },
   "file_extension": ".py",
   "mimetype": "text/x-python",
   "name": "python",
   "nbconvert_exporter": "python",
   "pygments_lexer": "ipython3",
   "version": "3.10.16"
  }
 },
 "nbformat": 4,
 "nbformat_minor": 2
}
