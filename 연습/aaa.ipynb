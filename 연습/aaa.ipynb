{
 "cells": [
  {
   "cell_type": "code",
   "execution_count": 8,
   "metadata": {},
   "outputs": [
    {
     "name": "stdout",
     "output_type": "stream",
     "text": [
      "초콜릿\n",
      "바닐라\n",
      "딸기\n"
     ]
    }
   ],
   "source": [
    "class Bread:\n",
    "    def __init__(self, flavor):\n",
    "        self.flavor = flavor\n",
    "\n",
    "breads = [Bread(\"초콜릿\"), Bread(\"바닐라\"), Bread(\"딸기\")]\n",
    "\n",
    "for bread in breads:\n",
    "    print(bread.flavor)\n"
   ]
  },
  {
   "cell_type": "code",
   "execution_count": 19,
   "metadata": {},
   "outputs": [
    {
     "name": "stdout",
     "output_type": "stream",
     "text": [
      "<class '__main__.Dog'>\n",
      "멍멍\n"
     ]
    }
   ],
   "source": [
    "class Dog:\n",
    "    def dark(self):\n",
    "        print(\"멍멍\")\n",
    "    \n",
    "    \n",
    "    \n",
    "my_dog = Dog()\n",
    "print(type(my_dog))\n",
    "my_dog.dark()"
   ]
  },
  {
   "cell_type": "markdown",
   "metadata": {},
   "source": [
    "클래스\n",
    "- 특정 기능을 하는 함수의 집합\n",
    "\n",
    "- __init__ 은 생성자, 객체를 생성할때 초기값을 설정해줌.\n",
    "함수에 초기값을 설정하는것과 비슷한것 같음.\n",
    "\n",
    "- self 객체값을 스스로에게 반환해주는 변수.\n",
    "클래스 사용시 사용자가 입력한 매서드 값을 클래스 내에서 스스로에게 반환한다"
   ]
  },
  {
   "cell_type": "code",
   "execution_count": 14,
   "metadata": {},
   "outputs": [
    {
     "name": "stdout",
     "output_type": "stream",
     "text": [
      "안녕하세요, 저는 김덕철입니다.\n"
     ]
    }
   ],
   "source": [
    "class person:\n",
    "    def __init__(self,name):\n",
    "        self.name = name\n",
    "\n",
    "    def greet(self):\n",
    "        print(f\"안녕하세요, 저는 {self.name}입니다.\")\n",
    "\n",
    "person1 = person(\"김덕철\")\n",
    "person1.greet()"
   ]
  },
  {
   "cell_type": "code",
   "execution_count": 17,
   "metadata": {},
   "outputs": [
    {
     "name": "stdout",
     "output_type": "stream",
     "text": [
      "두수의 합은 : 12\n",
      "두수를 뺀 값은 : 8\n",
      "두수의 합은 : 20\n",
      "두 수를 나눈값은 :5.0\n"
     ]
    }
   ],
   "source": [
    "class Calculator:\n",
    "    def __init__(self,num1,num2):\n",
    "        self.num1 = num1\n",
    "        self.num2 = num2\n",
    "\n",
    "    def add(self):\n",
    "        add_num = self.num1 + self.num2\n",
    "        print(f\"두수의 합은 : {add_num}\")\n",
    "\n",
    "    def subtract(self):\n",
    "        subtract_num = self.num1 - self.num2\n",
    "        print(f\"두수를 뺀 값은 : {subtract_num}\")\n",
    "\n",
    "    def multiply(self):\n",
    "        multiply_num = self.num1 * self.num2\n",
    "        print(f\"두수의 합은 : {multiply_num}\")\n",
    "\n",
    "    def divide(self):\n",
    "        if self.num1 == 0 or self.num2 == 0:\n",
    "            print(\"0으로 나눌 수 없습니다.\")\n",
    "        else:\n",
    "            divide_num = self.num1 / self.num2\n",
    "            print(f\"두 수를 나눈값은 :{divide_num}\")\n",
    "\n",
    "\n",
    "num = Calculator(10,2)\n",
    "\n",
    "num.add()\n",
    "num.subtract()\n",
    "num.multiply()\n",
    "num.divide()\n",
    "\n"
   ]
  },
  {
   "cell_type": "code",
   "execution_count": 25,
   "metadata": {},
   "outputs": [
    {
     "name": "stdout",
     "output_type": "stream",
     "text": [
      "철수의 평균 점수 :70.00000\n"
     ]
    }
   ],
   "source": [
    "class student:\n",
    "    def __init__(self,name):\n",
    "        self.name = name\n",
    "        self.scores = []\n",
    "\n",
    "    def add_score(self, score):\n",
    "        self.scores.append(score)\n",
    "\n",
    "    def get_average(self):\n",
    "        if self.scores:\n",
    "            return sum(self.scores) / len(self.scores)\n",
    "        else:\n",
    "            return 0.0\n",
    "        \n",
    "jam = student(\"철수\")\n",
    "\n",
    "jam.add_score(90)\n",
    "jam.add_score(70)\n",
    "jam.add_score(50)\n",
    "\n",
    "print(f\"{jam.name}의 평균 점수 :{jam.get_average():.5f}\")"
   ]
  },
  {
   "cell_type": "code",
   "execution_count": 8,
   "metadata": {},
   "outputs": [
    {
     "name": "stdout",
     "output_type": "stream",
     "text": [
      "철수의 평균 점수: 84.33\n",
      "90\n"
     ]
    }
   ],
   "source": [
    "class Student:\n",
    "    def __init__(self, name):\n",
    "        self.name = name         # 학생 이름\n",
    "        self.scores = []         # 점수를 저장할 빈 리스트 초기화\n",
    "\n",
    "    def add_score(self, score):\n",
    "        self.scores.append(score)  # 점수를 리스트에 추가\n",
    "\n",
    "    def get_total(self):\n",
    "        return sum(self.scores())\n",
    "\n",
    "    def get_average(self):\n",
    "        if self.scores:  # 리스트가 비어있지 않을 때 평균 계산\n",
    "            return self.get_total() / len(self.scores)\n",
    "        else:  # 리스트가 비어있으면 평균은 0\n",
    "            return 0.0\n",
    "        \n",
    "\n",
    "student = Student(\"철수\")\n",
    "\n",
    "# 점수 추가\n",
    "student.add_score(85)\n",
    "student.add_score(90)\n",
    "student.add_score(78)\n",
    "\n",
    "# 결과 확인\n",
    "print(f\"{student.name}의 평균 점수: {student.get_average():.2f}\")\n",
    "print(f\"{student.scores}\")\n"
   ]
  },
  {
   "cell_type": "code",
   "execution_count": 8,
   "metadata": {},
   "outputs": [
    {
     "name": "stdout",
     "output_type": "stream",
     "text": [
      "[1, 2, 3, 4]\n"
     ]
    }
   ],
   "source": [
    "x = [1, 2, 3]\n",
    "y = x\n",
    "x.append(4)\n",
    "print(y)\n"
   ]
  }
 ],
 "metadata": {
  "kernelspec": {
   "display_name": "env_django",
   "language": "python",
   "name": "python3"
  },
  "language_info": {
   "codemirror_mode": {
    "name": "ipython",
    "version": 3
   },
   "file_extension": ".py",
   "mimetype": "text/x-python",
   "name": "python",
   "nbconvert_exporter": "python",
   "pygments_lexer": "ipython3",
   "version": "3.10.16"
  }
 },
 "nbformat": 4,
 "nbformat_minor": 2
}
