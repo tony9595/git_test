{
 "cells": [
  {
   "cell_type": "code",
   "execution_count": 1,
   "metadata": {},
   "outputs": [
    {
     "name": "stdout",
     "output_type": "stream",
     "text": [
      "7\n",
      "차량번호는 : 32러5234\n"
     ]
    }
   ],
   "source": [
    "class Car:\n",
    "    def __init__(self, id):\n",
    "        self.id = id\n",
    "        \n",
    "    def __len__(self):\n",
    "        return len(self.id)\n",
    "    \n",
    "    def __str__(self):\n",
    "        return \"차량번호는 : \"+ self.id #스페셜함수 str은 리턴값이 반드시 문자열\n",
    "\n",
    "\n",
    "\n",
    "c = Car(\"32러5234\")\n",
    "print(len(c))\n",
    "print(str(c))"
   ]
  },
  {
   "cell_type": "code",
   "execution_count": 2,
   "metadata": {},
   "outputs": [
    {
     "name": "stdout",
     "output_type": "stream",
     "text": [
      "사용자: 가위 \n",
      " 컴퓨터 보\n",
      "이겼습니다.\n",
      "종료합니다\n"
     ]
    }
   ],
   "source": [
    "#가위 바위 보\n",
    "\n",
    "import random\n",
    "\n",
    "class RspGame:\n",
    "    def __init__(self):\n",
    "        self.rsp_list = ['가위','바위','보']\n",
    "        self.dic_rsp_result = {\n",
    "            '가위' :('바위','승'),\n",
    "            '바위' :('보','승'),\n",
    "            '보' :('가위','승')\n",
    "        }\n",
    "        self.computer = None # None = 지금은 값을 넣지 않겠다.\n",
    "        self.user = None\n",
    "\n",
    "    def set_rsp(self):\n",
    "\n",
    "        while True:\n",
    "\n",
    "            try:\n",
    "                self.user = input('가위바위보를 입력하세요')\n",
    "\n",
    "                if self.user in self.rsp_list: #or self.dic_rsp_result.keys()\n",
    "                    break\n",
    "\n",
    "                else:\n",
    "                    print(\"잘못된 입력입니다. 가위바위보중 하나만 입력하세요.\")\n",
    "\n",
    "            except:\n",
    "                print(\"잘못된 입력입니다. 가위바위보중 하나만 입력하세요.\")\n",
    "                continue\n",
    "        self.computer = random.choice(list(self.dic_rsp_result.keys()))\n",
    "\n",
    "    def rsp_result(self):\n",
    "\n",
    "        if self.computer == self.user:\n",
    "            return \"비겼습니다.\"\n",
    "        elif self.dic_rsp_result[self.computer][0] == self.user:\n",
    "            return \"이겼습니다.\"\n",
    "        else:\n",
    "            \"졌습니다.\"\n",
    "\n",
    "    def run(self):\n",
    "        while True:\n",
    "            self.set_rsp()\n",
    "            print(f\"사용자: {self.user} \\n 컴퓨터 {self.computer}\")\n",
    "            print(self.rsp_result())\n",
    "\n",
    "            stop = input(\"계속 하시겠습니까? y/n\")\n",
    "            if stop.upper() in ['N','NO']:\n",
    "                print(\"종료합니다\")\n",
    "                break\n",
    "rsp =RspGame()\n",
    "rsp.run()\n"
   ]
  }
 ],
 "metadata": {
  "kernelspec": {
   "display_name": "env_django",
   "language": "python",
   "name": "python3"
  },
  "language_info": {
   "codemirror_mode": {
    "name": "ipython",
    "version": 3
   },
   "file_extension": ".py",
   "mimetype": "text/x-python",
   "name": "python",
   "nbconvert_exporter": "python",
   "pygments_lexer": "ipython3",
   "version": "3.10.16"
  }
 },
 "nbformat": 4,
 "nbformat_minor": 2
}
