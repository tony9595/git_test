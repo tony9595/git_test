{
 "cells": [
  {
   "cell_type": "markdown",
   "metadata": {},
   "source": [
    "set 과 frozenset\n",
    "\n",
    "두 자료형다 중복을 지원하지 않는다.\n",
    "\n",
    "set 과 frozenset의 차이점\n",
    "\n",
    "set은 mutable형 데이터이다.\n",
    "\n",
    "frozenset은 immutable형 데이터이다. \n",
    "\n",
    "\n",
    "저장된 값의 순서 정보가 존재하는 것이 시퀀스 타입이다.\n",
    "\n",
    "저장된 값의 순서나 위치정보를 기록하지 않는 자료형을 매핑 타입이라고 한다.\n"
   ]
  },
  {
   "cell_type": "code",
   "execution_count": 13,
   "metadata": {},
   "outputs": [
    {
     "name": "stdout",
     "output_type": "stream",
     "text": [
      "frozenset({'c', 'f'})\n",
      "frozenset({'d', 'a'})\n",
      "frozenset({'c', 'a', 'd', 'b', 'f', 'e'})\n",
      "frozenset({'c', 'b', 'f', 'e'})\n",
      "d\n",
      "a\n",
      "False\n",
      "['z', 3, 7]\n"
     ]
    }
   ],
   "source": [
    "# frozenset은 제공 되는 함수이다.\n",
    "\n",
    "A = frozenset(['a','c','d','f'])\n",
    "B = frozenset(['a','b','d','e'])\n",
    "\n",
    "# set자료형에서 하는 연산은 가능하다.\n",
    "print(A - B) # 차집합\n",
    "print(A & B) # 교집합\n",
    "print(A | B) # 합집합\n",
    "print(A ^ B) # 교집합을 뺀 합집합.\n",
    "\n",
    "for c in A&B:\n",
    "    print(c) # d a\n",
    "\n",
    "# frozenset은 저장 순서와 위치가 의미를 가진다.(인덱싱 불가.)\n",
    "print(A == B) #False\n",
    "\n",
    "# set 기본적인 활용\n",
    "\n",
    "t = [3,3,3,7,7,'z','z'] # 중복제거\n",
    "t = list(set(t))\n",
    "print(t)\n",
    "\n",
    "\n",
    "\n"
   ]
  },
  {
   "cell_type": "code",
   "execution_count": 12,
   "metadata": {},
   "outputs": [
    {
     "name": "stdout",
     "output_type": "stream",
     "text": [
      "{1, 2, 3, 5, 6}\n",
      "{1, 2, 3, 5, 6}\n",
      "frozenset({1, 2, 3, 5})\n"
     ]
    }
   ],
   "source": [
    "# set 과 frozenset 차이 (변경불가)\n",
    "\n",
    "# set은 mutable객체 frozenset은 immutable객체이다.\n",
    "\n",
    "os= {1,2,3,5,5}\n",
    "\n",
    "os.add(6)\n",
    "print(os)\n",
    "# os.remove(7) 에러발생 KeyError: 7\n",
    "os.discard(7) # 해당 값이 없어도 에러가 생기지 않음.\n",
    "print(os)\n",
    "\n",
    "\n",
    "# frozenset은 set 이지만, 데이터를 삭제, 업데이트, 추가 불가하다.(해당 함수를 사용할 수 없다.)\n",
    "frozenset_set = frozenset({1,2,3,5,5})\n",
    "print(frozenset_set)\n",
    "# frozenset_set.add(6) 에러발생 AttributeError: 'frozenset' object has no attribute 'add' \n",
    "# frozenset_set.discard(7) 에러발생 AttributeError: 'frozenset' object has no attribute 'discard'"
   ]
  }
 ],
 "metadata": {
  "kernelspec": {
   "display_name": "env_django",
   "language": "python",
   "name": "python3"
  },
  "language_info": {
   "codemirror_mode": {
    "name": "ipython",
    "version": 3
   },
   "file_extension": ".py",
   "mimetype": "text/x-python",
   "name": "python",
   "nbconvert_exporter": "python",
   "pygments_lexer": "ipython3",
   "version": "3.10.16"
  }
 },
 "nbformat": 4,
 "nbformat_minor": 2
}
