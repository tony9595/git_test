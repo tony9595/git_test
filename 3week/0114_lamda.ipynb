{
 "cells": [
  {
   "cell_type": "markdown",
   "metadata": {},
   "source": [
    "## 람다\n",
    "\n",
    " - 파이썬에서는 함수도 객체"
   ]
  },
  {
   "cell_type": "code",
   "execution_count": 2,
   "metadata": {},
   "outputs": [
    {
     "name": "stdout",
     "output_type": "stream",
     "text": [
      "<class 'function'>\n",
      "hello\n",
      "bye\n"
     ]
    }
   ],
   "source": [
    "def func1(n):\n",
    "    print(\"hello\")\n",
    "\n",
    "print(type(func1)) #<class 'function'>\n",
    "                   # 방금 만든 함수도 function 클래스의 객체이다\n"
   ]
  },
  {
   "cell_type": "markdown",
   "metadata": {},
   "source": [
    "- callback 함수\n",
    "파이썬, 자바스크립트에서 지원한다.\n",
    "\n",
    "  - callback함수 : 파라미터로 함수를 넘겨받아 실행시키는 함수."
   ]
  },
  {
   "cell_type": "code",
   "execution_count": null,
   "metadata": {},
   "outputs": [],
   "source": [
    "def say1():\n",
    "    print('hello')\n",
    "\n",
    "def say2():\n",
    "    print('bye')\n",
    "\n",
    "def caller(fct): #callback 함수\n",
    "    fct() \n",
    "\n",
    "# 함수를 함수에 넘기고 있다.\n",
    "# callback.\n",
    "\n",
    "caller(say1) #원리?\n",
    "caller(say2) #함수 이름을 단독으로 적게되면 함수의 주소를 의미한다."
   ]
  },
  {
   "cell_type": "code",
   "execution_count": 12,
   "metadata": {},
   "outputs": [
    {
     "name": "stdout",
     "output_type": "stream",
     "text": [
      "100\n",
      "1000\n",
      "10000\n",
      "100\n",
      "1000\n",
      "10000\n"
     ]
    }
   ],
   "source": [
    "# 함수속 함수 활용\n",
    "def fct_fac(n):\n",
    "\n",
    "    def exp(x):\n",
    "        return x**n\n",
    "    \n",
    "    return exp\n",
    "\n",
    "f2 = fct_fac(2) \n",
    "f3 = fct_fac(3)\n",
    "f4 = fct_fac(4)\n",
    "\n",
    "print(f2(10))\n",
    "print(f3(10))\n",
    "print(f4(10))\n",
    "\n",
    "for func in f2,f3,f4:\n",
    "    print(func(10))"
   ]
  },
  {
   "cell_type": "markdown",
   "metadata": {},
   "source": [
    " - 람다(lamda)\n",
    "   - 익명 함수 : 이름 없는 함수\n",
    "   - def 를 생략함\n",
    "   - 구조 : 함수이름 = lambda 파라미터 : 기능\n",
    "    - lambda args(매개변수) : expression"
   ]
  },
  {
   "cell_type": "code",
   "execution_count": 17,
   "metadata": {},
   "outputs": [
    {
     "name": "stdout",
     "output_type": "stream",
     "text": [
      "안녕하세요\n",
      "yes\n"
     ]
    },
    {
     "data": {
      "text/plain": [
       "100"
      ]
     },
     "execution_count": 17,
     "metadata": {},
     "output_type": "execute_result"
    }
   ],
   "source": [
    "# 람다(lamda)\n",
    "# 익명 함수 : 이름 없는 함수\n",
    "\n",
    "ref = lambda s : print(s) # 람다 기반 함수\n",
    "\n",
    "ref(\"안녕하세요\")\n",
    "\n",
    "\n",
    "# lambda 사용\n",
    "# return 을 넣으면 오류 발생.\n",
    "f1 = lambda a,b :  a + b \n",
    "f1(f1(3,4),3)\n",
    "\n",
    "\n",
    "f2 = lambda x : len(x)\n",
    "f2(\"simple\")\n",
    "\n",
    "#파라미터가 없는경우\n",
    "f3 = lambda : print('yes')\n",
    "f3()\n",
    "\n",
    "\n",
    "'''\n",
    "def fct_fac(n):\n",
    "\n",
    "    def exp(x):\n",
    "        return x**n\n",
    "    \n",
    "    return exp\n",
    "'''\n",
    "# 위 식을 lambda를 이용해 구현해보세요.\n",
    "\n",
    "mul = lambda n : lambda x: x**n\n",
    "mul(3)(3)\n",
    "\n",
    "def fct_fac(n):\n",
    "    return lambda x: x **n\n"
   ]
  },
  {
   "cell_type": "code",
   "execution_count": 31,
   "metadata": {},
   "outputs": [
    {
     "name": "stdout",
     "output_type": "stream",
     "text": [
      "100\n",
      "100\n"
     ]
    },
    {
     "data": {
      "text/plain": [
       "1000"
      ]
     },
     "execution_count": 31,
     "metadata": {},
     "output_type": "execute_result"
    }
   ],
   "source": [
    "#def fct_fac(n):\n",
    "\n",
    "#    def exp(x):\n",
    "#        return x**n\n",
    "    \n",
    "#    return exp\n",
    "\n",
    "# 위 식을 lambda를 이용해 구현해보세요.\n",
    "\n",
    "def fct_fac(n):\n",
    "    return lambda x: x **n\n",
    "\n",
    "f2 = fct_fac(2)\n",
    "print(f2(10))\n",
    "\n",
    "# 한줄로 줄이기\n",
    "\n",
    "mul = lambda n : lambda x: x **n\n",
    "\n",
    "num = mul(2)\n",
    "print(num(10))\n",
    "mul(3)(10)"
   ]
  },
  {
   "cell_type": "code",
   "execution_count": 21,
   "metadata": {},
   "outputs": [
    {
     "name": "stdout",
     "output_type": "stream",
     "text": [
      "6\n"
     ]
    }
   ],
   "source": [
    "# 람다 만들어서 바로 실행\n",
    "\n",
    "print((lambda x : x + 1)(5)) # 6\n",
    "                             # 바로 실행 함수\n",
    "                  "
   ]
  },
  {
   "cell_type": "markdown",
   "metadata": {},
   "source": [
    "람다 함수는 생성과 실행을 동시에 할 수 있다.\n",
    "(람다 함수)(매개변수)\n",
    "\n",
    "람다 사용하기\n",
    "\n",
    "- 람다는 매우 제한적이다\n",
    "- 단일 표현식만 허용한다.\n",
    "- if, while 같은 문장은 허용하지 않는다."
   ]
  },
  {
   "cell_type": "code",
   "execution_count": 23,
   "metadata": {},
   "outputs": [
    {
     "name": "stdout",
     "output_type": "stream",
     "text": [
      "2220451450160\n",
      "144\n"
     ]
    }
   ],
   "source": [
    "#함수 심화(객체의 증거)\n",
    "import sys     # 시스템에 관련된 모듈\n",
    "\n",
    "def add(x,y):\n",
    "    return x+y\n",
    "\n",
    "print(id(add))\n",
    "print(sys.getsizeof(add)) # 객체 사이즈"
   ]
  },
  {
   "cell_type": "code",
   "execution_count": 29,
   "metadata": {},
   "outputs": [
    {
     "name": "stdout",
     "output_type": "stream",
     "text": [
      "\n",
      "        fun3 함수 설명\n",
      "    \n",
      "name : fun3\n",
      "['__annotations__', '__builtins__', '__call__', '__class__', '__closure__', '__code__', '__defaults__', '__delattr__', '__dict__', '__dir__', '__doc__', '__eq__', '__format__', '__ge__', '__get__', '__getattribute__', '__globals__', '__gt__', '__hash__', '__init__', '__init_subclass__', '__kwdefaults__', '__le__', '__lt__', '__module__', '__name__', '__ne__', '__new__', '__qualname__', '__reduce__', '__reduce_ex__', '__repr__', '__setattr__', '__sizeof__', '__str__', '__subclasshook__']\n"
     ]
    }
   ],
   "source": [
    "def fun3(a=10,b=20,c=30,d=40):\n",
    "    '''\n",
    "        fun3 함수 설명\n",
    "    '''\n",
    "    print(\"fun3\")\n",
    "\n",
    "\n",
    "print(fun3.__doc__)\n",
    "print('name :', fun3.__name__)\n",
    "print(dir(fun3))"
   ]
  }
 ],
 "metadata": {
  "kernelspec": {
   "display_name": "env_django",
   "language": "python",
   "name": "python3"
  },
  "language_info": {
   "codemirror_mode": {
    "name": "ipython",
    "version": 3
   },
   "file_extension": ".py",
   "mimetype": "text/x-python",
   "name": "python",
   "nbconvert_exporter": "python",
   "pygments_lexer": "ipython3",
   "version": "3.10.16"
  }
 },
 "nbformat": 4,
 "nbformat_minor": 2
}
