{
 "cells": [
  {
   "cell_type": "markdown",
   "metadata": {},
   "source": [
    "## 맵 과 필터\n",
    "- 자바스크립트, 리엑트에서도 많이 사용됨.\n",
    "\n",
    "- map의 이해\n",
    "- 구조 map(적용시킬 함수, 적용할 요소들)"
   ]
  },
  {
   "cell_type": "code",
   "execution_count": 3,
   "metadata": {},
   "outputs": [
    {
     "name": "stdout",
     "output_type": "stream",
     "text": [
      "<class 'map'>\n",
      "1\n",
      "4\n",
      "9\n",
      "1\n",
      "4\n",
      "9\n",
      "[1, 4, 9]\n"
     ]
    }
   ],
   "source": [
    "# Map 의 이해\n",
    "\n",
    "def pow(n):\n",
    "    return n**2\n",
    "st1 = [1,2,3]\n",
    "\n",
    "st2 = [pow(st1[0]),pow(st1[1]),pow(st1[2])]\n",
    "st2\n",
    "\n",
    "# mapping 함수 = 데이터 와 함수들 매핑 하는 함수\n",
    "# 함수를 호출하는게 아니다. 함수의 이름만 쓴다.\n",
    "# map는 콜백 함수이기 때문.\n",
    "st2 =list(map(pow,st1)) # map(pow,st1) => 연산이 끝나면 interator 객체로 리턴됨.\n",
    "\n",
    "type_st = map(pow,st1)\n",
    "print(type(type_st)) #<class 'map'>\n",
    "print(next(type_st))\n",
    "print(next(type_st))\n",
    "print(next(type_st))\n",
    "ir = map(pow,st1)\n",
    "\n",
    "for i in ir:\n",
    "    print(i)\n",
    "\n",
    "print(st2)\n"
   ]
  },
  {
   "cell_type": "code",
   "execution_count": 14,
   "metadata": {},
   "outputs": [
    {
     "name": "stdout",
     "output_type": "stream",
     "text": [
      "[4, 4, 4]\n"
     ]
    }
   ],
   "source": [
    "st1 = [1,2,3]\n",
    "st2 = [3,2,1]\n",
    "\n",
    "def sum (n1,n2):\n",
    "    return n1+ n2\n",
    "\n",
    "\n",
    "st3 = list(map(sum,st1,st2)) # 함수에 파라미터가 두개 있을 경우.\n",
    "st3\n",
    "\n",
    "sum_lambda = list(map(lambda x,y : x+y,st1,st2))\n",
    "print(sum_lambda)"
   ]
  },
  {
   "cell_type": "markdown",
   "metadata": {},
   "source": [
    "맵에서는 이터레이터 객체를 리턴한다.\n",
    "값을 한개씩 호출하여 연산한다.\n"
   ]
  },
  {
   "cell_type": "code",
   "execution_count": 16,
   "metadata": {},
   "outputs": [
    {
     "name": "stdout",
     "output_type": "stream",
     "text": [
      "['eno', 'owt', 'eerht']\n",
      "['eno', 'owt', 'eerht']\n"
     ]
    }
   ],
   "source": [
    "#람다와 맵\n",
    "\n",
    "s1 = ['one', 'two','three']\n",
    "\n",
    "def rev(s):\n",
    "    return s[::-1]\n",
    "\n",
    "ref = list(map(rev,s1))\n",
    "print(ref)\n",
    "\n",
    "#위 내용을 람다로 \n",
    "ref = list(map(lambda s: s[::-1],s1))\n",
    "print(ref)\n"
   ]
  },
  {
   "cell_type": "code",
   "execution_count": 12,
   "metadata": {},
   "outputs": [
    {
     "name": "stdout",
     "output_type": "stream",
     "text": [
      "[1, 3, 5]\n",
      "[1, 3, 5]\n"
     ]
    }
   ],
   "source": [
    "# filter 함수 => 걸러 낸다.\n",
    "\n",
    "def is_odd(n):\n",
    "    return n%2 # 홀수 이면 True\n",
    "\n",
    "st = [1,2,3,4,5]\n",
    "ost = list(filter(is_odd,st)) # True or False를 반환하는 함수가 들어와야 한다.\n",
    "print(ost)\n",
    "\n",
    "ost = list(filter(lambda x: x%2,(st)))\n",
    "print(ost)"
   ]
  },
  {
   "cell_type": "code",
   "execution_count": 30,
   "metadata": {},
   "outputs": [
    {
     "name": "stdout",
     "output_type": "stream",
     "text": [
      "Madison Martinez\n",
      "[{'mail': 'hintoncynthia@hotmail.com', 'name': 'Madison Martinez', 'gender': 'F'}]\n",
      "[{'mail': 'hintoncynthia@hotmail.com', 'name': 'Madison Martinez', 'gender': 'F'}]\n"
     ]
    }
   ],
   "source": [
    "# 필터 함수를 사용해서 gender 가 F인 사람만 뽑아내세요\n",
    "\n",
    "users = [{'mail': 'gregorythomas@gmail.com', 'name': 'Brett Holland', 'gender': 'M'},\n",
    "         {'mail': 'hintoncynthia@hotmail.com', 'name': 'Madison Martinez', 'gender': 'F'}]\n",
    "\n",
    "def is_gender(x):\n",
    "    return x['gender'] == \"F\"\n",
    " \n",
    "\n",
    "for user in filter(is_gender,users): # 필터는 이터레이터 객체이기때문에 for 문에 사용이 가능하다.\n",
    "    print(user['name'])\n",
    "\n",
    "\n",
    "gendef_user = list(filter(is_gender,users))\n",
    "print(gendef_user)\n",
    "\n",
    "이걸_몰랐어 = list(filter(lambda x : x['gender']=='F',users))\n",
    "print(이걸_몰랐어)"
   ]
  },
  {
   "cell_type": "code",
   "execution_count": null,
   "metadata": {},
   "outputs": [],
   "source": [
    "# 정리\n",
    "# filter 도 컴프리 헨션과 유사하다.\n",
    "# 결과 데이터 반환을 위해 filter 와 컴프리 헨션으로 효율적 코딩 가능.\n",
    "# filter 은 True False 로 반환되는 함수를 넣어야 한다.\n",
    "# filter의 구조는 map과 같다."
   ]
  },
  {
   "cell_type": "code",
   "execution_count": 11,
   "metadata": {},
   "outputs": [
    {
     "name": "stdout",
     "output_type": "stream",
     "text": [
      "[1, 2, 3, 4, 5, 6, 7, 8]\n",
      "[6, 8, 10, 12]\n"
     ]
    }
   ],
   "source": [
    "def sum(num1,num2):\n",
    "    return num1+num2\n",
    "nums1 = [1,2,3,4]\n",
    "nums2 = [5,6,7,8]\n",
    "\n",
    "nums = sum(nums1,nums2)\n",
    "print(nums)\n",
    "\n",
    "\n",
    "nums = list(map(sum,nums1,nums2))\n",
    "print(nums)\n",
    "\n"
   ]
  }
 ],
 "metadata": {
  "kernelspec": {
   "display_name": "env_django",
   "language": "python",
   "name": "python3"
  },
  "language_info": {
   "codemirror_mode": {
    "name": "ipython",
    "version": 3
   },
   "file_extension": ".py",
   "mimetype": "text/x-python",
   "name": "python",
   "nbconvert_exporter": "python",
   "pygments_lexer": "ipython3",
   "version": "3.10.16"
  }
 },
 "nbformat": 4,
 "nbformat_minor": 2
}
