{
 "cells": [
  {
   "cell_type": "markdown",
   "metadata": {},
   "source": [
    "- 깊은복사 ,얕은복사\n",
    "\n"
   ]
  },
  {
   "cell_type": "code",
   "execution_count": 24,
   "metadata": {},
   "outputs": [
    {
     "name": "stdout",
     "output_type": "stream",
     "text": [
      "True\n",
      "False\n",
      "1618586587440\n",
      "1618586595248\n"
     ]
    }
   ],
   "source": [
    "#깊(deep copy), 얕(shallow copy)\n",
    "\n",
    "#그전에\n",
    "\n",
    "a = 1000\n",
    "b = 1000\n",
    "\n",
    "print(a == b) # 값 비교\n",
    "print(a is b) # 주소 비교 (256까지는 주소가 같음)\n",
    "\n",
    "print(id(a))\n",
    "print(id(b))"
   ]
  },
  {
   "cell_type": "code",
   "execution_count": 26,
   "metadata": {},
   "outputs": [
    {
     "name": "stdout",
     "output_type": "stream",
     "text": [
      "0\n",
      "1\n",
      "2\n",
      "3\n",
      "4\n",
      "5\n",
      "6\n",
      "7\n",
      "8\n",
      "9\n",
      "10\n",
      "11\n",
      "12\n",
      "13\n",
      "14\n",
      "15\n",
      "16\n",
      "17\n",
      "18\n",
      "19\n",
      "20\n",
      "21\n",
      "22\n",
      "23\n",
      "24\n",
      "25\n",
      "26\n",
      "27\n",
      "28\n",
      "29\n",
      "30\n",
      "31\n",
      "32\n",
      "33\n",
      "34\n",
      "35\n",
      "36\n",
      "37\n",
      "38\n",
      "39\n",
      "40\n",
      "41\n",
      "42\n",
      "43\n",
      "44\n",
      "45\n",
      "46\n",
      "47\n",
      "48\n",
      "49\n",
      "50\n",
      "51\n",
      "52\n",
      "53\n",
      "54\n",
      "55\n",
      "56\n",
      "57\n",
      "58\n",
      "59\n",
      "60\n",
      "61\n",
      "62\n",
      "63\n",
      "64\n",
      "65\n",
      "66\n",
      "67\n",
      "68\n",
      "69\n",
      "70\n",
      "71\n",
      "72\n",
      "73\n",
      "74\n",
      "75\n",
      "76\n",
      "77\n",
      "78\n",
      "79\n",
      "80\n",
      "81\n",
      "82\n",
      "83\n",
      "84\n",
      "85\n",
      "86\n",
      "87\n",
      "88\n",
      "89\n",
      "90\n",
      "91\n",
      "92\n",
      "93\n",
      "94\n",
      "95\n",
      "96\n",
      "97\n",
      "98\n",
      "99\n",
      "100\n",
      "101\n",
      "102\n",
      "103\n",
      "104\n",
      "105\n",
      "106\n",
      "107\n",
      "108\n",
      "109\n",
      "110\n",
      "111\n",
      "112\n",
      "113\n",
      "114\n",
      "115\n",
      "116\n",
      "117\n",
      "118\n",
      "119\n",
      "120\n",
      "121\n",
      "122\n",
      "123\n",
      "124\n",
      "125\n",
      "126\n",
      "127\n",
      "128\n",
      "129\n",
      "130\n",
      "131\n",
      "132\n",
      "133\n",
      "134\n",
      "135\n",
      "136\n",
      "137\n",
      "138\n",
      "139\n",
      "140\n",
      "141\n",
      "142\n",
      "143\n",
      "144\n",
      "145\n",
      "146\n",
      "147\n",
      "148\n",
      "149\n",
      "150\n",
      "151\n",
      "152\n",
      "153\n",
      "154\n",
      "155\n",
      "156\n",
      "157\n",
      "158\n",
      "159\n",
      "160\n",
      "161\n",
      "162\n",
      "163\n",
      "164\n",
      "165\n",
      "166\n",
      "167\n",
      "168\n",
      "169\n",
      "170\n",
      "171\n",
      "172\n",
      "173\n",
      "174\n",
      "175\n",
      "176\n",
      "177\n",
      "178\n",
      "179\n",
      "180\n",
      "181\n",
      "182\n",
      "183\n",
      "184\n",
      "185\n",
      "186\n",
      "187\n",
      "188\n",
      "189\n",
      "190\n",
      "191\n",
      "192\n",
      "193\n",
      "194\n",
      "195\n",
      "196\n",
      "197\n",
      "198\n",
      "199\n",
      "200\n",
      "201\n",
      "202\n",
      "203\n",
      "204\n",
      "205\n",
      "206\n",
      "207\n",
      "208\n",
      "209\n",
      "210\n",
      "211\n",
      "212\n",
      "213\n",
      "214\n",
      "215\n",
      "216\n",
      "217\n",
      "218\n",
      "219\n",
      "220\n",
      "221\n",
      "222\n",
      "223\n",
      "224\n",
      "225\n",
      "226\n",
      "227\n",
      "228\n",
      "229\n",
      "230\n",
      "231\n",
      "232\n",
      "233\n",
      "234\n",
      "235\n",
      "236\n",
      "237\n",
      "238\n",
      "239\n",
      "240\n",
      "241\n",
      "242\n",
      "243\n",
      "244\n",
      "245\n",
      "246\n",
      "247\n",
      "248\n",
      "249\n",
      "250\n",
      "251\n",
      "252\n",
      "253\n",
      "254\n",
      "255\n",
      "256\n"
     ]
    }
   ],
   "source": [
    "#\n",
    "a = 0\n",
    "b = 0\n",
    "\n",
    "while a is b:\n",
    "    print(a)\n",
    "    a+=1\n",
    "    b+=1\n",
    "    "
   ]
  },
  {
   "cell_type": "code",
   "execution_count": 28,
   "metadata": {},
   "outputs": [
    {
     "name": "stdout",
     "output_type": "stream",
     "text": [
      "True\n",
      "False\n"
     ]
    }
   ],
   "source": [
    "r1 = [1,2,3]\n",
    "r2 = [1,2,3]\n",
    "\n",
    "print(r1 == r2) #true\n",
    "print(r1 is r2) #false"
   ]
  },
  {
   "cell_type": "code",
   "execution_count": 1,
   "metadata": {},
   "outputs": [
    {
     "name": "stdout",
     "output_type": "stream",
     "text": [
      "True\n",
      "True\n",
      "[1, [2, 3], 4]\n",
      "[1, [2, 3], 4]\n",
      "[1, [2, 3], 4, '홍길동']\n",
      "[1, [2, 3], 4, '홍길동']\n"
     ]
    }
   ],
   "source": [
    "r1 = [1,[2,3]] \n",
    "r2 = r1 # 참조하는 객체가 같다.\n",
    "\n",
    "print(r1 == r2) #true\n",
    "print(r1 is r2) #true\n",
    "\n",
    "r1.append(4) #1에 추가하도 추가된다.\n",
    "print(r1)\n",
    "print(r2)\n",
    "r2.append(\"홍길동\") #2에서 추가해도 추가가 된다.\n",
    "print(r1)\n",
    "print(r2)"
   ]
  },
  {
   "cell_type": "code",
   "execution_count": 78,
   "metadata": {},
   "outputs": [
    {
     "name": "stdout",
     "output_type": "stream",
     "text": [
      "False\n",
      "True\n",
      "['John', ('man', 'USA'), [175, 23]]\n",
      "['John', ('man', 'USA'), [175, 23]]\n",
      "John\n",
      "['John', ('man', 'USA'), [180, 23]]\n",
      "['John', ('man', 'USA'), [180, 23]]\n"
     ]
    }
   ],
   "source": [
    "#문법으로 \n",
    "#['John',('man','USA'),[175,23]]\n",
    "r1 = ['John',('man','USA'),[175,23]]\n",
    "\n",
    "#r1의 내용으로 새로운 리스트를 만듦\n",
    "#제일 바같쪽에 있는 리스트는 새로 생성하지만, 안에 있는 값(주소값)을 그대로 복사(새로생성 하지 않음)\n",
    "#shllow(얕은복사) 라고 표현함\n",
    "r2 = list(r1)\n",
    "\n",
    "print(r1 is r2)\n",
    "print(r1 == r2)\n",
    "print(r1)\n",
    "print(r2)\n",
    "print(r1[0])\n",
    "r1[2][0] = 180\n",
    "print(r1) #['John', ('man', 'USA'), [180, 23]]\n",
    "print(r2) #['John', ('man', 'USA'), [180, 23]]\n"
   ]
  },
  {
   "cell_type": "markdown",
   "metadata": {},
   "source": [
    "r1 과 r2 는 주소가 다르다\n",
    "r1 의 값을 변경한다.\n",
    "r2 의 값도 변경이 됐다.\n",
    "\n",
    "리스트는 객체의 주소를 담고 있다.\n"
   ]
  },
  {
   "cell_type": "code",
   "execution_count": 73,
   "metadata": {},
   "outputs": [
    {
     "name": "stdout",
     "output_type": "stream",
     "text": [
      "[[1], [2]] [[1], [2]]\n",
      "[[3], [2]] [[3], [2]]\n",
      "1618510741776\n"
     ]
    }
   ],
   "source": [
    "s1 = [[1],[2]]\n",
    "#가장 밖의 괄호 주소는 변경되지만 내용의 괄호주소는 유지된다.\n",
    "# shllow (얕은 복사) 라고 표현됨.\n",
    "s2 = list(s1) \n",
    "print(s1,s2)\n",
    "s1[0][0] = 3\n",
    "print(s1,s2)\n",
    "print(id(s1[0][0]))"
   ]
  },
  {
   "cell_type": "code",
   "execution_count": 63,
   "metadata": {},
   "outputs": [
    {
     "data": {
      "text/plain": [
       "False"
      ]
     },
     "execution_count": 63,
     "metadata": {},
     "output_type": "execute_result"
    }
   ],
   "source": [
    "s1 = [1,2,3]\n",
    "s2 = list(s1) # [1,2,3] => 복사해서 새로 주소생성 후 저장.\n",
    "s1 is s2"
   ]
  },
  {
   "cell_type": "code",
   "execution_count": 64,
   "metadata": {},
   "outputs": [
    {
     "data": {
      "text/plain": [
       "False"
      ]
     },
     "execution_count": 64,
     "metadata": {},
     "output_type": "execute_result"
    }
   ],
   "source": [
    "s1 = {1,1,2,2}\n",
    "s2= set(s1)\n",
    "s1 is s2"
   ]
  },
  {
   "cell_type": "code",
   "execution_count": 81,
   "metadata": {},
   "outputs": [
    {
     "name": "stdout",
     "output_type": "stream",
     "text": [
      "['John', ('man', 'USA'), [175, 24]]\n",
      "['John', ('man', 'USA'), [175, 24]]\n",
      "['John', ('man', 'USA'), [175, 24]]\n",
      "['John', ('man', 'USA'), [175, 23]]\n"
     ]
    }
   ],
   "source": [
    "import copy #deepcopy 함수 호출 copy 모듈\n",
    "\n",
    "john =['John',('man','USA'),[175,23]]\n",
    "\n",
    "tom = list(john) #얕은 복사\n",
    "chulsu = copy.copy(john) #얕은 복사\n",
    "younghee = copy.deepcopy(john) #깊은 복사\n",
    "\n",
    "john[2][1] += 1\n",
    "\n",
    "print(john)\n",
    "print(tom)\n",
    "print(chulsu)\n",
    "print(younghee)"
   ]
  },
  {
   "cell_type": "markdown",
   "metadata": {},
   "source": [
    "면접 질문이 들어오면 직접 해본 경험을 같이 이야기하면 좋다.\n",
    "\n",
    "얕은 복사 = 가장 밖에 있는 주소는 새로생성, 안에 있는 값(주소)들은 그대로 복사.\n",
    "-껍데기만 새로 생성\n",
    "\n",
    "깊은 복사 = 안에 있는 값까지 새로 생성"
   ]
  }
 ],
 "metadata": {
  "kernelspec": {
   "display_name": "env_django",
   "language": "python",
   "name": "python3"
  },
  "language_info": {
   "codemirror_mode": {
    "name": "ipython",
    "version": 3
   },
   "file_extension": ".py",
   "mimetype": "text/x-python",
   "name": "python",
   "nbconvert_exporter": "python",
   "pygments_lexer": "ipython3",
   "version": "3.10.16"
  }
 },
 "nbformat": 4,
 "nbformat_minor": 2
}
