{
 "cells": [
  {
   "cell_type": "code",
   "execution_count": 11,
   "metadata": {},
   "outputs": [
    {
     "name": "stdout",
     "output_type": "stream",
     "text": [
      "8\n",
      "5\n",
      "2\n",
      "1\n",
      "10\n"
     ]
    }
   ],
   "source": [
    "#키워드 인자와 포지셔널 인자\n",
    "\n",
    "#positional 인자 = 위치로 값을 주고 받음\n",
    "\n",
    "def div(x,y):\n",
    "    return x-y\n",
    "\n",
    "div(4,1) # 위치로 값을 넣음\n",
    "\n",
    "#키워드 인자 = 직접 변수 이용(위치는 상관없음) \n",
    "div(x=4,y=1)\n",
    "div(y=1,x=4)\n",
    "\n",
    "# 주의할 점\n",
    "# 포지셔널 인자가 키워드 인자 뒤에 오면 문법 오류 발생.\n",
    "div (1,y=4) # 가능 포지션 인자가 앞이면 O\n",
    "# div (x=1,4)  불가 포지션 인자가 키워드 인자보다 뒤에 오면 X\n",
    "\n",
    "#앞에 뒤에\n",
    "def mul(x,y,/): # /가 가장 뒤에! 오면 포지션 인자만 가능\n",
    "    return x*y \n",
    "\n",
    "print(mul(4,2))\n",
    "#print(mul(x = 2,y= 3))\n",
    "#TypeError: mul() got some positional-only arguments passed as keyword arguments: 'x, y'\n",
    "\n",
    "def sum(*,x,y): # *가 가장 앞에! 오면 키워드 인자만 가능\n",
    "    return x+y\n",
    "print(sum(x = 2,y= 3))\n",
    "#print(sum(4,2))\n",
    "#TypeError: sum() takes 0 positional arguments but 2 were given\n",
    "\n",
    "#두가지 혼용\n",
    "# a,b는 위치인자 \n",
    "# h,i는 혼용가능.\n",
    "# x,y는 키워드 인자.\n",
    "def mix_fun(a,b,/,h,i,*,x,y): \n",
    "    print(a-b)\n",
    "    print(h-i)\n",
    "    print(x*y)\n",
    "\n",
    "mix_fun(5,3,7,x=2,y=5,i=6)"
   ]
  },
  {
   "cell_type": "markdown",
   "metadata": {},
   "source": [
    "함수의 파라미터에는 키워드인자와 포지셔널인자가 있다.\n",
    "키워드 인자는 포지셔널 인자 앞에 오면 안된다.\n",
    "파라미터 가장 뒤에 / 를 넣으면 그 함수의 파라미터는 포지셔널 인자로만 호출가능하다\n",
    "반대로 가장 앞에 *를 넣으면 그 함수의 파라미터는 키워드 인자로만 호출가능하다.\n",
    "두가지를 '(a,b,/,h,i,*,x,y)' 이런식으로 혼용해서 사용할 수 있다.\n",
    "b까지는 위치인자 h,i는 혼용가능 x부터는 키워드 인자 호출이다.\n"
   ]
  }
 ],
 "metadata": {
  "kernelspec": {
   "display_name": "env_django",
   "language": "python",
   "name": "python3"
  },
  "language_info": {
   "codemirror_mode": {
    "name": "ipython",
    "version": 3
   },
   "file_extension": ".py",
   "mimetype": "text/x-python",
   "name": "python",
   "nbconvert_exporter": "python",
   "pygments_lexer": "ipython3",
   "version": "3.10.16"
  }
 },
 "nbformat": 4,
 "nbformat_minor": 2
}
