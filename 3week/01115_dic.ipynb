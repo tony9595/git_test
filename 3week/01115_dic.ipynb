{
 "cells": [
  {
   "cell_type": "markdown",
   "metadata": {},
   "source": [
    "## 딕셔너리 루핑 테크닉\n",
    "\n",
    "딕셔너리에서 외워야할 함수들\n",
    "- .keys() : 키값만 추출 \n",
    "- .values() : 벨류값만 추출\n",
    "- .items() : 두가지를 추출 (튜플형)"
   ]
  },
  {
   "cell_type": "code",
   "execution_count": 9,
   "metadata": {},
   "outputs": [
    {
     "name": "stdout",
     "output_type": "stream",
     "text": [
      "1\n",
      "2\n",
      "3\n",
      "a\n",
      "b\n",
      "c\n",
      "1\n",
      "2\n",
      "3\n",
      "a 1\n",
      "b 2\n",
      "c 3\n",
      "('a', 1)\n",
      "('b', 2)\n",
      "('c', 3)\n"
     ]
    }
   ],
   "source": [
    "# 딕셔너리 루핑 \n",
    "\n",
    "a = dict(a=1,b=2,c=3) # 형변환을 이용한 딕셔너리 생성.\n",
    "\n",
    "for k in a:\n",
    "    print(a[k])\n",
    "\n",
    "for k in a.keys():\n",
    "    print(k)\n",
    "\n",
    "for v in a.values():\n",
    "    print(v)\n",
    "\n",
    "for k,v in a.items():\n",
    "    print(k,v)\n",
    "\n",
    "for k in a.items(): # items 함수는 k,v를 tuple로 추출한다. (언패킹)\n",
    "    print(k)"
   ]
  },
  {
   "cell_type": "code",
   "execution_count": 13,
   "metadata": {},
   "outputs": [
    {
     "name": "stdout",
     "output_type": "stream",
     "text": [
      "('a', 1)\n",
      "('b', 2)\n",
      "('c', 3)\n",
      "('a', 4)\n",
      "('b', 2)\n",
      "('c', 5)\n"
     ]
    }
   ],
   "source": [
    "# view 객체\n",
    "a = dict(a=1,b=2,c=3)\n",
    "vo = a.items()\n",
    "\n",
    "for kv in vo:\n",
    "    print(kv)\n",
    "\n",
    "#값 수정\n",
    "a['a'] = a['a'] + 3\n",
    "a['c'] += 2\n",
    "\n",
    "for kv in vo: # 수정된 값이 출력됨.\n",
    "    print(kv)"
   ]
  },
  {
   "cell_type": "code",
   "execution_count": 14,
   "metadata": {},
   "outputs": [
    {
     "name": "stdout",
     "output_type": "stream",
     "text": [
      "('a', 1)\n",
      "('b', 2)\n",
      "('c', 3)\n",
      "('a', 4)\n",
      "('b', 2)\n",
      "('c', 5)\n"
     ]
    }
   ],
   "source": [
    "d = dict(a=1,b=2,c=3)\n",
    "#뷰 객체는 단순히 키 또는 값을 얻어오는데 사용될 뿐만 아니라 현재 딕셔너리의 상태를 그대로 반영한다는 특징이 있다. \n",
    "#('뷰'라는 이름처럼 딕셔너리의 현재 상태를 바라본다.)\n",
    "vo = d.items()  # view 객체 생성\n",
    "\n",
    "for kv in vo:\n",
    "    print(kv)\n",
    "\n",
    "d['a'] = d['a'] + 3 # 값 수정\n",
    "d['c'] += 2  # 값 수정\n",
    "\n",
    "for kv in vo:\n",
    "    print(kv)"
   ]
  },
  {
   "cell_type": "markdown",
   "metadata": {},
   "source": [
    "### 딕셔너리 view 객체\n",
    "~~뭔가 설명을 들었는데 모르겠다~~\n",
    "view 객체가 아이템,키,벨류 함수를 사용하면 생성이 된다.\n",
    "view 객체는 dict를 조회하여 값 수정을 조회한다.\n",
    "딕셔너리의 값이 변경되면 viwe 객체가 변경값을 반영한다.\n"
   ]
  },
  {
   "cell_type": "markdown",
   "metadata": {},
   "source": [
    "리스트 컴프리헨션과 비슷하게 사용된다."
   ]
  },
  {
   "cell_type": "code",
   "execution_count": 20,
   "metadata": {},
   "outputs": [
    {
     "name": "stdout",
     "output_type": "stream",
     "text": [
      "{'a': 2, 'b': 4, 'c': 6} {'a': 1, 'b': 2, 'c': 3}\n",
      "{'a': 1, 'b': 4, 'c': 9}\n"
     ]
    }
   ],
   "source": [
    "#딕셔너리 컴프리헨션\n",
    "\n",
    "d1 = dict(a=1,b=2,c=3)\n",
    "d2 = { k  : v*2 for k,v in d1.items()} # d1의 값을 두 배 늘린 딕셔너리 생성\n",
    "print(d2,d1)\n",
    "\n",
    "d3 ={k : v**2 for k,v in d1.items()} # 값의 거듭제곱\n",
    "print(d3)"
   ]
  },
  {
   "cell_type": "code",
   "execution_count": 29,
   "metadata": {},
   "outputs": [
    {
     "name": "stdout",
     "output_type": "stream",
     "text": [
      "{'a': 1, 'c': 3}\n"
     ]
    }
   ],
   "source": [
    "# 딕셔너리 컴프리헨션 if문\n",
    "d1 = dict(a=1,b=2,c=3,d=4)\n",
    "d1\n",
    "d2 = {k : v for k,v in d1.items() if v % 2} # 홀수값 추출(짝수는 False 값이 출력됨.)\n",
    "print(d2)"
   ]
  }
 ],
 "metadata": {
  "kernelspec": {
   "display_name": "env_django",
   "language": "python",
   "name": "python3"
  },
  "language_info": {
   "codemirror_mode": {
    "name": "ipython",
    "version": 3
   },
   "file_extension": ".py",
   "mimetype": "text/x-python",
   "name": "python",
   "nbconvert_exporter": "python",
   "pygments_lexer": "ipython3",
   "version": "3.10.16"
  }
 },
 "nbformat": 4,
 "nbformat_minor": 2
}
