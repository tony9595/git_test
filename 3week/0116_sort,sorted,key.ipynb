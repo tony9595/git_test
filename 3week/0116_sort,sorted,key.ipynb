{
 "cells": [
  {
   "cell_type": "markdown",
   "metadata": {},
   "source": [
    "- 정렬 sort, sorted, key\n",
    "sort 원본사용\n",
    "sorted 새로운 리스트 반환\n"
   ]
  },
  {
   "cell_type": "code",
   "execution_count": 40,
   "metadata": {},
   "outputs": [
    {
     "name": "stdout",
     "output_type": "stream",
     "text": [
      "[1, 2, 3, 4]\n",
      "[4, 3, 2, 1]\n"
     ]
    }
   ],
   "source": [
    "# sort = 원본 수정\n",
    "\n",
    "ns =[3,1,4,2]\n",
    "ns.sort() # 기본은 오름차순 정렬 \n",
    "print(ns)\n",
    "\n",
    "ns =[3,1,4,2]\n",
    "ns.sort(reverse=True) # 키워드 인자 : reverse =True 입력시 내림차순 정렬 \n",
    "print(ns)\n",
    "\n",
    "\n"
   ]
  },
  {
   "cell_type": "code",
   "execution_count": 22,
   "metadata": {},
   "outputs": [
    {
     "name": "stdout",
     "output_type": "stream",
     "text": [
      "[('Lee', 12), ('Park', 29), ('Yoon', 33)]\n",
      "[('Yoon', 33), ('Park', 29), ('Lee', 12)]\n",
      "[('Lee', 12), ('Park', 29), ('Yoon', 33)]\n",
      "[('Yoon', 33), ('Park', 29), ('Lee', 12)]\n",
      "[('Lee', 12), ('Park', 29), ('Yoon', 33)]\n",
      "['Sjokl', 'Ajolnlsd', 'Julalsklslk']\n",
      "['Julalsklslk', 'Ajolnlsd', 'Sjokl']\n",
      "['Sjokl', 'Ajolnlsd', 'Julalsklslk']\n"
     ]
    }
   ],
   "source": [
    "# key를 사용\n",
    "\n",
    "# 리스트안에 튜플\n",
    "ns = [(\"Yoon\",33),(\"Lee\",12),(\"Park\",29)]\n",
    "ns.sort()\n",
    "print(ns)\n",
    "\n",
    "ns = [(\"Yoon\",33),(\"Lee\",12),(\"Park\",29)]\n",
    "ns.sort(reverse=True)\n",
    "print(ns)\n",
    "\n",
    "#나이를 기준으로 정렬하고 싶을때\n",
    "ns = [(\"Yoon\",33),(\"Lee\",12),(\"Park\",29)]\n",
    "\n",
    "\n",
    "def age(t): # 키 데이터 (나이 반환) 생성\n",
    "    return t[1]\n",
    "# 여기서 파라미터't'는 for 반복문을 돌린 list 반환값과 같다\n",
    "\n",
    "\n",
    "# 키워드 인자로 함수를 넣음(콜백함수)\n",
    "# key 정렬기준을 지정 함수가 들어감\n",
    "ns.sort(key=age) \n",
    "print(ns)\n",
    "\n",
    "ns.sort(key=age,reverse=True) \n",
    "print(ns)\n",
    "\n",
    "#람다 사용\n",
    "ns = [(\"Yoon\",33),(\"Lee\",12),(\"Park\",29)]\n",
    "ns.sort(key=lambda t:t[1])\n",
    "print(ns)\n",
    "\n",
    "#글자 갯수 순으로\n",
    "names = [\"Julalsklslk\",\"Sjokl\",\"Ajolnlsd\"]\n",
    "\n",
    "def count(t):\n",
    "    return len(t)\n",
    "\n",
    "names.sort(key=count)\n",
    "print(names)\n",
    "\n",
    "# 람다 사용\n",
    "names = [\"Julalsklslk\",\"Sjokl\",\"Ajolnlsd\"]\n",
    "\n",
    "names.sort(key=lambda t:len(t),reverse=True)\n",
    "print(names)\n",
    "\n",
    "# len만 사용.\n",
    "names = [\"Julalsklslk\",\"Sjokl\",\"Ajolnlsd\"]\n",
    "names.sort(key=len)\n",
    "print(names)\n"
   ]
  },
  {
   "cell_type": "markdown",
   "metadata": {},
   "source": [
    "sort 의 key값 활용\n",
    "key값은 함수를 넣어야 한다.\n",
    "def로 만들던, lambda로 생성하던, 기존 함수를 생성하던 \n",
    "그런데 이렇게 보니 sort 함수 map과 유사하다.\n",
    "\n",
    "sort함수에 함수를 넣으면 객체에 함수를 반복 적용하여 값을 반환받는다.\n",
    "맵,필터와 유사한 성질을 가진것 같다."
   ]
  },
  {
   "cell_type": "code",
   "execution_count": 28,
   "metadata": {},
   "outputs": [
    {
     "name": "stdout",
     "output_type": "stream",
     "text": [
      "[(3, 1), (0, 5), (2, 9)]\n",
      "[(2, 9), (0, 5), (3, 1)]\n"
     ]
    }
   ],
   "source": [
    "# 문제  두 수를 더한 값을 내림차순 정렬\n",
    "nums=[(3,1),(2,9),(0,5)]\n",
    "\n",
    "def sum(t):\n",
    "    return t[0]+t[1]\n",
    "nums.sort(key=sum)\n",
    "print(nums)\n",
    "\n",
    "nums.sort(key=lambda x: 12-(x[0]+x[1]))\n",
    "print(nums)"
   ]
  },
  {
   "cell_type": "code",
   "execution_count": 38,
   "metadata": {},
   "outputs": [
    {
     "name": "stdout",
     "output_type": "stream",
     "text": [
      "['bac', 'abc', 'bca', 'sda']\n",
      "['abc', 'bac', 'bca', 'sda']\n"
     ]
    }
   ],
   "source": [
    "#두번째 글자를 기준으로 정렬하세요\n",
    "arr = ['abc', 'bac', 'bca']\n",
    " #['bac', 'abc', 'bca']\n",
    "\n",
    "arr.sort(key=lambda x: x[1])\n",
    "print(arr)\n",
    "\n",
    "#a의 위치에따라 정렬.\n",
    "arr.sort(key=lambda x : x.find('a'))\n",
    "print(arr)"
   ]
  },
  {
   "cell_type": "code",
   "execution_count": 41,
   "metadata": {},
   "outputs": [
    {
     "name": "stdout",
     "output_type": "stream",
     "text": [
      "[('Lee', 12), ('Park', 29), ('Yoon', 33)]\n"
     ]
    }
   ],
   "source": [
    "ns = [(\"Yoon\",33),(\"Lee\",12),(\"Park\",29)]\n",
    "ns.sort(key=lambda x:x[1])\n",
    "print(ns)"
   ]
  }
 ],
 "metadata": {
  "kernelspec": {
   "display_name": "env_django",
   "language": "python",
   "name": "python3"
  },
  "language_info": {
   "codemirror_mode": {
    "name": "ipython",
    "version": 3
   },
   "file_extension": ".py",
   "mimetype": "text/x-python",
   "name": "python",
   "nbconvert_exporter": "python",
   "pygments_lexer": "ipython3",
   "version": "3.10.16"
  }
 },
 "nbformat": 4,
 "nbformat_minor": 2
}
