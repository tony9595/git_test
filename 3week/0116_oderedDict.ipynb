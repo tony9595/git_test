{
 "cells": [
  {
   "cell_type": "markdown",
   "metadata": {},
   "source": [
    "OrdererdDict\n",
    "딕셔너리 질서?\n",
    "\n",
    "딕셔너리 생성시 저장순서가 의미를 가진다면 오더딕셔너리를 생성한다."
   ]
  },
  {
   "cell_type": "code",
   "execution_count": 2,
   "metadata": {},
   "outputs": [
    {
     "name": "stdout",
     "output_type": "stream",
     "text": [
      "{'a': 1, 'b': 2, 'c': 3}\n"
     ]
    },
    {
     "data": {
      "text/plain": [
       "'3.10.16 | packaged by conda-forge | (main, Dec  5 2024, 14:07:43) [MSC v.1942 64 bit (AMD64)]'"
      ]
     },
     "execution_count": 2,
     "metadata": {},
     "output_type": "execute_result"
    }
   ],
   "source": [
    "# 파이썬 3.7버전 부터 딕셔너리 저장순서 유지\n",
    "\n",
    "d = {}\n",
    "d['a'] = 1 # 제일 먼저 저장\n",
    "d['b'] = 2 # 두 번째로 저장\n",
    "d['c'] = 3 # 마지막에 저장\n",
    "\n",
    "print(d) # {'a': 1, 'b': 2, 'c': 3}\n",
    "# 3.6 이전 버전에선 랜덤으로 저장이 되었다.\n",
    "\n",
    "\n",
    "import sys # 버전확인 방법\n",
    "sys.version"
   ]
  },
  {
   "cell_type": "code",
   "execution_count": 22,
   "metadata": {},
   "outputs": [
    {
     "name": "stdout",
     "output_type": "stream",
     "text": [
      "OrderedDict([(('a', 'b'), ('김', '이')), ('c', '박')])\n",
      "OrderedDict([('a', 1), ('b', 2), ('c', 3)])\n",
      "('a', 1)\n",
      "('b', 2)\n",
      "('c', 3)\n"
     ]
    }
   ],
   "source": [
    "#3.6 이전\n",
    "from collections import OrderedDict # collections 모듈의 OrderedDict\n",
    "od = OrderedDict() # OrderedDict 객체 생성\n",
    "od['a'] = 1 # 딕셔너리 사용 방법과 동일\n",
    "od['b'] = 2\n",
    "od['c'] = 3\n",
    "print(od)\n",
    "#OrderedDict([('a',1),('b',2),('c',3)])\n",
    "for kv in od.items(): # 딕셔너리와 마찬가지로 items 메소드 호출 가능\n",
    "    print(kv)\n",
    "\n",
    "#('a', 1)\n",
    "#('b', 2)\n",
    "#('c', 3)"
   ]
  },
  {
   "cell_type": "code",
   "execution_count": 6,
   "metadata": {},
   "outputs": [
    {
     "name": "stdout",
     "output_type": "stream",
     "text": [
      "{'a': 1, 'b': 2, 'c': 3} {'c': 3, 'a': 1, 'b': 2}\n"
     ]
    },
    {
     "data": {
      "text/plain": [
       "True"
      ]
     },
     "execution_count": 6,
     "metadata": {},
     "output_type": "execute_result"
    }
   ],
   "source": [
    "# OrderedDict를 사용해야하는 이유\n",
    "\n",
    "d1 = dict(a = 1, b = 2, c = 3)\n",
    "d2 = dict(c = 3, a = 1, b = 2)\n",
    "\n",
    "print(d1,d2)\n",
    "print(d1 == d2) #True"
   ]
  },
  {
   "cell_type": "code",
   "execution_count": null,
   "metadata": {},
   "outputs": [
    {
     "name": "stdout",
     "output_type": "stream",
     "text": [
      "OrderedDict([('a', 1), ('b', 2), ('c', 3)])\n",
      "OrderedDict([('c', 3), ('a', 1), ('b', 2)])\n",
      "False\n"
     ]
    }
   ],
   "source": [
    "from collections import OrderedDict \n",
    "# OrderedDict 는 저장순서를 지원한다.\n",
    "\n",
    "od1 = OrderedDict(a = 1, b = 2, c = 3)\n",
    "od2 = OrderedDict(c = 3, a = 1, b = 2)\n",
    "\n",
    "print(od1)\n",
    "print(od2)\n",
    "print(od1 == od2) # False\n",
    "\n",
    "# 순서있는 dictionary 는 OrderedDict으로 객체 생성한다."
   ]
  }
 ],
 "metadata": {
  "kernelspec": {
   "display_name": "env_django",
   "language": "python",
   "name": "python3"
  },
  "language_info": {
   "codemirror_mode": {
    "name": "ipython",
    "version": 3
   },
   "file_extension": ".py",
   "mimetype": "text/x-python",
   "name": "python",
   "nbconvert_exporter": "python",
   "pygments_lexer": "ipython3",
   "version": "3.10.16"
  }
 },
 "nbformat": 4,
 "nbformat_minor": 2
}
