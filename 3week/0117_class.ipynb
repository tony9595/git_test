{
 "cells": [
  {
   "cell_type": "markdown",
   "metadata": {},
   "source": [
    "- 클래스에 변수 추가하기\n",
    "\n",
    "클래스에 변수, 메서드를 동적 생성이 가능하다.\n",
    "동적 생성된 메서드는 del 명령어를 사용하여 삭제가 가능하다.\n",
    "변수또한 del 명령어를 사용하여 삭제가 가능하다.\n",
    "\n",
    "클래스객체속 메서드는 del 명령어를 사용해 삭제가 불가하다."
   ]
  },
  {
   "cell_type": "code",
   "execution_count": 6,
   "metadata": {},
   "outputs": [
    {
     "name": "stdout",
     "output_type": "stream",
     "text": [
      "100\n"
     ]
    }
   ],
   "source": [
    "#에러발생\n",
    "class Simple():\n",
    "    def seti(self,i):\n",
    "        self.i =i\n",
    "    def geti(self):\n",
    "        return self.i \n",
    "\n",
    "s =Simple()\n",
    "# print(s.geti()) 에러 발생\n",
    "#  i 변수가 없어서 에러가 발생하게 됨.\n",
    "\n",
    "#변수의 동적 생성.\n",
    "s.seti(10) # 이 메서드가 실행될때 i변수가 생성된다.\n",
    "s.i = 100 # 혹은 변수를 직접생성, 값 반환이 가능하다.\n",
    "\n",
    "print(s.geti())"
   ]
  },
  {
   "cell_type": "code",
   "execution_count": 7,
   "metadata": {},
   "outputs": [
    {
     "name": "stdout",
     "output_type": "stream",
     "text": [
      "0\n"
     ]
    }
   ],
   "source": [
    "#클래스 생성의 정석\n",
    "class Simple():\n",
    "    def __init__(self):\n",
    "        self.i = 0 # 생성자 메서드를 활용해 변수생성, 초기화.\n",
    "    def seti(self,i):\n",
    "        self.i =i\n",
    "    def geti(self):\n",
    "        return self.i \n",
    "    \n",
    "s =Simple()\n",
    "#에러가 발생하지 않는다.\n",
    "print(s.geti())"
   ]
  },
  {
   "cell_type": "code",
   "execution_count": 29,
   "metadata": {},
   "outputs": [
    {
     "name": "stdout",
     "output_type": "stream",
     "text": [
      "hello\n",
      "비비빅\n"
     ]
    }
   ],
   "source": [
    "#클래스 객체에서 메서드,데이터 동적 생성, 삭제\n",
    "\n",
    "class Simple():\n",
    "    def __init__(self):\n",
    "        self.i = 0 \n",
    "    def seti(self,i):\n",
    "        self.i =i\n",
    "    def geti(self):\n",
    "        return self.i \n",
    "    \n",
    "s =Simple()\n",
    "\n",
    "# 메서드의 동적 생성이 가능하다.\n",
    "s.hello = lambda : print(\"hello\") \n",
    "# 변수명.함수명 = 함수내용. (함수명 옆에 '()'를 붙이지 않는다.)\n",
    "s.hi = lambda s: print(s) \n",
    "s.hello()\n",
    "s.hi(\"비비빅\")\n",
    "# 동적생성된 메서드는 삭제가능하다.\n",
    "del s.hello\n",
    "del s.i\n",
    "\n",
    "# 클래스 객체내의 메서드는 삭제가 불가하다.\n",
    "# del s.geti AttributeError: geti\n",
    " \n",
    "# print(s.geti()) AttributeError: 'Simple' object has no attribute 'i'\n",
    "# s.hello AttributeError: 'Simple' object has no attribute 'hello'\n",
    "# class 변수 i와 hello메서드를 삭제해서 에러가 발생한다."
   ]
  },
  {
   "cell_type": "markdown",
   "metadata": {},
   "source": [
    "- 상속\n",
    "부모클래스와 자식클래스\n",
    "\n",
    "클래스의 상속을 할때에는 클래스명 옆에!\n",
    "\n",
    "ex) class 상속받을클래스(상속될클래스):\n",
    "\n",
    "다중 상속도 가능하다. \n",
    "상속받는 개수의 제한은 없다.\n",
    "\n",
    "ex) class 상속받을클래스(상속될클래스1,상속될클래스2):\n",
    "\n",
    "상속하는 클래스 : 부모클래스, 슈퍼클래스, 상위클래스\n",
    "상속받는 클래스 : 자식클래스, 서브클래스, 하위클래스\n",
    "\n",
    "uml?"
   ]
  },
  {
   "cell_type": "code",
   "execution_count": 61,
   "metadata": {},
   "outputs": [
    {
     "name": "stdout",
     "output_type": "stream",
     "text": [
      "의사\n",
      "학생\n",
      "1000원\n"
     ]
    }
   ],
   "source": [
    "#상속 = 재사용(reuse) = 부모에 있는 함수및 변수를 사용할 수 있다.\n",
    "# 파이썬에서는 다중 상족 지원 (java에서는 단일 상속만 지원한다.)\n",
    "\n",
    "class Father:\n",
    "    def jop(self):\n",
    "        print(\"의사\")\n",
    "\n",
    "class Mother:\n",
    "    def money(slef):\n",
    "        print(\"1000원\")\n",
    "\n",
    "class Son(Father,Mother): # 다중상속\n",
    "    def shool(self):\n",
    "        print(\"학생\")\n",
    "\n",
    "s = Son()\n",
    "s.jop()\n",
    "s.shool() # 부모클래스의 메서드를 사용할 수 있다.\n",
    "s.money()\n"
   ]
  },
  {
   "cell_type": "markdown",
   "metadata": {},
   "source": [
    "오버라이딩과 오버로딩(파이썬에서는 지원하지 않음)의 차이."
   ]
  },
  {
   "cell_type": "code",
   "execution_count": 17,
   "metadata": {},
   "outputs": [
    {
     "name": "stdout",
     "output_type": "stream",
     "text": [
      "1\n",
      "So deep!\n",
      "so high!!\n",
      "So fast!\n",
      "so slow!\n",
      "So deep!\n"
     ]
    }
   ],
   "source": [
    "class Father:\n",
    "    def run(self):\n",
    "        print(\"So fast!\")\n",
    "\n",
    "class Mother:\n",
    "    def dive(slef):\n",
    "        print(\"So deep!\")\n",
    "\n",
    "class Son(Father,Mother): # 다중상속\n",
    "    def __init__(self,num):\n",
    "        print(num)\n",
    "\n",
    "    def run(self): # 함수 오버라이딩 \n",
    "        super().run() # 부모클래스의 함수 호출 = super() 함수로 부모 함수에 접근.\n",
    "        print(\"so slow!\")\n",
    "\n",
    "    def jump(self):\n",
    "        super().dive()\n",
    "        print(\"so high!!\")\n",
    "\n",
    "s = Son(1)\n",
    "s.jump()\n",
    "s.run() # 부모클래스의 메서드를 사용할 수 있다.\n",
    "s.dive()\n"
   ]
  },
  {
   "cell_type": "markdown",
   "metadata": {},
   "source": [
    "- 메서드 오버라이딩\n",
    "\n",
    "클래서 상속 관계에서 똑같은 함수 이름으로 내용을 달리 하는것.\n",
    "오버라이딩은 서브클래스의 함수가 실행된다.\n",
    "\n",
    "- 오버라이딩의 목적 \n",
    "\n",
    "기능 보강."
   ]
  },
  {
   "cell_type": "markdown",
   "metadata": {},
   "source": [
    "`__init__`과 오버라이딩\n",
    "\n",
    "자식클래스의 의무중 하나가 부모클래스 변수들 적절히 초기화 시키는게 중요.\n",
    "\n",
    "상속받을때 2개이상은 받지않는다.(기능적 제한이 아니라, 경우의 수가 많기때문.)"
   ]
  },
  {
   "cell_type": "code",
   "execution_count": 21,
   "metadata": {},
   "outputs": [
    {
     "name": "stdout",
     "output_type": "stream",
     "text": [
      "이름 : 하이브리드\n",
      "색상 : 검정\n",
      "배터리 용량 : 10\n"
     ]
    }
   ],
   "source": [
    "class Car:\n",
    "    def __init__(self,name,color):\n",
    "        self.name = name\n",
    "        self.color = color\n",
    "\n",
    "    def show_info(self):\n",
    "        print(f\"이름 : {self.name}\\n색상 : {self.color}\")\n",
    "\n",
    "#c = Car('k5','white')\n",
    "#c.show_info()\n",
    "\n",
    "#상속은 설계의 목적.\n",
    "class HybridCar(Car):  # Car클래스 상속\n",
    "    def __init__(self, name, color,battery):\n",
    "        super().__init__(name, color) # 부모클래스의 변수 초기화 함수 호출 (필수)\n",
    "        self.battery = battery\n",
    "\n",
    "    def show_info(self):\n",
    "        super().show_info()\n",
    "        print(f'배터리 용량 : {self.battery}')\n",
    "    \n",
    "\n",
    "hyb = HybridCar(\"하이브리드\",\"검정\",10)\n",
    "hyb.show_info()\n",
    "    "
   ]
  },
  {
   "cell_type": "code",
   "execution_count": 28,
   "metadata": {},
   "outputs": [
    {
     "name": "stdout",
     "output_type": "stream",
     "text": [
      "200\n",
      "100.0\n",
      "300.0\n"
     ]
    }
   ],
   "source": [
    "class Shape:\n",
    "    def __init__(self,width,height):\n",
    "        self.width = width\n",
    "        self.height = height\n",
    "\n",
    "    def area(self): # 자식이 구현한다.\n",
    "        pass\n",
    "\n",
    "class Rectangle(Shape):\n",
    "#    자식클래스에 생성자가 없어도 부모클래스생성자를 참조하여 알아서 돌아감.\n",
    "#    def __init__(self, width, height):\n",
    "#        super().__init__(width, height)\n",
    "\n",
    "    def area(self):\n",
    "        return self.height * self.width\n",
    "\n",
    "class Triangle(Shape): #역시 생성자를 생략해도 부모 생성자를 참조한다.\n",
    "    def area(self):\n",
    "        return self.height * self.width /2\n",
    "    \n",
    "rec = Rectangle(10,20)\n",
    "print(rec.area())\n",
    "\n",
    "tri = Triangle(10,20)\n",
    "print(tri.area())\n",
    "\n",
    "shape_list = [rec,tri] \n",
    "# shape_list = [Rectangle(10,20),Triangle(10,20)] 직접 넣어도 된다.\n",
    "\n",
    "sum_area =0\n",
    "for shape in shape_list:\n",
    "    sum_area += shape.area()\n",
    "\n",
    "# 리스트 안에 객체를 넣어서 반복문을 돌린다.\n",
    "# 리스트안에 객체를 shape로 꺼내서 각 객체의 area함수를 돌린다.\n",
    "\n",
    "print(sum_area)\n"
   ]
  },
  {
   "cell_type": "code",
   "execution_count": null,
   "metadata": {},
   "outputs": [],
   "source": [
    "class Shape:\n",
    "    def __init__(self,width,height):\n",
    "        self.width = width\n",
    "        self.height = height\n",
    "\n",
    "    def area(self): # 자식이 구현한다.\n",
    "        pass\n",
    "\n",
    "class Rectangle(Shape):\n",
    "    def __init__(self, width, height):\n",
    "        super().__init__(width, height)\n",
    "\n",
    "    def area(self):\n",
    "        return self.height * self.width\n",
    "    \n",
    "class Triangle(Shape):\n",
    "    def __init__(self, width, height):\n",
    "        super().__init__(width, height)\n",
    "    \n",
    "    def area(self):\n",
    "        return self.height * self.width /2\n",
    "    \n",
    "rec = Rectangle(10,20)\n",
    "print(rec.area())\n",
    "tri = Triangle(10,20)\n",
    "print(tri.area())"
   ]
  },
  {
   "cell_type": "code",
   "execution_count": 63,
   "metadata": {},
   "outputs": [
    {
     "name": "stdout",
     "output_type": "stream",
     "text": [
      "쫑\n",
      "멍멍!\n",
      "로잘리\n",
      "야옹\n",
      "김\n",
      "안녕하세요. 제 이름은김입니다.\n"
     ]
    }
   ],
   "source": [
    "class Animal:\n",
    "    def __init__(self, name):\n",
    "        self.name = name\n",
    "\n",
    "    def speak(self):\n",
    "        return f\"안녕하세요. 제 이름은{self.name}입니다.\"\n",
    "\n",
    "class Dog(Animal):\n",
    "   def speak(self):\n",
    "       return \"멍멍!\"\n",
    "\n",
    "\n",
    "class Cat(Animal):\n",
    "    def speak(self):\n",
    "        return \"야옹\"\n",
    "\n",
    "dog = Dog(\"쫑\")\n",
    "cat = Cat(\"로잘리\")\n",
    "a = Animal(\"김\")\n",
    "\n",
    "animal_list = [dog,cat,a]\n",
    "\n",
    "for i in animal_list:\n",
    "    print(i.name)\n",
    "    print(i.speak())"
   ]
  },
  {
   "cell_type": "markdown",
   "metadata": {},
   "source": [
    "스페셜 메소드."
   ]
  },
  {
   "cell_type": "code",
   "execution_count": 64,
   "metadata": {},
   "outputs": [
    {
     "name": "stdout",
     "output_type": "stream",
     "text": [
      "400\n"
     ]
    }
   ],
   "source": [
    "#연산자 오버라이딩\n",
    "\n",
    "class Account:\n",
    "    def __init__(self,aid,abl):\n",
    "        self.aid = aid\n",
    "        self.abl = abl\n",
    "\n",
    "# -= += (iadd,isub)과 같은 연산자를 가리켜 inplace 연산이라고 한다\n",
    "#이들은 오버로딩을 할때 반드시 self를 반환해야 한다.\n",
    "\n",
    "    def __iadd__(self,m): # 스페셜 메소드 (연산자) \n",
    "        self.abl += m\n",
    "        return self # 연산후 대입에 대한 주소를 명확하게 해줘야 한다.\n",
    "\n",
    "    def __isub__(self,m):\n",
    "        self.abl -= m\n",
    "        return self\n",
    "\n",
    "    def __mul__(self,m): \n",
    "        self.abl *= m\n",
    "\n",
    "acc = Account('1',100)\n",
    "\n",
    "acc += 103\n",
    "acc -= 3\n",
    "acc * 2\n",
    "print(acc.abl)\n",
    "    \n",
    "\n"
   ]
  }
 ],
 "metadata": {
  "kernelspec": {
   "display_name": "env_django",
   "language": "python",
   "name": "python3"
  },
  "language_info": {
   "codemirror_mode": {
    "name": "ipython",
    "version": 3
   },
   "file_extension": ".py",
   "mimetype": "text/x-python",
   "name": "python",
   "nbconvert_exporter": "python",
   "pygments_lexer": "ipython3",
   "version": "3.10.16"
  }
 },
 "nbformat": 4,
 "nbformat_minor": 2
}
