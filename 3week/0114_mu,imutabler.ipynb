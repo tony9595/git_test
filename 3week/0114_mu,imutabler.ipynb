{
 "cells": [
  {
   "cell_type": "markdown",
   "metadata": {},
   "source": [
    "## mutable, immutable\n",
    "\n",
    " - (immutable)수정 불가 객체 : int, float, str, tuple\n",
    " - (mutable)수정 가능 객체 : list, dict\n",
    "\n",
    "  - str 타입의 값을 새로 넣으면 새로운 메모리 주소에 값을 주소한다.(수정X 재생성O)\n",
    "  "
   ]
  },
  {
   "cell_type": "code",
   "execution_count": 1,
   "metadata": {},
   "outputs": [
    {
     "name": "stdout",
     "output_type": "stream",
     "text": [
      "1236270959424\n",
      "1236195344624\n",
      "1236270959424\n",
      "1236195344752\n"
     ]
    }
   ],
   "source": [
    "# 리스트의 수정\n",
    "a = [1,2,3]\n",
    "print(id(a)) # 1236270959424\n",
    "print(id(a[0])) # 1236195344624\n",
    "a[0] = 5\n",
    "print(id(a)) # 1236270959424 (리스트 참조 주소 유지)\n",
    "print(id(a[0])) # 1236195344752 (리스트 값 참조 주소 변경)"
   ]
  },
  {
   "cell_type": "code",
   "execution_count": 3,
   "metadata": {},
   "outputs": [
    {
     "name": "stdout",
     "output_type": "stream",
     "text": [
      "1236271081344\n",
      "1236271081344\n",
      "[1, 2, 3, 4]\n"
     ]
    }
   ],
   "source": [
    "# 리스트 주소 확인\n",
    "r = [1,2]\n",
    "print(id(r)) #1236271081344\n",
    "\n",
    "r += [3,4] # r 리스트에 [3,4]리스트 추가\n",
    "print(id(r)) #주소 동일\n"
   ]
  },
  {
   "cell_type": "code",
   "execution_count": 5,
   "metadata": {},
   "outputs": [
    {
     "name": "stdout",
     "output_type": "stream",
     "text": [
      "1236270967424\n",
      "1236271223952\n",
      "(1, 2, 3, 4)\n"
     ]
    }
   ],
   "source": [
    "# 튜플 주소 확인\n",
    "t = (1,2)\n",
    "print(id(t)) #1236270967424\n",
    "\n",
    "t += (3,4) \n",
    "print(id(t)) #1236271223952 주소 변경\n"
   ]
  },
  {
   "cell_type": "markdown",
   "metadata": {},
   "source": [
    "아래의 코드에서 함수를 사용하여 각각 리스트, 튜플에 값을 더해주었다.\n",
    "리스트의 경우 값이 잘 더해져서 출력이 되었다.\n",
    "\n",
    "튜플의 경우는 값이 더해지지 않고, 초기 값만 출력이 되었다.\n",
    "\n",
    "결과가 이렇게 나온 이유를 생각해봤다.\n",
    "리스트는 수정을 해도 리스트객체 참조 주소가 같다.\n",
    "함수내에서 리스트를 수정해도 리스트의 주소가 같기 때문에\n",
    "수정된 결과가 이상 없이 출력이 된다\n",
    "\n",
    "튜플은 수정을하면 참조 주소가 변경된다.\n",
    "튜플의 수정을 함수 내에서 함수내의 변수로 진행하게 된다면,\n",
    "로컬 함수 주소로 변경이 되어 변경을 하게 되는게 아닐까 생각된다.\n",
    "이렇게 되면 함수를 빠져나오면 해당 주소는 비활성화가 된다.\n",
    "그러면 수정이 되지 않은 튜플의 주소만 남아 호출이 될것이다.\n"
   ]
  },
  {
   "cell_type": "code",
   "execution_count": 74,
   "metadata": {},
   "outputs": [
    {
     "name": "stdout",
     "output_type": "stream",
     "text": [
      "[1, 2, 3, 4]\n",
      "1236271939136\n",
      "(1, 3, 5, 7)\n",
      "1236271817136\n"
     ]
    }
   ],
   "source": [
    "def add_last(m,n):\n",
    "    m += n         #m에 n 추가.\n",
    "\n",
    "\n",
    "r = [1,2]\n",
    "add_last(r,[3,4]) # r 주소에 추가됨. \n",
    "print(r)\n",
    "\n",
    "\n",
    "t = (1,3)\n",
    "print(id(t))\n",
    "add_last(t,(5,7)) # t 주소에 추가는 됨, 객체 주소 변경됨, 함수 종료시 주소 사라짐, 튜플 주소는 유지 = 값도 변경X.\n",
    "print(id(t))\n",
    "\n",
    "\n"
   ]
  },
  {
   "cell_type": "code",
   "execution_count": 26,
   "metadata": {},
   "outputs": [
    {
     "name": "stdout",
     "output_type": "stream",
     "text": [
      "1236271995136\n",
      "1236271918080\n",
      "(1, 3, 5, 7)\n"
     ]
    }
   ],
   "source": [
    "def add_tuple(t1,t2):\n",
    "    t1 += t2\n",
    "    return t1 # 새로 생성된 값을 반환\n",
    "\n",
    "tp = (1,3)\n",
    "print(id(tp))\n",
    "tp = add_tuple(tp, (5,7)) # tp값에 함수에서 반환된 값을 담음.\n",
    "print(id(tp))\n",
    "print(tp)"
   ]
  },
  {
   "cell_type": "markdown",
   "metadata": {},
   "source": [
    "불변 성질을 가진 데이터는 수정시 주소가 변경됨.\n",
    "함수로 해당 데이터들을 변경할때에는 변경된 값(주소)을 반환 해줘야함.\n",
    "\n",
    "또한 함수 사용에 있어서도 주의를 해야함.\n",
    "예) \n",
    "'변경함수(불변 변수+변경값)' = 이렇게 함수를 사용하게 되면,\n",
    "함수내에서 변경 값을 반환해도 해당 값을 담을 변수가 없다.\n",
    "때문에 '불변 변수 = 변경함수(불변 변수+변경값)' \n",
    "이렇게 표현을 한다.\n",
    "변경된 값을 변수에 다시 담아준다."
   ]
  },
  {
   "cell_type": "code",
   "execution_count": 92,
   "metadata": {},
   "outputs": [
    {
     "name": "stdout",
     "output_type": "stream",
     "text": [
      "1,8\n",
      "[3, 1, 5, 4, 8]\n",
      "1,8\n",
      "[3, 1, 5, 4, 8]\n"
     ]
    }
   ],
   "source": [
    "# 리스트\n",
    "import copy \n",
    "\n",
    "def min_max(d): # 최대값, 최소값\n",
    "    d.sort() # 정렬 함수\n",
    "    print(d[0], d[-1], sep = \",\") # 인덱스 -1 = 가장 오른쪽 값.\n",
    "\n",
    "i = [3,1,5,4,8]\n",
    "min_max(i)\n",
    "print(i)\n",
    "\n",
    "#원본값 유지\n",
    "i = [3,1,5,4,8]\n",
    "min_max(copy.deepcopy(i)) # 카피모듈 딥카피 활용\n",
    "print(i)\n",
    "\n",
    "def min_max(d): # 최대값, 최소값\n",
    "    d = list(d) # 값 복사(리스트가 얕은 자료형, 얕은 복사로 가능)\n",
    "    d.sort() # 정렬 함수\n",
    "    print(d[0], d[-1], sep = \",\") # 인덱스 -1 = 가장 오른쪽 값.\n",
    "\n",
    "i = [3,1,5,4,8]\n",
    "min_max(i)\n",
    "print(i)\n",
    "\n",
    "\n"
   ]
  },
  {
   "cell_type": "markdown",
   "metadata": {},
   "source": [
    "리스트는 가변형 데이터.\n",
    "위 처럼 함수 내에서 정보의 가공처리를 한다.\n",
    "함수에서 처리된 가공 내용이 유지가 된다.\n",
    "(같은 주소에서 작업을 했기때문.)"
   ]
  }
 ],
 "metadata": {
  "kernelspec": {
   "display_name": "env_django",
   "language": "python",
   "name": "python3"
  },
  "language_info": {
   "codemirror_mode": {
    "name": "ipython",
    "version": 3
   },
   "file_extension": ".py",
   "mimetype": "text/x-python",
   "name": "python",
   "nbconvert_exporter": "python",
   "pygments_lexer": "ipython3",
   "version": "3.10.16"
  }
 },
 "nbformat": 4,
 "nbformat_minor": 2
}
