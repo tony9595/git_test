{
 "cells": [
  {
   "cell_type": "markdown",
   "metadata": {},
   "source": [
    "## 이터너블, 이터레이터 객체\n",
    "\n",
    " - iterable : 반복 가능한 객체\n",
    "   - `__iter__`\n",
    "\n",
    " - iterator : 값을 차례대로 꺼낼 수 있는 객체\n",
    "   - `__iter__`\n",
    "   - `__next__`\n",
    "\n",
    " - 어떤 객체의 원소에 하나씩 차례로 접근하는 것.\n",
    " 명시적으로든 암묵적으로든 반복문을 사용해 객체의 여러 원소에 하나하나 접근하면 그것은 이터레이션이다.\n",
    "\n",
    "\n",
    "- for 문에서 반복을 할 수 있다 = > iterable\n",
    "```python\n",
    "#for 문에 돌아가는 이터너블\n",
    "sample = [1,2,3] \n",
    "metoo = \"나도 된다고\"\n",
    "\n",
    "\n",
    "for num in sample:\n",
    "    print(num)\n",
    "\n",
    "for i in metoo:\n",
    "    print(i)\n",
    "```\n",
    "- __next__ 함수가 실행이 된다 => iterator\n",
    "  - iterable 객체에 __iter__ 함수를 사용하면 iterator 객체가 된다.\n",
    "  - __next__ 함수는 객체의 값을 하나씩 출력해준다.\n",
    "  ```python\n",
    "  sample= [1,2,3].__iter__() # __iter__() => 이터레이터 객체로 바꾸는 함수 (__next__() 함수 포함하는 객체)\n",
    "  # iter(변수명),next(변수명) 이런식에 사용도 가능.\n",
    "\n",
    "  print(type(sample)) # <class 'list_iterator'> 이터레이터.\n",
    "  print(sample.__next__()) # 값을 하나씩 꺼낸다.\n",
    "  print(next(sample))\n",
    "  print(sample.__next__())\n",
    "  #print(sample.__next__())  StopIteration: \n",
    "  ```\n",
    "\n",
    "\n",
    "- for문의 로직 (객체.__iter__() > 객체__next__())\n",
    "```python\n",
    "# 이터레이터 객체 직접 만들기\n",
    "\n",
    "class Counter:\n",
    "\n",
    "    def __init__(self,stop):\n",
    "        self.current = 0 #현재 숫자 유지, 0부터 지정된 숫자 직전까지 반복\n",
    "        self.stop = stop # 반복을 끝낼 숫자\n",
    "\n",
    "    def __iter__(self):\n",
    "        return self # 현재 인스턴스를 반환\n",
    "    \n",
    "    def __next__(self):\n",
    "        if self.current < self.stop:    # 현재 숫자가 반복을 끝낼 숫자보다 작을 때\n",
    "            r = self.current            # 반환할 숫자를 변수에 저장\n",
    "            self.current += 1           # 현재 숫자를 1 증가시킴\n",
    "            return r                    # 숫자를 반환\n",
    "        else:                           # 현재 숫자가 반복을 끝낼 숫자보다 크거나 같을 때\n",
    "            raise StopIteration         # 예외 발생\n",
    "                                        # raise (에러 코드) = 예외 처리 함수.\n",
    "\n",
    "    \n",
    "counter = Counter(10)\n",
    "\n",
    "for i in Counter(10): # for 문의 로직 => counter.__iter__() 호출 => counter.__next__() 호출\n",
    "    print(i, end=\"\")\n",
    "```\n",
    " "
   ]
  },
  {
   "cell_type": "markdown",
   "metadata": {},
   "source": [
    "그냥 받아적어\n",
    "\n",
    "샘플 리스트 = 포문에서 반복할 수 있다.\n",
    "\n",
    "for 문에서 돌릴수 있는 데이터 리스트, 스트링, 튜플, 레인지 = > 이터너블 객체.\n",
    "\n",
    "반복이 가능한 데이터 타입을 이터너블 객체라고 표현한다.\n",
    " - 원인은 잘 모름.\n",
    "\n",
    "`__next__`가 실행되면 이터레이터 객체, 실행이 안되면 이터너블 객체 \n",
    "\n",
    "변수에 `__iter__`함수를 사용하면 이터레이터 객체가 된다.\n",
    "\n",
    "이터너블 객체는 `__iter__` 함수를 가지고 있는 객체.\n",
    "\n",
    "`__iter__`는 이터너블 객체의 `__next__`함수 활성화 버튼\n",
    "\n",
    "이터너블 객체는 함수 `__iter__` 를 가지고 있는 객체이다.\n",
    "\n",
    "이터너블 객체에서 `__iter__`함수를 사용 하면 이터레이터 객체가 된다.\n",
    "이터레이터 객체는 `__next__`함수를 사용할 수 있다.\n",
    "사용하면 값을 1개씩 순차적으로 출력한다.(for문)\n",
    "\n",
    " 반복 가능한 객체 :(시퀀스 객체 : 리스트, 튜플, 레인지, 문자열) , 딕셔너리 , 세트\n"
   ]
  },
  {
   "cell_type": "code",
   "execution_count": 16,
   "metadata": {},
   "outputs": [
    {
     "name": "stdout",
     "output_type": "stream",
     "text": [
      "1\n",
      "2\n",
      "3\n",
      "나\n",
      "도\n",
      " \n",
      "된\n",
      "다\n",
      "고\n"
     ]
    }
   ],
   "source": [
    "# 이터너블 과 이터레이터\n",
    "\n",
    "\n",
    "#for 문에 돌아가는 이터너블\n",
    "sample = iter([1,2,3]) \n",
    "metoo = \"나도 된다고\"\n",
    "print(next(sample))\n",
    "print(next(sample))\n",
    "print(next(sample))\n",
    "\n",
    "for num in sample:\n",
    "    print(num)\n",
    "\n",
    "for i in metoo:\n",
    "    print(i)\n",
    "\n",
    "# sample.__next__() 넥스트 함수가 실행되면 이터레이터, 안되면 이터너블\n",
    "\n"
   ]
  },
  {
   "cell_type": "code",
   "execution_count": 17,
   "metadata": {},
   "outputs": [
    {
     "name": "stdout",
     "output_type": "stream",
     "text": [
      "<class 'list_iterator'>\n",
      "1\n",
      "2\n",
      "3\n"
     ]
    }
   ],
   "source": [
    "# 이터레이터 객체로 만들기(next 되게 만들기)\n",
    "\n",
    "sample= [1,2,3].__iter__() # __iter__() => 이터레이터 객체로 바꾸는 함수 (__next__() 함수 포함하는 객체)\n",
    "\n",
    "print(type(sample)) # <class 'list_iterator'> 이터레이터.\n",
    "print(sample.__next__()) # 값을 하나씩 꺼낸다.\n",
    "print(next(sample))\n",
    "print(sample.__next__())\n",
    "#print(sample.__next__())  StopIteration: \n",
    "\n",
    " #for num in sample.__iter__().__next__(): for문의 원리"
   ]
  },
  {
   "cell_type": "code",
   "execution_count": 13,
   "metadata": {},
   "outputs": [
    {
     "name": "stdout",
     "output_type": "stream",
     "text": [
      "0123"
     ]
    }
   ],
   "source": [
    "# 이터레이터 객체 직접 만들기\n",
    "\n",
    "class Counter:\n",
    "\n",
    "    def __init__(self,stop):\n",
    "        self.current = 0 #현재 숫자 유지, 0부터 지정된 숫자 직전까지 반복\n",
    "        self.stop = stop # 반복을 끝낼 숫자\n",
    "\n",
    "    def __iter__(self):\n",
    "        return self # 현재 인스턴스를 반환\n",
    "    \n",
    "    def __next__(self):\n",
    "        if self.current < self.stop:    # 현재 숫자가 반복을 끝낼 숫자보다 작을 때\n",
    "            r = self.current            # 반환할 숫자를 변수에 저장\n",
    "            self.current += 1           # 현재 숫자를 1 증가시킴\n",
    "            return r                    # 숫자를 반환\n",
    "        else:                           # 현재 숫자가 반복을 끝낼 숫자보다 크거나 같을 때\n",
    "            raise StopIteration         # 예외 발생\n",
    "                                        # raise (에러 코드) = 예외 처리 함수.\n",
    "\n",
    "    \n",
    "counter = Counter(10)\n",
    "\n",
    "for i in Counter(10): # for 문의 로직 => counter.__iter__() 호출 => counter.__next__() 호출\n",
    "    print(i, end=\"\")"
   ]
  },
  {
   "cell_type": "markdown",
   "metadata": {},
   "source": []
  }
 ],
 "metadata": {
  "kernelspec": {
   "display_name": "env_django",
   "language": "python",
   "name": "python3"
  },
  "language_info": {
   "codemirror_mode": {
    "name": "ipython",
    "version": 3
   },
   "file_extension": ".py",
   "mimetype": "text/x-python",
   "name": "python",
   "nbconvert_exporter": "python",
   "pygments_lexer": "ipython3",
   "version": "3.10.16"
  }
 },
 "nbformat": 4,
 "nbformat_minor": 2
}
