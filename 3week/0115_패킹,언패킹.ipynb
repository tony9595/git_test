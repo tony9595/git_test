{
 "cells": [
  {
   "cell_type": "markdown",
   "metadata": {},
   "source": [
    "## 튜플의 패킹과 언패킹\n",
    "\n",
    "- 패킹 : 묶기 (하나 이상의 값을 묶는것)\n",
    "- 언패킹 : 풀기 (하나 이상의 값을 푸는것.)\n",
    "- * 를 사용해 패킹, 언패킹을 한다.\n",
    "\n",
    "- 변수앞에, 함수의 파라미터값 앞에 오면 패킹이다.\n",
    "```python\n",
    "nums = (1,2,3,4,5)\n",
    "n1,*n2,n3 = nums\n",
    "# 1 [2,3,4] 5\n",
    "# 리스트로 반환된다.\n",
    "\n",
    "def show_nums(n1,n2,*other): #함수에서 패킹을 할 경우에는 튜플로 생성한다.\n",
    "    print(n1,n2,other)\n",
    "\n",
    "show_nums(1,2,3,4,5) # 1 2 (3,4,5) 튜플로 패킹한다.\n",
    "```\n",
    "- 함수를 튜플로 호출할때 앞에 오면 언패킹이다.\n",
    "```python\n",
    "def show_nums(n1,n2,n3):\n",
    "    print(n1,n2,n3)\n",
    "\n",
    "a= (1,2,3)\n",
    "show_nums(*a) #1 2 3\n",
    "```\n",
    "\n"
   ]
  },
  {
   "cell_type": "code",
   "execution_count": 17,
   "metadata": {},
   "outputs": [
    {
     "name": "stdout",
     "output_type": "stream",
     "text": [
      "(12, 15)\n",
      "(12, 15)\n",
      "12 15\n",
      "12 25\n",
      "1 2 [3, 4, 5]\n",
      "1 [2, 3, 4] 5\n",
      "[1, 2, 3] 4 5\n"
     ]
    }
   ],
   "source": [
    "tri_one = (12,15)\n",
    "print(tri_one)\n",
    "tri_two = 12,15 #괄호가 없어도 튜플로 정의\n",
    "print(tri_two)\n",
    "x,y = (12,15) #복수 할당\n",
    "print(x,y)\n",
    "\n",
    "tri_three = (12,25)\n",
    "bt,ht =tri_three # 튜플 언패킹\n",
    "print(bt,ht)\n",
    "\n",
    "nums = (1,2,3,4,5)\n",
    "# 둘이상의 값을 팩킹 하고있음\n",
    "# 변수 앞에 *가 오면 리스트로 값을 묶음.\n",
    "n1,n2,*others = nums  # 변수 선언 할때.\n",
    "print(n1,n2,others) # 리스트로 묶는다.\n",
    "\n",
    "nums = (1,2,3,4,5)\n",
    "f,*o,l =nums\n",
    "print(f,o,l)\n",
    "\n",
    "*o,n1,n2 = nums\n",
    "print(o,n1,n2)\n",
    "\n"
   ]
  },
  {
   "cell_type": "code",
   "execution_count": 1,
   "metadata": {},
   "outputs": [
    {
     "name": "stdout",
     "output_type": "stream",
     "text": [
      "1 2 (3, 4, 5)\n",
      "6\n",
      "45\n",
      "6\n"
     ]
    }
   ],
   "source": [
    "# 함수에 * 적용\n",
    "\n",
    "# 함수에도 * 파라미터로 쓸수 있음.\n",
    "\n",
    "# 1. *단독으로 파라미터 사용. (키워드 인자만 받을때.)\n",
    "def sum(*,x,y):\n",
    "    return x+y\n",
    "\n",
    "# 2. '*+변수명' 변수명이 뒤에 붙을 경우. = 패킹(묶는다.) = 튜플\n",
    "def show_nums(n1,n2,*other): #함수에서 패킹을 할 경우에는 튜플로 생성한다.\n",
    "    print(n1,n2,other)\n",
    "\n",
    "show_nums(1,2,3,4,5)\n",
    "\n",
    "# *파라미터의 응용\n",
    "def sum(*nums): #여러개의 파라미터를 한객체로 패킹해서 받을 수 있다.\n",
    "    s =0\n",
    "    for i in nums:\n",
    "        s += i\n",
    "    return s\n",
    "print(sum(1,2,3))\n",
    "print(sum(1,2,3,4,5,6,7,8,9))\n",
    "\n",
    "def s_sum(x,y,z):\n",
    "    return x+y+z\n",
    "a = (1,2,3)\n",
    "print(s_sum(*a))"
   ]
  },
  {
   "cell_type": "code",
   "execution_count": 14,
   "metadata": {},
   "outputs": [
    {
     "name": "stdout",
     "output_type": "stream",
     "text": [
      "Yoon 22 180\n"
     ]
    }
   ],
   "source": [
    "def show_man(name,age,height):\n",
    "    print(name,age,height)\n",
    "\n",
    "p = ('Yoon',22,180)\n",
    "\n",
    "# 함수 호출할때 * 가 사용되면 이는 언패킹으로 이어진다.\n",
    "# * 사용되는 위치에 따라 패킹 또는 언패킹을 한다.\n",
    "# p에 담긴 값을 풀어서 각각의 매개변수에 전달.\n",
    "# 언패킹 하는 케이스는 튜플로 함수 호출 할때 이다.\n",
    "\n",
    "show_man(*p) # 언패킹 임."
   ]
  },
  {
   "cell_type": "code",
   "execution_count": 3,
   "metadata": {},
   "outputs": [
    {
     "name": "stdout",
     "output_type": "stream",
     "text": [
      "일\n",
      "이\n",
      "삼\n",
      "None\n"
     ]
    }
   ],
   "source": [
    "def div_tuple(t,u,p):\n",
    "    print (t)\n",
    "    print (u)\n",
    "    print (p)\n",
    "\n",
    "tuple_str = ('일','이','삼')\n",
    "print(div_tuple(*tuple_str))"
   ]
  },
  {
   "cell_type": "code",
   "execution_count": 21,
   "metadata": {},
   "outputs": [
    {
     "name": "stdout",
     "output_type": "stream",
     "text": [
      "1 2 3 4\n",
      "1 2 (3, 4)\n"
     ]
    }
   ],
   "source": [
    "t = (1,2,(3,4))\n",
    "a,b,(c,d) =t\n",
    "print (a,b,c,d)\n",
    "\n",
    "a,b,k =t\n",
    "c,d =k\n",
    "print(a,b,k)"
   ]
  }
 ],
 "metadata": {
  "kernelspec": {
   "display_name": "env_django",
   "language": "python",
   "name": "python3"
  },
  "language_info": {
   "codemirror_mode": {
    "name": "ipython",
    "version": 3
   },
   "file_extension": ".py",
   "mimetype": "text/x-python",
   "name": "python",
   "nbconvert_exporter": "python",
   "pygments_lexer": "ipython3",
   "version": "3.10.16"
  }
 },
 "nbformat": 4,
 "nbformat_minor": 2
}
