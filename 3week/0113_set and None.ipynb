{
 "cells": [
  {
   "cell_type": "markdown",
   "metadata": {},
   "source": [
    "set 자료형\n",
    "내장된 자료형입니다.\n",
    "\n",
    "set = 집합\n",
    "set의 특징\n",
    "순서지원 X, 중복 X \n",
    "dict 자료형과 구조가 비슷하다. \n",
    "차이점은 key값이 없는대신 index 호출이 가능하다."
   ]
  },
  {
   "cell_type": "code",
   "execution_count": 21,
   "metadata": {},
   "outputs": [
    {
     "name": "stdout",
     "output_type": "stream",
     "text": [
      "{1, 2, 3, 4, 5}\n",
      "<class 'set'>\n",
      "{'e', 'o', 'h', 'l'}\n",
      "{1, 2, 3}\n",
      "{4, 5, 6}\n",
      "{1, 2, 3, 4, 5, 6, 7, 8, 9}\n",
      "{1, 2, 3}\n",
      "{1, 2, 3, 4}\n",
      "{1, 2, 3, 4, 5, 6}\n",
      "{1, 2, 3, 4, 5}\n",
      "5\n"
     ]
    }
   ],
   "source": [
    "#set의 이해\n",
    "#주의점 {} <- 키가 없으면 set으로 인식.\n",
    "\n",
    "\n",
    "\n",
    "s1 = {1,2,2,3,4,5}\n",
    "print(s1) # {1, 2, 3, 4, 5} 중복값 제외.\n",
    "print(type(s1))\n",
    "\n",
    "s2 = set(\"hello\") # 형변환 함수\n",
    "print(s2)\n",
    "\n",
    "s3= set([1,2,2,3])\n",
    "print(s3) # {1, 2, 3} 중복 x\n",
    "\n",
    "s1 = set([1,2,3,4,5,6])\n",
    "s2 = set([4,5,6,7,8,9])\n",
    "\n",
    "\n",
    "#set 함수의 기능.\n",
    "\n",
    "s3 = s1 & s2 # 교집합 (겹치는 부분의 집합.)\n",
    "print(s3)\n",
    "\n",
    "s3 = s1 | s2 # 합집합 \n",
    "print(s3)\n",
    "\n",
    "s3 = s1 - s2 # 차집합 (겹치는 부분을 뺀 집합.)\n",
    "print(s3)\n",
    "\n",
    "#값 추가\n",
    "s1 = set([1,2,3])\n",
    "s1.add(4) # 추가.\n",
    "print(s1) #{1, 2, 3, 4}\n",
    "\n",
    "#값 여러개 추가\n",
    "s1.update([4,5,6])\n",
    "print(s1) #{1, 2, 3, 4, 5, 6}\n",
    "\n",
    "#삭제\n",
    "s1.remove(6)\n",
    "print(s1) #{1, 2, 3, 4, 5}\n",
    "print(len(s1))\n",
    "#이외에도 in, not in, pop, clear함수를 사용할 수 있다."
   ]
  },
  {
   "cell_type": "code",
   "execution_count": 74,
   "metadata": {},
   "outputs": [
    {
     "name": "stdout",
     "output_type": "stream",
     "text": [
      "[2, 3, 17, 29, 38, 42]\n"
     ]
    }
   ],
   "source": [
    "# set 응용 : 로또\n",
    "\n",
    "import random\n",
    "\n",
    "lotto = set() # {} <- 표현 가능하나 dict로 혼용가능성 있음\n",
    "\n",
    "while len(lotto) < 6:\n",
    "    num = random.randint(1,45)\n",
    "    lotto.add(num)\n",
    "\n",
    "\n",
    "print(sorted(lotto))"
   ]
  },
  {
   "cell_type": "code",
   "execution_count": 77,
   "metadata": {},
   "outputs": [
    {
     "name": "stdout",
     "output_type": "stream",
     "text": [
      "1\n",
      "None\n",
      "<class 'NoneType'>\n",
      "응\n",
      "None 입니다.\n",
      "None 입니다.\n"
     ]
    }
   ],
   "source": [
    "# None 의 이해\n",
    "\n",
    "my_value  = 1\n",
    "print(my_value)\n",
    "\n",
    "#변수 빈칸\n",
    "my_value = None\n",
    "print(my_value)\n",
    "print(type(my_value))\n",
    "\n",
    "if my_value is None:\n",
    "    print(\"응\")\n",
    "\n",
    "#함수 결과를 반환하지 않음.\n",
    "def my_func():\n",
    "    pass\n",
    "\n",
    "\n",
    "my_dic = {'name':'john'}\n",
    "\n",
    "if \"age\" not in my_dic :\n",
    "    print(\"None 입니다.\")\n",
    "else:\n",
    "    print(\"None이 아닙니다.\")\n",
    "\n",
    "if my_dic.get(\"age\") is None:\n",
    "    print(\"None 입니다.\")\n",
    "else:\n",
    "    print(\"None이 아닙니다\")"
   ]
  },
  {
   "cell_type": "markdown",
   "metadata": {},
   "source": [
    "- none의 이해 \n",
    "고유하고 불변의 객체\n",
    "\n",
    "a = none\n",
    "변수가 아직 초기화 되지 않음\n",
    "해당변수에 값을 넣지 않는다.\n",
    "\n",
    "함수의 pass와 비슷함.\n",
    "\n"
   ]
  }
 ],
 "metadata": {
  "kernelspec": {
   "display_name": "env_django",
   "language": "python",
   "name": "python3"
  },
  "language_info": {
   "codemirror_mode": {
    "name": "ipython",
    "version": 3
   },
   "file_extension": ".py",
   "mimetype": "text/x-python",
   "name": "python",
   "nbconvert_exporter": "python",
   "pygments_lexer": "ipython3",
   "version": "3.10.16"
  }
 },
 "nbformat": 4,
 "nbformat_minor": 2
}
