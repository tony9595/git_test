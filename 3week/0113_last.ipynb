{
 "cells": [
  {
   "cell_type": "markdown",
   "metadata": {},
   "source": [
    "1. `None` 도 데이터 타입중 하나이다.\n",
    " `None`타입을 체크하는 방법은' 변수명 + is None' 이다.\n",
    "\n",
    "2. 얕은 복사와 깊은 복사를 예제를 들어 설명하시오.\n",
    "\n",
    "```python\n",
    "import copy\n",
    "a = [1,[2,3,4]]\n",
    "b = a # 얕은 카피는 가장 밖의 []과 1의 주소만 재생성이 된다. 나머지의 내용은 a의 참조값과 같다\n",
    "c = copy.deepcopy # 리스트 안의 모든 참조값을 재생성하게 된다.\n",
    "\n",
    "```\n",
    "\n",
    "3. 아래의 결과 물이 똑같이 나오는 이유와  chulsu 는 deepcopy 가 되도록 하시오.\n",
    "```python\n",
    "import copy #deepcopy 함수 호출 위해서 copy 모듈 import\n",
    "\n",
    "john = ['John', ('man','USA'),[175,23]]\n",
    "\n",
    "tom = list(john) # 얕은 복사 = 껍데기만 새로 생성\n",
    "chulsu = copy.deepcopy(john) # 얕은복사\n",
    "\n",
    "john[2][1] +=1\n",
    "\n",
    "\n",
    "print(john)\n",
    "print(tom)\n",
    "print(chulsu)\n",
    "```\n",
    "얕은 카피를 하면 껍데기만 주소를 새로 생성한다.\n",
    "그래서 리스트속 리스트인 값은 기존 주소를 가지고 온다.\n",
    "깊은 카피를 하지 않는다면, 같은 주소를 공유하게 되고, 수정을 하면 모든변수에서 같이 수정이 된다.\n",
    "\n",
    "4. 리스트 컴프리 헨션이란?\n",
    "\n",
    "리스트의 생성과 반복문, 조건문을 한줄안에 넣는것.\n",
    "리스트의 생성과 그 리스트의 채울 데이터를 가공 추출하는 일련의 과정들을 하나로 묶기 위해 존재하는 것이다.\n",
    "\n",
    "5. 아래를 리스트 컴프리 헨션으로 표현해 보세요.\n",
    "- 구구단\n",
    "```python\n",
    "gu = [print(f\"{i}*{j}={i*j}\") for i in range(2,9) for j in range(1,9)]\n",
    "```\n",
    "- 1부터 100까지의 숫자중 짝수만 \n",
    "```python\n",
    "w_num = [print(i) for i in range(1,101) if i % 2 == 0]\n",
    "```\n",
    "- 1부터 100까지의 숫자중 3의 배수 or 5의 배수\n",
    "```python\n",
    "sf_num = [print(i) for i in range(1,101) if i % 3 == 0 or i % 5 ==0]\n",
    "```\n",
    "- 1부터 10의 거듭제곱수 \n",
    "```python\n",
    "mul_num = [print(i**2) for i in range(1,11)]\n",
    "```\n",
    "\n",
    "6. 데이터 타입중 set 에 대하여 설명하시오.\n",
    "- 딕셔너리와 유사하다\n",
    " 순서를 지원하지 않고, 값의 중복이 안된다.\n",
    " 딕셔너리와 차이점은 key값이 없다.\n",
    "\n",
    "\n",
    "7. set 을 이용하여 로또를 짜시오.\n",
    "```python\n",
    "import random\n",
    "\n",
    "lotto = set()\n",
    "\n",
    "while len(lotto) < 6:\n",
    "    num = random.randint(1,45)\n",
    "    lotto.add(num)\n",
    "print(sorted(list(lotto)))\n",
    "\n",
    "```\n",
    "\n",
    "\n",
    "8.  겜블링 게임을 만들어보자. 두 사람이 게임을 진행한다. 이들의 이름을 키보드로 입력받으며 각 사람은 Person 클래스로 작성하라. 그러므로 프로그램에는 2개의 Person 객체가 생성되어야 한다. 두 사람은 번갈아 가면서 게임을 진행하는데 각 사람이 자기 차례에서 <Enter> 키를 입력하면, 3개의 난수가 발생되고 이 숫자가 모두 같으면 승자가 되고 게임이 끝난다. 난수의 범위를 너무 크게 잡으면 3개의 숫자가 일치하게 나올 가능성이 적기 때문에 숫자의 범위는 1~3까지로 한다.\n",
    "```python\n",
    "import random\n",
    "\n",
    "class Per:\n",
    "    def __init__(self,num): #이름 생성\n",
    "        self.name = input(f\"사용자님의 이름을 입력해주세요.\")\n",
    "        self.lis = []\n",
    "    \n",
    "    def get_name(self): #이름반환\n",
    "        return self.name\n",
    "    \n",
    "    def get_num(self): #번호생성\n",
    "        self.lis = [random.randint(1,3) for i in range(3)]\n",
    "        return self.lis\n",
    "#객체생성\n",
    "a = Per(1) \n",
    "b = Per(2)\n",
    "#반복문\n",
    "while True:\n",
    "    stop = 0 # 증감 카운터\n",
    "    for play in (a, b):\n",
    "        input(f\"[{play.name}] <Enter> 를 누르세요.\" )\n",
    "        numbers = play.get_num()\n",
    "        print(f\"{play.name}님의 숫자: {numbers}\")\n",
    "        \n",
    "        # 승리 조건\n",
    "        if len(set(numbers)) == 1:\n",
    "            print(f\"\\n{play.name}님이 승\")\n",
    "            stop += 1\n",
    "            break #for 문 탈출\n",
    "    if stop > 0:\n",
    "        break #while 문 탈출\n",
    "```\n",
    "\n",
    "\n",
    "\n",
    "9. id 와  == 의 차이는?\n",
    "\n",
    "- id 는 값을 참조하는 주소\n",
    "- == 는 값을 비교한다.\n",
    "\n",
    "10.  datetime 모듈을 할용하여, 현재시간을 체크 하고,\n",
    "4시부터 12 시 사이이면 => 굿모닝출력\n",
    "12시부터 18 시  =>굿애프터눈 출력\n",
    "18시부터 22 시 = > 굿 이브닝 출력\n",
    "22시부터 04 시 => 굿나잇 출력\n",
    "\n",
    "```python\n",
    "import datetime\n",
    "\n",
    "time = datetime.datetime.now()\n",
    "print(time.hour)\n",
    "\n",
    "if  time.hour >= 4 and time.hour<12:\n",
    "    print(\"굿모닝\")\n",
    "elif  time.hour >= 12 and time.hour<18:\n",
    "    print(\"굿애프터눈\")\n",
    "elif  time.hour >= 18 and time.hour<22:\n",
    "    print(\"굿 이브닝\")\n",
    "else:\n",
    "    print(\"굿나잇\")\n",
    "```\n",
    "\n",
    "11. datetime 모듈을 사용해서 현재 시간을 화면에 출력해보세요.\n",
    "12. 현재시간의 타입 datetime 모듈의 now 함수의 리턴 값의 타입을 화면에 출력해보세요.\n",
    "14. strftime 현재시간을 얻어온 후 다음과 같은 포맷으로 시간을 출력해보세요. strftime 메서드를 사용하세요.\n",
    "```python\n",
    "import datetime\n",
    "\n",
    "t = datetime.datetime.now()\n",
    "print(t)\n",
    "print(t.strftime('%A, %d. %B %Y %I:%M%p'))\n",
    "print(t.strftime('%I:%M%p'))\n",
    "print(type(t))\n",
    "```\n",
    "\n",
    "\n",
    "13.  timedelta\n",
    "datetime 모듈의 timedelta를 사용해서 오늘로부터 5일, 4일, 3일, 2일, 1일 전의 날짜를 화면에 출력해보세요.\n",
    "```python\n",
    "import datetime\n",
    "\n",
    "d = datetime.date.today()\n",
    "print('오늘은',d)\n",
    "\n",
    "for i in range(1,6):\n",
    "    one_day = datetime.timedelta(5-i)\n",
    "    print(d-one_day)\n",
    "\n",
    "```\n",
    "15. sleep 함수\n",
    "time 모듈, datetime 모듈을 사용해서 1초에 한 번 현재 시간을 출력하는 코드를 작성하세요.\n",
    "```python\n",
    "import datetime\n",
    "import time\n",
    "\n",
    "while True:\n",
    "    t = datetime.datetime.now()\n",
    "    t.strftime('%H: %M: %S')\n",
    "    print(t)\n",
    "    time.sleep(1)\n",
    "```\n",
    "\n",
    "세줄요약:\n",
    "1.id 는 주소 == 값 비교 이다\n",
    "2.얕은 복사는 껍데기 복사 , 깊은복사는 안에꺼 까지.\n",
    "3. set 은 중복불가, 순서 없음 이다."
   ]
  },
  {
   "cell_type": "code",
   "execution_count": 5,
   "metadata": {},
   "outputs": [
    {
     "name": "stdout",
     "output_type": "stream",
     "text": [
      "[1, 4, 27, 256, 3125, 46656, 823543, 16777216, 387420489, 10000000000]\n"
     ]
    }
   ],
   "source": [
    "mul_num = [i**i for i in range(1,11) ]\n",
    "print(mul_num)"
   ]
  },
  {
   "cell_type": "code",
   "execution_count": 24,
   "metadata": {},
   "outputs": [
    {
     "name": "stdout",
     "output_type": "stream",
     "text": [
      "[4, 16, 22, 34, 35, 38]\n"
     ]
    }
   ],
   "source": [
    "import random\n",
    "\n",
    "lotto = set()\n",
    "\n",
    "while len(lotto) < 6:\n",
    "    num = random.randint(1,45)\n",
    "    lotto.add(num)\n",
    "print(sorted(list(lotto)))\n",
    "\n"
   ]
  },
  {
   "cell_type": "markdown",
   "metadata": {},
   "source": [
    "8.  겜블링 게임을 만들어보자.\n",
    "두 사람이 게임을 진행한다. \n",
    "이들의 이름을 키보드로 입력받으며\n",
    " 각 사람은 Person 클래스로 작성하라. \n",
    "그러므로 프로그램에는 2개의 Person 객체가 생성되어야 한다.\n",
    "-- -- \n",
    "두 사람은 번갈아 가면서 게임을 진행\n",
    "각 사람이 자기 차례에서 <Enter> 키를 입력하면, 3개의 난수가 발생\n",
    "이 숫자가 모두 같으면 승자가 되고 게임이 끝난다.\n",
    "숫자의 범위는 1~3까지로 한다."
   ]
  },
  {
   "cell_type": "code",
   "execution_count": 5,
   "metadata": {},
   "outputs": [
    {
     "name": "stdout",
     "output_type": "stream",
     "text": [
      "1님의 숫자: [2, 3, 1]\n",
      "2님의 숫자: [2, 2, 3]\n",
      "1님의 숫자: [1, 1, 2]\n",
      "2님의 숫자: [3, 1, 1]\n",
      "1님의 숫자: [1, 2, 1]\n",
      "2님의 숫자: [1, 2, 1]\n",
      "1님의 숫자: [1, 1, 1]\n",
      "\n",
      "축하합니다! 1님이 승리하셨습니다!\n"
     ]
    }
   ],
   "source": [
    "import random\n",
    "\n",
    "class Per:\n",
    "    def __init__(self,num):\n",
    "        self.name = input(f\"{num}번 사용자님의 이름을 입력해주세요.\")\n",
    "        self.lis = []\n",
    "    \n",
    "    def get_name(self): #이름반환\n",
    "        return self.name\n",
    "    \n",
    "    def get_num(self): #번호생성\n",
    "        self.lis = [random.randint(1,3) for i in range(3)]\n",
    "        return self.lis\n",
    "\n",
    "\n",
    "a = Per(1)\n",
    "b = Per(2)\n",
    "\n",
    "    \n",
    "while True:\n",
    "    stop = 0\n",
    "    for play in (a, b):\n",
    "        input(f\"[{play.name}] <Enter> 를 누르세요.\" )\n",
    "        numbers = play.get_num()\n",
    "        print(f\"{play.name}님의 숫자: {numbers}\")\n",
    "        \n",
    "        # 승리 조건\n",
    "        if len(set(numbers)) == 1:\n",
    "            print(f\"\\n축하합니다! {play.name}님이 승리하셨습니다!\")\n",
    "            stop += 1\n",
    "            break\n",
    "    if stop > 0:\n",
    "        break\n",
    "\n"
   ]
  },
  {
   "cell_type": "code",
   "execution_count": null,
   "metadata": {},
   "outputs": [
    {
     "name": "stdout",
     "output_type": "stream",
     "text": [
      "{1, 2, 3, 4, 5}\n",
      "<class 'set'>\n",
      "{'e', 'o', 'h', 'l'}\n",
      "{1, 2, 3}\n",
      "{4, 5, 6}\n",
      "{1, 2, 3, 4, 5, 6, 7, 8, 9}\n",
      "{1, 2, 3}\n",
      "{1, 2, 3, 4}\n",
      "{1, 2, 3, 4, 5, 6}\n",
      "{1, 2, 3, 4, 5}\n",
      "5\n"
     ]
    }
   ],
   "source": [
    "#set의 이해\n",
    "#주의점 {} <- 키가 없으면 set으로 인식.\n",
    "\n",
    "\n",
    "\n",
    "s1 = {1,2,2,3,4,5}\n",
    "print(s1) # {1, 2, 3, 4, 5} 중복값 제외.\n",
    "print(type(s1))\n",
    "\n",
    "s2 = set(\"hello\") # 형변환 함수\n",
    "print(s2)\n",
    "\n",
    "s3= set([1,2,2,3])\n",
    "print(s3) # {1, 2, 3} 중복 x\n",
    "\n",
    "s1 = set([1,2,3,4,5,6])\n",
    "s2 = set([4,5,6,7,8,9])\n",
    "\n",
    "\n",
    "#set 함수의 기능.\n",
    "\n",
    "s3 = s1 & s2 # 교집합 (겹치는 부분의 집합.)\n",
    "print(s3)\n",
    "\n",
    "s3 = s1 | s2 # 합집합 \n",
    "print(s3)\n",
    "\n",
    "s3 = s1 - s2 # 차집합 (겹치는 부분을 뺀 집합.)\n",
    "print(s3)\n",
    "\n",
    "#값 추가\n",
    "s1 = set([1,2,3])\n",
    "s1.add(4) # 추가.\n",
    "print(s1) #{1, 2, 3, 4}\n",
    "\n",
    "#값 여러개 추가\n",
    "s1.update([4,5,6])\n",
    "print(s1) #{1, 2, 3, 4, 5, 6}\n",
    "\n",
    "#삭제\n",
    "s1.remove(6)\n",
    "print(s1) #{1, 2, 3, 4, 5}\n",
    "print(len(s1))\n",
    "#이외에도 in, not in, pop, clear함수를 사용할 수 있다."
   ]
  },
  {
   "cell_type": "code",
   "execution_count": 52,
   "metadata": {},
   "outputs": [
    {
     "name": "stdout",
     "output_type": "stream",
     "text": [
      "[1, 1, 2]\n"
     ]
    }
   ],
   "source": [
    "numlist = [random.randint(1,3) for numlist in range(3)]\n",
    "print(numlist)\n",
    "self.num_lis.append(random.randint(1,3))"
   ]
  },
  {
   "cell_type": "markdown",
   "metadata": {},
   "source": [
    "10.  datetime 모듈을 할용하여, 현재시간을 체크 하고,\n",
    "4시부터 12 시 사이이면 => 굿모닝출력\n",
    "12시부터 18 시  =>굿애프터눈 출력\n",
    "18시부터 22 시 = > 굿 이브닝 출력\n",
    "22시부터 04 시 => 굿나잇 출력"
   ]
  },
  {
   "cell_type": "code",
   "execution_count": 1,
   "metadata": {},
   "outputs": [
    {
     "name": "stdout",
     "output_type": "stream",
     "text": [
      "13\n",
      "굿애프터눈\n"
     ]
    }
   ],
   "source": [
    "import datetime\n",
    "\n",
    "time = datetime.datetime.now()\n",
    "print(time.hour)\n",
    "\n",
    "if  time.hour >= 4 and time.hour<12:\n",
    "    print(\"굿모닝\")\n",
    "elif  time.hour >= 12 and time.hour<18:\n",
    "    print(\"굿애프터눈\")\n",
    "elif  time.hour >= 18 and time.hour<22:\n",
    "    print(\"굿 이브닝\")\n",
    "else:\n",
    "    print(\"굿나잇\")\n",
    "\n",
    "\n"
   ]
  },
  {
   "cell_type": "markdown",
   "metadata": {},
   "source": [
    "\n",
    "\n",
    "\n",
    "\n",
    "\n",
    "15. sleep 함수\n",
    "time 모듈, datetime 모듈을 사용해서 1초에 한 번 현재 시간을 출력하는 코드를 작성하세요.\n"
   ]
  },
  {
   "cell_type": "code",
   "execution_count": 40,
   "metadata": {},
   "outputs": [
    {
     "name": "stdout",
     "output_type": "stream",
     "text": [
      "2025-01-13 18:35:16.642514\n",
      "Monday, 13. January 2025 06:35PM\n",
      "06:35PM\n",
      "<class 'datetime.datetime'>\n"
     ]
    }
   ],
   "source": [
    "#11. datetime 모듈을 사용해서 현재 시간을 화면에 출력해보세요.\n",
    "#12. 현재시간의 타입 datetime 모듈의 now 함수의 리턴 값의 타입을 화면에 출력해보세요.\n",
    "#14. strftime현재시간을 얻어온 후 다음과 같은 포맷으로 시간을 출력해보세요. strftime 메서드를 사용하세요.\n",
    "import datetime\n",
    "\n",
    "t = datetime.datetime.now()\n",
    "print(t)\n",
    "print(t.strftime('%A, %d. %B %Y %I:%M%p'))\n",
    "print(t.strftime('%I:%M%p'))\n",
    "print(type(t))"
   ]
  },
  {
   "cell_type": "code",
   "execution_count": 7,
   "metadata": {},
   "outputs": [
    {
     "name": "stdout",
     "output_type": "stream",
     "text": [
      "오늘은 2025-01-13\n",
      "2025-01-09\n",
      "2025-01-10\n",
      "2025-01-11\n",
      "2025-01-12\n"
     ]
    }
   ],
   "source": [
    "# 13.  timedelta datetime 모듈의 timedelta를 사용해서 오늘로부터 5일, 4일, 3일, 2일, 1일 전의 날짜를 화면에 출력해보세요.\n",
    "import datetime\n",
    "\n",
    "d = datetime.date.today()\n",
    "print('오늘은',d)\n",
    "\n",
    "for i in range(1,6):\n",
    "    one_day = datetime.timedelta(5-i)\n",
    "    print(d-one_day)\n",
    "\n"
   ]
  },
  {
   "cell_type": "code",
   "execution_count": null,
   "metadata": {},
   "outputs": [
    {
     "name": "stdout",
     "output_type": "stream",
     "text": [
      "2025-01-14 13:51:48.648363\n",
      "2025-01-14 13:51:51.004936\n"
     ]
    }
   ],
   "source": [
    "import datetime\n",
    "import time\n",
    "a = \"g\"\n",
    "while True:\n",
    "    a= input(\"\")\n",
    "    t = datetime.datetime.now()\n",
    "    t.strftime('%H: %M: %S')\n",
    "    print(t)\n",
    "    time.sleep(1)\n",
    "    if a == False:\n",
    "        break"
   ]
  },
  {
   "cell_type": "code",
   "execution_count": 11,
   "metadata": {},
   "outputs": [
    {
     "name": "stdout",
     "output_type": "stream",
     "text": [
      "2025-01-14 14:25:37.021308\n",
      "2025\n",
      "1\n",
      "14\n",
      "14\n",
      "25\n",
      "37\n",
      "21308\n",
      "2007-01-01 00:00:00\n",
      "2007-01-01 13:50:30\n",
      "0\n",
      "2007-01-01\n",
      "6588 days, 0:35:07.021308\n",
      "6588\n",
      "2107\n",
      "21308\n",
      "569205307.021308\n"
     ]
    }
   ],
   "source": [
    "#datetime 모듈\n",
    "from datetime import datetime\n",
    "\n",
    "t = datetime.now() # 현재시간 리턴\n",
    "\n",
    "# 현재 날짜 객체 생성\n",
    "\n",
    "print(t)\n",
    "print(t.year)\n",
    "print(t.month)\n",
    "print(t.day)\n",
    "print(t.hour)\n",
    "print(t.minute)\n",
    "print(t.second)\n",
    "print(t.microsecond)\n",
    "\n",
    "# 특정한 날짜 객체 생성\n",
    "\n",
    "dt = datetime(2007,1,1)\n",
    "print(dt)\n",
    "dt = datetime(2007,1,1,13,50,30)\n",
    "print(dt) # __str__ => dt.strftime('%Y %m %d %H %M % S')\n",
    "\n",
    "print(dt.weekday()) # weekday() : 요일 반환 0~6 => 월~일\n",
    "print(dt.strftime('%Y-%m-%d'))  #초기 값 출력 or 설정값 출력 둘다 가능.\n",
    "\n",
    "#시간 연산\n",
    "td = t - dt\n",
    "\n",
    "#tiemdelta 클래스\n",
    "\n",
    "print(td)\n",
    "print(td.days)\n",
    "print(td.seconds)\n",
    "print(td.microseconds)\n",
    "print(td.total_seconds())\n",
    "\n",
    "\n"
   ]
  },
  {
   "cell_type": "markdown",
   "metadata": {},
   "source": [
    "## dataetime 모듈\n",
    "\n",
    "시간을 출력해주는 모듈\n",
    "datetime.now() 함수로 현재 시간 출력\n",
    "\n",
    ".year , .month... 함수로 원하는 자료만 추출 가능\n",
    "\n",
    "날짜 = datetime(YYYY,MM,DD HH:MM,SS...)\n",
    "특정 날짜 설정 가능\n",
    "\n",
    "시간간의 - 연산 가능\n",
    "\n"
   ]
  }
 ],
 "metadata": {
  "kernelspec": {
   "display_name": "env_django",
   "language": "python",
   "name": "python3"
  },
  "language_info": {
   "codemirror_mode": {
    "name": "ipython",
    "version": 3
   },
   "file_extension": ".py",
   "mimetype": "text/x-python",
   "name": "python",
   "nbconvert_exporter": "python",
   "pygments_lexer": "ipython3",
   "version": "3.10.16"
  }
 },
 "nbformat": 4,
 "nbformat_minor": 2
}
