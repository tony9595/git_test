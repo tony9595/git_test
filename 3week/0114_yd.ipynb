{
 "cells": [
  {
   "cell_type": "markdown",
   "metadata": {},
   "source": [
    "복습\n",
    "\n",
    "## set , none\n",
    "\n",
    " - set : 집합 딕셔너리와 유사한 성격을 가짐, key값이 없는게 딕셔너리와의 차이점\n",
    "   - (set1 | set2), set1.union(set2) : 합집합.\n",
    "   - (set1  & set2), set1.interxection(set2) : 교집합\n",
    "   - remove는 제거할 값이 없으면 에러발생, discard는 없어도 에러발생 x\n",
    "   - pop은 해당값을 출력후 리스트에서 제거, 제거할 값이 없으면 에러발생\n",
    "\n",
    "  - none : 공백 빈칸 속성. '해당 값이 없다, 비워둔다'의 의미\n",
    "   - def my_function(): pass 함수의 결과를 반환하지 않음.\n",
    "   - my_variable = None : 변수의 값을 반환하지 않음.\n",
    "   - 타언어에서는 `null` 로 표현이 된다.\n",
    "\n",
    " str,int,float,list,tuple,dict,set,none 이렇게 8가지의 내장 데이터 타입을 배웠다.\n",
    "\n",
    "\n",
    "## 깊은 복사 , 얕은 복사\n",
    "\n",
    " - is 와 == 의 차이\n",
    "   - == : 값을 비교함\n",
    "   - is : 주소를 비교함\n",
    "   ```python\n",
    "   a = 1000 # 단 -5~255는 주소가 같다.\n",
    "   b = 1000 # 메모리의 효율성을 위해 해당 범위의 값들은 미리 저장이 되어있어서 주소가 같다.\n",
    "   a == b #True\n",
    "   a is b #False\n",
    "   ```\n",
    "\n",
    " - 얕은 카피\n",
    "  ```python\n",
    "  r1 = [1,2,[3,4]]\n",
    "  r2 = list(r1) # r1내용으로 새로운 리스트를 만듬\n",
    "  r1 is r2 #False\n",
    "  r1[0] is r2[0] #True\n",
    "  r1[1] is r2[1] #True\n",
    "  r1[2] is r2[2] #True\n",
    "  ```\n",
    "   - 위처럼 얕은 카피를 하게되면 '3,4'는 어느 한변수에서만 변경해도 다른 변수의 값도 같이 변경이 된다.\n",
    "   해당 값의 주소는 변경되지 않고 같은 값을 공유하기 때문이다.\n",
    "   - 리스트안의 값들 또한 객체이기때문에 값의 주소를 복사한다.\n",
    "   - 리스트를 복사하면, 리스트의 주소는 새로 생성이 되지만, 안에있는 객체주소들은 그대로 복사해온다.\n",
    "\n",
    " - 깊은 카피\n",
    "  - import copy => copy.deepcopy 카피모듈의 딥카피 함수를 사용하면된다.\n",
    "  - 딥카피를 하게되면 해당 객체의 모든 주소를 새로 생성하게된다.\n",
    "  - 원본과 독립된 객체로 사용이 가능하다.\n",
    "\n",
    "## 리스트 컴프리 핸션\n",
    "리스트 컴프리 핸션 안에 (print)함수는 사용하지 않는다.\n",
    " - 리스트 컴프리 핸션 : 리스트의 값을 생성, 가공, 추출을 묶어둔 것.\n",
    " - 구조 리스트 = [표현식 + for + if]\n"
   ]
  }
 ],
 "metadata": {
  "kernelspec": {
   "display_name": "env_django",
   "language": "python",
   "name": "python3"
  },
  "language_info": {
   "codemirror_mode": {
    "name": "ipython",
    "version": 3
   },
   "file_extension": ".py",
   "mimetype": "text/x-python",
   "name": "python",
   "nbconvert_exporter": "python",
   "pygments_lexer": "ipython3",
   "version": "3.10.16"
  }
 },
 "nbformat": 4,
 "nbformat_minor": 2
}
