{
 "cells": [
  {
   "cell_type": "markdown",
   "metadata": {},
   "source": [
    "sorted - 복사본을 수정"
   ]
  },
  {
   "cell_type": "code",
   "execution_count": 1,
   "metadata": {},
   "outputs": [
    {
     "name": "stdout",
     "output_type": "stream",
     "text": [
      "[('Yoon', 33), ('Park', 29), ('Lee', 12)]\n",
      "[('Yoon', 33), ('Lee', 12), ('Park', 29)]\n"
     ]
    }
   ],
   "source": [
    "org = [('Yoon',33),('Lee',12),('Park',29)]\n",
    "\n",
    "cpy= sorted(org, key= lambda t:t[1],reverse=True)\n",
    "print(cpy)\n",
    "print(org)\n",
    "\n",
    "#원본유지.\n",
    "#구조 반환받을 변수명 =sorted(정렬할 변수명,key,revers)\n"
   ]
  }
 ],
 "metadata": {
  "kernelspec": {
   "display_name": "env_django",
   "language": "python",
   "name": "python3"
  },
  "language_info": {
   "codemirror_mode": {
    "name": "ipython",
    "version": 3
   },
   "file_extension": ".py",
   "mimetype": "text/x-python",
   "name": "python",
   "nbconvert_exporter": "python",
   "pygments_lexer": "ipython3",
   "version": "3.10.16"
  }
 },
 "nbformat": 4,
 "nbformat_minor": 2
}
