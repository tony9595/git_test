{
 "cells": [
  {
   "cell_type": "markdown",
   "metadata": {},
   "source": [
    "mutable immutable\n",
    "리스트 안의 값들에도 객체들의 주소가 할당된다.\n",
    "\n",
    "함수 사용 합연산\n",
    "리스트는 합연산이 된 값이 출력된다.\n",
    "튜플은 합연산이 되지 않은 값이 출력된다.\n",
    "\n",
    "이유는 튜플은 값이 수정되면 참조 주소가 변경된다.\n",
    "함수내에서 합연산된 튜플의 주소는 로컬 변수기때문에 함수종료와 함께 휘발된다.\n"
   ]
  },
  {
   "cell_type": "markdown",
   "metadata": {},
   "source": [
    "이터너블 이터레이터\n",
    "\n",
    "이터러블 반복 가능한 객체 __iter__ 함수가 포함되있는 함수.\n",
    "\n",
    "이터레이터 반복을 수행하는 객체 __next__ 함수가 실행 되는 함수.\n",
    "\n"
   ]
  },
  {
   "cell_type": "markdown",
   "metadata": {},
   "source": [
    "람다\n",
    "\n",
    "함수도 객체\n",
    "\n"
   ]
  },
  {
   "cell_type": "code",
   "execution_count": 22,
   "metadata": {},
   "outputs": [
    {
     "name": "stdout",
     "output_type": "stream",
     "text": [
      "7\n",
      "12\n"
     ]
    }
   ],
   "source": [
    "f = lambda i, j : i+j\n",
    "print(f(4,3))\n",
    "print((lambda i, j : i *j)(4,3))"
   ]
  }
 ],
 "metadata": {
  "kernelspec": {
   "display_name": "env_django",
   "language": "python",
   "name": "python3"
  },
  "language_info": {
   "codemirror_mode": {
    "name": "ipython",
    "version": 3
   },
   "file_extension": ".py",
   "mimetype": "text/x-python",
   "name": "python",
   "nbconvert_exporter": "python",
   "pygments_lexer": "ipython3",
   "version": "3.10.16"
  }
 },
 "nbformat": 4,
 "nbformat_minor": 2
}
