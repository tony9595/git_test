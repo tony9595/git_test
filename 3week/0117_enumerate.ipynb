{
 "cells": [
  {
   "cell_type": "markdown",
   "metadata": {},
   "source": [
    "문자열 비교와 enumerate"
   ]
  },
  {
   "cell_type": "code",
   "execution_count": 1,
   "metadata": {},
   "outputs": [
    {
     "name": "stdout",
     "output_type": "stream",
     "text": [
      "True\n",
      "True\n",
      "True\n",
      "True\n"
     ]
    }
   ],
   "source": [
    "# 문자열 비교\n",
    "# 문자열의 비교 기준은 아스키 코드다.\n",
    "# 아스키코드는 검색을 해보자\n",
    "print('A'<'Z')\n",
    "print('AA'<'AZ')\n",
    "print('AA'<'AAA')\n",
    "print('A'<'a')"
   ]
  },
  {
   "cell_type": "code",
   "execution_count": 31,
   "metadata": {},
   "outputs": [
    {
     "name": "stdout",
     "output_type": "stream",
     "text": [
      "(0, '봉')\n",
      "(1, '준')\n",
      "(2, '호')\n",
      "0 봉\n",
      "1 준\n",
      "2 호\n",
      "{1: '봉', 2: '준', 3: '호'}\n"
     ]
    }
   ],
   "source": [
    "#enumerate 함수\n",
    "\n",
    "names = ['홍길동','윤동길','방시혁','봉준호']\n",
    "\n",
    "eo = enumerate(names)\n",
    "\n",
    "for i in eo:\n",
    "    print(i)\n",
    "\n",
    "\n",
    "for i,name in enumerate(names):# 한번 생성되어서 한바퀴 다 돌았으면 다시 enumerate(names) 객체 생성 해야함\n",
    "    print(i,name)\n",
    "\n",
    "dnames = {k:v for k,v in enumerate(sorted(names),1)}\n",
    "print(dnames)\n"
   ]
  },
  {
   "cell_type": "code",
   "execution_count": 30,
   "metadata": {},
   "outputs": [
    {
     "name": "stdout",
     "output_type": "stream",
     "text": [
      "이름 : 홍길동  나이 : 22\n",
      "이름 : 최필립  나이 : 85\n",
      "3.140000\n",
      "3.14\n",
      "\n",
      "이름 : 홍길동  나이 : 22\n",
      "이름 : 최필립  나이 : 85\n",
      "\n",
      "이름 : 홍길동  나이 : 22\n",
      "이름 : 최필립  나이 : 84\n",
      "\n"
     ]
    }
   ],
   "source": [
    "# 문자열 조합.\n",
    "\n",
    "# 문자열속 변수 출력.\n",
    "# 1. 표현식 기반 문자열 조합\n",
    "# 2. 메소드 호출 기반 문자열 조합\n",
    "# 3. f-string 기반 (3.6버전부터 제공)\n",
    "\n",
    "user1 ='홍길동'\n",
    "age1 =22\n",
    "\n",
    "user2 ='최필립'\n",
    "age2 = 85\n",
    "\n",
    "# 1. 표현식 기반. 값이 2개 이상일땐 튜플로 묶는다.\n",
    "print('이름 : %s  나이 : %d'%(user1,age1)) # %s 문자열 %d 정수 %f 실수\n",
    "print('이름 : %s  나이 : %d'%(user2,age2))\n",
    "# 1-1 실수형 소수점 자리수 제어.\n",
    "print(\"%f\"%3.14) #3.140000\n",
    "print(\"%.2f\"%3.14) #3.14\n",
    "print()\n",
    "# 2. format() 메소드 기반\n",
    "print('이름 : {}  나이 : {}'.format(user1,age1))\n",
    "print('이름 : {}  나이 : {}'.format(user2,age2))\n",
    "print()\n",
    "# 3. f_string. 기반 3.6 버전부터\n",
    "print(f'이름 : {user1}  나이 : {age1}')\n",
    "print(f'이름 : {user2}  나이 : {age2 -1}')\n",
    "print()\n"
   ]
  },
  {
   "cell_type": "code",
   "execution_count": 37,
   "metadata": {},
   "outputs": [
    {
     "name": "stdout",
     "output_type": "stream",
     "text": [
      "우리 아버지 성함은 \"김아리아나타쿠야\"입니다. 연세는 54살이셔\n",
      "믿으셨나요? 사실 거짓말입니다. 김아리아나타쿠야는 52살이시거든요\n"
     ]
    }
   ],
   "source": [
    "name = '김아리아나타쿠야'\n",
    "age = 54\n",
    "#1. 표현식 기반 문자열 조합\n",
    "print('우리 아버지 성함은 \"%s\"입니다. 연세는 %d살이셔'%(name,age)) \n",
    "print(f'믿으셨나요? 사실 거짓말입니다. {name}는 {age-2}살이시거든요')"
   ]
  }
 ],
 "metadata": {
  "kernelspec": {
   "display_name": "env_django",
   "language": "python",
   "name": "python3"
  },
  "language_info": {
   "codemirror_mode": {
    "name": "ipython",
    "version": 3
   },
   "file_extension": ".py",
   "mimetype": "text/x-python",
   "name": "python",
   "nbconvert_exporter": "python",
   "pygments_lexer": "ipython3",
   "version": "3.10.16"
  }
 },
 "nbformat": 4,
 "nbformat_minor": 2
}
