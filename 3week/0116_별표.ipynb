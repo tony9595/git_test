{
 "cells": [
  {
   "cell_type": "markdown",
   "metadata": {},
   "source": [
    "`*`과`**`의 차이\n",
    "\n",
    "1. func(*iterable) : 변수를 언패킹하여 함수 파라미터에 적용\n",
    "2. func(**dict) : dict 객체를 전달하면서 을 붙여서 함수 호출할 때\n",
    "3. def func(*args) : 변수를 패킹하여 파라미터에 적용\n",
    "3. def func(**args) : 함수를 정의하면서 매개변수 **args에 붙일\n",
    "\n",
    "#func(*iterable)    iterable 객체를 전달하면서을 붙여서 함수 호출할 때\n",
    "#func(**dict)       **dict 객체를 전달하면서 을 붙여서 함수 호출할 때\n",
    "#def func(*args)    함수를 정의하면서 매개변수 *args에붙일 때\n",
    "#def func(**args)    함수를 정의하면서 매개변수 **args에 붙일 때"
   ]
  },
  {
   "cell_type": "code",
   "execution_count": 38,
   "metadata": {},
   "outputs": [
    {
     "name": "stdout",
     "output_type": "stream",
     "text": [
      "1 2 3\n",
      "1 2 3\n",
      "1 2 3\n",
      "a b c\n"
     ]
    }
   ],
   "source": [
    "# *과**의 사용규칙\n",
    "\n",
    "def who (a,b,c):\n",
    "    print(a,b,c)\n",
    "\n",
    "who(1,2,3)\n",
    "who(*[1,2,3]) # 언패킹\n",
    "who(*(1,2,3)) # 언패킹\n",
    "who(*'abc') # 언패킹\n",
    "\n",
    "\n"
   ]
  },
  {
   "cell_type": "code",
   "execution_count": 9,
   "metadata": {},
   "outputs": [
    {
     "name": "stdout",
     "output_type": "stream",
     "text": [
      "a b c\n",
      "1 2 3\n",
      "('a', 1) ('b', 2) ('c', 3)\n",
      "<class 'dict_items'>\n"
     ]
    }
   ],
   "source": [
    "# 딕셔너리 **\n",
    "def who (a,b,c):\n",
    "    print(a,b,c)\n",
    "\n",
    "d = dict(a=1,b=2,c=3)\n",
    "who(*d) # 언패킹 key 값 반환\n",
    "who(**d) # 언패킹 value 값 반환\n",
    "\n",
    "# key,value를 한꺼번에\n",
    "who(*(d.items()))\n"
   ]
  },
  {
   "cell_type": "code",
   "execution_count": 57,
   "metadata": {},
   "outputs": [
    {
     "name": "stdout",
     "output_type": "stream",
     "text": [
      "김치\n"
     ]
    },
    {
     "ename": "TypeError",
     "evalue": "who() got an unexpected keyword argument '김'",
     "output_type": "error",
     "traceback": [
      "\u001b[1;31m---------------------------------------------------------------------------\u001b[0m",
      "\u001b[1;31mTypeError\u001b[0m                                 Traceback (most recent call last)",
      "Cell \u001b[1;32mIn[57], line 7\u001b[0m\n\u001b[0;32m      5\u001b[0m d \u001b[38;5;241m=\u001b[39m \u001b[38;5;28mdict\u001b[39m(김\u001b[38;5;241m=\u001b[39m\u001b[38;5;241m1\u001b[39m,치\u001b[38;5;241m=\u001b[39m\u001b[38;5;241m2\u001b[39m)\n\u001b[0;32m      6\u001b[0m \u001b[38;5;28mprint\u001b[39m(who(\u001b[38;5;241m*\u001b[39md)) \u001b[38;5;66;03m# 언패킹 key 값 반환\u001b[39;00m\n\u001b[1;32m----> 7\u001b[0m \u001b[38;5;28mprint\u001b[39m(who(\u001b[38;5;241m*\u001b[39m\u001b[38;5;241m*\u001b[39md)) \u001b[38;5;66;03m# 언패킹 value 값 반환\u001b[39;00m\n\u001b[0;32m      9\u001b[0m \u001b[38;5;66;03m# key,value를 한꺼번에\u001b[39;00m\n\u001b[0;32m     10\u001b[0m who(\u001b[38;5;241m*\u001b[39md\u001b[38;5;241m.\u001b[39mitems())\n",
      "\u001b[1;31mTypeError\u001b[0m: who() got an unexpected keyword argument '김'"
     ]
    }
   ],
   "source": [
    "# 딕셔너리 **\n",
    "def who (a,b):\n",
    "    return a+b\n",
    "\n",
    "d = dict(a=1,b=2)\n",
    "print(who(*d)) # 언패킹 key 값 반환\n",
    "print(who(**d)) # 언패킹 value 값 반환\n",
    "\n",
    "# key,value를 한꺼번에\n",
    "who(*d.items())"
   ]
  },
  {
   "cell_type": "code",
   "execution_count": 11,
   "metadata": {},
   "outputs": [
    {
     "name": "stdout",
     "output_type": "stream",
     "text": [
      "()\n",
      "(1,)\n"
     ]
    }
   ],
   "source": [
    "# 함수 *\n",
    "\n",
    "def func(*args): # 튜플로 묶음.\n",
    "    print(args)\n",
    "\n",
    "func() # 빈튜플 나옴\n",
    "func(1) # (1,) 튜플로 반환. \n",
    "func(1,2)\n",
    "\n"
   ]
  },
  {
   "cell_type": "code",
   "execution_count": 60,
   "metadata": {},
   "outputs": [
    {
     "name": "stdout",
     "output_type": "stream",
     "text": [
      "{'a': 1}\n",
      "{'a': 1, 'b': 2, 'c': 3}\n"
     ]
    }
   ],
   "source": [
    "# 함수 **\n",
    "\n",
    "def func(**args): # 딕셔너리로 묶음\n",
    "    print(args)\n",
    "\n",
    "func(a=1) # {'a': 1}\n",
    "func(a=1,b=2,c=3) # {'a': 1, 'b': 2}\n"
   ]
  },
  {
   "cell_type": "code",
   "execution_count": 15,
   "metadata": {},
   "outputs": [
    {
     "name": "stdout",
     "output_type": "stream",
     "text": [
      "(1, 2, 3)\n",
      "{'a': 1, 'b': 2}\n"
     ]
    }
   ],
   "source": [
    "def func(*arg,**args): # def func (*arg,(<= 포지션 인자)/,*(키워드 인자 =>),**args)\n",
    "    print(arg)\n",
    "    print(args)\n",
    "\n",
    "func(1,2,3,a=1,b=2) #(1, 2, 3) \n",
    "                    #{'a': 1, 'b': 2}\n"
   ]
  },
  {
   "cell_type": "code",
   "execution_count": 58,
   "metadata": {},
   "outputs": [
    {
     "name": "stdout",
     "output_type": "stream",
     "text": [
      "28\n"
     ]
    }
   ],
   "source": [
    "def sums(*arg):\n",
    "    s= 0\n",
    "    for i in arg:\n",
    "        s += i\n",
    "    return s\n",
    "\n",
    "print(sums(1,2,3,4,5,6,7))"
   ]
  }
 ],
 "metadata": {
  "kernelspec": {
   "display_name": "env_django",
   "language": "python",
   "name": "python3"
  },
  "language_info": {
   "codemirror_mode": {
    "name": "ipython",
    "version": 3
   },
   "file_extension": ".py",
   "mimetype": "text/x-python",
   "name": "python",
   "nbconvert_exporter": "python",
   "pygments_lexer": "ipython3",
   "version": "3.10.16"
  }
 },
 "nbformat": 4,
 "nbformat_minor": 2
}
