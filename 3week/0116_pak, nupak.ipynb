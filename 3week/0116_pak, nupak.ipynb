{
 "cells": [
  {
   "cell_type": "code",
   "execution_count": 6,
   "metadata": {},
   "outputs": [
    {
     "name": "stdout",
     "output_type": "stream",
     "text": [
      "hong,32,178,010-1111-111,korea\n",
      "hong 178\n",
      "안녕\n",
      "안녕\n",
      "안녕\n",
      "안녕\n",
      "안녕\n"
     ]
    }
   ],
   "source": [
    "p = 'hong',(32,178), '010-1111-111','korea'\n",
    "\n",
    "na , (ag, hi), ph , add =p\n",
    "print(na,ag,hi,ph,add ,sep=',')\n",
    "\n",
    "na,(_,hi),_,_ = p # 필요한 정보만 추출. (원하지 않는 변수자리에는 `_`처리. 갯수, 위치는 맞춰줘야함.)\n",
    "print(na,hi) # print (*arg,/,*,sep = \"\" ,end =\"\\n\")\n",
    "\n",
    "for _ in range(5): # for 문에서 변수를 받지 않음.\n",
    "    print(\"안녕\")"
   ]
  },
  {
   "cell_type": "code",
   "execution_count": 8,
   "metadata": {},
   "outputs": [
    {
     "name": "stdout",
     "output_type": "stream",
     "text": [
      "Lee, 172\n",
      "Jung, 182\n",
      "Yoon, 179\n"
     ]
    }
   ],
   "source": [
    "ps = [['Lee',172],('Jung',182),('Yoon',179)] #리스트에 담긴 튜플\n",
    "for n,h in ps: #리스트도 언패킹이 먹힌다.\n",
    "    print(n,h, sep = ', ')"
   ]
  },
  {
   "cell_type": "markdown",
   "metadata": {},
   "source": [
    "함수를 호출할 때 *가 사용되면 이는 튜플 언패킹으로 이어진다."
   ]
  }
 ],
 "metadata": {
  "kernelspec": {
   "display_name": "env_django",
   "language": "python",
   "name": "python3"
  },
  "language_info": {
   "codemirror_mode": {
    "name": "ipython",
    "version": 3
   },
   "file_extension": ".py",
   "mimetype": "text/x-python",
   "name": "python",
   "nbconvert_exporter": "python",
   "pygments_lexer": "ipython3",
   "version": "3.10.16"
  }
 },
 "nbformat": 4,
 "nbformat_minor": 2
}
