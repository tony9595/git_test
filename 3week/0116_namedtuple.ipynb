{
 "cells": [
  {
   "cell_type": "code",
   "execution_count": null,
   "metadata": {},
   "outputs": [],
   "source": [
    "# 네임드 튜플\n",
    "\n",
    "tri_one = (12,15) \n",
    "# 밑변 12, 높이 15 라고 표시를 하지 않으면 뭐가 뭔지 모름.\n",
    "# 딕셔너리로 {'밑변' : 12 , '높이' : 15} 할 수 있다.\n"
   ]
  },
  {
   "cell_type": "code",
   "execution_count": 7,
   "metadata": {},
   "outputs": [
    {
     "name": "stdout",
     "output_type": "stream",
     "text": [
      "3 7\n",
      "3 7\n"
     ]
    }
   ],
   "source": [
    "from collections import namedtuple\n",
    "\n",
    "Tri = namedtuple('Triangle',['width','height']) # 첫글자 대문자로 작성\n",
    "# 클래스 생성과 비슷하다. / 이렇게 생성된 객체는 튜플과 비슷하다.\n",
    "\n",
    "\n",
    "t = Tri(3,7) # 네임드 튜플 객체 생성\n",
    "print(t[0],t[1]) # 일반 튜플과 동일한 방법으로 접근 가능하다.\n",
    "\n",
    "print(t.width,t.height) # 일반 튜플과 달리 이름으로도 접근 가능하다.\n",
    "\n"
   ]
  },
  {
   "cell_type": "markdown",
   "metadata": {},
   "source": [
    "네임드 튜플 = 튜플에 딕셔너리와 유사한 기능을 추가함. (key대신 변수명으로 변수값 호출 가능.)"
   ]
  },
  {
   "cell_type": "code",
   "execution_count": 8,
   "metadata": {},
   "outputs": [
    {
     "name": "stdout",
     "output_type": "stream",
     "text": [
      "12 29\n",
      "3 8\n"
     ]
    }
   ],
   "source": [
    "# 기존 튜플과 같은 동작이 가능.\n",
    "# 기존 튜플과 같이 값의 수정도 불가능.\n",
    "t = Tri(12,29)\n",
    "a, b = t\n",
    "print(a,b)\n",
    "\n",
    "def show(n1,n2):\n",
    "    print(n1,n2)\n",
    "\n",
    "t = Tri(3,8)\n",
    "show(*t)"
   ]
  },
  {
   "cell_type": "code",
   "execution_count": 8,
   "metadata": {},
   "outputs": [
    {
     "name": "stdout",
     "output_type": "stream",
     "text": [
      "10\n",
      "10\n"
     ]
    }
   ],
   "source": [
    "# 네임드 튜플 사용\n",
    "from collections import namedtuple\n",
    "\n",
    "\n",
    "Circle = namedtuple('Cir','radius') # 튜플에 이름만 생성 가능.(함수사용 불가.)\n",
    "\n",
    "circle = Circle(10)\n",
    "print(circle[0])\n",
    "print(circle.radius)\n"
   ]
  }
 ],
 "metadata": {
  "kernelspec": {
   "display_name": "env_django",
   "language": "python",
   "name": "python3"
  },
  "language_info": {
   "codemirror_mode": {
    "name": "ipython",
    "version": 3
   },
   "file_extension": ".py",
   "mimetype": "text/x-python",
   "name": "python",
   "nbconvert_exporter": "python",
   "pygments_lexer": "ipython3",
   "version": "3.10.16"
  }
 },
 "nbformat": 4,
 "nbformat_minor": 2
}
