{
 "cells": [
  {
   "cell_type": "code",
   "execution_count": 9,
   "metadata": {},
   "outputs": [
    {
     "name": "stdout",
     "output_type": "stream",
     "text": [
      "{'a': 1, 'b': 2, 'c': 3}\n",
      "<class 'dict'>\n",
      "<class 'set'>\n",
      "{'a': 1, 'b': 2, 'c': 3}\n",
      "{'a': 1, 'b': 2, 'c': 3}\n",
      "{'a': 1, 'b': 2, 'c': 3}\n",
      "{'a': 1, 'b': 2, 'c': 3}\n"
     ]
    },
    {
     "data": {
      "text/plain": [
       "True"
      ]
     },
     "execution_count": 9,
     "metadata": {},
     "output_type": "execute_result"
    }
   ],
   "source": [
    "# 딕셔너리의 생성과 zip\n",
    "\n",
    "# 딕셔너리 생성 방법들\n",
    "\n",
    "# 첫번째 생성방법\n",
    "# 주의 {} 1) 딕셔너리 2)set\n",
    "dic1 = {'a': 1 , 'b': 2 , 'c': 3} # 직접 생성\n",
    "print(dic1)\n",
    "print(type({}))\n",
    "a = {1,2,3}\n",
    "print(type(a))\n",
    "\n",
    "\n",
    "# 두번째 생성 방법\n",
    "dic2 = dict(a=1,b=2,c=3) # 형변환 함수 이용.\n",
    "print(dic2)\n",
    "\n",
    "# 세번째 생성 방법\n",
    "dic3 = dict([('a',1),('b',2),('c',3)]) # 리스트나, 튜플에 (키:벨류)형태로 형변환.\n",
    "dic4 = dict((('a',1),('b',2),('c',3)))\n",
    "print(dic3)\n",
    "print(dic4)\n",
    "\n",
    "# 네번째 생성 방법\n",
    "# zip 함수 사용\n",
    "dic5 = dict(zip (['a','b','c'],(1,2,3))) # 왼쪽은 key, 오른쪽은 value / 튜플 리스트 둘다 사용가능.\n",
    "print(dic5)\n",
    "\n",
    "dic1==dic2==dic3==dic4==dic5 # True\n"
   ]
  },
  {
   "cell_type": "markdown",
   "metadata": {},
   "source": [
    "zip은 for문에 사용할 수 있다.\n",
    "zip는 이터레이터 객체이다.\n",
    "zip 안에는 이터러블 객체가 와야한다."
   ]
  },
  {
   "cell_type": "code",
   "execution_count": 2,
   "metadata": {},
   "outputs": [
    {
     "name": "stdout",
     "output_type": "stream",
     "text": [
      "('a', 1)\n",
      "('b', 2)\n",
      "('c', 3)\n",
      "('a', 1)\n",
      "('b', 2)\n",
      "('c', 3)\n",
      "<zip object at 0x0000022018A0CF00>\n"
     ]
    }
   ],
   "source": [
    "#zip을 for 문으로 돌려보자\n",
    "\n",
    "z = zip(['a','b','c'],[1,2,3]) \n",
    "\n",
    "for i in z: # 이터러블 객체\n",
    "    print(i)\n",
    "\n",
    "z = zip('abc',[1,2,3]) \n",
    "\n",
    "for i in z: # 튜플로 반환.\n",
    "    print(i)\n",
    "print(z)"
   ]
  },
  {
   "cell_type": "markdown",
   "metadata": {},
   "source": [
    "zip을 사용해 튜플, 리스트 생성하기."
   ]
  },
  {
   "cell_type": "code",
   "execution_count": null,
   "metadata": {},
   "outputs": [],
   "source": []
  },
  {
   "cell_type": "code",
   "execution_count": 17,
   "metadata": {},
   "outputs": [
    {
     "name": "stdout",
     "output_type": "stream",
     "text": [
      "(('a', 1), ('b', 2), ('c', 3))\n",
      "[('a', 1, 'one'), ('b', 2, 'two'), ('c', 3, 'three')]\n"
     ]
    }
   ],
   "source": [
    "t = tuple(zip('abc',[1,2,3])) \n",
    "print(t) # (('a', 1), ('b', 2), ('c', 3))\n",
    "\n",
    "t = list(zip('abc',[1,2,3],['one','two','three'])) \n",
    "print(t) # [('a', 1, 'one'), ('b', 2, 'two'), ('c', 3, 'three')]"
   ]
  }
 ],
 "metadata": {
  "kernelspec": {
   "display_name": "env_django",
   "language": "python",
   "name": "python3"
  },
  "language_info": {
   "codemirror_mode": {
    "name": "ipython",
    "version": 3
   },
   "file_extension": ".py",
   "mimetype": "text/x-python",
   "name": "python",
   "nbconvert_exporter": "python",
   "pygments_lexer": "ipython3",
   "version": "3.10.16"
  }
 },
 "nbformat": 4,
 "nbformat_minor": 2
}
