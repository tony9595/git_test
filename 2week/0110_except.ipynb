{
 "cells": [
  {
   "cell_type": "code",
   "execution_count": 11,
   "metadata": {},
   "outputs": [],
   "source": [
    "#예외처리에 대한 이해\n",
    "# 1. 파이썬에서 기본적인 예외상황에 대한 처리는 \n",
    "# 예외가 발생하는 지점에서 죽는다.\n",
    "# 죽은 이유 즉 에러객체를 발생시켜준다.\n",
    "\n",
    "lst = [1,2,3]\n",
    "\n",
    "# 에러가 발생하는 상황\n",
    "# lst[3]  IndexError: list index out of range -> 거기에 아무것도 없던데?"
   ]
  },
  {
   "cell_type": "code",
   "execution_count": 15,
   "metadata": {},
   "outputs": [
    {
     "ename": "TypeError",
     "evalue": "unsupported operand type(s) for +: 'int' and 'str'",
     "output_type": "error",
     "traceback": [
      "\u001b[1;31m---------------------------------------------------------------------------\u001b[0m",
      "\u001b[1;31mTypeError\u001b[0m                                 Traceback (most recent call last)",
      "Cell \u001b[1;32mIn[15], line 1\u001b[0m\n\u001b[1;32m----> 1\u001b[0m \u001b[38;5;241;43m3\u001b[39;49m\u001b[43m \u001b[49m\u001b[38;5;241;43m+\u001b[39;49m\u001b[43m \u001b[49m\u001b[38;5;124;43m\"\u001b[39;49m\u001b[38;5;124;43mcoffee\u001b[39;49m\u001b[38;5;124;43m\"\u001b[39;49m\n",
      "\u001b[1;31mTypeError\u001b[0m: unsupported operand type(s) for +: 'int' and 'str'"
     ]
    }
   ],
   "source": [
    "# 타입 오류\n",
    "3 + \"coffee\""
   ]
  },
  {
   "cell_type": "code",
   "execution_count": 13,
   "metadata": {},
   "outputs": [
    {
     "ename": "ZeroDivisionError",
     "evalue": "division by zero",
     "output_type": "error",
     "traceback": [
      "\u001b[1;31m---------------------------------------------------------------------------\u001b[0m",
      "\u001b[1;31mZeroDivisionError\u001b[0m                         Traceback (most recent call last)",
      "Cell \u001b[1;32mIn[13], line 2\u001b[0m\n\u001b[0;32m      1\u001b[0m \u001b[38;5;66;03m#0으로 나눌수 없다\u001b[39;00m\n\u001b[1;32m----> 2\u001b[0m \u001b[38;5;241;43m3\u001b[39;49m\u001b[38;5;241;43m/\u001b[39;49m\u001b[38;5;241;43m0\u001b[39;49m\n\u001b[0;32m      4\u001b[0m \u001b[38;5;28mint\u001b[39m(\u001b[38;5;124m\"\u001b[39m\u001b[38;5;124m김\u001b[39m\u001b[38;5;124m\"\u001b[39m)\n",
      "\u001b[1;31mZeroDivisionError\u001b[0m: division by zero"
     ]
    }
   ],
   "source": [
    "#0으로 나눌수 없다\n",
    "3/0"
   ]
  },
  {
   "cell_type": "code",
   "execution_count": 14,
   "metadata": {},
   "outputs": [
    {
     "ename": "ValueError",
     "evalue": "invalid literal for int() with base 10: '김'",
     "output_type": "error",
     "traceback": [
      "\u001b[1;31m---------------------------------------------------------------------------\u001b[0m",
      "\u001b[1;31mValueError\u001b[0m                                Traceback (most recent call last)",
      "Cell \u001b[1;32mIn[14], line 1\u001b[0m\n\u001b[1;32m----> 1\u001b[0m \u001b[38;5;28;43mint\u001b[39;49m\u001b[43m(\u001b[49m\u001b[38;5;124;43m\"\u001b[39;49m\u001b[38;5;124;43m김\u001b[39;49m\u001b[38;5;124;43m\"\u001b[39;49m\u001b[43m)\u001b[49m\n",
      "\u001b[1;31mValueError\u001b[0m: invalid literal for int() with base 10: '김'"
     ]
    }
   ],
   "source": [
    "# 형변환 오류\n",
    "int(\"김\")"
   ]
  },
  {
   "cell_type": "code",
   "execution_count": 17,
   "metadata": {},
   "outputs": [
    {
     "name": "stdout",
     "output_type": "stream",
     "text": [
      "입력이 잘못되었습니다 0\n",
      "입력이 잘못되었습니다 1\n",
      "입력이 잘못되었습니다 2\n",
      "입력이 잘못되었습니다 3\n",
      "입력이 잘못되었습니다 4\n",
      "탈출!\n",
      "만나서 반가웠습니다.\n"
     ]
    }
   ],
   "source": [
    "# try ~ except 처리 (예외처리 구문)\n",
    "# 예외처리 목적 = 프로그램 안죽게 하기 위해서\n",
    "\n",
    "# 예외처리 구문 집어 넣는 위치 정해져 있지 않고\n",
    "# 예외가 발생될거라 예상되는 어디든 넣을 수 있음\n",
    "num = 1\n",
    "while True:\n",
    "    try:\n",
    "        age = input(\"나이 입력\")\n",
    "        print(int(age))\n",
    "        break\n",
    "    except ValueError:\n",
    "        if num < 5:\n",
    "            print(\"입력이 잘못되었습니다\",num)\n",
    "            num += 1\n",
    "        elif num == 5:\n",
    "            print(\"탈출!\")\n",
    "            break\n",
    "\n",
    "\n",
    "\n",
    "print(\"만나서 반가웠습니다.\")\n",
    "\n"
   ]
  },
  {
   "cell_type": "code",
   "execution_count": null,
   "metadata": {},
   "outputs": [
    {
     "name": "stdout",
     "output_type": "stream",
     "text": [
      "0으로는 나눌 수 없습니다.\n",
      "division by zero\n",
      "사실 안 나눠줄꺼임\n"
     ]
    }
   ],
   "source": [
    "# 둘 이상의 예외를 처리\n",
    "\n",
    "def main():\n",
    "    bread = 10\n",
    "    try:\n",
    "        people = int(input(\"몇명\"))\n",
    "        print(\"1인당 빵의 수:\",bread/people)\n",
    "        print(\"맛있게 드세요.\")\n",
    "    except ValueError as msg:\n",
    "        print(\"입력이 잘못되었습니다.\")\n",
    "        print(msg) # 오류 메세지 출력\n",
    "    except ZeroDivisionError as msg:\n",
    "        print(\"0으로는 나눌 수 없습니다.\")\n",
    "        print(msg)\n",
    "\n",
    "    finally:\n",
    "        print(\"좋은 하루 보내세요\")\n",
    "main()"
   ]
  },
  {
   "cell_type": "code",
   "execution_count": null,
   "metadata": {},
   "outputs": [],
   "source": [
    "#finally\n",
    "#무조건 실행되는 구문이다.\n",
    "\n",
    "def main():\n",
    "    bread = 10\n",
    "    try:\n",
    "        people = int(input(\"몇명\"))\n",
    "        print(\"1인당 빵의 수:\",bread/people)\n",
    "        print(\"맛있게 드세요.\")\n",
    "    except: #오류 객체를 작성하지 않으면 모든 오류에 대응.\n",
    "        print(\"오류 발생\")\n",
    "\n",
    "    finally: #무조건 실행되는 구문\n",
    "        print(\"좋은 하루 보내세요\")\n",
    "main()"
   ]
  }
 ],
 "metadata": {
  "kernelspec": {
   "display_name": "env_django",
   "language": "python",
   "name": "python3"
  },
  "language_info": {
   "codemirror_mode": {
    "name": "ipython",
    "version": 3
   },
   "file_extension": ".py",
   "mimetype": "text/x-python",
   "name": "python",
   "nbconvert_exporter": "python",
   "pygments_lexer": "ipython3",
   "version": "3.10.16"
  }
 },
 "nbformat": 4,
 "nbformat_minor": 2
}
