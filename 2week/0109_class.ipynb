{
 "cells": [
  {
   "cell_type": "code",
   "execution_count": 29,
   "metadata": {},
   "outputs": [
    {
     "name": "stdout",
     "output_type": "stream",
     "text": [
      "<class '__main__.AgeInfo'>\n",
      "현재 아빠 나이 : 39\n",
      "내년 아빠 나이 : 40\n",
      "현재 엄마 나이 : 35\n",
      "내년 엄마 나이 : 36\n",
      "현재 누나 나이 : 25\n",
      "내년 누나 나이 : 26\n",
      "===== 40\n"
     ]
    }
   ],
   "source": [
    "#클래스 만들어보기\n",
    "\n",
    "class AgeInfo: #클래스 이름은 camel case\n",
    "\n",
    "    def up_age(self):\n",
    "        self.age +=1\n",
    "\n",
    "    def get_age(self):\n",
    "        return self.age\n",
    "\n",
    "fa = AgeInfo() # AgeInfo : 클래스명 + ()함수 = AgeInfo() = (객체 = 인스턴스) 생성자 함수\n",
    "print(type(fa)) # <class '__main__.AgeInfo'>\n",
    "\n",
    "fa.age = 39 # self로 접근할 수 있는 변수를 인스턴스 변수라고 한다.\n",
    "\n",
    "print(\"현재 아빠 나이 :\" , fa.get_age())\n",
    "print(\"=====\", AgeInfo.get_age(fa)) # 클래스 직접 호출이 가능하다.\n",
    "\n",
    "fa.up_age()\n",
    "print(\"내년 아빠 나이 :\", fa.get_age())\n",
    "\n",
    "\n",
    "mo = AgeInfo() # mo 객체 생성\n",
    "mo.age = 35\n",
    "print(\"현재 엄마 나이 :\" , mo.get_age())\n",
    "mo.up_age()\n",
    "print(\"내년 엄마 나이 :\", mo.get_age())\n",
    "\n",
    "# sister 의 나이가 25 살이다\n",
    "# 객체 생성후 현재나이와 내년의 나이를 출력하시오\n",
    "\n",
    "sister= AgeInfo() # mo 객체 생성\n",
    "sister.age = 25\n",
    "print(\"현재 누나 나이 :\" , sister.get_age())\n",
    "sister.up_age()\n",
    "print(\"내년 누나 나이 :\", sister.get_age())\n",
    "\n",
    "\n"
   ]
  },
  {
   "cell_type": "code",
   "execution_count": 44,
   "metadata": {},
   "outputs": [
    {
     "name": "stdout",
     "output_type": "stream",
     "text": [
      "40\n",
      "22\n",
      "22\n",
      "1980.10.10\n",
      "None\n"
     ]
    }
   ],
   "source": [
    "class AgeInfo: #클래스 이름은 camel case\n",
    "\n",
    "    def up_age(self):\n",
    "        self.age +=1\n",
    "\n",
    "    def get_age(self):\n",
    "        return self.age\n",
    "    \n",
    "    def get_birth(self):\n",
    "        print(self.birth)\n",
    "    \n",
    "    def set_age(self,age):\n",
    "        self.age = age\n",
    "\n",
    "#print( 변수.get_birth()) => 2000 . 10 .10\n",
    "\n",
    "\n",
    "def main():\n",
    "    sis = AgeInfo()\n",
    "    fa = AgeInfo()\n",
    "    fa.set_age(40)\n",
    "    print(fa.get_age())\n",
    "\n",
    "    sis.age = 20\n",
    "    fa.birth = \"1980.10.10\"\n",
    "    sis.up_age()\n",
    "    AgeInfo.up_age(sis)\n",
    "    print(sis.get_age())\n",
    "    print(AgeInfo.get_age(sis))\n",
    "    print(fa.get_birth())\n",
    "\n",
    "main()"
   ]
  },
  {
   "cell_type": "markdown",
   "metadata": {},
   "source": [
    "인터프리터언어 한줄한줄 작성과 실행이 동시에 되는 언어\n",
    "\n",
    "클래스 자체도 메모리로 올라가기 때문에 = 클래스 자체도 객체임.\n",
    "\n",
    "메모리에 올라간 클래스의 이름은 우리가 설정해둔 클래스의 이름으로 올라간다.\n",
    "\n",
    "A클래스로 생성된 객체(a,b,c)들은 A클래스 메서드를 참조(공유)하게 된다.\n",
    "a.변수(데이터)명 = 값\n",
    "선언을 하게되면 선언된 변수와 값은 클래스와 무관하게 객체에 저장된다.\n",
    "딕셔너리에 값을 수정, 추가하는 과정과 유사하다.\n",
    "\n",
    "class A:\n",
    "    def one(self):\n",
    "        print(self.name,(\"hi\"))\n",
    "\n",
    "a.A클래스_메서드() [클래스 메서드 호출]->\n",
    " \n",
    " a에는 함수가 없다. ->\n",
    "\n",
    "A클래스로 이동한다. ->\n",
    "\n",
    "self 값에 호출한 객체명이 들어간다. ->\n",
    "\n",
    "호출한 클래스의 메서드가 출력이 된다.\n",
    "\n",
    "클래스도 하나의 객체이기 때문에 직접 호출이 가능하다.\n"
   ]
  },
  {
   "cell_type": "code",
   "execution_count": 23,
   "metadata": {},
   "outputs": [
    {
     "name": "stdout",
     "output_type": "stream",
     "text": [
      "홍길동 hi\n"
     ]
    }
   ],
   "source": [
    "class A:\n",
    "    def greet(self): # self => 호출한 객체명\n",
    "        print(self.name, \"hi\") # self.name => a.name\n",
    "        \n",
    "a = A()\n",
    "a.name = \"홍길동\"\n",
    "a.greet()"
   ]
  },
  {
   "cell_type": "code",
   "execution_count": 20,
   "metadata": {},
   "outputs": [
    {
     "name": "stdout",
     "output_type": "stream",
     "text": [
      "asdf님의 올해 나이는 :11살 입니다.\n"
     ]
    }
   ],
   "source": [
    "class AgeInfo: #클래스 이름은 camel case\n",
    "\n",
    "    def up_age(self):\n",
    "        self.age +=1\n",
    "\n",
    "    def get_age(self):\n",
    "        return self.age\n",
    "    \n",
    "    def set_age(self,age):\n",
    "        self.age = age\n",
    "    \n",
    "\n",
    "name = str(input(\"이름을 입력해주세요 : \"))\n",
    "my_age = int(input(\"나이를 입력해주세요 :\"))\n",
    "\n",
    "def main(a, b):\n",
    "    name = AgeInfo()\n",
    "    name.age = int(my_age)\n",
    "    print(str(a)+f\"님의 올해 나이는 :{name.get_age()}살 입니다.\")\n",
    "\n",
    "main(name,my_age)\n"
   ]
  },
  {
   "cell_type": "code",
   "execution_count": 14,
   "metadata": {},
   "outputs": [
    {
     "name": "stdout",
     "output_type": "stream",
     "text": [
      "홍길동\n"
     ]
    }
   ],
   "source": [
    "class NameInfo:\n",
    "\n",
    "    def get_name(self):\n",
    "        return self.name\n",
    "    \n",
    "my_name = NameInfo()\n",
    "my_name.name = \"홍길동\"\n",
    "print(my_name.get_name())\n",
    "\n",
    "#인터프린터 언어의 특징\n",
    "#딕셔너리에 값 추가를 할때와 유사한 원리\n",
    "#추가한 변수의 변수명이 없으면 추가, 변수명이 있으면 값을 덮어씌워준다.\n"
   ]
  },
  {
   "cell_type": "code",
   "execution_count": 38,
   "metadata": {},
   "outputs": [
    {
     "name": "stdout",
     "output_type": "stream",
     "text": [
      "9\n",
      "-3\n",
      "18\n",
      "0.5\n"
     ]
    }
   ],
   "source": [
    "#계산기\n",
    "class Calcullator:\n",
    "\n",
    "    def add(self,num1,num2):\n",
    "        return num1 + num2\n",
    "    \n",
    "    def sub(self,num1,num2):\n",
    "        return num1 - num2\n",
    "    \n",
    "    def mul(self,num1,num2):\n",
    "        return num1 * num2\n",
    "    \n",
    "    def div(self,num1,num2):\n",
    "        return num1 / num2\n",
    "\n",
    "cal = Calcullator() #객체생성\n",
    "\n",
    "result = cal.add(3,6)\n",
    "print(result)\n",
    "print(cal.sub(3,6))\n",
    "print(cal.mul(3,6))\n",
    "print(cal.div(3,6))"
   ]
  },
  {
   "cell_type": "code",
   "execution_count": 43,
   "metadata": {},
   "outputs": [
    {
     "name": "stdout",
     "output_type": "stream",
     "text": [
      "10\n",
      "최형길\n"
     ]
    }
   ],
   "source": [
    "class Calcullator2:\n",
    "\n",
    "    def add(self):\n",
    "        return self.num1 + self.num1\n",
    "    \n",
    "    def sub(self):\n",
    "        return self.num1 - self.num1\n",
    "    \n",
    "    def mul(self):\n",
    "        return self.num1 * self.num1\n",
    "    \n",
    "    def div(self):\n",
    "        return self.num1 / self.num1\n",
    "\n",
    "a = Calcullator2() # 객체 생성\n",
    "a.num1 = 5 #변수 동적 생성\n",
    "a.num2 = 3\n",
    "a.name =\"최형길\"\n",
    "result = a.add()\n",
    "print(result)\n",
    "print(a.name)"
   ]
  },
  {
   "cell_type": "code",
   "execution_count": 56,
   "metadata": {},
   "outputs": [
    {
     "name": "stdout",
     "output_type": "stream",
     "text": [
      "['__abs__', '__add__', '__and__', '__bool__', '__ceil__', '__class__', '__delattr__', '__dir__', '__divmod__', '__doc__', '__eq__', '__float__', '__floor__', '__floordiv__', '__format__', '__ge__', '__getattribute__', '__getnewargs__', '__gt__', '__hash__', '__index__', '__init__', '__init_subclass__', '__int__', '__invert__', '__le__', '__lshift__', '__lt__', '__mod__', '__mul__', '__ne__', '__neg__', '__new__', '__or__', '__pos__', '__pow__', '__radd__', '__rand__', '__rdivmod__', '__reduce__', '__reduce_ex__', '__repr__', '__rfloordiv__', '__rlshift__', '__rmod__', '__rmul__', '__ror__', '__round__', '__rpow__', '__rrshift__', '__rshift__', '__rsub__', '__rtruediv__', '__rxor__', '__setattr__', '__sizeof__', '__str__', '__sub__', '__subclasshook__', '__truediv__', '__trunc__', '__xor__', 'as_integer_ratio', 'bit_count', 'bit_length', 'conjugate', 'denominator', 'from_bytes', 'imag', 'numerator', 'real', 'to_bytes']\n",
      "['__add__', '__class__', '__contains__', '__delattr__', '__dir__', '__doc__', '__eq__', '__format__', '__ge__', '__getattribute__', '__getitem__', '__getnewargs__', '__gt__', '__hash__', '__init__', '__init_subclass__', '__iter__', '__le__', '__len__', '__lt__', '__mod__', '__mul__', '__ne__', '__new__', '__reduce__', '__reduce_ex__', '__repr__', '__rmod__', '__rmul__', '__setattr__', '__sizeof__', '__str__', '__subclasshook__', 'capitalize', 'casefold', 'center', 'count', 'encode', 'endswith', 'expandtabs', 'find', 'format', 'format_map', 'index', 'isalnum', 'isalpha', 'isascii', 'isdecimal', 'isdigit', 'isidentifier', 'islower', 'isnumeric', 'isprintable', 'isspace', 'istitle', 'isupper', 'join', 'ljust', 'lower', 'lstrip', 'maketrans', 'partition', 'removeprefix', 'removesuffix', 'replace', 'rfind', 'rindex', 'rjust', 'rpartition', 'rsplit', 'rstrip', 'split', 'splitlines', 'startswith', 'strip', 'swapcase', 'title', 'translate', 'upper', 'zfill']\n",
      "기아 red 생성\n",
      "현대 blue 생성\n",
      "삼성 red 생성\n",
      "대우\n"
     ]
    },
    {
     "data": {
      "text/plain": [
       "<__main__.Car at 0x2c4f6a9e500>"
      ]
     },
     "execution_count": 56,
     "metadata": {},
     "output_type": "execute_result"
    }
   ],
   "source": [
    "#스페셜 함수\n",
    "\n",
    "a = 1\n",
    "print(dir(a)) # 숫자형일때 가지고 있는 스페셜 함수\n",
    "a = \"문자열\"\n",
    "print(dir(a)) # 문자열일때 가지고 있는 스페셜 함수\n",
    "\n",
    "#생성자 함수의 이해 및 활용\n",
    "\n",
    "# 스페셜 함수 : __~~__ -> 약속된 상황에 호출되는 함수\n",
    "\n",
    "class Car:\n",
    "    def __init__(self, brand, color): # 생성자 함수, 인스턴스 변수 초기화\n",
    "        self.brand = brand\n",
    "        self.color = color\n",
    "        print(self.brand, self.color,\"생성\")\n",
    "\n",
    "    def get_brand(self):\n",
    "        return self.brand\n",
    "    \n",
    "    def set_brand(self,brand):\n",
    "        self.brand = brand\n",
    "\n",
    "    \n",
    "car = Car('기아','red') # Car 생성자 함수\n",
    "car2 = Car('현대','blue')\n",
    "car3 = Car('삼성','red')\n",
    "\n",
    "car.set_brand(\"대우\")\n",
    "print(car.get_brand())\n"
   ]
  },
  {
   "cell_type": "code",
   "execution_count": 70,
   "metadata": {},
   "outputs": [
    {
     "name": "stdout",
     "output_type": "stream",
     "text": [
      "100\n",
      "33.33\n",
      "가입니다.\n"
     ]
    }
   ],
   "source": [
    "#3수 국영수를 입력받아, 평균 총점 성적\n",
    "\n",
    "class Sc:\n",
    "    def __init__(self,kor,eng,mat):\n",
    "        self.kor = kor\n",
    "        self.eng = eng\n",
    "        self.mat = mat\n",
    "\n",
    "    def get_total(self):\n",
    "        return self.kor +self.eng +self.mat\n",
    "    \n",
    "    def get_avg(self):\n",
    "        return round(self.get_total() /3,2)\n",
    "        \n",
    "    def get_grd(self):\n",
    "\n",
    "        result = \"가입니다.\"\n",
    "\n",
    "        if self.get_avg() >100:\n",
    "            return \"미치셨습니까?\"\n",
    "        elif self.get_avg()  >= 90:\n",
    "            return\"수입니다.\"\n",
    "        elif self.get_avg()  >= 80:\n",
    "            return\"우입니다.\"\n",
    "        elif self.get_avg()  >= 70:\n",
    "            return\"미입니다.\"\n",
    "        elif self.get_avg()  >= 60:\n",
    "            return\"양입니다.\"\n",
    "        elif self.get_avg()  < 10:\n",
    "            return\"종이가 아깝습니다.\"\n",
    "        return result\n",
    "\n",
    "\n",
    "jon = Sc(30,20,50)\n",
    "\n",
    "print(jon.get_total())\n",
    "print(jon.get_avg())\n",
    "print(jon.get_grd())\n"
   ]
  },
  {
   "cell_type": "code",
   "execution_count": 76,
   "metadata": {},
   "outputs": [
    {
     "name": "stdout",
     "output_type": "stream",
     "text": [
      "총점 :  270\n",
      "평균 :  90.0\n",
      "총점 :  수\n"
     ]
    }
   ],
   "source": [
    "#강사님 코드\n",
    "class Grade:\n",
    "\n",
    "    def __init__(self,kor,eng,math):\n",
    "        self.kor = kor\n",
    "        self.eng = eng\n",
    "        self.math = math\n",
    "\n",
    "    def get_total(self):\n",
    "        return self.kor + self.eng + self.math\n",
    "\n",
    "    def get_avg(self):\n",
    "        return self.get_total() / 3\n",
    "\n",
    "    def get_grade(self):\n",
    "\n",
    "        avg = self.get_avg()\n",
    "\n",
    "        grade = \"가\"\n",
    "\n",
    "        if avg >= 90:\n",
    "            grade = '수'\n",
    "        elif avg >= 80:\n",
    "            grade = '우'\n",
    "        elif avg >= 70:\n",
    "            grade = '미'\n",
    "        elif avg >= 60:\n",
    "            grade = '양'\n",
    "        else:\n",
    "            grade ='가'\n",
    "\n",
    "        return grade\n",
    "    \n",
    "def main():\n",
    "    a = int(input(\"국어 점수 입력 :\"))\n",
    "    b = int(input(\"영어 점수 입력 :\"))\n",
    "    c = int(input(\"수학 점수 입력 :\"))\n",
    "\n",
    "    grade = Grade(a,b,c)\n",
    "\n",
    "    print(\"총점 : \", grade.get_total())\n",
    "    print(\"평균 : \", grade.get_avg())\n",
    "    print(\"총점 : \", grade.get_grade())\n",
    "\n",
    "main()"
   ]
  }
 ],
 "metadata": {
  "kernelspec": {
   "display_name": "env_django",
   "language": "python",
   "name": "python3"
  },
  "language_info": {
   "codemirror_mode": {
    "name": "ipython",
    "version": 3
   },
   "file_extension": ".py",
   "mimetype": "text/x-python",
   "name": "python",
   "nbconvert_exporter": "python",
   "pygments_lexer": "ipython3",
   "version": "3.10.16"
  }
 },
 "nbformat": 4,
 "nbformat_minor": 2
}
