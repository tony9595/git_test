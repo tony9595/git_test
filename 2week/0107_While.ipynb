{
 "cells": [
  {
   "cell_type": "code",
   "execution_count": 17,
   "metadata": {},
   "outputs": [
    {
     "name": "stdout",
     "output_type": "stream",
     "text": [
      "sum = 55"
     ]
    }
   ],
   "source": [
    "#While문 \n",
    "#1~10까지 더해주는 반복문\n",
    "def main():\n",
    "    sum = 0\n",
    "    for i in range(1,11):\n",
    "        sum = sum + i\n",
    "    print(\"sum =\",sum,end='')\n",
    "\n",
    "main()\n",
    "\n"
   ]
  },
  {
   "cell_type": "code",
   "execution_count": 13,
   "metadata": {},
   "outputs": [
    {
     "name": "stdout",
     "output_type": "stream",
     "text": [
      "0 1 2 \n",
      "hello world\n",
      "hello world\n",
      "hello world\n",
      "hello world\n",
      "hello world\n"
     ]
    }
   ],
   "source": [
    "#while 반복\n",
    "\n",
    "def main():\n",
    "    cnt = 0\n",
    "    while cnt < 3: #cnt가 3보다 작은경우 반복된다.\n",
    "        print(cnt,end=' ')\n",
    "        cnt += 1 # 반복될때마다 cnt에 1을 더해준다.(증감 카운터)\n",
    "\n",
    "main()\n",
    "print()\n",
    "#문제\n",
    "#hello world 5번 출력\n",
    "def hello(num):\n",
    "    cnt = 0\n",
    "    while cnt < int(num): #cnt가 3보다 작은경우 반복된다.\n",
    "        print('hello world')\n",
    "        cnt += 1 # 반복될때마다 cnt에 1을 더해준다.(증감 카운터)\n",
    "\n",
    "hello(5)"
   ]
  },
  {
   "cell_type": "code",
   "execution_count": 18,
   "metadata": {},
   "outputs": [
    {
     "name": "stdout",
     "output_type": "stream",
     "text": [
      "sum = 55"
     ]
    }
   ],
   "source": [
    "\n",
    "#문제 2 \n",
    "# #1~10까지 더해주는 반복문\n",
    "\n",
    "def main():\n",
    "    i = 1\n",
    "    sum = 0\n",
    "    while i < 11:\n",
    "        sum += i\n",
    "        i += 1\n",
    "    print(\"sum =\",sum,end='')\n",
    "main()"
   ]
  },
  {
   "cell_type": "code",
   "execution_count": 20,
   "metadata": {},
   "outputs": [
    {
     "name": "stdout",
     "output_type": "stream",
     "text": [
      "0 1 2 3 4 5 6 7 8 9 10 11 12 13 14 15 16 17 18 19 "
     ]
    }
   ],
   "source": [
    "#break\n",
    "def main():\n",
    "    i = 0\n",
    "    while i < 100:\n",
    "        print(i,end=' ') #i = 19\n",
    "        i = i + 1 # 19 +1\n",
    "\n",
    "        if i == 20: # i = 20 break.\n",
    "            break\n",
    "    \n",
    "main() #~19"
   ]
  },
  {
   "cell_type": "code",
   "execution_count": 27,
   "metadata": {},
   "outputs": [
    {
     "name": "stdout",
     "output_type": "stream",
     "text": [
      "14 더했을때의 합 105 14\n"
     ]
    }
   ],
   "source": [
    "#while true사용\n",
    "'''\n",
    "while True:\n",
    "    print(\"hello world\")\n",
    "무한루프    \n",
    "'''\n",
    "i = 0\n",
    "sum = 0\n",
    "\n",
    "\n",
    "while True:\n",
    "    sum += i\n",
    "\n",
    "    if sum > 100: # sum의 전체 합이 100보다 클때 멈춤\n",
    "        print(i,\"더했을때의 합\",sum, end=' ')\n",
    "        break\n",
    "    \n",
    "    i += 1\n"
   ]
  },
  {
   "cell_type": "code",
   "execution_count": 37,
   "metadata": {},
   "outputs": [
    {
     "name": "stdout",
     "output_type": "stream",
     "text": [
      "2 4 6 8 10 "
     ]
    }
   ],
   "source": [
    "#continue 사용\n",
    "for i in range(11):\n",
    "\n",
    "    if i % 2 == 1 or i == 0:\n",
    "        continue # break후 반복문 재시작.\n",
    "\n",
    "    print(i,end= ' ')"
   ]
  },
  {
   "cell_type": "code",
   "execution_count": 52,
   "metadata": {},
   "outputs": [
    {
     "name": "stdout",
     "output_type": "stream",
     "text": [
      "2 * 1 = 2\n",
      "2 * 2 = 4\n",
      "2 * 3 = 6\n",
      "2 * 4 = 8\n",
      "2 * 5 = 10\n",
      "2 * 6 = 12\n",
      "2 * 7 = 14\n",
      "2 * 8 = 16\n",
      "2 * 9 = 18\n",
      "4 * 1 = 4\n",
      "4 * 2 = 8\n",
      "4 * 3 = 12\n",
      "4 * 4 = 16\n",
      "4 * 5 = 20\n",
      "4 * 6 = 24\n",
      "4 * 7 = 28\n",
      "4 * 8 = 32\n",
      "4 * 9 = 36\n",
      "6 * 1 = 6\n",
      "6 * 2 = 12\n",
      "6 * 3 = 18\n",
      "6 * 4 = 24\n",
      "6 * 5 = 30\n",
      "6 * 6 = 36\n",
      "6 * 7 = 42\n",
      "6 * 8 = 48\n",
      "6 * 9 = 54\n",
      "8 * 1 = 8\n",
      "8 * 2 = 16\n",
      "8 * 3 = 24\n",
      "8 * 4 = 32\n",
      "8 * 5 = 40\n",
      "8 * 6 = 48\n",
      "8 * 7 = 56\n",
      "8 * 8 = 64\n",
      "8 * 9 = 72\n"
     ]
    }
   ],
   "source": [
    "#문제\n",
    "#구구단 출력시 짝수단만 출력하시오.\n",
    "\n",
    "for i in range(1,10):\n",
    "\n",
    "    if i %2 == 1: # i 가 홀수일때 continue\n",
    "     continue\n",
    "\n",
    "    for j in range(1,10):\n",
    "        print(i, \"*\", j ,'=',(i*j))\n",
    "print()"
   ]
  },
  {
   "cell_type": "code",
   "execution_count": 2,
   "metadata": {},
   "outputs": [
    {
     "name": "stdout",
     "output_type": "stream",
     "text": [
      "3 * 1 = 3\n",
      "3 * 2 = 6\n",
      "3 * 3 = 9\n",
      "3 * 4 = 12\n",
      "3 * 5 = 15\n",
      "3 * 6 = 18\n",
      "3 * 7 = 21\n",
      "3 * 8 = 24\n",
      "3 * 9 = 27\n",
      "\n",
      "6 * 1 = 6\n",
      "6 * 2 = 12\n",
      "6 * 3 = 18\n",
      "6 * 4 = 24\n",
      "6 * 5 = 30\n",
      "6 * 6 = 36\n",
      "6 * 7 = 42\n",
      "6 * 8 = 48\n",
      "6 * 9 = 54\n",
      "\n",
      "9 * 1 = 9\n",
      "9 * 2 = 18\n",
      "9 * 3 = 27\n",
      "9 * 4 = 36\n",
      "9 * 5 = 45\n",
      "9 * 6 = 54\n",
      "9 * 7 = 63\n",
      "9 * 8 = 72\n",
      "9 * 9 = 81\n",
      "\n"
     ]
    }
   ],
   "source": [
    "#문제\n",
    "#구구단 출력시 3의 배수단만 출력하시오.\n",
    "for i in range(1,10):\n",
    "\n",
    "    if i %3 != 0:\n",
    "        continue\n",
    "\n",
    "    for j in range(1,10):\n",
    "        print(i, \"*\", j ,'=',(i*j))\n",
    "    \n",
    "    print()"
   ]
  },
  {
   "cell_type": "code",
   "execution_count": 1,
   "metadata": {},
   "outputs": [
    {
     "name": "stdout",
     "output_type": "stream",
     "text": [
      "77 "
     ]
    }
   ],
   "source": [
    "#7의 배수이자 11의 배수의 첫번째 숫자는?\n",
    "\n",
    "i = 7 # 두 배수의 최솟값인 7을 기본값으로 지정, \n",
    "      # 0을 기본값으로 두면 원하는 답이 안나옴\n",
    "\n",
    "while True: # 만약 범위를 모를땐 조건을 true로 둠\n",
    "    if (i%7) == 0 and (i%11) == 0: # and 연산자 사용.\n",
    "        print(i, end=' ')\n",
    "        break\n",
    "    i += 1\n",
    "    \n",
    "\n"
   ]
  }
 ],
 "metadata": {
  "kernelspec": {
   "display_name": "env_django",
   "language": "python",
   "name": "python3"
  },
  "language_info": {
   "codemirror_mode": {
    "name": "ipython",
    "version": 3
   },
   "file_extension": ".py",
   "mimetype": "text/x-python",
   "name": "python",
   "nbconvert_exporter": "python",
   "pygments_lexer": "ipython3",
   "version": "3.10.16"
  }
 },
 "nbformat": 4,
 "nbformat_minor": 2
}
