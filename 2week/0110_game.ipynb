{
 "cells": [
  {
   "cell_type": "markdown",
   "metadata": {},
   "source": [
    "1. 로또\n",
    "2. 가위바위보\n",
    "3. 업다운 "
   ]
  },
  {
   "cell_type": "code",
   "execution_count": 25,
   "metadata": {},
   "outputs": [
    {
     "name": "stdout",
     "output_type": "stream",
     "text": [
      "0.10337688548602109\n",
      "1\n",
      "5\n",
      "[4, 3, 1, 5, 2]\n"
     ]
    },
    {
     "data": {
      "text/plain": [
       "4"
      ]
     },
     "execution_count": 25,
     "metadata": {},
     "output_type": "execute_result"
    }
   ],
   "source": [
    "\n",
    "#radom 모듈\n",
    "import random\n",
    "\n",
    "print(random.random()) # 0 이상 1 미만.출력\n",
    "\n",
    "#주사위 임의의 1~6\n",
    "print(random.randrange(1,7)) # 1 이상 7 미만의 난수(임의의 번호)\n",
    "\n",
    "print(random.randint(1,6)) # 1 이상 6 이하\n",
    "\n",
    "abc = [1,2,3,4,5]\n",
    "random.shuffle(abc) # 데이터를 섞음\n",
    "print(abc)\n",
    "\n",
    "random.choice(abc)"
   ]
  },
  {
   "cell_type": "code",
   "execution_count": 62,
   "metadata": {},
   "outputs": [
    {
     "name": "stdout",
     "output_type": "stream",
     "text": [
      "[5, 9, 17, 27, 32, 43]\n"
     ]
    }
   ],
   "source": [
    "# 번호 추첨 알고리즘\n",
    "# 1~ 45 번까지 랜덤 6개 출력\n",
    "\n",
    "# 1. 리스트로 뽑아낼것\n",
    "# 2. 중복을 제거 할것\n",
    "# 3. 로직 작성시 for 문으로 리스트에서 제공하는 함수등을 구성할것.\n",
    "import random\n",
    "\n",
    "class LottoNum():\n",
    "    def __init__(self):\n",
    "        self.lotto_nums = []\n",
    "\n",
    "    def get_lotto_nums(self):\n",
    "        self.lotto_nums = []\n",
    "\n",
    "        while len(self.lotto_nums) < 6:\n",
    "            num = random.randint(1,45)\n",
    "\n",
    "            if num not in self.lotto_nums:\n",
    "                self.lotto_nums.append(num)\n",
    "        self.lotto_nums.sort() # 리스트이름.sort() 정렬\n",
    "        return self.lotto_nums\n",
    "\n",
    "\n",
    "lotto = LottoNum()\n",
    "print(lotto.get_lotto_nums())\n"
   ]
  },
  {
   "cell_type": "code",
   "execution_count": 61,
   "metadata": {},
   "outputs": [
    {
     "name": "stdout",
     "output_type": "stream",
     "text": [
      "[6, 13, 14, 21, 27, 44]\n"
     ]
    }
   ],
   "source": [
    "#클래스 로또\n",
    "class Lotto():\n",
    "    def __init__(self):\n",
    "        self.lotto_nums = list(range(1,46))\n",
    "        self.num_list = []\n",
    "\n",
    "    def get_nums(self):\n",
    "        random.shuffle(self.lotto_nums)\n",
    "        for i in range(6):\n",
    "            self.num_list.append(self.lotto_nums.pop(0))\n",
    "        return sorted(self.num_list) # sorted(리스트명) 순서정렬.\n",
    "\n",
    "lotto = Lotto()\n",
    "print(lotto.get_nums())"
   ]
  },
  {
   "cell_type": "code",
   "execution_count": 73,
   "metadata": {},
   "outputs": [
    {
     "name": "stdout",
     "output_type": "stream",
     "text": [
      "rla님의 숫자 : 3\n",
      "                         rla님의 숫자 : 4\n",
      "                         rla님이 이겼습니다\n"
     ]
    }
   ],
   "source": [
    "#주사위 굴리기. 2인\n",
    "\n",
    "# >> 첫번째 참가자의 이름을 입력하세요.\n",
    "# >> 두번째 참가자의 이름을 입력하세요.\n",
    "\n",
    "#영희 주사위 숫자는 : 6\n",
    "#철수 주사위 숫자는 : 5\n",
    "\n",
    "class Dice:\n",
    "    def __init__(self,name1 = \"a\",name2 = \"b\"):\n",
    "        self.name1 = name1\n",
    "        self.name2 = name2\n",
    "\n",
    "\n",
    "    def run(self):\n",
    "        try:\n",
    "            self.name1 = str(input(\"첫번째 참가자의 이름을 입력하세요\"))\n",
    "            self.name2 = str(input(\"두번째 참가자의 이름을 입력하세요\"))\n",
    "        except:\n",
    "            print (\"일단 오류 발생\")\n",
    "            self.name1 = (\"무효임\")\n",
    "            self.name2 = (\"일단 무효임\")\n",
    "        num1 = random.randint(1,6)\n",
    "        num2 = random.randint(1,6)\n",
    "        resurt = f\"{self.name1}님의 숫자 : {num1}\\n{self.name2}님의 숫자 : {num2}\\n비겼습니다\"\n",
    "        if num1 > num2:\n",
    "            resurt = f\"{self.name1}님의 숫자 : {num1}\\n{self.name2}님의 숫자 : {num2}\\n{self.name1}님이 이겼습니다\"\n",
    "        elif num2 > num1:\n",
    "            resurt = f\"{self.name1}님의 숫자 : {num1}\\n{self.name2}님의 숫자 : {num2}\\n{self.name2}님이 이겼습니다\"\n",
    "        return resurt\n",
    "\n",
    "           \n",
    "dice = Dice()\n",
    "print(dice.run())\n"
   ]
  },
  {
   "cell_type": "code",
   "execution_count": null,
   "metadata": {},
   "outputs": [
    {
     "name": "stdout",
     "output_type": "stream",
     "text": [
      "1 주사위 숫자는 :  4\n",
      "2 주사위 숫자는 :  6\n",
      "2 가 이겼습니다.\n"
     ]
    }
   ],
   "source": [
    "class DiceGame():\n",
    "    def input_players(self):\n",
    "\n",
    "        while True:\n",
    "            try:\n",
    "                player1 =  input(\"첫 번째 참가자의 이름을 입력하세요: \")\n",
    "                player2 =  input(\"두 번째 참가자의 이름을 입력하세요: \")\n",
    "                break\n",
    "            except ValueError:\n",
    "                print(\"입력이 잘못되었습니다. 처음부터 다시 입력하세요.\")\n",
    "                continue\n",
    "\n",
    "        self.players = ([player1,0],[player2,0]) #user 2명으로 한정\n",
    "        #print(self.players)\n",
    "\n",
    "    def dice_result(self):\n",
    "\n",
    "        for i in range(2):\n",
    "            self.players[i][1] = random.randint(1,6)\n",
    "            print(self.players[i][0],\"주사위 숫자는 : \",self.players[i][1])\n",
    "\n",
    "        if self.players[0][1] > self.players[1][1]:\n",
    "            print(self.players[0][0],\"가 이겼습니다.\")\n",
    "        elif self.players[0][1] < self.players[1][1]:\n",
    "            print(self.players[1][0],\"가 이겼습니다.\")\n",
    "        else:\n",
    "            print(\"비겼습니다.\")\n",
    "\n",
    "    def run(self):\n",
    "        self.input_players()\n",
    "        self.dice_result()\n",
    "\n",
    "dice_game = DiceGame()\n",
    "dice_game.run()"
   ]
  }
 ],
 "metadata": {
  "kernelspec": {
   "display_name": "env_django",
   "language": "python",
   "name": "python3"
  },
  "language_info": {
   "codemirror_mode": {
    "name": "ipython",
    "version": 3
   },
   "file_extension": ".py",
   "mimetype": "text/x-python",
   "name": "python",
   "nbconvert_exporter": "python",
   "pygments_lexer": "ipython3",
   "version": "3.10.16"
  }
 },
 "nbformat": 4,
 "nbformat_minor": 2
}
