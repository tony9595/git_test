{
 "cells": [
  {
   "cell_type": "code",
   "execution_count": 23,
   "metadata": {},
   "outputs": [
    {
     "name": "stdout",
     "output_type": "stream",
     "text": [
      "<class 'list'> <class 'tuple'>\n"
     ]
    }
   ],
   "source": [
    "#튜플\n",
    "\n",
    "lst = [1,2,3] # 수정 가능\n",
    "tpl = (1,2,3) # 수정 불가\n",
    "print(type(lst),type(tpl))"
   ]
  },
  {
   "cell_type": "code",
   "execution_count": 28,
   "metadata": {},
   "outputs": [
    {
     "name": "stdout",
     "output_type": "stream",
     "text": [
      "철수\n",
      "2\n",
      "철수\n",
      "2\n"
     ]
    }
   ],
   "source": [
    "frns_list =[['동수',1],['진우',2],['선영',3]]\n",
    "\n",
    "frns_tuple = [('동수',1),('진우',2),('선영',3)]\n",
    "\n",
    "type(frns_list) #리스트\n",
    "type(frns_tuple) #리스트\n",
    "\n",
    "frns_list[0][0] = \"철수\" #값을 수정\n",
    "\n",
    "\n",
    "print(frns_list[0][0]) #(첫번째 리스트의 첫번째 값)동수\n",
    "print(frns_list[1][1]) #(두번째 리스트의 두번째 값)2\n",
    "\n",
    "# frns_tuple[0][0] = \"철수\" \n",
    "# 값을 수정불가. 오류가 생깁니다.\n",
    "frns_tuple[0] = (\"철수\",1) # 첫번째부분은 리스트타입으로 수정가능\n",
    "\n",
    "print(frns_tuple[0][0])\n",
    "print(frns_tuple[1][1])\n",
    "\n",
    "\n"
   ]
  },
  {
   "cell_type": "code",
   "execution_count": 53,
   "metadata": {},
   "outputs": [
    {
     "name": "stdout",
     "output_type": "stream",
     "text": [
      "1\n",
      "0\n",
      "(1, 2, 3)\n"
     ]
    }
   ],
   "source": [
    "frns_tuple =(['동수',1],['진우',2],['선영',3])\n",
    "\n",
    "print(frns_tuple.index([\"진우\",2]))\n",
    "print(frns_tuple.count(list))\n",
    "\n",
    "tpl = (1,2,3)\n",
    "print(tpl)"
   ]
  },
  {
   "cell_type": "code",
   "execution_count": 40,
   "metadata": {},
   "outputs": [
    {
     "name": "stdout",
     "output_type": "stream",
     "text": [
      "('총점은', 270)\n",
      "평균은 90.0\n",
      "90.0\n",
      "평균은 80.0\n",
      "미입니다.\n",
      "None\n"
     ]
    }
   ],
   "source": [
    "\n",
    "def total (kor,eng,mat):\n",
    "    return \"총점은\",kor+eng+mat\n",
    "def avg (kor,eng,mat):\n",
    "    print(\"평균은\",(kor+eng+mat)/3)\n",
    "    return (kor+eng+mat)/3\n",
    "def grade(avg):\n",
    "    int(avg)\n",
    "\n",
    "    if avg > 90:\n",
    "        print(\"수입니다.\")\n",
    "    elif avg > 80:\n",
    "        print(\"우입니다.\")\n",
    "    elif avg > 70:\n",
    "        print(\"미입니다.\")\n",
    "    elif avg > 60:\n",
    "        print(\"양입니다.\")\n",
    "    else:\n",
    "        print(\"가입니다.\")\n",
    "print(total(90,90,90)) # 270\n",
    "print(avg(90,90,90)) # 90\n",
    "print(grade(avg(80,80,80))) # 우 입니다."
   ]
  },
  {
   "cell_type": "code",
   "execution_count": 62,
   "metadata": {},
   "outputs": [
    {
     "name": "stdout",
     "output_type": "stream",
     "text": [
      "30\n"
     ]
    },
    {
     "data": {
      "text/plain": [
       "30"
      ]
     },
     "execution_count": 62,
     "metadata": {},
     "output_type": "execute_result"
    }
   ],
   "source": [
    "# 3개의 수에 대한 최대값\n",
    "\n",
    "a , b , c = 20, 10, 30 #복수 할당\n",
    "'''\n",
    "max = a\n",
    "\n",
    "if b > a:\n",
    "    max = b\n",
    "\n",
    "if c > max:\n",
    "    max = c\n",
    "\n",
    "print(max)\n",
    "\n",
    "del max\n",
    "max(a,b,c) # max함수 사용\n",
    "'''"
   ]
  },
  {
   "cell_type": "code",
   "execution_count": 75,
   "metadata": {},
   "outputs": [
    {
     "name": "stdout",
     "output_type": "stream",
     "text": [
      "<class 'range'>\n"
     ]
    },
    {
     "data": {
      "text/plain": [
       "True"
      ]
     },
     "execution_count": 75,
     "metadata": {},
     "output_type": "execute_result"
    }
   ],
   "source": [
    "a = range(1,10)\n",
    "print(type(a))\n",
    "9 in a\n",
    "10 not in a"
   ]
  },
  {
   "cell_type": "code",
   "execution_count": 78,
   "metadata": {},
   "outputs": [
    {
     "name": "stdout",
     "output_type": "stream",
     "text": [
      "[1, 2, 3]\n",
      "[1, 2, 3, 4]\n",
      "['H', 'e', 'l', 'l', 'o']\n",
      "(1, 2, 3)\n",
      "(1, 2, 3, 4)\n",
      "('H', 'e', 'l', 'l', 'o')\n"
     ]
    }
   ],
   "source": [
    "# 튜플 리스트 형변환\n",
    "# 튜플 형변환 tuple()\n",
    "# 리스트 형변환 list()\n",
    "\n",
    "a = list ((1,2,3)) #[1,2,3]\n",
    "print(a)\n",
    "a = list(range(1,5)) #[1,2,3,4]\n",
    "print(a)\n",
    "a = list(\"Hello\") # ['H','e','l',' l', 'o']\n",
    "print(a)\n",
    "\n",
    "\n",
    "a = tuple ([1,2,3]) #(1,2,3)\n",
    "print(a)\n",
    "a = tuple (range(1,5)) #(1,2,3,4)\n",
    "print(a)\n",
    "a = tuple (\"Hello\") # ('H','e','l',' l', 'o')\n",
    "print(a)"
   ]
  },
  {
   "cell_type": "code",
   "execution_count": 91,
   "metadata": {},
   "outputs": [
    {
     "name": "stdout",
     "output_type": "stream",
     "text": [
      "[0, -1, -2, -3, -4, -5, -6, -7, -8, -9]\n"
     ]
    },
    {
     "data": {
      "text/plain": [
       "[10, 7, 4]"
      ]
     },
     "execution_count": 92,
     "metadata": {},
     "output_type": "execute_result"
    }
   ],
   "source": [
    "list(range(1,10))\n",
    "list(range(10))\n",
    "list(range(1,10,2)) # 1 <= x > 10 \n",
    "\n",
    "list(range(10,2,-1)) # 10 부터 3 까지 1씩 감소 10 >= x > 2\n",
    "list(range(10,2,-2)) # 10 부터 3 까지 2씩 감소 10 >= x > 2\n",
    "list(range(10,2,-3)) # 10 부터 3 까지 3씩 감소 10 >= x > 2\n",
    "#[10,8,6,4]\n",
    "#[10,7,4]"
   ]
  },
  {
   "cell_type": "code",
   "execution_count": 96,
   "metadata": {},
   "outputs": [
    {
     "data": {
      "text/plain": [
       "tuple"
      ]
     },
     "execution_count": 96,
     "metadata": {},
     "output_type": "execute_result"
    }
   ],
   "source": [
    "#my_tuple 이름의 비어있는 튜플을 만들어라\n",
    "\n",
    "my_tuple=()\n",
    "type(my_tuple)\n",
    "\n",
    "# 숫자 1이 저장된 튜플을 생성해라\n",
    "\n",
    "my_num = (1,) #튜플에 한개의 값을 저장하고 싶으면 값뒤에 쉼표 작성\n",
    "type(my_num)\n",
    "\n"
   ]
  },
  {
   "cell_type": "code",
   "execution_count": 100,
   "metadata": {},
   "outputs": [
    {
     "name": "stdout",
     "output_type": "stream",
     "text": [
      "('a', 'b', 'c')\n",
      "('A', 'b', 'c')\n"
     ]
    }
   ],
   "source": [
    "#변수 t 가 ('A','b','c') 튜플을 가리키도록 수정하세요\n",
    "t =('a','b','c')\n",
    "print(t)\n",
    "t= ('A','b','c')\n",
    "print(t)\n",
    "\n",
    "#t=(1,2,3)\n",
    "#t[0] = 'a' \n",
    "# 에러가 나는 이유는?\n",
    "# tuple은 immutable 이기 때문입니다."
   ]
  },
  {
   "cell_type": "markdown",
   "metadata": {},
   "source": [
    "함수\n",
    "파라미터를 설정할때 직관적으로 작성\n",
    "\n",
    "end = '' : 는 print작성시 문장의 끝을 사용자가 지정할 수 있다.\n",
    "sep = '' : 는 print작성시 쉼표자리에 들어갈것을 사용자가 지정할 수 있다."
   ]
  },
  {
   "cell_type": "code",
   "execution_count": 108,
   "metadata": {},
   "outputs": [
    {
     "name": "stdout",
     "output_type": "stream",
     "text": [
      "1_2_3\n",
      "1_2_3@@@"
     ]
    }
   ],
   "source": [
    "print(1,2,3, sep='_')\n",
    "print(1,2,3, sep='_',end='@@@')"
   ]
  },
  {
   "cell_type": "code",
   "execution_count": 105,
   "metadata": {},
   "outputs": [
    {
     "name": "stdout",
     "output_type": "stream",
     "text": [
      "이름은 홍길삼입니다\n",
      "나이는 20살 입니다.\n",
      "이름은 홍길삼입니다\n",
      "나이는 20살 입니다.\n"
     ]
    }
   ],
   "source": [
    "def who_are_you(name, age):\n",
    "    print(\"이름은 %s입니다\"%name)\n",
    "    print(\"나이는 %d살 입니다.\"%age)\n",
    "\n",
    "who_are_you(age = 20, name=\"홍길삼\") \n",
    "#함수 호출시 파라미터와 값을 같이 작성하면 작성 순서와 상관이 없습니다.\n",
    "who_are_you( \"홍길삼\", 20)"
   ]
  },
  {
   "cell_type": "code",
   "execution_count": 109,
   "metadata": {},
   "outputs": [
    {
     "name": "stdout",
     "output_type": "stream",
     "text": [
      "이름은 김입니다\n",
      "나이는 0살 입니다.\n",
      "이름은 박입니다\n",
      "나이는 10002살 입니다.\n"
     ]
    }
   ],
   "source": [
    "def who_are_you(name, age =0):\n",
    "    print(\"이름은 %s입니다\"%name)\n",
    "    print(\"나이는 %d살 입니다.\"%age)\n",
    "\n",
    "who_are_you(\"김\")\n",
    "who_are_you(\"박\",10002)\n"
   ]
  },
  {
   "cell_type": "code",
   "execution_count": 113,
   "metadata": {},
   "outputs": [
    {
     "name": "stdout",
     "output_type": "stream",
     "text": [
      "[0, 2, 0]\n"
     ]
    }
   ],
   "source": [
    "def func(s): #수정이 가능한 데이터 타입인 리스트만 적용이 가능한 함수.\n",
    "    s[0] = 0\n",
    "    s[-1] = 0\n",
    "\n",
    "st = [1,2,3]\n",
    "func(st)\n",
    "print(st)\n"
   ]
  },
  {
   "cell_type": "code",
   "execution_count": 1,
   "metadata": {},
   "outputs": [
    {
     "name": "stdout",
     "output_type": "stream",
     "text": [
      "[1, 3, 5, 7, 9]\n"
     ]
    }
   ],
   "source": [
    "print(list(range(1,10,2)))"
   ]
  }
 ],
 "metadata": {
  "kernelspec": {
   "display_name": "env_django",
   "language": "python",
   "name": "python3"
  },
  "language_info": {
   "codemirror_mode": {
    "name": "ipython",
    "version": 3
   },
   "file_extension": ".py",
   "mimetype": "text/x-python",
   "name": "python",
   "nbconvert_exporter": "python",
   "pygments_lexer": "ipython3",
   "version": "3.10.16"
  }
 },
 "nbformat": 4,
 "nbformat_minor": 2
}
