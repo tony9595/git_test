{
 "cells": [
  {
   "cell_type": "code",
   "execution_count": 29,
   "metadata": {},
   "outputs": [
    {
     "name": "stdout",
     "output_type": "stream",
     "text": [
      "<class 'dict'>\n",
      "{'코카콜라': 900, '바나나맛우유': 750, '비타500': 600, '삼다수': 450}\n",
      "비타500의 가격은 600원입니다\n",
      "800\n",
      "1000\n",
      "1200\n",
      "{'코카콜라': 800, '바나나맛우유': 750, '비타500': 600, '삼다수': 450, '카페라떼': 1000, '사이다': 1200}\n",
      "{'코카콜라': 800, '바나나맛우유': 750, '비타500': 600, '삼다수': 450, '사이다': 1200}\n"
     ]
    }
   ],
   "source": [
    "#딕셔너리 CRUD\n",
    "\n",
    "#dict = {'key': value, ......}\n",
    "dc = {\n",
    "'코카콜라' : 900,\n",
    "'바나나맛우유': 750,\n",
    "'비타500': 600,\n",
    "'삼다수': 450,\n",
    "}\n",
    "\n",
    "print(type(dc))\n",
    "print(dc)\n",
    "\n",
    "# Read (참조)\n",
    "# key 에 대한 index로 value 값을 가져옴\n",
    "\n",
    "val = dc[\"비타500\"] # key값으로 호출\n",
    "print(f\"비타500의 가격은 {val}원입니다\")\n",
    "\n",
    "#주의 할점\n",
    "#index 호출이 불가\n",
    "#딕셔너리는 순서유지(X), key 중복 불가\n",
    "#리스트와 튜플은 순서유지(O) , 중복 허용\n",
    "'''\n",
    "val = dc(1)\n",
    "print(val)\n",
    "'''\n",
    "#continue (수정)\n",
    "dc[\"코카콜라\"] = 800\n",
    "print(dc[\"코카콜라\"])\n",
    "\n",
    "#추가\n",
    "dc[\"카페라떼\"] = 1000\n",
    "print(dc[\"카페라떼\"])\n",
    "dc[\"사이다\"] = 1200\n",
    "print(dc[\"사이다\"])\n",
    "\n",
    "print(dc)\n",
    "\n",
    "#삭제\n",
    "del dc['카페라떼']\n",
    "print(dc)\n"
   ]
  },
  {
   "cell_type": "markdown",
   "metadata": {},
   "source": [
    "집합\n",
    "값의 중복이 안된다. ex (1,2,2,3,4) 이런식의 저장이 안된다.\n",
    "순서가 의미가 없다. ex (1,3,8,4,2)"
   ]
  },
  {
   "cell_type": "code",
   "execution_count": 10,
   "metadata": {},
   "outputs": [
    {
     "name": "stdout",
     "output_type": "stream",
     "text": [
      "<class 'dict'>\n",
      "{1: '홍길동', 2: '홍길동', 3: '홍길동'}\n",
      "홍길동\n",
      "홍길동\n",
      "홍길동\n"
     ]
    }
   ],
   "source": [
    " # value 값은 중복이 가능하다.\n",
    " \n",
    "dc_student = {\n",
    "    1:\"홍길동\",\n",
    "    2:\"홍길동\",\n",
    "    3:\"홍길동\",\n",
    "}\n",
    "print(type(dc_student))\n",
    "print(dc_student)\n"
   ]
  },
  {
   "cell_type": "code",
   "execution_count": 11,
   "metadata": {},
   "outputs": [
    {
     "name": "stdout",
     "output_type": "stream",
     "text": [
      "<class 'dict'>\n",
      "{1: '도널드 길동'}\n"
     ]
    }
   ],
   "source": [
    "# key 값이 중복이 가능하다. 가장 마지막 값으로 덮어쓴다.\n",
    "\n",
    "dc_student = {\n",
    "    1:\"홍길동\",\n",
    "    1:\"김길동\", \n",
    "    1:\"도널드 길동\",\n",
    "}\n",
    "print(type(dc_student))\n",
    "print(dc_student)"
   ]
  },
  {
   "cell_type": "code",
   "execution_count": 30,
   "metadata": {},
   "outputs": [
    {
     "name": "stdout",
     "output_type": "stream",
     "text": [
      "True\n",
      "True\n"
     ]
    }
   ],
   "source": [
    "# 딕셔너리 == 연산자\n",
    "\n",
    "d1 = {1:'a', 2:'b'}\n",
    "d2 = {1:'a', 2:'b'}\n",
    "d3 = {2:'b', 1:'a'}\n",
    "\n",
    "#딕셔너리는 순서가 상관 없기때문에 요소가 같으면 같다고 반환된다.\n",
    "print(d1 == d2)\n",
    "print(d1 == d3)"
   ]
  },
  {
   "cell_type": "code",
   "execution_count": 31,
   "metadata": {},
   "outputs": [
    {
     "name": "stdout",
     "output_type": "stream",
     "text": [
      "{'코카콜라': 1100, '바나나맛우유': 750, '비타500': 600, '삼다수': 450, '새우깡': 300}\n"
     ]
    }
   ],
   "source": [
    "#딕셔너리 에서의 if, in, not in의 활용\n",
    "\n",
    "dc = {\n",
    "'코카콜라' : 900,\n",
    "'바나나맛우유': 750,\n",
    "'비타500': 600,\n",
    "'삼다수': 450,\n",
    "}\n",
    "\n",
    "#딕셔너리 에서 in 연산자는 key를 체크한다.\n",
    "if '코카콜라' in dc:\n",
    "    dc[\"코카콜라\"] = 1100\n",
    "\n",
    "if '새우깡' not in dc:\n",
    "    dc['새우깡'] = 300\n",
    "print(dc)\n"
   ]
  },
  {
   "cell_type": "code",
   "execution_count": 44,
   "metadata": {},
   "outputs": [
    {
     "name": "stdout",
     "output_type": "stream",
     "text": [
      "코카콜라:1000\n",
      "바나나맛우유:850\n",
      "비타500:700\n",
      "삼다수:550\n"
     ]
    }
   ],
   "source": [
    "#딕셔너리와 for 루프\n",
    "dc = {\n",
    "'코카콜라' : 900,\n",
    "'바나나맛우유': 750,\n",
    "'비타500': 600,\n",
    "'삼다수': 450,\n",
    "}\n",
    "\n",
    "#i에 index가 아닌 key가 리턴됨.\n",
    "'''\n",
    "for i in dc:\n",
    "    print(i)\n",
    "'''\n",
    "\n",
    "#key, value가 리턴됨\n",
    "for i in dc:\n",
    "    print(i,dc[i],sep=\":\")\n",
    "\n",
    "\n",
    " #모든 value 값에 100을 추가함.  \n",
    "'''\n",
    "for i in dc:\n",
    "    dc[i] += 100 #dc데이터의 모든 value 값에 100을 추가함.\n",
    "'''"
   ]
  },
  {
   "cell_type": "code",
   "execution_count": 62,
   "metadata": {},
   "outputs": [
    {
     "name": "stdout",
     "output_type": "stream",
     "text": [
      "코카콜라 900\n",
      "바나나맛우유 750\n",
      "비타500 600\n",
      "삼다수 450\n",
      "코카콜라\n",
      "바나나맛우유\n",
      "비타500\n",
      "삼다수\n",
      "900\n",
      "750\n",
      "600\n",
      "450\n",
      "['삼다수']\n",
      "2700\n"
     ]
    }
   ],
   "source": [
    "\n",
    "\n",
    "dc = {\n",
    "'코카콜라' : 900,\n",
    "'바나나맛우유': 750,\n",
    "'비타500': 600,\n",
    "'삼다수': 450,\n",
    "}\n",
    "\n",
    "#key와 value 분리\n",
    "for key,value in dc.items(): #items함수 key,value 값을 나눠줌?\n",
    "    print(key,value)\n",
    "\n",
    "#key만 추출\n",
    "for key in dc.keys():\n",
    "    print(key)\n",
    "\n",
    "#value만 추출\n",
    "for value in dc.values():\n",
    "    print(value)\n",
    "\n",
    "#for문 활용\n",
    "for i in dc:\n",
    "    print(f\"key : {i} , value : {dc[i]}\")\n",
    "\n",
    "\n",
    "    \n",
    "sum = 0\n",
    "for value in dc.values():\n",
    "    sum += value\n",
    "print(sum)"
   ]
  },
  {
   "cell_type": "code",
   "execution_count": 69,
   "metadata": {},
   "outputs": [
    {
     "name": "stdout",
     "output_type": "stream",
     "text": [
      "['코카콜라', '바나나맛우유', '비타500', '삼다수']\n",
      "[900, 750, 600, 450]\n"
     ]
    }
   ],
   "source": [
    "#리스트에 key, value 뽑아보기\n",
    "dc = {\n",
    "'코카콜라' : 900,\n",
    "'바나나맛우유': 750,\n",
    "'비타500': 600,\n",
    "'삼다수': 450,\n",
    "}\n",
    "a = []\n",
    "b = []\n",
    "for i in dc:\n",
    "    a.append(i)\n",
    "    b.append(dc[i])\n",
    "print(a)\n",
    "print(b)"
   ]
  },
  {
   "cell_type": "code",
   "execution_count": null,
   "metadata": {},
   "outputs": [],
   "source": [
    "'''\n",
    "문제 풀이\n",
    "\n",
    "my_list = [\"가\", \"나\", \"다\", \"라\"]\n",
    "\n",
    "print(my_list[0], my_list[1])\n",
    "print(my_list[1], my_list[2])\n",
    "print(my_list[2], my_list[3])\n",
    "\n",
    "for i in [0,1,2]:\n",
    "    print(my_list[i], my_list[i + 1])\n",
    "\n",
    "for i in range(3):\n",
    "    print(my_list[i], my_list[i + 1])\n",
    "\n",
    "\n",
    "for i in range(len(my_list) -1):\n",
    "    print(my_list[i], my_list[i + 1])\n",
    "\n",
    "for i in range(1,len(my_list)): #range(1,4)\n",
    "    print(my_list[i-1], my_list[i])\n",
    "'''"
   ]
  },
  {
   "cell_type": "code",
   "execution_count": 104,
   "metadata": {},
   "outputs": [
    {
     "name": "stdout",
     "output_type": "stream",
     "text": [
      "{'메로나': [300, 20], '비비빅': [400, 3], '죠스바': [250, 100]}\n",
      "300\n",
      "950\n",
      "메로나 6000\n",
      "비비빅 1200\n",
      "죠스바 25000\n",
      "950 32200\n"
     ]
    }
   ],
   "source": [
    "\n",
    "dic_inventory = {'메로나':[300,20],'비비빅':[400,3],'죠스바':[250,100]}\n",
    "print(dic_inventory)\n",
    "print(dic_inventory['메로나'][0])\n",
    "\n",
    "sum = 0\n",
    "for i in dic_inventory: # 아이스크림 항목별 가격의 합\n",
    "    sum += dic_inventory[i][0]\n",
    "print(sum)\n",
    "\n",
    "\n",
    "for i,j in dic_inventory.items(): #각 아이스크림의 가격 * 재고\n",
    "    print(i,j[0] * j[1])          #출력 예 구구콘 8000\n",
    "\n",
    "'''\n",
    "\n",
    "def get_resurt():\n",
    "    sum = 0\n",
    "    total = 0\n",
    "    for i,j in dic_inventory.values():\n",
    "        sum += i\n",
    "        total = total + i * j\n",
    "    return sum,total\n",
    "'''\n",
    "def get_sum_and_prices():\n",
    "    sum = 0\n",
    "    total =0\n",
    "\n",
    "    #for value in dic_inventory.values():\n",
    "    #    sum += value[0]\n",
    "    #    total = total + (value[0] * value[1])\n",
    "\n",
    "    for price, count in dic_inventory.values():\n",
    "        sum += price\n",
    "        total = total + (price * count)\n",
    "\n",
    "    return sum, total\n",
    "\n",
    "\n",
    "sum, total = get_sum_and_prices()\n",
    "print(sum,total)"
   ]
  }
 ],
 "metadata": {
  "kernelspec": {
   "display_name": "env_django",
   "language": "python",
   "name": "python3"
  },
  "language_info": {
   "codemirror_mode": {
    "name": "ipython",
    "version": 3
   },
   "file_extension": ".py",
   "mimetype": "text/x-python",
   "name": "python",
   "nbconvert_exporter": "python",
   "pygments_lexer": "ipython3",
   "version": "3.10.16"
  }
 },
 "nbformat": 4,
 "nbformat_minor": 2
}
