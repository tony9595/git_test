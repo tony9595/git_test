{
 "cells": [
  {
   "cell_type": "code",
   "execution_count": 3,
   "metadata": {},
   "outputs": [
    {
     "name": "stdout",
     "output_type": "stream",
     "text": [
      "5\n",
      "1\n",
      "9\n"
     ]
    }
   ],
   "source": [
    "#리스트 관련 함수\n",
    "\n",
    "st = [1,3,5,7,9]\n",
    "num = len(st) # 갯수\n",
    "print(num)\n",
    "print(min(st)) # 가장 값이 작은 데이터\n",
    "print(max(st)) # 가장 값이 큰 데이터"
   ]
  },
  {
   "cell_type": "code",
   "execution_count": 15,
   "metadata": {},
   "outputs": [
    {
     "name": "stdout",
     "output_type": "stream",
     "text": [
      "[3, 5, 7, 9]\n",
      "[1, 2, 3, 4]\n",
      "[1, 2, 3, 4, 5, 6]\n",
      "[1, 2, 3, 4]\n",
      "[]\n",
      "[1, 2, 1, 2]\n"
     ]
    }
   ],
   "source": [
    "st = [1,3,5,7,9]\n",
    "st.remove(1) # 리스트속의 값 삭제\n",
    "print(st)\n",
    "\n",
    "st = [1,2,3]\n",
    "st.append(4) # 리스트속 값 추가\n",
    "print(st)\n",
    "st.extend([5,6]) # 리스트에 다른 리스트 연결결\n",
    "print(st)\n",
    "\n",
    "st = [1,2,4]\n",
    "st.insert(2,3) # 인덱스 값 2의 위치에 3을을 저장\n",
    "print(st)\n",
    "\n",
    "st.clear() # 리스트 전체 삭제\n",
    "print(st)\n",
    "\n",
    "st.append(1)\n",
    "st.append(2)\n",
    "st.insert(0,1)\n",
    "st.insert(1,2)\n",
    "print(st)"
   ]
  },
  {
   "cell_type": "code",
   "execution_count": 27,
   "metadata": {},
   "outputs": [
    {
     "name": "stdout",
     "output_type": "stream",
     "text": [
      "[1, 3, 4, 5]\n",
      "[1, 3, 4]\n",
      "[1, 4]\n"
     ]
    }
   ],
   "source": [
    "st = [1,2,3,4,5]\n",
    "\n",
    "st.pop(1) # 인덱스 값의 위치에 저장된 데이터 삭제\n",
    "print(st)\n",
    "\n",
    "st.remove(5) #인덱싱으로 삭제가 아니라 값으로 지정\n",
    "print(st)\n",
    "st.pop(1)  # st.remove(3) \n",
    "print(st)"
   ]
  },
  {
   "cell_type": "code",
   "execution_count": 30,
   "metadata": {},
   "outputs": [
    {
     "name": "stdout",
     "output_type": "stream",
     "text": [
      "1\n"
     ]
    }
   ],
   "source": [
    "st = [1,2,3,1,2]\n",
    "\n",
    "st.count(1) #지정된 값의 카운트\n",
    "\n",
    "st.index(2) #지정된 값이 처음 등장하는 인덱스 값\n",
    "print(st.index(2))"
   ]
  },
  {
   "cell_type": "code",
   "execution_count": 33,
   "metadata": {},
   "outputs": [
    {
     "name": "stdout",
     "output_type": "stream",
     "text": [
      "4\n",
      "2\n"
     ]
    }
   ],
   "source": [
    "name = \"YoonSungWoo\"\n",
    "# o 의 개수는?\n",
    "print(name.count('o')) \n",
    "# oo 의 개수는?\n",
    "print(\"YoonSungWoo\".count('oo')) \n"
   ]
  },
  {
   "cell_type": "code",
   "execution_count": 34,
   "metadata": {},
   "outputs": [
    {
     "name": "stdout",
     "output_type": "stream",
     "text": [
      "kim\n",
      "KIM\n"
     ]
    }
   ],
   "source": [
    "org= 'Kim'\n",
    "\n",
    "lcp =org.lower() # 모든 문자를 소문자로\n",
    "ucp =org.upper() # 모든 문자를 대문자로\n",
    "\n",
    "print(lcp)\n",
    "print(ucp)"
   ]
  },
  {
   "cell_type": "code",
   "execution_count": 38,
   "metadata": {},
   "outputs": [
    {
     "name": "stdout",
     "output_type": "stream",
     "text": [
      "MIDDLE\n",
      "MIDDLE \n",
      " MIDDLE\n",
      " MIDDLE \n"
     ]
    }
   ],
   "source": [
    "org = \" MIDDLE \"\n",
    "\n",
    "# 타언어 에서는 trim()\n",
    "cp1 = org.strip() # 앞뒤 공백 제거\n",
    "cp2 = org.lstrip() # 왼쪽 공백 제거\n",
    "cp3 = org.rstrip() # 오른쪽 공\n",
    "\n",
    "print(cp1)\n",
    "print(cp2)\n",
    "print(cp3)\n",
    "print(org)"
   ]
  },
  {
   "cell_type": "code",
   "execution_count": 44,
   "metadata": {},
   "outputs": [
    {
     "name": "stdout",
     "output_type": "stream",
     "text": [
      "Hooo\n",
      "o\n",
      "Heeee\n",
      "Hooee\n"
     ]
    }
   ],
   "source": [
    "org = 'Heoo'\n",
    "rps = org.replace(\"He\",\"Ho\") # 문자열 교체 함수\n",
    "\n",
    "print(rps)\n",
    "\n",
    "rps = org.replace(\"Heo\",\"\")\n",
    "print(rps)\n",
    "\n",
    "org = 'Heeee'\n",
    "rps = org.replace(\"e\",\"o\",0) # 첫번째 e만 바꾼다.\n",
    "print(rps)\n",
    "\n",
    "rps = org.replace(\"e\",\"o\",2) # e 두개를 o로 바꾼다.\n",
    "print(rps)"
   ]
  },
  {
   "cell_type": "code",
   "execution_count": 48,
   "metadata": {},
   "outputs": [
    {
     "name": "stdout",
     "output_type": "stream",
     "text": [
      "['ab', 'cd', 'ef']\n",
      "ab\n",
      "cd\n",
      "ef\n",
      "010\n",
      "1234\n",
      "5678\n"
     ]
    }
   ],
   "source": [
    "#스플릿\n",
    "\n",
    "org= \"ab_cd_ef\"\n",
    "\n",
    "ret = org.split('_') # 글자를 자르는 함수. return 값이 list\n",
    "print(ret)\n",
    "\n",
    "for i in ret:\n",
    "    print(i)\n",
    "\n",
    "\n",
    "tel = \"010-1234-5678\"\n",
    "ret = tel.split('-')\n",
    "for i in ret:\n",
    "    print(i)"
   ]
  },
  {
   "cell_type": "code",
   "execution_count": 52,
   "metadata": {},
   "outputs": [
    {
     "data": {
      "text/plain": [
       "3"
      ]
     },
     "execution_count": 52,
     "metadata": {},
     "output_type": "execute_result"
    }
   ],
   "source": [
    "# 탐색 관련\n",
    "\n",
    "a =  \"What is important is that you should choose what is best for you\"\n",
    "\n",
    "a.find(\"is\") # index 값이 리턴됨\n",
    "a.rfind(\"is\") # 마지막 is 가 있는 index 값이 리턴됨\n",
    "a.count(\"is\") # 개수"
   ]
  },
  {
   "cell_type": "code",
   "execution_count": 54,
   "metadata": {},
   "outputs": [
    {
     "name": "stdout",
     "output_type": "stream",
     "text": [
      "escape \n",
      " characters\n",
      "escape\tcharacters\n"
     ]
    }
   ],
   "source": [
    "# 이스케이프(탈출) 문자\n",
    "\n",
    "a = \"escape \\n characters\" #\\n 줄바꿈\n",
    "print(a)\n",
    "a = \"escape\\tcharacters\" #\\t 탭탭\n",
    "print(a)"
   ]
  },
  {
   "cell_type": "code",
   "execution_count": null,
   "metadata": {},
   "outputs": [],
   "source": [
    "#두가지 정리\n",
    "print(\"abcd\", end = '\\n')\n",
    "print(\"abcd\", end = '\\t')\n",
    "print(\"abcd\")\n",
    "\n",
    "#두번째\n",
    "a = 'escape \\'안녕\\' characters'\n",
    "a = \"escape '안녕' characters\" #따움표는 겹치지 않으면 이스케이프 문자를 사용하지 않아도 괜찮다."
   ]
  },
  {
   "cell_type": "code",
   "execution_count": 61,
   "metadata": {},
   "outputs": [
    {
     "name": "stdout",
     "output_type": "stream",
     "text": [
      "[1, 2, 3]\n",
      "[2, 3]\n"
     ]
    }
   ],
   "source": [
    "# del 명령\n",
    "st = [1,2,3,4,5]\n",
    "del st[3:] # 3번인덱싱 부터 끝까지 삭제\n",
    "print(st)\n",
    "del st[0] # 0번인덱싱만 삭제\n",
    "print(st)\n",
    "#del st #리스트 자체 삭제 변수명도 삭제처리가 됨.\n",
    "#print(st)"
   ]
  },
  {
   "cell_type": "code",
   "execution_count": 7,
   "metadata": {},
   "outputs": [
    {
     "data": {
      "text/plain": [
       "10"
      ]
     },
     "execution_count": 7,
     "metadata": {},
     "output_type": "execute_result"
    }
   ],
   "source": [
    "s = \"Tomato spaghetti\"\n",
    "s.find(\"ghe\")\n"
   ]
  }
 ],
 "metadata": {
  "kernelspec": {
   "display_name": "env_django",
   "language": "python",
   "name": "python3"
  },
  "language_info": {
   "codemirror_mode": {
    "name": "ipython",
    "version": 3
   },
   "file_extension": ".py",
   "mimetype": "text/x-python",
   "name": "python",
   "nbconvert_exporter": "python",
   "pygments_lexer": "ipython3",
   "version": "3.10.16"
  }
 },
 "nbformat": 4,
 "nbformat_minor": 2
}
