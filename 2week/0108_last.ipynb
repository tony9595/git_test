{
 "cells": [
  {
   "cell_type": "markdown",
   "metadata": {},
   "source": [
    "1. 딕셔너리 와 리스트와 튜플의 차이점에 대하여 정리하시오.\n",
    "리스트 - index 호출 가능,  mutable, []로 생성\n",
    "튜플 - index 호출 가능, imutable, ()로 생성 생략 가능\n",
    "딕셔너리 - index호출 불가, mutable, {key:value}로 생성\n",
    "\n",
    "2. 객체와 클래스에 대하여 예습하시오?(예습) \n",
    "\n",
    "클래스 : 특정 함수의 설계도 (빵틀) \n",
    "객체 : 설계도로 만들어진 함수 (빵)\n",
    "\n",
    "3. 딕셔너리 추가\n",
    "inventory 딕셔너리에 아래 데이터를 추가하라.\n",
    "inventory = {\"메로나\": [300, 20],\n",
    "              \"비비빅\": [400, 3],\n",
    "              \"죠스바\": [250, 100]}\n",
    "이름\t가격\t재고\n",
    "월드콘\t500\t7\n",
    "inventory[\"월드콘\"] = [500,7]\n",
    "\n",
    "4. 다음의 딕셔너리로부터 key 값으로만 구성된 리스트를 생성하라.(힌트:딕셔너리 keys() 메서드)\n",
    "\n",
    "icecream = {'탱크보이': 1200, '폴라포': 1200, '빵빠레': 1800, '월드콘': 1500, '메로나': 1000}\n",
    "\n",
    "\n",
    "5.icecream 딕셔너리에서 아이스크림 판매 금액의 총합을 출력하라.\n",
    "\n",
    "icecream = {'탱크보이': 1200, '폴라포': 1200, '빵빠레': 1800, '월드콘': 1500, '메로나': 1000}\n",
    "출력 예시:\n",
    "6700\n",
    "\n",
    "6. 딕셔너리 update 메서드\n",
    "아래의 new_product 딕셔너리를 다음 icecream 딕셔너리에 추가하라.\n",
    "\n",
    "icecream = {'탱크보이': 1200, '폴라포': 1200, '빵빠레': 1800, '월드콘': 1500, '메로나': 1000}\n",
    "new_product = {'팥빙수':2700, '아맛나':1000}\n",
    "\n",
    "7.data에는 매수한 종목들의 OHLC (open/high/low/close) 가격 정보가 바인딩 되어있다.\n",
    "\n",
    "data = [\n",
    "    [ 2000,  3050,  2050,  1980],\n",
    "    [ 7500,  2050,  2050,  1980],\n",
    "    [15450, 15050, 15550, 14900]\n",
    "]\n",
    "수수료를 0.014 %로 가정할 때, 각 가격에 수수료를 포함한 가격을 한라인에 하나씩 출력하라.\n",
    "\n",
    "2000.28\n",
    "3050.427\n",
    "2050.2870000000003\n",
    "...\n",
    "\n",
    "8. 7번의 출력 결과에 행단위로 \"----\" 구분자를 추가하라.\n",
    "\n",
    "2000.28\n",
    "3050.427\n",
    "2050.2870000000003\n",
    "1980.2772\n",
    "----\n",
    "7501.05\n",
    "2050.2870000000003\n",
    "2050.2870000000003\n",
    "1980.2772\n",
    "----\n",
    "15452.163\n",
    "15052.107\n",
    "15552.177\n",
    "14902.086000000001\n",
    "----\n",
    "\n",
    "9.\n",
    "ohlc 리스트에는 시가(open), 고가 (high), 저가 (low) , 종가(close)가 날짜별로 저장돼 있다. 화면에 종가데이터를 출력하라.\n",
    "\n",
    "ohlc = [[\"open\", \"high\", \"low\", \"close\"],\n",
    "        [100, 110, 70, 100],\n",
    "        [200, 210, 180, 190],\n",
    "        [300, 310, 300, 310]]\n",
    "100\n",
    "190\n",
    "310\n",
    "\n",
    "10.\n",
    "ohlc 리스트에는 시가(open), 고가 (high), 저가 (low) , 종가(close)가 날짜별로 저장돼 있다. 종가가 150원보다 큰경우에만 종가를 출력하라.\n",
    "\n",
    "ohlc = [[\"open\", \"high\", \"low\", \"close\"],\n",
    "        [100, 110, 70, 100],\n",
    "        [200, 210, 180, 190],\n",
    "        [300, 310, 300, 310]]\n",
    "190\n",
    "310\n",
    "\n",
    "11.\n",
    "ohlc 리스트에는 시가(open), 고가 (high), 저가 (low) , 종가(close)가 날짜별로 저장돼 있다. 종가가 시가 보다 크거나 같은 경우에만 종가를 출력하라.\n",
    "\n",
    "ohlc = [[\"open\", \"high\", \"low\", \"close\"],\n",
    "        [100, 110, 70, 100],\n",
    "        [200, 210, 180, 190],\n",
    "        [300, 310, 300, 310]]\n",
    "100\n",
    "310\n",
    "\n",
    "12.ohlc 리스트에는 시가(open), 고가 (high), 저가 (low) , 종가(close)가 날짜별로 저장돼 있다. 고가와 저가의 차이를 변동폭으로 정의할 때 변동폭을 volatility 이름의 리스트에 저장하라.\n",
    "\n",
    "ohlc = [[\"open\", \"high\", \"low\", \"close\"],\n",
    "        [100, 110, 70, 100],\n",
    "        [200, 210, 180, 190],\n",
    "        [300, 310, 300, 310]]\n",
    ">> print(volatility)\n",
    "[40, 30, 10]\n",
    "\n",
    "13.\n",
    "리스트에는 3일 간의 ohlc 데이터가 저장돼 있다. 종가가 시가보다 높은 날의 변동성 (고가 - 저가)을 화면에 출력하라.\n",
    "\n",
    "ohlc = [[\"open\", \"high\", \"low\", \"close\"],\n",
    "        [100, 110, 70, 100],\n",
    "        [200, 210, 180, 190],\n",
    "        [300, 310, 300, 310]]\n",
    "종가가 시가보다 높은 거래일의 OHLC는 [300, 310, 300, 310] 이다. 따라서 이 거래일의 변동성은 10 (310 - 300)이다.\n",
    "\n",
    "\n",
    "\n",
    "\n",
    "세줄요약)\n",
    "딕셔너리는 키 밸루 이다.\n",
    "딕셔너리는 수정가능 , 순서없음, 중복안됨 이다.\n",
    "파이썬은 객체 지향 언어이며, 객체지향 언어에서 클래스와 객체는 핵심이다. \n",
    "\n",
    "https://wikidocs.net/7030"
   ]
  },
  {
   "cell_type": "code",
   "execution_count": 1,
   "metadata": {},
   "outputs": [
    {
     "name": "stdout",
     "output_type": "stream",
     "text": [
      "{'메로나': [300, 20], '비비빅': [400, 3], '죠스바': [250, 100], '월드콘': [500, 7]}\n"
     ]
    }
   ],
   "source": [
    "#3. 딕셔너리 추가 inventory 딕셔너리에 아래 데이터를 추가하라.\n",
    "inventory = {\"메로나\": [300, 20],\n",
    "              \"비비빅\": [400, 3],\n",
    "              \"죠스바\": [250, 100]}\n",
    "inventory[\"월드콘\"] = [500,7]\n",
    "print(inventory)"
   ]
  },
  {
   "cell_type": "code",
   "execution_count": 67,
   "metadata": {},
   "outputs": [
    {
     "name": "stdout",
     "output_type": "stream",
     "text": [
      "['탱크보이', '폴라포', '빵빠레', '월드콘', '메로나']\n"
     ]
    }
   ],
   "source": [
    "#4. 다음의 딕셔너리로부터 key 값으로만 구성된 리스트를 생성하라.(힌트:딕셔너리 keys() 메서드)\n",
    "\n",
    "icecream = {'탱크보이': 1200, '폴라포': 1200, '빵빠레': 1800, '월드콘': 1500, '메로나': 1000}\n",
    "\n",
    "ice_list = []\n",
    "for i in icecream.keys():\n",
    "    ice_list.append(i)\n",
    "\n",
    "print(ice_list)\n",
    "\n"
   ]
  },
  {
   "cell_type": "code",
   "execution_count": 14,
   "metadata": {},
   "outputs": [
    {
     "name": "stdout",
     "output_type": "stream",
     "text": [
      "6700\n"
     ]
    }
   ],
   "source": [
    "#5.icecream 딕셔너리에서 아이스크림 판매 금액의 총합을 출력하라.\n",
    "\n",
    "icecream = {'탱크보이': 1200, '폴라포': 1200, '빵빠레': 1800, '월드콘': 1500, '메로나': 1000}\n",
    "\n",
    "sum = 0\n",
    "for i in icecream.values():\n",
    "    sum += i\n",
    "\n",
    "print(sum)"
   ]
  },
  {
   "cell_type": "code",
   "execution_count": 68,
   "metadata": {},
   "outputs": [
    {
     "name": "stdout",
     "output_type": "stream",
     "text": [
      "6700\n"
     ]
    }
   ],
   "source": [
    "icecream = {'탱크보이': 1200, '폴라포': 1200, '빵빠레': 1800, '월드콘': 1500, '메로나': 1000}\n",
    "\n",
    "sum = 0\n",
    "for i in icecream:\n",
    "    sum += icecream[i]\n",
    "\n",
    "print(sum)"
   ]
  },
  {
   "cell_type": "code",
   "execution_count": 15,
   "metadata": {},
   "outputs": [
    {
     "name": "stdout",
     "output_type": "stream",
     "text": [
      "{'탱크보이': 1200, '폴라포': 1200, '빵빠레': 1800, '월드콘': 1500, '메로나': 1000, '팥빙수': 2700, '아맛나': 1000}\n"
     ]
    }
   ],
   "source": [
    "#6. 딕셔너리 update 메서드 아래의 new_product 딕셔너리를 다음 icecream 딕셔너리에 추가하라.\n",
    "\n",
    "icecream = {'탱크보이': 1200, '폴라포': 1200, '빵빠레': 1800, '월드콘': 1500, '메로나': 1000}\n",
    "new_product = {'팥빙수':2700, '아맛나':1000}\n",
    "\n",
    "icecream.update(new_product)\n",
    "print(icecream)"
   ]
  },
  {
   "cell_type": "code",
   "execution_count": 43,
   "metadata": {},
   "outputs": [
    {
     "name": "stdout",
     "output_type": "stream",
     "text": [
      "2000.28\n",
      "3050.427\n",
      "2050.287\n",
      "1980.277\n",
      "7501.05\n",
      "2050.287\n",
      "2050.287\n",
      "1980.277\n",
      "15452.163\n",
      "15052.107\n",
      "15552.177\n",
      "14902.086\n"
     ]
    },
    {
     "data": {
      "text/plain": [
       "Ellipsis"
      ]
     },
     "execution_count": 43,
     "metadata": {},
     "output_type": "execute_result"
    }
   ],
   "source": [
    "#7.data에는 매수한 종목들의 OHLC (open/high/low/close) 가격 정보가 바인딩 되어있다.\n",
    "# 수수료를 0.014 % 로 가정할 때, 각 가격에 수수료를 포함한 가격을 한라인에 하나씩 출력하라.\n",
    "data = [\n",
    "    [ 2000,  3050,  2050,  1980],\n",
    "    [ 7500,  2050,  2050,  1980],\n",
    "    [15450, 15050, 15550, 14900]\n",
    "]\n",
    "for i in data:\n",
    "    for j in i:\n",
    "        print(round(j*1.00014,3))\n",
    "    \n",
    "\n",
    "2000.28\n",
    "3050.427\n",
    "2050.2870000000003\n",
    "...\n"
   ]
  },
  {
   "cell_type": "code",
   "execution_count": 44,
   "metadata": {},
   "outputs": [
    {
     "name": "stdout",
     "output_type": "stream",
     "text": [
      "2000.28\n",
      "3050.427\n",
      "2050.287\n",
      "1980.277\n",
      "----\n",
      "7501.05\n",
      "2050.287\n",
      "2050.287\n",
      "1980.277\n",
      "----\n",
      "15452.163\n",
      "15052.107\n",
      "15552.177\n",
      "14902.086\n",
      "----\n"
     ]
    }
   ],
   "source": [
    "#8. 7번의 출력 결과에 행단위로 \"----\" 구분자를 추가하라.\n",
    "data = [\n",
    "    [ 2000,  3050,  2050,  1980],\n",
    "    [ 7500,  2050,  2050,  1980],\n",
    "    [15450, 15050, 15550, 14900]\n",
    "]\n",
    "for i in data:\n",
    "    for j in i:\n",
    "        print(round(j*1.00014,3))\n",
    "    print(\"----\")\n"
   ]
  },
  {
   "cell_type": "code",
   "execution_count": 49,
   "metadata": {},
   "outputs": [
    {
     "name": "stdout",
     "output_type": "stream",
     "text": [
      "100\n",
      "190\n",
      "310\n"
     ]
    },
    {
     "data": {
      "text/plain": [
       "310"
      ]
     },
     "execution_count": 49,
     "metadata": {},
     "output_type": "execute_result"
    }
   ],
   "source": [
    "# 9.ohlc 리스트에는 시가(open), 고가 (high), 저가 (low) , 종가(close)가 날짜별로 저장돼 있다. 화면에 종가데이터를 출력하라.\n",
    "\n",
    "ohlc = [[\"open\", \"high\", \"low\", \"close\"],\n",
    "        [100, 110, 70, 100],\n",
    "        [200, 210, 180, 190],\n",
    "        [300, 310, 300, 310]]\n",
    "\n",
    "for i in range(1,4):\n",
    "    print (ohlc[i][3])\n"
   ]
  },
  {
   "cell_type": "code",
   "execution_count": 51,
   "metadata": {},
   "outputs": [
    {
     "name": "stdout",
     "output_type": "stream",
     "text": [
      "190\n",
      "310\n"
     ]
    }
   ],
   "source": [
    "#10.ohlc 리스트에는 시가(open), 고가 (high), 저가 (low) , 종가(close)가 날짜별로 저장돼 있다.\n",
    "#  종가가 150원보다 큰경우에만 종가를 출력하라.\n",
    "\n",
    "ohlc = [[\"open\", \"high\", \"low\", \"close\"],\n",
    "        [100, 110, 70, 100],\n",
    "        [200, 210, 180, 190],\n",
    "        [300, 310, 300, 310]]\n",
    "for i in range(1,4):\n",
    "    if ohlc[i][3] < 150:\n",
    "        continue\n",
    "    print(ohlc[i][3])\n",
    "\n",
    "\n"
   ]
  },
  {
   "cell_type": "code",
   "execution_count": 58,
   "metadata": {},
   "outputs": [
    {
     "name": "stdout",
     "output_type": "stream",
     "text": [
      "100\n",
      "310\n"
     ]
    },
    {
     "data": {
      "text/plain": [
       "310"
      ]
     },
     "execution_count": 58,
     "metadata": {},
     "output_type": "execute_result"
    }
   ],
   "source": [
    "#11.ohlc 리스트에는 시가(open), 고가 (high), 저가 (low) , 종가(close)가 날짜별로 저장돼 있다.\n",
    "#  종가가 시가 보다 크거나 같은 경우에만 종가를 출력하라.\n",
    "\n",
    "ohlc = [[\"open\", \"high\", \"low\", \"close\"],\n",
    "        [100, 110, 70, 100],\n",
    "        [200, 210, 180, 190],\n",
    "        [300, 310, 300, 310]]\n",
    "for i in range(1,4):\n",
    "    if ohlc[i][3] >= ohlc[i][0]:\n",
    "        print(ohlc[i][3])\n",
    "    \n",
    "\n",
    "100\n",
    "310"
   ]
  },
  {
   "cell_type": "code",
   "execution_count": 59,
   "metadata": {},
   "outputs": [
    {
     "name": "stdout",
     "output_type": "stream",
     "text": [
      "[40, 30, 10]\n"
     ]
    }
   ],
   "source": [
    "#12.ohlc 리스트에는 시가(open), 고가 (high), 저가 (low) , 종가(close)가 날짜별로 저장돼 있다.\n",
    "#  고가와 저가의 차이를 변동폭으로 정의할 때 변동폭을 volatility 이름의 리스트에 저장하라.\n",
    "\n",
    "ohlc = [[\"open\", \"high\", \"low\", \"close\"],\n",
    "        [100, 110, 70, 100],\n",
    "        [200, 210, 180, 190],\n",
    "        [300, 310, 300, 310]]\n",
    "\n",
    "\n",
    "#>> print(volatility)\n",
    "#[40, 30, 10]\n",
    "\n",
    "volatility = []\n",
    "\n",
    "for i in range(1,4):\n",
    "   volatility.append(ohlc[i][1]-ohlc[i][2])\n",
    "   \n",
    "print(volatility)\n",
    "\n"
   ]
  },
  {
   "cell_type": "code",
   "execution_count": 62,
   "metadata": {},
   "outputs": [
    {
     "name": "stdout",
     "output_type": "stream",
     "text": [
      "10\n"
     ]
    }
   ],
   "source": [
    "#13.리스트에는 3일 간의 ohlc 데이터가 저장돼 있다. 종가가 시가보다 높은 날의 변동성 (고가 - 저가)을 화면에 출력하라.\n",
    "#종가가 시가보다 높은 거래일의 OHLC는 [300, 310, 300, 310] 이다. 따라서 이 거래일의 변동성은 10 (310 - 300)이다.\n",
    "#시가(open), 고가 (high), 저가 (low) , 종가(close)\n",
    "\n",
    "ohlc = [[\"open\", \"high\", \"low\", \"close\"],\n",
    "        [100, 110, 70, 100],\n",
    "        [200, 210, 180, 190],\n",
    "        [300, 310, 300, 310]]\n",
    "#변동성 저장.\n",
    "volatility = [0]\n",
    "for i in range(1,4):\n",
    "   volatility.append(ohlc[i][1]-ohlc[i][2])\n",
    "#고가 - 저가 비교\n",
    "for i in range(1,4):\n",
    "   if ohlc[i][3] > ohlc[i][0]:\n",
    "      print(volatility[i])\n"
   ]
  }
 ],
 "metadata": {
  "kernelspec": {
   "display_name": "env_django",
   "language": "python",
   "name": "python3"
  },
  "language_info": {
   "codemirror_mode": {
    "name": "ipython",
    "version": 3
   },
   "file_extension": ".py",
   "mimetype": "text/x-python",
   "name": "python",
   "nbconvert_exporter": "python",
   "pygments_lexer": "ipython3",
   "version": "3.10.16"
  }
 },
 "nbformat": 4,
 "nbformat_minor": 2
}
