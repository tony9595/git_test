{
 "cells": [
  {
   "cell_type": "code",
   "execution_count": 1,
   "metadata": {},
   "outputs": [
    {
     "name": "stdout",
     "output_type": "stream",
     "text": [
      "True\n",
      "<class 'bool'>\n"
     ]
    }
   ],
   "source": [
    "#Bool 형 자료 -> True, False \n",
    "\n",
    "True\n",
    "print(True)\n",
    "print(type(True))\n",
    "\n",
    "False\n",
    "print(False)\n",
    "print(type(False))"
   ]
  },
  {
   "cell_type": "code",
   "execution_count": 2,
   "metadata": {},
   "outputs": [
    {
     "data": {
      "text/plain": [
       "False"
      ]
     },
     "execution_count": 2,
     "metadata": {},
     "output_type": "execute_result"
    }
   ],
   "source": [
    "3 > 10 # CPU에서 연산후 bool형 return함\n",
    "\n",
    "### 데이터 타입의 진정한 의미는?\n",
    "# 개발자가 하나로 정해서 데이터를 올리면\n",
    "# 메모리에 값을 올릴때도 언어 차원에서 제공하는 데이터 타입중 한개로 올라가고\n",
    "# cpu가 답을 줄때도 데이터 타입 중 하나의 타입을 잡아 응답을 준다."
   ]
  },
  {
   "cell_type": "code",
   "execution_count": 205,
   "metadata": {},
   "outputs": [
    {
     "name": "stdout",
     "output_type": "stream",
     "text": [
      "양수\n"
     ]
    }
   ],
   "source": [
    "#if 문\n",
    "\n",
    "def main(): # 메인함수 정의의\n",
    "    num = int(input(\"정수 입력:\"))\n",
    "    if num > 0: # 조건 True, false가 리턴되는 구문문\n",
    "        print(\"양수\")\n",
    "    elif num < 0:\n",
    "        print(\"음수\")\n",
    "    elif num == 0: # '!=' 다를때, '=='같을때\n",
    "        print(\"0\")\n",
    "\n",
    "\n",
    "main()"
   ]
  },
  {
   "cell_type": "code",
   "execution_count": null,
   "metadata": {},
   "outputs": [
    {
     "name": "stdout",
     "output_type": "stream",
     "text": [
      "음수\n"
     ]
    }
   ],
   "source": [
    "# else\n",
    "\n",
    "num = int(input(\"정수 입력:\"))\n",
    "\n",
    "if num >= 0:\n",
    "    print(\"양수\")\n",
    "else:\n",
    "    print(\"음수\")"
   ]
  },
  {
   "cell_type": "code",
   "execution_count": null,
   "metadata": {},
   "outputs": [
    {
     "name": "stdout",
     "output_type": "stream",
     "text": [
      "0\n"
     ]
    }
   ],
   "source": [
    "# elif\n",
    "\n",
    "def main(): # 메인함수 정의의\n",
    "    num = int(input(\"정수 입력:\"))\n",
    "    if num > 0: # 조건 True, false가 리턴되는 구문문\n",
    "        print(\"양수\")\n",
    "    elif num < 0: # java => else if \n",
    "        print(\"음수\")\n",
    "    elif num < -1:\n",
    "        print('-1보다 작다다')\n",
    "    else:\n",
    "        print(\"0\")\n",
    "\n",
    "main()"
   ]
  },
  {
   "cell_type": "code",
   "execution_count": 17,
   "metadata": {},
   "outputs": [
    {
     "name": "stdout",
     "output_type": "stream",
     "text": [
      "거짓\n",
      "거짓\n",
      "참\n"
     ]
    }
   ],
   "source": [
    "True and True\n",
    "True and False\n",
    "\n",
    "if True and False:\n",
    "    print(\"참\")\n",
    "else:\n",
    "    print(\"거짓\")\n",
    "\n",
    "True or True\n",
    "False or False\n",
    "\n",
    "if False or False:\n",
    "    print(\"참\")\n",
    "else:\n",
    "    print(\"거짓\")\n",
    "\n",
    "not True\n",
    "not False\n",
    "if not False:\n",
    "    print(\"참\")\n",
    "else:\n",
    "    print(\"거짓\")\n"
   ]
  },
  {
   "cell_type": "code",
   "execution_count": null,
   "metadata": {},
   "outputs": [
    {
     "name": "stdout",
     "output_type": "stream",
     "text": [
      "맞습니다.\n"
     ]
    }
   ],
   "source": [
    "#if and if\n",
    "#2의 배수 이면서 3의 배수인 인수\n",
    "num = int(input(\"2의 배수이면서 3의배수 입력\"))\n",
    "\n",
    "if num %2 == 0 : # 2의 배수에 대한 프로그래밍적 표현.\n",
    "    if num%3 == 0 : # 3의 배수에 대한 프로그래밍적 표현.\n",
    "        print(\"맞습니다.\")\n",
    "    else:\n",
    "        print(\"아닌듯\")\n",
    "else:\n",
    "    print(\"어림 없는듯.\")"
   ]
  },
  {
   "cell_type": "code",
   "execution_count": 20,
   "metadata": {},
   "outputs": [
    {
     "name": "stdout",
     "output_type": "stream",
     "text": [
      "어림 없는듯.\n"
     ]
    }
   ],
   "source": [
    "# 논리연산자 활용\n",
    "\n",
    "num = int(input(\"2의 배수이면서 3의배수 입력\"))\n",
    "\n",
    "if (num % 2) == 0 and (num % 3) == 0: #두가지 조건을 만족시켜야 함.\n",
    "    print(\"맞습니다.\")\n",
    "else:\n",
    "    print(\"어림 없는듯.\")"
   ]
  },
  {
   "cell_type": "code",
   "execution_count": 34,
   "metadata": {},
   "outputs": [
    {
     "name": "stdout",
     "output_type": "stream",
     "text": [
      "270\n",
      "90.0\n",
      "수 입니다\n"
     ]
    }
   ],
   "source": [
    "# 퀴즈\n",
    "# 수우미양가\n",
    "\n",
    "def total(mat,eng,kor):\n",
    "    return(mat+eng+kor)\n",
    "\n",
    "print(total(90,90,90))\n",
    "\n",
    "def avg(mat,eng,kor):\n",
    "    return (mat+eng+kor)/3\n",
    "\n",
    "\n",
    "print(avg(90,90,90))\n",
    "\n",
    "def grade(avg):\n",
    "\n",
    "    result= \"가 입니다.\"\n",
    "\n",
    "    if avg >= 90:\n",
    "        result=\"수 입니다\"\n",
    "    elif avg >= 80:\n",
    "        result=\"우 입니다\"\n",
    "    elif avg >= 70:\n",
    "        result=\"미 입니다\"\n",
    "    elif avg >= 60:\n",
    "        result=\"양 입니다\"\n",
    "    else:\n",
    "        result=\"가 입니다\"\n",
    "\n",
    "    return result\n",
    "\n",
    "print(grade(avg(90,90,90)))\n",
    "    "
   ]
  },
  {
   "cell_type": "code",
   "execution_count": 38,
   "metadata": {},
   "outputs": [
    {
     "name": "stdout",
     "output_type": "stream",
     "text": [
      "총점 : 27 \n",
      "평균 : 9\n"
     ]
    }
   ],
   "source": [
    "def a():\n",
    "   kor = int(input(\"국어점수를 입력하세요.\")) \n",
    "   eng = int(input(\"영어점수를 입력하세요.\")) \n",
    "   mat = int(input(\"수학점수를 입력하세요.\")) \n",
    "   \n",
    "   total = (kor+eng+mat)\n",
    "   avg = (kor+eng+mat)/3\n",
    "   print(\"총점 : %d \\n평균 : %d\"%(total,avg))\n",
    "\n",
    "a()\n",
    "\n",
    "\n"
   ]
  },
  {
   "cell_type": "code",
   "execution_count": 45,
   "metadata": {},
   "outputs": [
    {
     "data": {
      "text/plain": [
       "True"
      ]
     },
     "execution_count": 45,
     "metadata": {},
     "output_type": "execute_result"
    }
   ],
   "source": [
    "#리스트 및 문자열 에서의 관계 연산자자\n",
    "[1,2]==[1,2]#True\n",
    "\n",
    "\"abc\" ==\"abc\"#False\n",
    "\"abc\" ==\"Abc\"#True\n",
    "\"abc\".isdigit()#False\n",
    "\"123\".isdigit()#True\n",
    "\n",
    "a= \"123\"\n",
    "a.isdigit()"
   ]
  },
  {
   "cell_type": "code",
   "execution_count": 53,
   "metadata": {},
   "outputs": [
    {
     "name": "stdout",
     "output_type": "stream",
     "text": [
      "유효하지 않습니다.\n"
     ]
    }
   ],
   "source": [
    "# is _phon_num\n",
    "\n",
    "def main():\n",
    "    phone_num = input(\"번호\")\n",
    "    if phone_num.isdigit and (\"010\" in phone_num):\n",
    "        print(\"전화번호가 유효합니다.\")\n",
    "    else:\n",
    "        print(\"유효하지 않습니다.\")\n",
    "\n",
    "main()"
   ]
  },
  {
   "cell_type": "code",
   "execution_count": 54,
   "metadata": {},
   "outputs": [
    {
     "name": "stdout",
     "output_type": "stream",
     "text": [
      "있습니다.\n"
     ]
    },
    {
     "data": {
      "text/plain": [
       "True"
      ]
     },
     "execution_count": 54,
     "metadata": {},
     "output_type": "execute_result"
    }
   ],
   "source": [
    "s = \"Tomato spaghetti\"\n",
    "\n",
    "if s.find(\"ghe\") !=-1:\n",
    "    print(\"있습니다.\")\n",
    "else:\n",
    "    (\"없습니다.\")\n",
    "\n",
    "\n",
    "'''\n",
    "if \"ghe\" in s:\n",
    "    print(\"있습니다.\")\n",
    "else:\n",
    "    (\"없습니다.\")\n",
    "'''"
   ]
  },
  {
   "cell_type": "code",
   "execution_count": 57,
   "metadata": {},
   "outputs": [
    {
     "data": {
      "text/plain": [
       "True"
      ]
     },
     "execution_count": 57,
     "metadata": {},
     "output_type": "execute_result"
    }
   ],
   "source": [
    "[3] in[1,2,3] # 리스트 안에 3이 있는가?\n",
    "[4] not in [1,2,3] # 리스트 안에 4가 없는가?"
   ]
  },
  {
   "cell_type": "code",
   "execution_count": 59,
   "metadata": {},
   "outputs": [
    {
     "name": "stdout",
     "output_type": "stream",
     "text": [
      "참\n"
     ]
    }
   ],
   "source": [
    "if -1:\n",
    "    print(\"참\")\n",
    "else:\n",
    "    print(\"거짓\")"
   ]
  },
  {
   "cell_type": "code",
   "execution_count": 61,
   "metadata": {},
   "outputs": [
    {
     "data": {
      "text/plain": [
       "False"
      ]
     },
     "execution_count": 61,
     "metadata": {},
     "output_type": "execute_result"
    }
   ],
   "source": [
    "bool(\"\")#False\n",
    "bool([])#False"
   ]
  },
  {
   "cell_type": "code",
   "execution_count": 71,
   "metadata": {},
   "outputs": [
    {
     "name": "stdout",
     "output_type": "stream",
     "text": [
      "*\n",
      "**\n",
      "***\n",
      "****\n",
      "*****\n"
     ]
    }
   ],
   "source": [
    "for i in range(5):\n",
    "    for j in range(i+1):\n",
    "        print(\"*\", end='')\n",
    "    print('')"
   ]
  },
  {
   "cell_type": "code",
   "execution_count": 94,
   "metadata": {},
   "outputs": [
    {
     "name": "stdout",
     "output_type": "stream",
     "text": [
      "*****\n",
      "****\n",
      "***\n",
      "**\n",
      "*\n"
     ]
    }
   ],
   "source": [
    "for i in range (5):\n",
    "\n",
    "    for j in range (5-i):\n",
    "        print (\"*\",end=\"\")\n",
    "    print(\"\")"
   ]
  },
  {
   "cell_type": "code",
   "execution_count": 96,
   "metadata": {},
   "outputs": [
    {
     "name": "stdout",
     "output_type": "stream",
     "text": [
      "     *\n",
      "    **\n",
      "   ***\n",
      "  ****\n",
      " *****\n"
     ]
    }
   ],
   "source": [
    "\n",
    "for i in range(5):\n",
    "    print(\" \"*(5-i),end='')\n",
    "    for j in range(i+1):\n",
    "        print(\"*\", end='')\n",
    "    print('')"
   ]
  },
  {
   "cell_type": "code",
   "execution_count": null,
   "metadata": {},
   "outputs": [],
   "source": []
  },
  {
   "cell_type": "code",
   "execution_count": null,
   "metadata": {},
   "outputs": [
    {
     "name": "stdout",
     "output_type": "stream",
     "text": [
      "홀수\n"
     ]
    }
   ],
   "source": [
    "#짝수 홀수 구분분\n",
    "a= int(input(\"숫자를 입력해주세요 : \"))\n",
    "\n",
    "if a%2 == 0:\n",
    "    print(\"짝수\")\n",
    "else:\n",
    "    print(\"홀수\")"
   ]
  },
  {
   "cell_type": "code",
   "execution_count": null,
   "metadata": {},
   "outputs": [
    {
     "name": "stdout",
     "output_type": "stream",
     "text": [
      "50\n"
     ]
    }
   ],
   "source": [
    "#입력값에 20더하기 (출력 최대값 255)\n",
    "num= int(input(\"숫자를 입력해주세요 : \"))\n",
    "num +=20\n",
    "if num < 255:\n",
    "    print(num)\n",
    "else:\n",
    "    print(255)"
   ]
  },
  {
   "cell_type": "code",
   "execution_count": null,
   "metadata": {},
   "outputs": [
    {
     "name": "stdout",
     "output_type": "stream",
     "text": [
      "정각입니다.\n"
     ]
    }
   ],
   "source": [
    "#사용자로부터 입력 받은 시간이 정각인지 판별하라\n",
    "user = str(input(\"시간을 입력해주세요.\"))\n",
    "\n",
    "if user.endswith(\"00\"):\n",
    "    print(\"정각입니다.\")\n",
    "else:\n",
    "    print(\"정각이 아닙니다.\")\n",
    "\n",
    "'''\n",
    "user = input(\"현재시간\")\n",
    "\n",
    "if user[-2:] == \"00\":\n",
    "    print(\"정각입니다.\")\n",
    "else:\n",
    "    print(\"정각이 아닙니다.\")\n",
    "    '''\n",
    "\n",
    "'''hour, minute = input(\"현재 시간 : \").split(\":\")\n",
    "\n",
    "minute = int(minute)\n",
    "if minute == 0 : \n",
    "    print(\"정각입니다.\")\n",
    "else :\n",
    "    print('정각이 아닙니다.')'''"
   ]
  },
  {
   "cell_type": "code",
   "execution_count": 103,
   "metadata": {},
   "outputs": [
    {
     "name": "stdout",
     "output_type": "stream",
     "text": [
      "정답입니다\n"
     ]
    }
   ],
   "source": [
    "#사용자에게 입력받은 단어가 리스트에 없을경우 오답입니다 출력력\n",
    "\n",
    "user = str(input(\"과일을 입력해주세요 :\"))\n",
    "\n",
    "fruit =[\"사과\",\"포도\",\"홍시\"]\n",
    "\n",
    "if user in fruit:\n",
    "    print(\"정답입니다\")\n",
    "else:\n",
    "    print(\"오답입니다.\")"
   ]
  },
  {
   "cell_type": "code",
   "execution_count": 108,
   "metadata": {},
   "outputs": [
    {
     "name": "stdout",
     "output_type": "stream",
     "text": [
      "3\n"
     ]
    }
   ],
   "source": [
    "# 사용자로부터 세 개의 숫자를 입력 받은 후 가장 큰 숫자를 출력하라.\n",
    "def main():\n",
    "    num1 = int(input(\"숫자를 입력해주세요\"))\n",
    "    num2 = int(input(\"숫자를 입력해주세요\"))\n",
    "    num3 = int(input(\"숫자를 입력해주세요\"))\n",
    "\n",
    "    print(max(num1,num2,num3))\n",
    "\n",
    "main()\n",
    "\n",
    "    \n",
    "\n"
   ]
  },
  {
   "cell_type": "code",
   "execution_count": null,
   "metadata": {},
   "outputs": [
    {
     "name": "stdout",
     "output_type": "stream",
     "text": [
      "98\n"
     ]
    }
   ],
   "source": [
    "#최댓값 출력력\n",
    "def main():\n",
    "    num1 = int(input(\"숫자를 입력해주세요\"))\n",
    "    num2 = int(input(\"숫자를 입력해주세요\"))\n",
    "    num3 = int(input(\"숫자를 입력해주세요\"))\n",
    "\n",
    "    if num1 <= num2 and num2 >=num3:\n",
    "        print(num2)\n",
    "    elif num2 <= num1 and num3 <=num1:\n",
    "        print(num1)\n",
    "    else:\n",
    "        print(num3)\n",
    "\n",
    "main()\n"
   ]
  },
  {
   "cell_type": "markdown",
   "metadata": {},
   "source": [
    "1.아래를 프로그래밍 하시오.\n",
    "\n",
    "# 수우미양가\n",
    "# 국어 영어 수학 입력을 받아 총점과 평균 그리고 성적을 프린트 하시오.\n",
    "\n",
    "print(total(90,90,90)) # 270\n",
    "print(avg(90,90,90)) # 90\n",
    "print(grade(avg(80,80,80))) # 우 입니다.\n",
    "\n",
    "2. if 문 3가지에 대하여 설명하시오.\n",
    "\n",
    "1).if : 기본적인 조건문 (if 조건 :) 형식으로 작성하게 된다.\n",
    "\n",
    "2) if else : 2지선다, 다지선다중 무조건 선택이 필요할때 사용한다.\n",
    "어떤 조건에도 부합하지 않을때 반응한다 \n",
    "\n",
    "3) if elif 1가지 이상의 조건을 필요로 할때 사용이 된다.\n",
    "\n",
    "\n",
    "\n",
    "3. del 명령어에 대하여 설명하시오.\n",
    "삭제할때 사용하게 되는 명령어로. 인덱싱이 가능하다.\n",
    "또한 리스트삭제시 변수명까지 삭제가 된다.\n",
    "\n",
    "4. 아래를 예측하시오.\n",
    "if -1:\n",
    "    print(\"참\")\n",
    "else:\n",
    "    print(\"거짓\")\n",
    "참 (숫자형의 경우 0이외의 값은 참의 값을 가지게 된다.)\n",
    "\n",
    "5.사용자로부터 값을 입력받은 후 해당 값에 20을 더한 값을 출력하라. 단 사용자가 입력한 값과 20을 더한 계산 값이 255를 초과하는 경우 255를 출력해야 한다.\n",
    "\n",
    "6.사용자로부터 하나의 값을 입력받은 후 해당 값에 20을 뺀 값을 출력하라. 단 출력 값의 범위는 0~255이다. 예를 들어 결괏값이 0보다 작은 값이되는 경우 0을 출력하고 255보다 큰 값이 되는 경우 255를 출력해야 한다.\n",
    "\n",
    "7.\n",
    "휴대폰 번호 앞자리에 따라 통신사는 아래와 같이 구분된다. 사용자로부터 휴대전화 번호를 입력 받고, 통신사를 출력하는 프로그램을 작성하라.\n",
    "\n",
    "번호통신사\n",
    "011SKT\n",
    "016KT\n",
    "019LGU\n",
    "010알수없음\n",
    "\n",
    ">> 휴대전화 번호 입력: 011-345-1922\n",
    "당신은 SKT 사용자입니다.\n",
    "\n",
    "8.주민등록번호 뒷 자리 7자리 중 첫째 자리는 성별을 나타내는데, 1, 3은 남자 2, 4는 여자를 의미한다. 사용자로부터 13자리의 주민등록번호를 입력 받은 후 성별 (남자, 여자)를 출력하는 프로그램을 작성하라. (힌트) split\n",
    "\n",
    ">> 주민등록번호: 821010-1635210\n",
    "남자\n",
    "\n",
    "9. 아래 코드는 비트코인의 가격 정보를 딕셔너리로 가져오는 코드이다.(비트코인 가격을 받아오지 못하면 풀지 말것)\n",
    "import requests\n",
    "btc = requests.get(\"https://api.bithumb.com/public/ticker/\").json()['data'] \n",
    "\n",
    "btc 딕셔너리 안에는 시가, 종가, 최고가, 최저가 등이 저장되어 있다. 최고가와 최저가의 차이를 변동폭으로 정의할 때 (시가 + 변동폭)이 최고가 보다 높을 경우 \"상승장\", 그렇지 않은 경우 \"하락장\" 문자열을 출력하라.\n",
    "\n",
    "Key NameDescription\n",
    "opening_price최근 24시간 내 시작 거래금액\n",
    "closing_price최근 24시간 내 마지막 거래금액\n",
    "min_price최근 24시간 내 최저 거래금액\n",
    "max_price최근 24시간 내 최고 거래금액\n",
    "\n",
    "\n",
    "10.리스트에는 네 개의 문자열이 바인딩돼 있다.\n",
    "리스트 = [\"가\", \"나\", \"다\", \"라\"]\n",
    "for문을 사용해서 다음과 같이 출력하라.\n",
    "\n",
    "라\n",
    "다\n",
    "나\n",
    "가\n",
    "\n",
    "11.리스트에는 네 개의 문자열이 바인딩돼 있다. (힌트 step 할용)\n",
    "\n",
    "리스트 = [\"가\", \"나\", \"다\", \"라\"]\n",
    "for문을 사용해서 다음과 같이 출력하라.\n",
    "\n",
    "가\n",
    "다\n",
    "\n",
    "12.#사용자로부터 세 개의 숫자를 입력 받은 후 가장 큰 숫자를 출력하라.\n",
    "number1: 10\n",
    "number2: 9\n",
    "number3: 20\n",
    "\n",
    "13.리스트에는 네 개의 문자열이 바인딩돼 있다.\n",
    "\n",
    "리스트 = [\"가\", \"나\", \"다\", \"라\"]\n",
    "for문을 사용해서 다음과 같이 출력하라. #힌트 슬라이싱 스텝을 -1로\n",
    "\n",
    "라\n",
    "다\n",
    "나\n",
    "가\n",
    "\n",
    "14. 리스트에서 세 글자 이상의 문자를 화면에 출력하라.\n",
    "\n",
    "리스트 = [\"I\", \"study\", \"python\", \"language\", \"!\"]\n",
    "\n",
    "study\n",
    "python\n",
    "language\n",
    "\n",
    "\n",
    "\n",
    "15.\n",
    "리스트에서 대문자만 화면에 출력하라.\n",
    "\n",
    "리스트 = [\"A\", \"b\", \"c\", \"D\"]\n",
    "\n",
    "16.\n",
    "이름의 첫 글자를 대문자로 변경해서 출력하라.\n",
    "\n",
    "리스트 = ['dog', 'cat', 'parrot']\n",
    "Dog\n",
    "Cat\n",
    "Parrot\n",
    "\n",
    "17.\n",
    "파일 이름이 저장된 리스트에서 확장자가 .h인 파일 이름을 출력하라.\n",
    "\n",
    "리스트 = ['intra.h', 'intra.c', 'define.h', 'run.py']\n",
    "intra.h\n",
    "define.h\n",
    "\n",
    "\n",
    "세줄요약)\n",
    "1. if 문에는 3가지 문법을 제공한다.\n",
    "2. 각각의 데이터 타입에 해당되는 형변환 함수가 있다.\n",
    "3. 데이터 타입의 진정한 의미는 언어차원에서 제공하는 데이타 타입중 하나로 메모리로 올라간다. "
   ]
  },
  {
   "cell_type": "code",
   "execution_count": 180,
   "metadata": {},
   "outputs": [
    {
     "name": "stdout",
     "output_type": "stream",
     "text": [
      "점수의 총합은 210점 입니다.\n",
      "점수의 평균은 70점 입니다.\n",
      "미\n"
     ]
    }
   ],
   "source": [
    "#1.아래를 프로그래밍 하시오.\n",
    "\n",
    "# 수우미양가\n",
    "# 국어 영어 수학 입력을 받아 총점과 평균 그리고 성적을 프린트 하시오.\n",
    "'''print(total(90,90,90)) # 270\n",
    "print(avg(90,90,90)) # 90\n",
    "print(grade(avg(80,80,80))) # 우 입니다.'''\n",
    "\n",
    "kor = int(input(\"국어성적을 입력해주세요 : \"))\n",
    "eng = int(input(\"영어성적을 입력해주세요 : \"))\n",
    "mat = int(input(\"수학성적을 입력해주세요 : \"))\n",
    "\n",
    "def total():\n",
    "    total_sc = (kor+eng+mat)\n",
    "    print(\"점수의 총합은 %d점 입니다.\"%total_sc)\n",
    "    total_sc /= 3\n",
    "    print(\"점수의 평균은 %d점 입니다.\"%total_sc)\n",
    "    if (total_sc)>=90:\n",
    "        print(\"수\")\n",
    "    elif (total_sc)>=80:\n",
    "        print(\"우\")\n",
    "    elif (total_sc)>=70:\n",
    "        print(\"미\")\n",
    "    elif (total_sc)>=60:\n",
    "        print(\"양\")\n",
    "    else:\n",
    "        print(\"가\")\n",
    "\n",
    "total()"
   ]
  },
  {
   "cell_type": "code",
   "execution_count": 120,
   "metadata": {},
   "outputs": [
    {
     "name": "stdout",
     "output_type": "stream",
     "text": [
      "255\n",
      "0\n"
     ]
    }
   ],
   "source": [
    "#5.사용자로부터 값을 입력받은 후 해당 값에 20을 더한 값을 출력하라.\n",
    "#  단 사용자가 입력한 값과 20을 더한 계산 값이 255를 초과하는 경우 255를 출력해야 한다.\n",
    "a = int(input(\"숫자를 입력해주세요 :\"))\n",
    "\n",
    "if (a+20) >= 255:\n",
    "    print(255)\n",
    "else:\n",
    "    print(a+20)\n",
    "\n",
    "#6.사용자로부터 하나의 값을 입력받은 후 해당 값에 20을 뺀 값을 출력하라. 단 출력 값의 범위는 0~255이다.\n",
    "#  예를 들어 결괏값이 0보다 작은 값이되는 경우 0을 출력하고 255보다 큰 값이 되는 경우 255를 출력해야 한다.\n",
    "a = int(input(\"숫자를 입력해주세요 :\"))\n",
    "\n",
    "if (a-20) >= 255 :\n",
    "    print(255)\n",
    "elif (a-20) <= 0:\n",
    "    print(0)\n",
    "else:\n",
    "    print(a-20)"
   ]
  },
  {
   "cell_type": "code",
   "execution_count": 123,
   "metadata": {},
   "outputs": [
    {
     "name": "stdout",
     "output_type": "stream",
     "text": [
      "KT\n"
     ]
    }
   ],
   "source": [
    "#7\n",
    "'''\n",
    "7.\n",
    "휴대폰 번호 앞자리에 따라 통신사는 아래와 같이 구분된다. 사용자로부터 휴대전화 번호를 입력 받고, 통신사를 출력하는 프로그램을 작성하라.\n",
    "\n",
    "번호통신사\n",
    "011SKT\n",
    "016KT\n",
    "019LGU\n",
    "010알수없음\n",
    "'''\n",
    "phone_num = input(\"번호를 입력해주세요\")\n",
    "\n",
    "print(phone_num)\n",
    "if phone_num.startswith(\"011\"):\n",
    "    print(\"SKT\")\n",
    "elif phone_num.startswith(\"016\"):\n",
    "    print(\"KT\")\n",
    "elif phone_num.startswith(\"019\"):\n",
    "    print(\"LGU\")\n",
    "else:\n",
    "    print(\"알수없음\")"
   ]
  },
  {
   "cell_type": "code",
   "execution_count": 127,
   "metadata": {},
   "outputs": [
    {
     "name": "stdout",
     "output_type": "stream",
     "text": [
      "여자입니다.\n"
     ]
    }
   ],
   "source": [
    "#8.주민등록번호 뒷 자리 7자리 중 첫째 자리는 성별을 나타내는데, 1, 3은 남자 2, 4는 여자를 의미한다.\n",
    "# 사용자로부터 13자리의 주민등록번호를 입력 받은 후 성별 (남자, 여자)를 출력하는 프로그램을 작성하라. (힌트) split\n",
    "\n",
    "id_fnum, id_bnum = input(\"주민등록번호를 입력해주세요\").split('-')\n",
    "\n",
    "if id_bnum.startswith(\"1\") or id_bnum.startswith(\"3\"):\n",
    "    print(\"남자입니다.\")\n",
    "else:\n",
    "    print(\"여자입니다.\")"
   ]
  },
  {
   "cell_type": "code",
   "execution_count": 1,
   "metadata": {},
   "outputs": [
    {
     "name": "stdout",
     "output_type": "stream",
     "text": [
      "라\n",
      "다\n",
      "나\n",
      "가\n",
      "가\n",
      "다\n"
     ]
    }
   ],
   "source": [
    "#10,11\n",
    "\n",
    "kor = [\"가\", \"나\", \"다\", \"라\"]\n",
    "\n",
    "\n",
    "for i in kor[::-1]:\n",
    "    print(i)\n",
    "\n",
    "\n",
    "for i in kor[::2]:\n",
    "    print(i)\n"
   ]
  },
  {
   "cell_type": "code",
   "execution_count": 148,
   "metadata": {},
   "outputs": [
    {
     "name": "stdout",
     "output_type": "stream",
     "text": [
      "350\n"
     ]
    }
   ],
   "source": [
    "#12.사용자로부터 세 개의 숫자를 입력 받은 후 가장 큰 숫자를 출력하라.\n",
    "\n",
    "num1 = int(input(\"숫자\"))\n",
    "num2 = int(input(\"숫자\"))\n",
    "num3 = int(input(\"숫자\"))\n",
    "\n",
    "def max():\n",
    "    if num1 >= num2 and num3 <= num1:\n",
    "        print(num1)\n",
    "    elif num1 <= num2 and num3 <= num2:\n",
    "        print(num2)\n",
    "    else:\n",
    "        print(num3)\n",
    "\n",
    "max()"
   ]
  },
  {
   "cell_type": "code",
   "execution_count": 185,
   "metadata": {},
   "outputs": [
    {
     "name": "stdout",
     "output_type": "stream",
     "text": [
      "study\n",
      "python\n",
      "language\n",
      "김치만두\n"
     ]
    }
   ],
   "source": [
    "#14. 리스트에서 세 글자 이상의 문자를 화면에 출력하라.\n",
    "\n",
    "a = [\"I\", \"study\", \"python\", \"language\", \"!\",\"김치\",\"김치만두\"]\n",
    "for i in range(len(a)):\n",
    "    if len(a[i])> 3:\n",
    "        print(a[i])"
   ]
  },
  {
   "cell_type": "code",
   "execution_count": 186,
   "metadata": {},
   "outputs": [
    {
     "name": "stdout",
     "output_type": "stream",
     "text": [
      "A\n",
      "D\n"
     ]
    }
   ],
   "source": [
    "#15.리스트에서 대문자만 화면에 출력하라.\n",
    "\n",
    "a = [\"A\", \"b\", \"c\", \"D\"]\n",
    "for i in range(len(a)):\n",
    "    if (a[i].isupper()):\n",
    "        print(a[i])"
   ]
  },
  {
   "cell_type": "code",
   "execution_count": 187,
   "metadata": {},
   "outputs": [
    {
     "name": "stdout",
     "output_type": "stream",
     "text": [
      "Dog\n",
      "Cat\n",
      "Parrot\n",
      "박덕현현\n"
     ]
    }
   ],
   "source": [
    "#16.이름의 첫 글자를 대문자로 변경해서 출력하라.\n",
    "\n",
    "ani = ['dog', 'cat', 'parrot']\n",
    "for i in range(len(ani)):\n",
    "     a=ani[i]\n",
    "     print(a[:1].upper()+a[1:])\n",
    "    \n",
    "\n",
    "'''\n",
    "for a in ani:\n",
    "     a=a[0].upper()+a[1:]\n",
    "     print(a)\n",
    "'''\n",
    "'''\n",
    "함수 사용\n",
    "for a in ani:\n",
    "     print(a.capitalize())\n",
    "'''\n"
   ]
  },
  {
   "cell_type": "code",
   "execution_count": 179,
   "metadata": {},
   "outputs": [
    {
     "name": "stdout",
     "output_type": "stream",
     "text": [
      "intra.h\n",
      "define.h\n"
     ]
    }
   ],
   "source": [
    "#17. 파일 이름이 저장된 리스트에서 확장자가 .h인 파일 이름을 출력하라.\n",
    "\n",
    "f = ['intra.h', 'intra.c', 'define.h', 'run.py']\n",
    "for i in range(len(f)):\n",
    "    if (f[i].endswith(\".h\")):\n",
    "        print(f[i])"
   ]
  },
  {
   "cell_type": "code",
   "execution_count": 203,
   "metadata": {},
   "outputs": [
    {
     "name": "stdout",
     "output_type": "stream",
     "text": [
      "남자입니다.\n",
      "951024-1358016\n"
     ]
    }
   ],
   "source": [
    "id_num = input(\"주민등록번호를 입력해주세요'\")\n",
    "def mel():\n",
    "    if '-'in id_num:\n",
    "        id_fnum, id_bnum = id_num.split('-')\n",
    "        if id_bnum.startswith(\"1\") or id_bnum.startswith(\"3\"):\n",
    "            print(\"남자입니다.\")\n",
    "            print(id_num)\n",
    "    elif id_num.find('-') == -1:\n",
    "        if id_num[6:7] == '1' or id_num[6:7] == '3':\n",
    "            print(\"남자입니다.\")\n",
    "            print(id_num[:6],\"-\",id_num[6:])\n",
    "        else:\n",
    "            print(\"여자입니다.\")\n",
    "            print(id_num[:6],\"-\",id_num[6:])\n",
    "\n",
    "\n",
    "mel()"
   ]
  },
  {
   "cell_type": "code",
   "execution_count": null,
   "metadata": {},
   "outputs": [],
   "source": [
    "#index 사용\n",
    "        if id_num[6:7] == 1 or id_num[6:7] == 3:\n",
    "            print(\"남자입니다.\")\n",
    "        else:\n",
    "            print(\"여자입니다.\")\n",
    "    \n",
    "#split 사용\n",
    "        id_fnum, id_bnum = id_num.split('-')\n",
    "\n",
    "        if id_bnum.startswith(\"1\") or id_bnum.startswith(\"3\"):\n",
    "            print(\"남자입니다.\")\n",
    "        else:\n",
    "            print(\"여자입니다.\")"
   ]
  }
 ],
 "metadata": {
  "kernelspec": {
   "display_name": "env_django",
   "language": "python",
   "name": "python3"
  },
  "language_info": {
   "codemirror_mode": {
    "name": "ipython",
    "version": 3
   },
   "file_extension": ".py",
   "mimetype": "text/x-python",
   "name": "python",
   "nbconvert_exporter": "python",
   "pygments_lexer": "ipython3",
   "version": "3.10.16"
  }
 },
 "nbformat": 4,
 "nbformat_minor": 2
}
