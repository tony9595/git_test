{
 "cells": [
  {
   "cell_type": "markdown",
   "metadata": {},
   "source": [
    "스페셜 메소드란\n",
    "\n",
    "__xx__구조의 함수\n",
    "\n",
    "특정 상황에서 자동으로 호출 되는 메소드\n",
    "__init__(대표함수) - 객체가 생성될때 자동호출됨\n",
    "\n",
    "dir(객체) 내장 함수,변수를 보여주는 함수\n",
    "__dir__이 호출되는 원리임\n",
    "\n",
    "스페셜 함수 각각의 데이터 타입마다 고유하다."
   ]
  },
  {
   "cell_type": "code",
   "execution_count": 1,
   "metadata": {},
   "outputs": [
    {
     "name": "stdout",
     "output_type": "stream",
     "text": [
      "2\n",
      "2\n",
      "3\n",
      "3\n",
      "<__main__.Car object at 0x00000206DF31E410>\n"
     ]
    }
   ],
   "source": [
    "#스페셜 함수의 응용\n",
    "\n",
    "class Sentence:\n",
    "    def __init__(self,s):\n",
    "        self.words = s.split()\n",
    "    def __len__(self):         #스페셜 메소드 len을 호출\n",
    "        return len(self.words)\n",
    "\n",
    "s = Sentence(\"hello world\")\n",
    "print(len(s.words)) # s객체 안에 리스트 자료형을 불러옴.\n",
    "print(len(s)) #오류가 나는 이유 s객체는 len 함수가 없음.\n",
    "\n",
    "# 스페셜 메소드를 직접 호출 하는법\n",
    "\n",
    "t = (1,2,3)\n",
    "print(len(t)) #t.__len__()\n",
    "print(t.__len__())\n",
    "t.__mul__(2)\n",
    "\n",
    "#__str__\n",
    "class Car:\n",
    "    def __init__(self):\n",
    "        pass\n",
    "    #def __str__(self):\n",
    "    #    return \"Car 클래스 객체\"\n",
    "\n",
    "car = Car()\n",
    "print(car)#<__main__.Car object(메인. 카 객체) at 0x00000282F47303A0(는 0x00~~~이 주소에 있다.)>"
   ]
  }
 ],
 "metadata": {
  "kernelspec": {
   "display_name": "env_django",
   "language": "python",
   "name": "python3"
  },
  "language_info": {
   "codemirror_mode": {
    "name": "ipython",
    "version": 3
   },
   "file_extension": ".py",
   "mimetype": "text/x-python",
   "name": "python",
   "nbconvert_exporter": "python",
   "pygments_lexer": "ipython3",
   "version": "3.10.16"
  }
 },
 "nbformat": 4,
 "nbformat_minor": 2
}
