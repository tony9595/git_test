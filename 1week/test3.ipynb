{
 "cells": [
  {
   "cell_type": "code",
   "execution_count": 9,
   "metadata": {},
   "outputs": [
    {
     "name": "stdout",
     "output_type": "stream",
     "text": [
      "hello world\n"
     ]
    }
   ],
   "source": [
    "print(\"hello world\") #문자열 출력"
   ]
  },
  {
   "cell_type": "code",
   "execution_count": 19,
   "metadata": {},
   "outputs": [
    {
     "name": "stdout",
     "output_type": "stream",
     "text": [
      "5\n",
      "5\n",
      "3+5\n",
      "3+5= 8\n",
      "a b\n",
      "1 2 3 hello hello\n",
      "12\n",
      "3\n"
     ]
    }
   ],
   "source": [
    "print(\"5\")\n",
    "print(5)\n",
    "print('3+5')\n",
    "#숫자형과 문자형 데이터\n",
    "\n",
    "print('3+5=',8)\n",
    "print('a', 'b')\n",
    "print(1,2,3,'hello','hello')\n",
    "print('1'+'2')\n",
    "# print('1'+2) java와 다름 print 문에서는 기본적으로 데이터 타입(str, int, flot...)을 맞춰줘야 함.\n",
    "print(int('1')+2)"
   ]
  },
  {
   "cell_type": "code",
   "execution_count": 22,
   "metadata": {},
   "outputs": [
    {
     "name": "stdout",
     "output_type": "stream",
     "text": [
      "30\n",
      "60\n",
      "60\n"
     ]
    },
    {
     "data": {
      "text/plain": [
       "60"
      ]
     },
     "execution_count": 22,
     "metadata": {},
     "output_type": "execute_result"
    }
   ],
   "source": [
    "val =30  #변수\n",
    "print(val)\n",
    "print(val + 30)\n",
    "print(val + 30)\n",
    "val =val + val\n",
    "val"
   ]
  },
  {
   "cell_type": "code",
   "execution_count": 23,
   "metadata": {},
   "outputs": [
    {
     "name": "stdout",
     "output_type": "stream",
     "text": [
      "55\n"
     ]
    }
   ],
   "source": [
    "v1 = 25\n",
    "v2 = 30\n",
    "print(v1 + v2)"
   ]
  },
  {
   "cell_type": "code",
   "execution_count": 26,
   "metadata": {},
   "outputs": [
    {
     "name": "stdout",
     "output_type": "stream",
     "text": [
      "390\n",
      "130.0\n"
     ]
    }
   ],
   "source": [
    "x= 3*50\n",
    "y = x+120*2\n",
    "z = y/3\n",
    "print(y)\n",
    "print(z)"
   ]
  },
  {
   "cell_type": "code",
   "execution_count": 30,
   "metadata": {},
   "outputs": [
    {
     "name": "stdout",
     "output_type": "stream",
     "text": [
      "100\n",
      "<class 'int'>\n",
      "3.14\n",
      "<class 'float'>\n",
      "hi~\n",
      "<class 'str'>\n"
     ]
    }
   ],
   "source": [
    "x = 100\n",
    "print(x)\n",
    "print(type(x))\n",
    "x = 3.14\n",
    "print(x)\n",
    "print(type(x))\n",
    "x = \"hi~\"\n",
    "print(x)\n",
    "print(type(x))"
   ]
  },
  {
   "cell_type": "code",
   "execution_count": 28,
   "metadata": {},
   "outputs": [
    {
     "name": "stdout",
     "output_type": "stream",
     "text": [
      "2\n"
     ]
    }
   ],
   "source": [
    "x = 1 + int(\"1\") #형변환 casting\n",
    "print(x)"
   ]
  },
  {
   "cell_type": "code",
   "execution_count": 31,
   "metadata": {},
   "outputs": [
    {
     "name": "stdout",
     "output_type": "stream",
     "text": [
      "797 797\n"
     ]
    }
   ],
   "source": [
    "x, y = 0, 797\n",
    "x=y\n",
    "print(x,y)"
   ]
  },
  {
   "cell_type": "code",
   "execution_count": 32,
   "metadata": {},
   "outputs": [
    {
     "name": "stdout",
     "output_type": "stream",
     "text": [
      "797 121\n"
     ]
    }
   ],
   "source": [
    "x, y = 121, 797\n",
    "x, y = y, x\n",
    "print(x,y)"
   ]
  },
  {
   "cell_type": "code",
   "execution_count": 26,
   "metadata": {},
   "outputs": [
    {
     "name": "stdout",
     "output_type": "stream",
     "text": [
      "제 이름은 김박김 입니다\n",
      "제 나이는 2225 살 입니다\n",
      "남자입니다\n"
     ]
    }
   ],
   "source": [
    "def ms(name, age, man=True):\n",
    "    print(\"제 이름은 %s 입니다\" %name)\n",
    "    print(\"제 나이는 %d 살 입니다\" %age)\n",
    "    if man:\n",
    "        print(\"남자입니다\")\n",
    "    else:\n",
    "        print(\"여자입니다\")\n",
    "\n",
    "ms(\"김박김\", 2225,\"여자\")"
   ]
  }
 ],
 "metadata": {
  "kernelspec": {
   "display_name": "env_django",
   "language": "python",
   "name": "python3"
  },
  "language_info": {
   "codemirror_mode": {
    "name": "ipython",
    "version": 3
   },
   "file_extension": ".py",
   "mimetype": "text/x-python",
   "name": "python",
   "nbconvert_exporter": "python",
   "pygments_lexer": "ipython3",
   "version": "3.10.16"
  }
 },
 "nbformat": 4,
 "nbformat_minor": 2
}
