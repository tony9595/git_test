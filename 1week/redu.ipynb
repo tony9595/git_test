{
 "cells": [
  {
   "cell_type": "code",
   "execution_count": null,
   "metadata": {},
   "outputs": [],
   "source": [
    "year = input(\"올해는\")\n",
    "\n",
    "year = eval(year) +1\n",
    "print(year)"
   ]
  },
  {
   "cell_type": "code",
   "execution_count": null,
   "metadata": {},
   "outputs": [],
   "source": [
    "print(eval(\"3+5\"))\n",
    "print(eval(\"10**2\"))\n"
   ]
  },
  {
   "cell_type": "code",
   "execution_count": null,
   "metadata": {},
   "outputs": [],
   "source": [
    "for i in [0,1,2]:\n",
    "    print(i)"
   ]
  },
  {
   "cell_type": "code",
   "execution_count": null,
   "metadata": {},
   "outputs": [],
   "source": [
    "sum = 0\n",
    "for i in range(1,1001):\n",
    "    sum = sum + i\n",
    "\n",
    "print(sum)"
   ]
  },
  {
   "cell_type": "code",
   "execution_count": null,
   "metadata": {},
   "outputs": [],
   "source": [
    "for i in range(5):\n",
    "    print(\"hello world\")"
   ]
  },
  {
   "cell_type": "code",
   "execution_count": null,
   "metadata": {},
   "outputs": [],
   "source": [
    "gu = 7\n",
    "\n",
    "for i in range(1,10):\n",
    "    print(\"%d * %d = %d\" %(gu, i, gu*i))"
   ]
  },
  {
   "cell_type": "code",
   "execution_count": null,
   "metadata": {},
   "outputs": [],
   "source": [
    "def gugudan(dan):\n",
    "\n",
    "    for i in range(1,10):\n",
    "        print(dan,\"*\", i ,\"=\", dan*i)\n",
    "\n",
    "gugudan(5)"
   ]
  },
  {
   "cell_type": "code",
   "execution_count": null,
   "metadata": {},
   "outputs": [],
   "source": [
    "\n",
    "def gudan(start,end):#곱셈의 범위위\n",
    "    for i in range(start,end+1): #단\n",
    "        for j in range (1,10): #곱\n",
    "            print(\"%d * %d = %d\"%(i , j , i*j))\n",
    "        print(\"%d 단 입니다.\\n\"%i)\n",
    "\n",
    "gudan(2,5)"
   ]
  },
  {
   "cell_type": "code",
   "execution_count": null,
   "metadata": {},
   "outputs": [],
   "source": [
    "#오차\n",
    "\n",
    "num1 = 1.000000000000001\n",
    "num2 = 1.1\n",
    "print(num1 + num2)\n",
    "2.1000000000000014 "
   ]
  },
  {
   "cell_type": "code",
   "execution_count": null,
   "metadata": {},
   "outputs": [],
   "source": [
    "'''num3= 3.14\n",
    "\n",
    "print(num3)\n",
    "print(int(num3))'''"
   ]
  },
  {
   "cell_type": "code",
   "execution_count": 79,
   "metadata": {},
   "outputs": [],
   "source": [
    "def say_myself(name, man,age = 27):\n",
    "    pass"
   ]
  },
  {
   "cell_type": "code",
   "execution_count": null,
   "metadata": {},
   "outputs": [],
   "source": [
    "def rec_area(x,y):\n",
    "    area = x*y/2\n",
    "    print(area)\n",
    "\n",
    "rec_area(3,4)\n",
    "\n",
    "def tri_area(x,y):\n",
    "    area = x* y\n",
    "    print(area)\n",
    "\n",
    "tri_area(2,5)\n",
    "\n",
    "def circle_area(x):\n",
    "    area = (x**2) * 3.14\n",
    "    print(area)\n",
    "\n",
    "circle_area(6)\n"
   ]
  }
 ],
 "metadata": {
  "kernelspec": {
   "display_name": "env_django",
   "language": "python",
   "name": "python3"
  },
  "language_info": {
   "codemirror_mode": {
    "name": "ipython",
    "version": 3
   },
   "file_extension": ".py",
   "mimetype": "text/x-python",
   "name": "python",
   "nbconvert_exporter": "python",
   "pygments_lexer": "ipython3",
   "version": "3.10.16"
  }
 },
 "nbformat": 4,
 "nbformat_minor": 2
}
