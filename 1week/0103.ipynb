{
 "cells": [
  {
   "cell_type": "code",
   "execution_count": null,
   "metadata": {},
   "outputs": [],
   "source": [
    "type(3.0)\n",
    "type(3)\n",
    "type([1,2,3])\n",
    "type(range(3)) #리스트를 담고있는 range객체"
   ]
  },
  {
   "cell_type": "code",
   "execution_count": null,
   "metadata": {},
   "outputs": [],
   "source": [
    "# 기본적인 산술 연산자자\n",
    "\n",
    "print(3*2) # * 곱연산산\n",
    "\n",
    "print(3**2) # x**y x를 y번 제곱한다.\n",
    "\n",
    "print(5/2) # / 나누기 연산\n",
    "\n",
    "print(5//2) # // 정수형 나누기 연산으로 int(5/2)로 표현할 수 있다.\n",
    "\n",
    "print(5%2) # % 나머지 연산 (홀수<나머지 == 1>와 짝수<나머지 == 0>를 구분할 때 사용할 수 있다.)"
   ]
  },
  {
   "cell_type": "code",
   "execution_count": null,
   "metadata": {},
   "outputs": [],
   "source": [
    "# int형 변환 float형 변환\n",
    "\n",
    "num = 10\n",
    "num = float(num) # 정수형 > 실수형 형변환이 가능하다.\n",
    "print(type(num))\n",
    "\n",
    "num = float(\"3.14\") #문자열을 넣어도 형변환을 시켜준다.\n",
    "print(type(num))\n",
    "\n",
    "num = int(3.14) # 실수형 > 정수형 형변환이 가능하다.\n",
    "                # 실수형 데이터는 잘려나간다.\n",
    "\n",
    "heigt = float(input(\"키 정보 입력 :\")) # 실수형으로 정보를 입력 받을 수 있다.                                          \n",
    "print(\"당신의 키는 : %dcm 입니다\" %heigt) # (float > int로 작성하면면정수형으로도 가능)\n",
    "\n"
   ]
  },
  {
   "cell_type": "code",
   "execution_count": null,
   "metadata": {},
   "outputs": [],
   "source": [
    "# 복합대입 연산자\n",
    "\n",
    "num = 10\n",
    "num += 1 # num = num + 1 \n",
    "print(num)\n",
    "num -= 1 # num = num - 1 \n",
    "print(num)\n",
    "num *= 3 # num = num * 3\n",
    "print(num)\n"
   ]
  },
  {
   "cell_type": "code",
   "execution_count": 10,
   "metadata": {},
   "outputs": [],
   "source": [
    "# 우선순위 소괄호()\n",
    "# 기본적으로 수학법칙을 따라 *, / 연산자 우선 +, - 이후이다\n",
    "# 연산자 우선순위가 같을 경우 좌에서 우로 계산을 하게된다.\n",
    "# 하지만 소괄호가 있는경우 소괄호 안에 있는 연산을 우선적으로 해주게 된다.\n",
    "# () > * , / >  +, -"
   ]
  },
  {
   "cell_type": "code",
   "execution_count": null,
   "metadata": {},
   "outputs": [],
   "source": [
    "# 2. 리스트\n",
    "'''\n",
    "def print(i, end = \"\\n):\n",
    "    print(i,end=\"\")\n",
    "프린트 뒤의 end 초기값은 줄바꿈으로 설정이 되어 있다.\n",
    "'''\n",
    "\n",
    "for i in [1,2,3]:\n",
    "    print(i, end='_')"
   ]
  },
  {
   "cell_type": "code",
   "execution_count": null,
   "metadata": {},
   "outputs": [],
   "source": [
    "#2.1 리스트 확인\n",
    "[1,2,3]\n",
    "print(type([1]))\n",
    "\n",
    "\n",
    "#리스트는 서로 다른 데이터 타입을 담을 수 있다.\n",
    "#이것이 타언어 배열과 다른점이다.\n",
    "[1,'hello',3.3] \n",
    "\n",
    "#리스트 안에 리스트가 들어갈 수 있다.\n",
    "st= [1,2,[3,4],['aaa','zzz']]\n",
    "print(st)"
   ]
  },
  {
   "cell_type": "markdown",
   "metadata": {},
   "source": [
    "배열과 리스트의 차이점\n",
    "\n",
    "-배열은 같은 데이터 타입만 담을 수 있다.\n",
    "\n",
    "-리스트는 서로 다른 데이터 타입을 담을 수 있다.\n",
    "\n",
    "-배열이 리스트보다 데이터를 읽어오는 속도가 빠르다."
   ]
  },
  {
   "cell_type": "code",
   "execution_count": null,
   "metadata": {},
   "outputs": [],
   "source": [
    "# 2.2 리스트간의 합연산과 곱연산산\n",
    "a = [1,2,3]\n",
    "b = [4,5]\n",
    "print (a+b)\n",
    "print (a*2)"
   ]
  },
  {
   "cell_type": "markdown",
   "metadata": {},
   "source": [
    "리스트는 합연산과 곱연산이 가능하다.\n",
    "\n",
    "각각의 데이터 타입마다 제공되는 연산이 다르다."
   ]
  },
  {
   "cell_type": "code",
   "execution_count": null,
   "metadata": {},
   "outputs": [],
   "source": [
    "# 2.3 인덱싱 연산 (리스트에서 값 가져오기)\n",
    "st = [1,2,3,4]\n",
    "\n",
    "n1 = st[0]  #리스트이름 + 가져올 값의 위치\n",
    "n2 = st[1]\n",
    "n3 = st[2]\n",
    "n4 = st[3]\n",
    "\n",
    "print(n1,n2,n3,n4)\n",
    "\n",
    "#리스트에 값을 넣기\n",
    "st[0] = 5\n",
    "st[3] = 6\n",
    "print(st)\n",
    "\n",
    "#파이썬에서만 제공하는 마이너스 인덱스\n",
    "#오른쪽을 기준으로 인덱싱이 가능\n",
    "#가장 왼쪽의 값은 -5 가 아닌 0 으로 표현한다\n",
    "st = [1,2,3,4,5]\n",
    "print(st[-1],st[-2],st[0])"
   ]
  },
  {
   "cell_type": "code",
   "execution_count": null,
   "metadata": {},
   "outputs": [],
   "source": [
    "# 2.4 슬라이싱 연산\n",
    "\n",
    "#값 가져오기기\n",
    "st1 = [1,2,3,4,5,6,7,8]\n",
    "st2 = st1[2:5] # 시작점은 이상의 개념, 끝점은 미만의 개념이다.\n",
    "print(st2)\n",
    "\n",
    "#값 넣기\n",
    "st1 = [1,2,3,4,5,6,7,8,9]\n",
    "st1[2:5] = [0,0,0,0,0]\n",
    "print(st1)\n",
    "\n",
    "st1[:] = []\n",
    "print(st1)\n"
   ]
  },
  {
   "cell_type": "code",
   "execution_count": null,
   "metadata": {},
   "outputs": [],
   "source": [
    "# 2.5 슬라이싱 연산에서 생략 가능한 부분\n",
    "\n",
    "st = [1,2,3,4,5]\n",
    "st[:3] = [0,0,0] #시작점이 0이면 생략한다.\n",
    "print(st)\n",
    "\n",
    "st = [1,2,3,4,5]\n",
    "st[2:] = [0,0,0] #종료점이 마지막부분이이면 생략한다.\n",
    "print(st)\n",
    "\n",
    "st = [1,2,3,4,5]\n",
    "st[:] = [0,0,0,0,0] #범위가 전체라면 범위설정을 생략한다다.\n",
    "print(st)"
   ]
  },
  {
   "cell_type": "code",
   "execution_count": null,
   "metadata": {},
   "outputs": [],
   "source": [
    "#2.6 리스트 스탭 응용\n",
    "\n",
    "st1 = [1,2,3,4,5,6,7,8,9,10,11,12,13,14,15]\n",
    "print(st1[0:10:2])\n",
    "print(st1[0:10:3])\n",
    "\n",
    "#2.7 스트링형 데이터 : 문자열형(String) 다루기\n",
    "#파이썬에서는 문자열에도 슬라이싱이 적용이 된다.\n",
    "#String의 CRUD\n",
    "\n",
    "print(type('what'))\n",
    "\n",
    "print(\"hello\"+\"everybody\") # str 데이터는 합연산이 가능하다\n",
    "print(\"vx\"*3) # str 데이터는 곱연산이 가능하다\n",
    "\n",
    "a = \"SIMPLEST\"\n",
    "print(a[2:5])\n",
    "\n",
    "# 문자형은 한번선언(메모리에 올라가면) 되면 수정불가\n",
    "# 데이터 타입 = 수정 가능한 데이터 / 수정 불가 데이터로 나눌수 있음\n",
    "# 문자형 데이터 / 튜플 -> 수정 불가 데이터\n",
    "# mutable(수정O) / immutable(수정X) 이라고 표현\n",
    "# mutable : list , dict\n",
    "# immutable : str, int, float ...나머지지\n",
    "\n",
    "name = \"홍길동\"\n",
    "print(id(name))\n",
    "#name[2] = \"순\" 인덱싱 업데이트는 불가하다\n",
    "name = \"홍길순\" \n",
    "# 데이터값을 변경하는것은 가능하다.\n",
    "print(id(name))\n",
    "\n"
   ]
  },
  {
   "cell_type": "markdown",
   "metadata": {},
   "source": [
    "변수 선언\n",
    "메모리의 주소 이외에 호출 가능한 키값을 설정하고 메모리 안에 특정 값을 저장한다.\n",
    "집으로 생각 하면\n",
    "10-2번지 집에 홍길동이 이사를 들어가서 '홍길동집'으로 부를 수 있는 10-2번지 집이 되고, 집에는 홍길동의 가족들이 들어가게 된다."
   ]
  },
  {
   "cell_type": "code",
   "execution_count": null,
   "metadata": {},
   "outputs": [],
   "source": [
    "# 2.8 리스트와 for 루프 그리고 문자열과 for 루프\n",
    "\n",
    "for i in [1,2,3]:\n",
    "    print(i,end= ' ')\n",
    "\n",
    "print()\n",
    "\n",
    "for i in 'Happy':\n",
    "    print(i,end=' ')\n"
   ]
  },
  {
   "cell_type": "code",
   "execution_count": null,
   "metadata": {},
   "outputs": [],
   "source": [
    "# 2.9 리스트와 문자열을 전달받는 함수\n",
    "\n",
    "st = [1,2,3]\n",
    "sr= 'HaHa Ha~'\n",
    "print(len(st))\n",
    "print(len(sr)) #공백도 하나의 데이터로 읽음\n",
    "#len 데이터를 받아서 카운팅해주는 함수\n",
    "# 아스키 코드에서 공백 32번 a=65 A= 97\n"
   ]
  },
  {
   "cell_type": "code",
   "execution_count": null,
   "metadata": {},
   "outputs": [],
   "source": [
    "# 2.10 리스트와 문자열을 인자로 전달하고 반환하기\n",
    "\n",
    "def so_simple2(st):\n",
    "    print(st)\n",
    "\n",
    "print(so_simple2([1,2,3]))"
   ]
  },
  {
   "cell_type": "code",
   "execution_count": null,
   "metadata": {},
   "outputs": [],
   "source": [
    "\n",
    "def greet(s):\n",
    "    print(s)\n",
    "    return \"bye\" # return 값이 str데이터로만 존재하기때문에 greer함수를 print함수로로 사용하지 않으면 표시되지않음\n",
    "\n",
    "greet(\"안녕하세요\")\n"
   ]
  },
  {
   "cell_type": "code",
   "execution_count": null,
   "metadata": {},
   "outputs": [],
   "source": [
    "for i in range(1,10):\n",
    "    for j in range(1,10):\n",
    "        print(\"%d*%d  = %d\"%(i,j,i*j))"
   ]
  },
  {
   "cell_type": "code",
   "execution_count": null,
   "metadata": {},
   "outputs": [],
   "source": [
    "def gugudan(num):\n",
    "    \n",
    "    for i in range(1,10):\n",
    "        print(\"%d*%d=%d\"%(num,i,num*i))\n",
    "\n",
    "print(gugudan(5))"
   ]
  },
  {
   "cell_type": "code",
   "execution_count": 4,
   "metadata": {},
   "outputs": [
    {
     "name": "stdout",
     "output_type": "stream",
     "text": [
      "*\n",
      "**\n",
      "***\n",
      "****\n",
      "*****\n"
     ]
    }
   ],
   "source": [
    "\n",
    "for i in range(5):\n",
    "    for j in range(i+1):\n",
    "        print(\"*\", end = \"\")\n",
    "    print(\"\")"
   ]
  },
  {
   "cell_type": "code",
   "execution_count": 3,
   "metadata": {},
   "outputs": [
    {
     "name": "stdout",
     "output_type": "stream",
     "text": [
      "    *\n",
      "   **\n",
      "  ***\n",
      " ****\n",
      "*****\n"
     ]
    }
   ],
   "source": [
    "num = 4\n",
    "num2 = 1\n",
    "for i in range(5):\n",
    "    print(\" \"*num, end=\"\")\n",
    "    for j in range(num2):\n",
    "        print(\"*\", end = \"\")\n",
    "    print(\"\")\n",
    "    num2 += 1\n",
    "    num -= 1\n"
   ]
  },
  {
   "cell_type": "code",
   "execution_count": 2,
   "metadata": {},
   "outputs": [
    {
     "name": "stdout",
     "output_type": "stream",
     "text": [
      "    *\n",
      "   **\n",
      "  ***\n",
      " ****\n",
      "*****\n"
     ]
    }
   ],
   "source": [
    "\n",
    "for i in range(1,6):\n",
    "    a = 5-i\n",
    "    print(\" \"*a, end=\"\")\n",
    "    for j in range(i):\n",
    "        print(\"*\", end = \"\")\n",
    "    print(\"\")\n",
    "    \n"
   ]
  },
  {
   "cell_type": "code",
   "execution_count": 7,
   "metadata": {},
   "outputs": [
    {
     "name": "stdout",
     "output_type": "stream",
     "text": [
      "*****\n",
      "****\n",
      "***\n",
      "**\n",
      "*\n"
     ]
    }
   ],
   "source": [
    "num = 5\n",
    "num2 = 5\n",
    "for i in range(num):\n",
    "    for j in range(num2):\n",
    "        print(\"*\", end = \"\")\n",
    "    print(\"\")\n",
    "    num2 -= 1"
   ]
  },
  {
   "cell_type": "code",
   "execution_count": 1,
   "metadata": {},
   "outputs": [
    {
     "name": "stdout",
     "output_type": "stream",
     "text": [
      "*****\n",
      "****\n",
      "***\n",
      "**\n",
      "*\n"
     ]
    }
   ],
   "source": [
    "\n",
    "for i in range(5):\n",
    "    for j in range(5-i):\n",
    "        print(\"*\", end = \"\")\n",
    "    print(\"\")"
   ]
  },
  {
   "cell_type": "code",
   "execution_count": 5,
   "metadata": {},
   "outputs": [
    {
     "name": "stdout",
     "output_type": "stream",
     "text": [
      "*****\n",
      " ****\n",
      "  ***\n",
      "   **\n",
      "    *\n"
     ]
    }
   ],
   "source": [
    "for i in range(5):\n",
    "    print(\" \"*i, end=\"\")\n",
    "    \n",
    "    for j in range(5-i):\n",
    "        print(\"*\", end = \"\")\n",
    "    \n",
    "    print(\"\")"
   ]
  },
  {
   "cell_type": "code",
   "execution_count": 6,
   "metadata": {},
   "outputs": [
    {
     "name": "stdout",
     "output_type": "stream",
     "text": [
      "*\n",
      "**\n",
      "***\n",
      "****\n",
      "*****\n"
     ]
    }
   ],
   "source": [
    "num = int(input('몇층석탑?'))\n",
    "    \n",
    "for i in range(num):\n",
    "    for j in range(i+1):\n",
    "        print(\"*\", end = \"\")\n",
    "    print(\"\")"
   ]
  },
  {
   "cell_type": "code",
   "execution_count": null,
   "metadata": {},
   "outputs": [],
   "source": [
    "num = input('석탑의 높이를 입력하시오:')\n",
    "for i in range(int(num)):\n",
    "    for j in range(int(num)-i): #줄 번호에 따라 공백 개수를 줄이는 공식\n",
    "        print(' ', end=\"\")\n",
    "    for j in range(2 * i -1): # 현재 줄의 별 개수를 홀수로 증가시키는 공식\n",
    "        print('*', end='')\n",
    "    print()"
   ]
  },
  {
   "cell_type": "markdown",
   "metadata": {},
   "source": [
    "1. 아래의 별을 찍으시오.\n",
    "\n",
    "*****\n",
    "*****\n",
    "*****\n",
    "*****\n",
    "*****\n",
    "```python\n",
    "for i in range(5):\n",
    "    for j in range(5):\n",
    "        print(\"*\", end = \"\")\n",
    "    print(\"\")\n",
    "```\n",
    "\n",
    "*\n",
    "**\n",
    "***\n",
    "****\n",
    "*****\n",
    "```python\n",
    "for i in range(5):\n",
    "    for j in range(i+1):\n",
    "        print(\"*\", end = \"\")\n",
    "    print(\"\")\n",
    "```\n",
    "\n",
    "*****\n",
    "****\n",
    "***\n",
    "**\n",
    "*\n",
    "```python\n",
    "for i in range(5):\n",
    "    for j in range(5-i):\n",
    "        print(\"*\", end = \"\")\n",
    "    print(\"\")\n",
    "```\n",
    "\n",
    "\n",
    "    *\n",
    "   **\n",
    "  ***\n",
    " ****\n",
    "*****\n",
    "```python\n",
    "\n",
    "for i in range(1,6):\n",
    "    a = 5-i\n",
    "    print(\" \"*a, end=\"\")\n",
    "    for j in range(i):\n",
    "        print(\"*\", end = \"\")\n",
    "    print(\"\")\n",
    "```\n",
    "\n",
    "*****\n",
    " ****\n",
    "  ***\n",
    "   **\n",
    "    *\n",
    "\n",
    "```python\n",
    "for i in range(5):\n",
    "    print(\" \"*i, end=\"\")\n",
    "    \n",
    "    for j in range(5-i):\n",
    "        print(\"*\", end = \"\")\n",
    "    \n",
    "    print(\"\")\n",
    "    ```\n",
    "\n",
    "2. mutable 과 imutable 의 데이터 종류및 개념에 설명하시오.\n",
    "\n",
    "- mutable 데이터의 수정이 가능한 타입으로 list, dict 이 있다\n",
    "- immutable 데이터의 수정이 불가능한 타입이다. 2가지의 mutable을 제외한 타입들은 여기에 속한다.\n",
    "\n",
    "3. 아래가 에러가 나는 이유는? \n",
    "name = \"홍길동\"\n",
    "name[2] = \"순\"\n",
    "\n",
    "name 변수에 들어간 값은 str 값으로 메모리에 \"홍길동\"이라는 값이 확정적으로 저장이 되었다.\n",
    "str 타입으로 저장된 값은 저장된 메모리 내에서의 수정이 불가능 함으로 오류가 생긴다.\n",
    "만약 \"홍길순\"으로 데이터를 변경하고 싶다면, 변수선언을 다시 해주면 된다. \n",
    "\n",
    "4. 리스트 와 문자열형 에서 제공되는 연산(*,+) 두가지에 대하여 설명하시요.\n",
    "\n",
    "각각 합연산자와 곱연산자이다.\n",
    "합연산자는 서로다른 문자열,리스트를 합쳐준다.\n",
    "곱연산자는 단일객체를 곱한수만큼 출력해준다.\n",
    "\n",
    "5. 아래의 연산자를 예를 들어 설명하시오.\n",
    "// 정수형 나누기 연산자. (나누셈을 한 후에 int 로 값을 출력한다 이때 실수형 데이터는 잘려나간다.)\n",
    "/ 나누기 연산자(나누셈을 한 후 float 으로 값을 출력한다.)\n",
    "**  x**y x를 y번 제곱한다.\n",
    "* 곱연산자\n",
    "% 나머지 연산 (나누기를 한후 나머지값을 출력해준다. 홀수, 짝수 구분시 사용되기도 한다.)\n",
    "\n",
    "6.복합 대입 연산자에 대하여 설명하시오.\n",
    "\n",
    "변수에 연산을 할때 사용할 수 있다.\n",
    "복합 대입 연산자의 종류는 아래와 같다.\n",
    "\n",
    "```python\n",
    "num = 10\n",
    "num += 1 # num = num + 1 \n",
    "print(num)\n",
    "num -= 1 # num = num - 1 \n",
    "print(num)\n",
    "num *= 3 # num = num * 3\n",
    "print(num)\n",
    "num /= 5\n",
    "num %= 5\n",
    "#등이 있다.\n",
    "```\n",
    "\n",
    "\n",
    "7.파이썬 에서 연산자 우선순위 와 결합 방향 에 대하여 설명해 보세요.(인터넷에서 자료를 좀더 찾아 볼것)\n",
    "\n",
    "현재 학습한 범위 내에서의 우선순위는 아래와 같다.\n",
    "\n",
    "위에서부터 빠른연산이다.\n",
    "\n",
    "-(괄호) \n",
    "\n",
    "-제곱식(**) 연산자\n",
    "\n",
    "-곱하기,나누기,나머지 연산자\n",
    "\n",
    "-덧셈과, 뺄셈 연산자\n",
    "\n",
    "-대입 연산자\n",
    "\n",
    " 결합방향 또한 왼쪽에서 오른쪽.\n",
    "\n",
    "8. 리스트에서 슬라이싱 연산과 index 접근 법을 예를 들어 설명하시오.\n",
    "\n",
    "ex = [1,2,3]\n",
    "ex[시작점(포함):끝점(미포함):간격격]\n",
    "\n",
    "```python\n",
    "st = [1,2,3,4,5,6,7,8,9,10,11,12]\n",
    "# 위 리스트에 저장된 값의 위치는 0~11칸이다.\n",
    "# 2~5의 값을 가져오고 싶다면 어떻게 해야할까\n",
    "# 2가 있는 1칸부터 5의 다음칸인 6까지 위치지정을 해서 값을 불러온다\n",
    "print(st[2:6])\n",
    "# 파이썬은 리스트의 음수지정을 이용하여 끝점에서부터 불러올수 있다.\n",
    "print(st[-5:-1])\n",
    "#만약 원하는 값의 범위의 시작점이 리스트의 처음이거나, 끝점이 마지막이라면 생략이 가능하다\n",
    "print(st[:6])\n",
    "print(st[6:])\n",
    "#만약 리스트의 모든 값을 가져온다면 범위 생략이 가능하다\n",
    "print(st[:])\n",
    "```\n",
    "\n",
    "\n",
    "\n",
    "9. 아래의 의미는?\n",
    "st = [1,2,3,4]\n",
    "st[:] = []\n",
    "\n",
    "st리스트에 있는 내용을 삭제한다.\n",
    "\n",
    "세줄요약: \n",
    "데이터 타입은 imutable 과 mutable 데이터로 나뉘어 진다. 리스트는 mutable 이다.\n",
    "데이터 타입은 CRUD + 함수(정렬,검색 등등)으로 정리 하면 된다.\n",
    "기본적인 별찍기는 외우도록 하자. \n"
   ]
  }
 ],
 "metadata": {
  "kernelspec": {
   "display_name": "env_django",
   "language": "python",
   "name": "python3"
  },
  "language_info": {
   "codemirror_mode": {
    "name": "ipython",
    "version": 3
   },
   "file_extension": ".py",
   "mimetype": "text/x-python",
   "name": "python",
   "nbconvert_exporter": "python",
   "pygments_lexer": "ipython3",
   "version": "3.10.16"
  }
 },
 "nbformat": 4,
 "nbformat_minor": 2
}
