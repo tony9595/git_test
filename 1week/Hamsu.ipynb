{
 "cells": [
  {
   "cell_type": "code",
   "execution_count": 1,
   "metadata": {},
   "outputs": [
    {
     "name": "stdout",
     "output_type": "stream",
     "text": [
      "반갑습니다.\n",
      "반갑습니다.\n",
      "반갑습니다\n",
      "파이썬의 세계로 오신 것을 환영합니다.\n",
      "반갑습니다\n",
      "파이썬의 세계로 오신 것을 환영합니다.\n"
     ]
    }
   ],
   "source": [
    "def greet():\n",
    "    print(\"반갑습니다.\")\n",
    "\n",
    "greet()\n",
    "greet()\n",
    "\n",
    "def greet2():\n",
    "    print(\"반갑습니다\")\n",
    "    print(\"파이썬의 세계로 오신 것을 환영합니다.\")\n",
    "\n",
    "greet2()\n",
    "greet2()"
   ]
  },
  {
   "cell_type": "code",
   "execution_count": 4,
   "metadata": {},
   "outputs": [],
   "source": [
    "def greet3(name): # name -> 변수선언 -> 함수에 변수선언은 파라미터(인자) 라고 표현함.\n",
    "    print(\"반갑습니다\",name)\n",
    "    print(name, \"환영합니다\")\n",
    "\n",
    "greet3()"
   ]
  },
  {
   "cell_type": "code",
   "execution_count": 2,
   "metadata": {},
   "outputs": [
    {
     "name": "stdout",
     "output_type": "stream",
     "text": [
      "4\n",
      "8\n",
      "0\n"
     ]
    }
   ],
   "source": [
    "\n",
    "def add(num1, num2):\n",
    "    ad = num1 + num2\n",
    "    print(ad)\n",
    "\n",
    "add(1,3)\n",
    "add(5,3)\n",
    "add(7,-7)"
   ]
  },
  {
   "cell_type": "code",
   "execution_count": 4,
   "metadata": {},
   "outputs": [
    {
     "name": "stdout",
     "output_type": "stream",
     "text": [
      "4\n",
      "2\n"
     ]
    }
   ],
   "source": [
    "def add2(num1, num2):\n",
    "    return num1+num2\n",
    "\n",
    "result = add2(1,3)\n",
    "print(result)\n",
    "print(add2(1,1))"
   ]
  },
  {
   "cell_type": "code",
   "execution_count": 24,
   "metadata": {},
   "outputs": [
    {
     "name": "stdout",
     "output_type": "stream",
     "text": [
      "제 이름은 홍 입니다\n",
      "제 나이는 2살입니다\n",
      "저는 여자입니다.\n"
     ]
    }
   ],
   "source": [
    "def say_myself(name, age, man=True):\n",
    "    print(\"제 이름은 %s 입니다\"%name)\n",
    "    print(\"제 나이는 %d살입니다\" %age)\n",
    "    if man:\n",
    "        print(\"저는 남자입니다.\")\n",
    "    else:\n",
    "        print(\"저는 여자입니다.\")\n",
    "\n",
    "say_myself(\"홍\",2,False)"
   ]
  },
  {
   "cell_type": "code",
   "execution_count": 17,
   "metadata": {},
   "outputs": [
    {
     "name": "stdout",
     "output_type": "stream",
     "text": [
      "1 2 3\n"
     ]
    }
   ],
   "source": [
    "def example():\n",
    "    return 1,2,3\n",
    "\n",
    "a,b,c = example()\n",
    "print(a,b,c)"
   ]
  },
  {
   "cell_type": "code",
   "execution_count": 26,
   "metadata": {},
   "outputs": [
    {
     "name": "stdout",
     "output_type": "stream",
     "text": [
      "(15, -1)\n"
     ]
    }
   ],
   "source": [
    "def result(num1, num2):\n",
    "    return num1 + num2,num1 - num2\n",
    "\n",
    "print(result(7,8))"
   ]
  }
 ],
 "metadata": {
  "kernelspec": {
   "display_name": "env_django",
   "language": "python",
   "name": "python3"
  },
  "language_info": {
   "codemirror_mode": {
    "name": "ipython",
    "version": 3
   },
   "file_extension": ".py",
   "mimetype": "text/x-python",
   "name": "python",
   "nbconvert_exporter": "python",
   "pygments_lexer": "ipython3",
   "version": "3.10.16"
  }
 },
 "nbformat": 4,
 "nbformat_minor": 2
}
