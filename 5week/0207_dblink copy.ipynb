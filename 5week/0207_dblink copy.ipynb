{
 "cells": [
  {
   "cell_type": "code",
   "execution_count": 17,
   "metadata": {},
   "outputs": [
    {
     "name": "stdout",
     "output_type": "stream",
     "text": [
      "(7369, 'SMITH', 'CLERK', 7902, datetime.datetime(1980, 12, 17, 0, 0), 800.0, None, 20)\n",
      "(7499, 'ALLEN', 'SALESMAN', 7698, datetime.datetime(1981, 2, 20, 0, 0), 1600.0, 300.0, 30)\n",
      "(7521, 'WARD', 'SALESMAN', 7698, datetime.datetime(1981, 2, 22, 0, 0), 1250.0, 500.0, 30)\n",
      "(7566, 'JONES', 'MANAGER', 7839, datetime.datetime(1981, 4, 2, 0, 0), 2975.0, None, 20)\n",
      "(7654, 'MARTIN', 'SALESMAN', 7698, datetime.datetime(1981, 9, 28, 0, 0), 1250.0, 1400.0, 30)\n",
      "(7698, 'BLAKE', 'MANAGER', 7839, datetime.datetime(1981, 5, 1, 0, 0), 2850.0, None, 30)\n",
      "(7782, 'CLARK', 'MANAGER', 7839, datetime.datetime(1981, 6, 9, 0, 0), 2450.0, None, 10)\n",
      "(7788, 'SCOTT', 'ANALYST', 7566, datetime.datetime(1987, 4, 19, 0, 0), 3000.0, None, 20)\n",
      "(7839, 'KING', 'PRESIDENT', None, datetime.datetime(1981, 11, 17, 0, 0), 5000.0, None, 10)\n",
      "(7844, 'TURNER', 'SALESMAN', 7698, datetime.datetime(1981, 9, 8, 0, 0), 1500.0, 0.0, 30)\n",
      "(7876, 'ADAMS', 'CLERK', 7788, datetime.datetime(1987, 5, 23, 0, 0), 1100.0, None, 20)\n",
      "(7900, 'JAMES', 'CLERK', 7698, datetime.datetime(1981, 12, 3, 0, 0), 950.0, None, 30)\n",
      "(7902, 'FORD', 'ANALYST', 7566, datetime.datetime(1981, 12, 3, 0, 0), 3000.0, None, 20)\n",
      "(7934, 'MILLER', 'CLERK', 7782, datetime.datetime(1982, 1, 23, 0, 0), 1300.0, None, 10)\n"
     ]
    }
   ],
   "source": [
    "import pymysql\n",
    "\n",
    "conn = pymysql.connect(\n",
    "    host = 'localhost',\n",
    "    user='scott',\n",
    "    passwd='tiger',\n",
    "    db='scott',\n",
    "    charset='utf8'\n",
    ")\n",
    "# connection 으로 cusor 생성\n",
    "# cursor 객채생성 => 커서 객체의 역할을 sql 문장을 실행하고 결과를 가져오는 역활\n",
    "curs = conn.cursor()\n",
    "\n",
    "#sql문 실행\n",
    "sql = \"select * from emp\"\n",
    "curs.execute(sql)\n",
    "#데이터 fetch\n",
    "rows = curs.fetchall()\n",
    "\n",
    "for row in rows:\n",
    "    print(row)\n",
    "\n",
    "# 테이블 생성\n",
    "#sql = '''CREATE TABLE users (id char(4), name char(15), email char(20))'''\n",
    "#curs.execute(sql)\n",
    "\n",
    "sql = \"insert into users values ('1', '홍길동', 'hong@gmail.com')\"\n",
    "curs.execute(sql)\n",
    "\n",
    "sql = \"insert into users values ('2', '김길동', 'kim@gmail.com')\"\n",
    "curs.execute(sql)\n",
    "conn.commit()\n",
    "\n",
    "\n",
    "# connection 닫기\n",
    "conn.close()"
   ]
  },
  {
   "cell_type": "code",
   "execution_count": 35,
   "metadata": {},
   "outputs": [
    {
     "name": "stdout",
     "output_type": "stream",
     "text": [
      "    EMPNO   ENAME        JOB     MGR   HIREDATE     SAL    COMM  DEPTNO\n",
      "0    7369   SMITH      CLERK  7902.0 1980-12-17   800.0     NaN      20\n",
      "1    7499   ALLEN   SALESMAN  7698.0 1981-02-20  1600.0   300.0      30\n",
      "2    7521    WARD   SALESMAN  7698.0 1981-02-22  1250.0   500.0      30\n",
      "3    7566   JONES    MANAGER  7839.0 1981-04-02  2975.0     NaN      20\n",
      "4    7654  MARTIN   SALESMAN  7698.0 1981-09-28  1250.0  1400.0      30\n",
      "5    7698   BLAKE    MANAGER  7839.0 1981-05-01  2850.0     NaN      30\n",
      "6    7782   CLARK    MANAGER  7839.0 1981-06-09  2450.0     NaN      10\n",
      "7    7788   SCOTT    ANALYST  7566.0 1987-04-19  3000.0     NaN      20\n",
      "8    7839    KING  PRESIDENT     NaN 1981-11-17  5000.0     NaN      10\n",
      "9    7844  TURNER   SALESMAN  7698.0 1981-09-08  1500.0     0.0      30\n",
      "10   7876   ADAMS      CLERK  7788.0 1987-05-23  1100.0     NaN      20\n",
      "11   7900   JAMES      CLERK  7698.0 1981-12-03   950.0     NaN      30\n",
      "12   7902    FORD    ANALYST  7566.0 1981-12-03  3000.0     NaN      20\n",
      "13   7934  MILLER      CLERK  7782.0 1982-01-23  1300.0     NaN      10\n"
     ]
    },
    {
     "name": "stderr",
     "output_type": "stream",
     "text": [
      "C:\\Users\\tony9\\AppData\\Local\\Temp\\ipykernel_24100\\4073479620.py:19: UserWarning: pandas only supports SQLAlchemy connectable (engine/connection) or database string URI or sqlite3 DBAPI2 connection. Other DBAPI2 objects are not tested. Please consider using SQLAlchemy.\n",
      "  df_emp = pd.read_sql(\"select * from emp\", conn)\n"
     ]
    }
   ],
   "source": [
    "#판다스와 연동\n",
    "import pandas as pd\n",
    "import numpy as nu\n",
    "import pymysql\n",
    "\n",
    "conn = pymysql.connect(\n",
    "    host = 'localhost',\n",
    "    user='scott',\n",
    "    passwd='tiger',\n",
    "    db='scott',\n",
    "    charset='utf8'\n",
    ")\n",
    "'''\n",
    "sql = \"select * from emp\"\n",
    "df_emp = pd.read_sql(sql, conn)\n",
    "print(df_emp)\n",
    "'''\n",
    "\n",
    "df_emp = pd.read_sql(\"select * from emp\", conn)\n",
    "print(df_emp)\n",
    "\n",
    "df_emp.to_csv(\"emp.cvs\")\n",
    "df_emp.to_excel(\"empex.xlsx\")\n",
    "\n"
   ]
  }
 ],
 "metadata": {
  "kernelspec": {
   "display_name": "env_django",
   "language": "python",
   "name": "python3"
  },
  "language_info": {
   "codemirror_mode": {
    "name": "ipython",
    "version": 3
   },
   "file_extension": ".py",
   "mimetype": "text/x-python",
   "name": "python",
   "nbconvert_exporter": "python",
   "pygments_lexer": "ipython3",
   "version": "3.10.16"
  }
 },
 "nbformat": 4,
 "nbformat_minor": 2
}
