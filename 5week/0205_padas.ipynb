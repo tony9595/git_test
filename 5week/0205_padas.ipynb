{
 "cells": [
  {
   "cell_type": "markdown",
   "metadata": {},
   "source": [
    "판다스(numpy기반). 모듈 이름\n",
    " - 시리얼 (1차원)\n",
    " - 데이터 프레임 (2차원)\n"
   ]
  },
  {
   "cell_type": "code",
   "execution_count": 2,
   "metadata": {},
   "outputs": [
    {
     "name": "stdout",
     "output_type": "stream",
     "text": [
      "0    10\n",
      "1    20\n",
      "2    30\n",
      "dtype: int64\n",
      "0    고가\n",
      "1    시가\n",
      "dtype: object\n",
      "0       삼성\n",
      "1    81000\n",
      "dtype: object\n"
     ]
    }
   ],
   "source": [
    "# 판다스의 이해\n",
    "# 판다스 = 데이터프레임, 시리얼\n",
    "import pandas as pd\n",
    "\n",
    "# 시리즈 객체생성\n",
    "s = pd.Series([10,20,30])\n",
    "print(s)\n",
    "\n",
    "s = pd.Series([\"고가\",\"시가\"])\n",
    "print(s)\n",
    "\n",
    "s = pd.Series([\"삼성\",81000])\n",
    "print(s) # 문자형 데이터로 통합\n"
   ]
  },
  {
   "cell_type": "code",
   "execution_count": 15,
   "metadata": {},
   "outputs": [
    {
     "name": "stdout",
     "output_type": "stream",
     "text": [
      "RangeIndex(start=0, stop=3, step=1)\n",
      "[1000 2000 3000]\n",
      "[0, 1, 2]\n",
      "메로나     1000\n",
      "구구콘     2000\n",
      "하겐다즈    3000\n",
      "dtype: int64\n",
      "메로나     1000\n",
      "구구콘     2000\n",
      "하겐다즈    3000\n",
      "dtype: int64\n",
      "1000     메로나\n",
      "2000     구구콘\n",
      "3000    하겐다즈\n",
      "dtype: object\n"
     ]
    }
   ],
   "source": [
    "#인덱스\n",
    "\n",
    "s = pd.Series([1000,2000,3000])\n",
    "print(s.index) # 인덱스를 확인하는 객체\n",
    "print(s.values) # 넘파이로 반환\n",
    "print(s.index.to_list()) # 0 1 2 =>\n",
    "\n",
    "s.index = [\"메로나\",\"구구콘\",\"하겐다즈\"]\n",
    "print(s)\n",
    "\n",
    "# 값과 인덱스값 직접 할당\n",
    "ss= pd.Series([1000,2000,3000],[\"메로나\",\"구구콘\",\"하겐다즈\"])\n",
    "print(ss)\n",
    "\n",
    "# 키워드로 할당\n",
    "sss= pd.Series(index = [1000,2000,3000],data =[\"메로나\",\"구구콘\",\"하겐다즈\"])\n",
    "print(sss)\n"
   ]
  },
  {
   "cell_type": "code",
   "execution_count": 20,
   "metadata": {},
   "outputs": [
    {
     "name": "stdout",
     "output_type": "stream",
     "text": [
      "2019-05-31    42500\n",
      "2019-05-30    42550\n",
      "2019-05-29    41800\n",
      "2019-05-28    42550\n",
      "2019-05-27    42650\n",
      "dtype: int64\n",
      "[42500 42550 41800 42550 42650]\n",
      "['2019-05-31', '2019-05-30', '2019-05-29', '2019-05-28', '2019-05-27']\n"
     ]
    }
   ],
   "source": [
    "data = {\n",
    "    \"2019-05-31\" : 42500,\n",
    "    \"2019-05-30\" : 42550,\n",
    "    \"2019-05-29\" : 41800,\n",
    "    \"2019-05-28\" : 42550,\n",
    "    \"2019-05-27\" : 42650\n",
    "}\n",
    "\n",
    "s_samsung = pd.Series(data)\n",
    "print(s_samsung)\n",
    "print(s_samsung.values)\n",
    "print(s_samsung.index.to_list())\n",
    "\n"
   ]
  },
  {
   "cell_type": "code",
   "execution_count": 30,
   "metadata": {},
   "outputs": [
    {
     "name": "stdout",
     "output_type": "stream",
     "text": [
      "1000\n",
      "2000\n",
      "3000\n",
      "3000\n",
      "1000\n",
      "2000\n",
      "3000\n"
     ]
    }
   ],
   "source": [
    "# Read 인덱싱\n",
    "\n",
    "s = pd.Series([1000,2000,3000])\n",
    "\n",
    "s= pd.Series(data = [1000,2000,3000],index = [\"메로나\",\"구구콘\",\"하겐다즈\"])\n",
    "\n",
    "\n",
    "# iloc는 행번호로 접근\n",
    "print(s.iloc[0])\n",
    "print(s.iloc[1])\n",
    "print(s.iloc[2])\n",
    "print(s.iloc[-1])\n",
    "\n",
    "# loc는 인덱스로 접근\n",
    "print(s.loc[\"메로나\"])\n",
    "print(s.loc[\"구구콘\"])\n",
    "print(s.loc[\"하겐다즈\"])\n",
    "#print(s.loc[-1]) 에러발생\n",
    "\n"
   ]
  },
  {
   "cell_type": "markdown",
   "metadata": {},
   "source": [
    "판다스의 구성.\n",
    "iloc = 행번호로 인덱싱 접근\n",
    "loc = index로 인덱싱 접근\n",
    "```py\n",
    "#행번호    index           data\n",
    "# 0      [\"메로나\",       [1000\n",
    "# 1       \"구구콘\",       ,2000\n",
    "# 2       \"하겐다즈\"]     ,3000]\n",
    " ```"
   ]
  },
  {
   "cell_type": "code",
   "execution_count": 35,
   "metadata": {},
   "outputs": [
    {
     "name": "stdout",
     "output_type": "stream",
     "text": [
      "메로나    1000\n",
      "구구콘    2000\n",
      "dtype: int64\n",
      "메로나    1000\n",
      "구구콘    2000\n",
      "dtype: int64\n",
      "메로나     1000\n",
      "하겐다즈    3000\n",
      "dtype: int64\n"
     ]
    }
   ],
   "source": [
    "# Read 슬라이싱\n",
    "# 슬라이싱으로 값을 호출하게 되면 시리즈 객체로 리턴됨.\n",
    "# 값을 두개 이상으로 반환하게 될땐 객체로 반환함.\n",
    "\n",
    "s= pd.Series(data = [1000,2000,3000],index = [\"메로나\",\"구구콘\",\"하겐다즈\"])\n",
    "\n",
    "print(s.iloc[0:2])\n",
    "print(s.loc[\"메로나\":\"구구콘\"])\n",
    "\n",
    "indice = [\"메로나\",\"하겐다즈\"]\n",
    "print(s.loc[indice])"
   ]
  },
  {
   "cell_type": "code",
   "execution_count": 74,
   "metadata": {},
   "outputs": [
    {
     "name": "stdout",
     "output_type": "stream",
     "text": [
      "500\n",
      "1000\n",
      "메로나     1000\n",
      "구구콘     2000\n",
      "하겐다즈    3000\n",
      "비비빅      500\n",
      "dtype: int64\n"
     ]
    }
   ],
   "source": [
    "# 수정/추가/삭제\n",
    "s= pd.Series(data = [1000,2000,3000],index = [\"메로나\",\"구구콘\",\"하겐다즈\"])\n",
    "\n",
    "# 수정\n",
    "s.loc['메로나'] = 500 \n",
    "print(s['메로나'])\n",
    "\n",
    "s.iloc[0] = 1000 # 행번호 접근\n",
    "print(s.iloc[0])\n",
    "\n",
    "# 추가 = 딕셔너리와 유사\n",
    "s.loc['비비빅'] = 500\n",
    "print(s)\n",
    "\n",
    "\n"
   ]
  },
  {
   "cell_type": "code",
   "execution_count": 75,
   "metadata": {},
   "outputs": [
    {
     "name": "stdout",
     "output_type": "stream",
     "text": [
      "1000\n",
      "구구콘     2000\n",
      "하겐다즈    3000\n",
      "dtype: int64\n",
      "구구콘     2000\n",
      "하겐다즈    3000\n",
      "dtype: int64\n"
     ]
    }
   ],
   "source": [
    "# 삭제\n",
    "s= pd.Series(data = [1000,2000,3000],index = [\"메로나\",\"구구콘\",\"하겐다즈\"])\n",
    "\n",
    "\n",
    "s.drop('메로나') # 반환될 변수를 할당하지 않으면 원본은 유지\n",
    "print(s['메로나'])\n",
    "\n",
    "a = s.drop('메로나') # 변수 할당\n",
    "print(a)\n",
    "\n",
    "s.drop('메로나',inplace=True) # inplace=True 설정하면 원본수정.\n",
    "print(s)"
   ]
  },
  {
   "cell_type": "code",
   "execution_count": 79,
   "metadata": {},
   "outputs": [
    {
     "name": "stdout",
     "output_type": "stream",
     "text": [
      "KT       60\n",
      "NAVER    30\n",
      "SKT      30\n",
      "dtype: int64\n",
      "KT        0\n",
      "NAVER   -10\n",
      "SKT      10\n",
      "dtype: int64\n",
      "NAVER     0\n",
      "SKT      10\n",
      "KT       20\n",
      "dtype: int64\n"
     ]
    }
   ],
   "source": [
    "#시리즈 연산 = 넘파이와 동일하게 브로드캐스팅이 적용되며, \n",
    "#같은 인덱스를 갖는 데이터끼리 연산을 수행\n",
    "\n",
    "s_1 = pd.Series([10,20,30],index = ['NAVER','SKT','KT'])\n",
    "s_2 = pd.Series([10,30,20],index = ['SKT','KT','NAVER'])\n",
    "\n",
    "# 덧셈\n",
    "\n",
    "print(s_1 +s_2)\n",
    "\n",
    "# 뺄셈\n",
    "\n",
    "print(s_1 -s_2)\n",
    "\n",
    "# 브로드캐스팅\n",
    "print(s_1 - 10)"
   ]
  },
  {
   "cell_type": "code",
   "execution_count": 32,
   "metadata": {},
   "outputs": [
    {
     "name": "stdout",
     "output_type": "stream",
     "text": [
      "0    650\n",
      "1    550\n",
      "2    750\n",
      "3    800\n",
      "4    650\n",
      "dtype: int64\n",
      "800\n",
      "550\n",
      "680.0\n",
      "650.0\n",
      "9500.0\n",
      "97.46794344808964\n"
     ]
    },
    {
     "data": {
      "text/plain": [
       "0                650\n",
       "1             357500\n",
       "2          268125000\n",
       "3       214500000000\n",
       "4    139425000000000\n",
       "dtype: int64"
      ]
     },
     "execution_count": 32,
     "metadata": {},
     "output_type": "execute_result"
    }
   ],
   "source": [
    "# 삼성전자 5일 주가\n",
    "\n",
    "high = pd.Series([42800, 42700, 42050, 42950, 43000])\n",
    "low = pd.Series([42150, 42150, 41300, 42150, 42350])\n",
    "\n",
    "s_diff = high - low\n",
    "print(s_diff)\n",
    "\n",
    "print(s_diff.max())\n",
    "print(s_diff.min())\n",
    "\n",
    "print(s_diff.mean()) # 평균\n",
    "print(s_diff.median()) # 중간값\n",
    "print(s_diff.var()) # 분산\n",
    "print(s_diff.std()) # 표준편차\n",
    "\n",
    "s_diff.cumprod()# 누적곱"
   ]
  },
  {
   "cell_type": "code",
   "execution_count": 80,
   "metadata": {},
   "outputs": [
    {
     "name": "stdout",
     "output_type": "stream",
     "text": [
      "삼성전자     전기,전자\n",
      "LG전자     전기,전자\n",
      "현대차       운수장비\n",
      "NAVER     서비스업\n",
      "카카오       서비스업\n",
      "dtype: object\n",
      "['전기,전자' '운수장비' '서비스업']\n"
     ]
    },
    {
     "data": {
      "text/plain": [
       "전기,전자    2\n",
       "서비스업     2\n",
       "운수장비     1\n",
       "Name: count, dtype: int64"
      ]
     },
     "execution_count": 80,
     "metadata": {},
     "output_type": "execute_result"
    }
   ],
   "source": [
    "import pandas as pd\n",
    "data = {\n",
    "    \"삼성전자\": \"전기,전자\",\n",
    "    \"LG전자\": \"전기,전자\",\n",
    "    \"현대차\": \"운수장비\",\n",
    "    \"NAVER\": \"서비스업\",\n",
    "    \"카카오\": \"서비스업\"\n",
    "}\n",
    "s = pd.Series(data)\n",
    "print(s)\n",
    "\n",
    "print(s.unique()) # 넘파이로 리턴\n",
    "\n",
    "s.value_counts() # 시리즈로 리턴\n"
   ]
  },
  {
   "cell_type": "code",
   "execution_count": 14,
   "metadata": {},
   "outputs": [
    {
     "name": "stdout",
     "output_type": "stream",
     "text": [
      "1,234 in functinon\n",
      "5,678 in functinon\n",
      "9,876 in functinon\n",
      "0    1234\n",
      "1    5678\n",
      "2    9876\n",
      "dtype: int64\n",
      "16788\n"
     ]
    }
   ],
   "source": [
    "# 시리즈 Map\n",
    "# 시리즈를 사용하다 보면 시리즈가 지원하는\n",
    "# 기본연산 이외에도 복잡한 형태의 사용자 정의 코드를 적용하고 싶은 경우\n",
    "\n",
    "s = pd.Series(['1,234','5,678','9,876'])\n",
    "\n",
    "#print(int(s))\n",
    "def remove_comma(x):\n",
    "    print(x,'in functinon')\n",
    "    return int(x.replace(\",\",\"\"))\n",
    "\n",
    "result = s.map(remove_comma)\n",
    "print(result)\n",
    "\n",
    "print(result.sum())"
   ]
  },
  {
   "cell_type": "code",
   "execution_count": 15,
   "metadata": {},
   "outputs": [
    {
     "name": "stdout",
     "output_type": "stream",
     "text": [
      "0    작다\n",
      "1    크다\n",
      "2    크다\n",
      "dtype: object\n"
     ]
    }
   ],
   "source": [
    "s=pd.Series([1234,5678,9876])\n",
    "def big_small(x):\n",
    "    if x > 5000:\n",
    "        x= \"크다\"\n",
    "    else:\n",
    "        x= \"작다\"\n",
    "    return x\n",
    "print(s.map(big_small))"
   ]
  },
  {
   "cell_type": "code",
   "execution_count": 23,
   "metadata": {},
   "outputs": [
    {
     "name": "stdout",
     "output_type": "stream",
     "text": [
      "2019-05-31     True\n",
      "2019-05-30     True\n",
      "2019-05-29    False\n",
      "2019-05-28     True\n",
      "2019-05-27     True\n",
      "dtype: bool\n",
      "2019-05-31    42500\n",
      "2019-05-30    42550\n",
      "2019-05-28    42550\n",
      "2019-05-27    42650\n",
      "dtype: int64\n"
     ]
    }
   ],
   "source": [
    "# 시리즈 필터링 = 불리언 indexing으로 처리하는 경우가 많다.\n",
    "\n",
    "data = [42500, 42550, 41800, 42550, 42650]\n",
    "index = ['2019-05-31', '2019-05-30', '2019-05-29', '2019-05-28', '2019-05-27']\n",
    "\n",
    "s = pd.Series(data=data, index=index)\n",
    "\n",
    "cond = s > 42000 #\n",
    "print(cond)\n",
    "print(s[cond]) # 불리언 indexing\n"
   ]
  },
  {
   "cell_type": "code",
   "execution_count": 81,
   "metadata": {},
   "outputs": [
    {
     "name": "stdout",
     "output_type": "stream",
     "text": [
      "0    False\n",
      "1     True\n",
      "2     True\n",
      "dtype: bool\n",
      "1    5678\n",
      "2    9876\n",
      "dtype: int64\n"
     ]
    }
   ],
   "source": [
    "s=pd.Series([1234,5678,9876])\n",
    "a = s>5000\n",
    "print(a)\n",
    "print(s[a])"
   ]
  },
  {
   "cell_type": "code",
   "execution_count": 26,
   "metadata": {},
   "outputs": [
    {
     "name": "stdout",
     "output_type": "stream",
     "text": [
      "2019-05-30    42550\n",
      "2019-05-27    42650\n",
      "dtype: int64\n"
     ]
    }
   ],
   "source": [
    "close = [42500, 42550, 41800, 42550, 42650]\n",
    "open = [42600, 42200, 41850, 42550, 42500]\n",
    "index = ['2019-05-31', '2019-05-30', '2019-05-29', '2019-05-28', '2019-05-27']\n",
    "\n",
    "open = pd.Series(data=open, index=index)\n",
    "close = pd.Series(data=close, index=index)\n",
    "\n",
    "# 종가가 시가보다 높을때만 출력\n",
    "\n",
    "print(close[close>open])"
   ]
  },
  {
   "cell_type": "code",
   "execution_count": 85,
   "metadata": {},
   "outputs": [
    {
     "name": "stdout",
     "output_type": "stream",
     "text": [
      "ㄱ    4\n",
      "ㄴ    3\n",
      "ㄷ    7\n",
      "ㄹ    1\n",
      "dtype: int64\n",
      "ㄹ    1\n",
      "ㄴ    3\n",
      "ㄱ    4\n",
      "ㄷ    7\n",
      "dtype: int64\n",
      "ㄷ    7\n",
      "ㄱ    4\n",
      "ㄴ    3\n",
      "ㄹ    1\n",
      "dtype: int64\n",
      "ㄹ    1\n",
      "ㄷ    7\n",
      "ㄴ    3\n",
      "ㄱ    4\n",
      "dtype: int64\n"
     ]
    }
   ],
   "source": [
    "# 정렬및 순위\n",
    "data = [4, 3, 7, 1]\n",
    "index = ['ㄱ', 'ㄴ', 'ㄷ', 'ㄹ']\n",
    "s = pd.Series(data=data, index=index)\n",
    "print(s)\n",
    "\n",
    "# 정렬\n",
    "s1 = s.sort_values()\n",
    "print(s1)\n",
    "# 내림차순으로 정렬\n",
    "s1 = s.sort_values(ascending=False)\n",
    "print(s1)\n",
    "\n",
    "s2 = s.sort_index(ascending=False)\n",
    "print(s2)"
   ]
  },
  {
   "cell_type": "code",
   "execution_count": 82,
   "metadata": {},
   "outputs": [
    {
     "name": "stdout",
     "output_type": "stream",
     "text": [
      "000010    2.0\n",
      "000020    1.0\n",
      "000030    4.0\n",
      "000040    3.0\n",
      "dtype: float64\n",
      "000010    3.0\n",
      "000020    4.0\n",
      "000030    1.0\n",
      "000040    2.0\n",
      "dtype: float64\n"
     ]
    }
   ],
   "source": [
    "# 순위 \n",
    "data = [3.1, 2.0, 10.1, 5.1]\n",
    "index = ['000010', '000020', '000030', '000040']\n",
    "s = pd.Series(data=data, index=index)\n",
    "\n",
    "print(s.rank())\n",
    "\n",
    "#내림차순 순위\n",
    "print(s.rank(ascending=False))\n"
   ]
  },
  {
   "cell_type": "code",
   "execution_count": 86,
   "metadata": {},
   "outputs": [
    {
     "name": "stdout",
     "output_type": "stream",
     "text": [
      "      시가  고가  저가  종가\n",
      "삼성전자   1   4   7   8\n",
      "카카오    2   5   8   7\n",
      "네이버    3   6   9   6\n",
      "      시가  고가  저가  종가\n",
      "삼성전자   1   2   3   4\n",
      "카카오    5   6   7   8\n",
      "네이버    9   8   7   6\n",
      "      시가  고가  저가  종가\n",
      "삼성전자   1   2   3   4\n",
      "카카오    5   6   7   8\n",
      "네이버    9   8   7   6\n"
     ]
    }
   ],
   "source": [
    "# 데이터 프레임\n",
    "\n",
    "# 칼럼 단위로 데이터 표현\n",
    "# 데이터와 칼럼은 딕셔너리\n",
    "data = {\n",
    "    '시가':[1,2,3],\n",
    "    '고가':[4,5,6],\n",
    "    '저가':[7,8,9],\n",
    "    '종가':[8,7,6],\n",
    "}\n",
    "# 인덱스는 리스트로\n",
    "index = ['삼성전자', '카카오', '네이버']\n",
    "\n",
    "df_stock = pd.DataFrame(data, index)\n",
    "print(df_stock)\n",
    "\n",
    "# 로우 단위로 생성\n",
    "data = [\n",
    "    [1,2,3,4],\n",
    "    [5,6,7,8],\n",
    "    [9,8,7,6],\n",
    "    ]\n",
    "column=['시가','고가','저가','종가']\n",
    "index = ['삼성전자', '카카오', '네이버']\n",
    "\n",
    "df_stock = pd.DataFrame(data=data, columns=column, index=index)\n",
    "print(df_stock)\n",
    "\n",
    "# 로우단위를 딕셔너리로 표현하여 생성\n",
    "data2 =[\n",
    "    {\"시가\":1, \"고가\":2, \"저가\":3, \"종가\":4},\n",
    "    {\"시가\":5, \"고가\":6, \"저가\":7, \"종가\":8},\n",
    "    {\"시가\":9, \"고가\":8, \"저가\":7, \"종가\":6}\n",
    "]\n",
    "index = ['삼성전자', '카카오', '네이버']\n",
    "df_stock = pd.DataFrame(data2, index)\n",
    "print(df_stock)\n",
    "\n"
   ]
  },
  {
   "cell_type": "code",
   "execution_count": 55,
   "metadata": {},
   "outputs": [
    {
     "name": "stdout",
     "output_type": "stream",
     "text": [
      "     나이  직책\n",
      "김은수  35  과장\n",
      "박정민  30  대리\n",
      "이하나  28  대리\n",
      "     나이  직책\n",
      "김은수  35  과장\n",
      "박정민  30  대리\n",
      "이하나  28  대리\n",
      "     나이  직책\n",
      "김은수  35  과장\n",
      "박정민  30  대리\n",
      "이하나  28  대리\n"
     ]
    }
   ],
   "source": [
    "data = [\n",
    "    {\"나이\":35,\"직책\":\"과장\"},\n",
    "    {\"나이\":30,\"직책\":\"대리\"},\n",
    "    {\"나이\":28,\"직책\":\"대리\"}\n",
    "]\n",
    "index = ['김은수','박정민','이하나']\n",
    "\n",
    "info_df = pd.DataFrame(data,index)\n",
    "print(info_df)\n",
    "\n",
    "data = [\n",
    "    [35,'과장'],\n",
    "    [30,'대리'],\n",
    "    [28,'대리'],\n",
    "    ]\n",
    "column=['나이','직책']\n",
    "index = ['김은수', '박정민', '이하나']\n",
    "\n",
    "df_info = pd.DataFrame(data=data, columns=column, index=index)\n",
    "print(df_info)\n",
    "\n",
    "data = {\n",
    "    \"나이\" :[35,30,28],\n",
    "    \"직책\" :['과장','대리','대리']\n",
    "}\n",
    "index = ['김은수','박정민','이하나']\n",
    "df_a =pd.DataFrame(data,index)\n",
    "print(df_a)"
   ]
  },
  {
   "cell_type": "code",
   "execution_count": 60,
   "metadata": {},
   "outputs": [
    {
     "name": "stdout",
     "output_type": "stream",
     "text": [
      "<class 'pandas.core.frame.DataFrame'>\n",
      "Index: 3 entries, 김은수 to 이하나\n",
      "Data columns (total 2 columns):\n",
      " #   Column  Non-Null Count  Dtype \n",
      "---  ------  --------------  ----- \n",
      " 0   나이      3 non-null      int64 \n",
      " 1   직책      3 non-null      object\n",
      "dtypes: int64(1), object(1)\n",
      "memory usage: 72.0+ bytes\n"
     ]
    },
    {
     "data": {
      "text/plain": [
       "(3, 2)"
      ]
     },
     "execution_count": 60,
     "metadata": {},
     "output_type": "execute_result"
    }
   ],
   "source": [
    "# 데이터 프레임 전체적인 개괄요약 함수\n",
    "df_a.info()\n",
    "df_a.describe() # 수치형 데이터\n",
    "df_a.shape"
   ]
  },
  {
   "cell_type": "code",
   "execution_count": 88,
   "metadata": {},
   "outputs": [
    {
     "name": "stdout",
     "output_type": "stream",
     "text": [
      "    이름   나이  도시\n",
      "0  뽀로로   25  서울\n",
      "1   짱구  132  부산\n",
      "2   희동   69  대구\n",
      "0    서울\n",
      "1    부산\n",
      "2    대구\n",
      "Name: 도시, dtype: object\n",
      "   도시   이름\n",
      "0  서울  뽀로로\n",
      "1  부산   짱구\n",
      "2  대구   희동\n"
     ]
    },
    {
     "data": {
      "text/plain": [
       "이름    뽀로로\n",
       "나이     25\n",
       "도시     서울\n",
       "Name: 0, dtype: object"
      ]
     },
     "execution_count": 88,
     "metadata": {},
     "output_type": "execute_result"
    }
   ],
   "source": [
    "# 인덱싱 (특정데이터 선택) / 슬라이싱\n",
    "import pandas as pd\n",
    "\n",
    "#고객 데이터를 담은 딕셔너리 생성\n",
    "data = {\n",
    "    \"이름\": [\"뽀로로\", \"짱구\", \"희동\"],\n",
    "    \"나이\": [25, 132, 69],\n",
    "    \"도시\": [\"서울\", \"부산\", \"대구\"]\n",
    "}\n",
    "\n",
    "#딕셔너리를 사용해 데이터프레임 생성\n",
    "df = pd.DataFrame(data)\n",
    "\n",
    "#데이터프레임 출력\n",
    "print(df)\n",
    "\n",
    "#도시 열 선택\n",
    "column_data = df[\"도시\"]\n",
    "print(column_data) # 시리즈로 리턴됨\n",
    "\n",
    "# 도시 이름 두개를 선택\n",
    "column_data = df[[\"도시\",\"이름\"]]\n",
    "print(column_data) # 데이터프레임으로 리턴됨\n",
    "\n",
    "# 행선택\n",
    "\n",
    "df.head() # 위에서 5개\n",
    "df.tail() # 밑에서 5개\n",
    "\n",
    "df.head(10) # 위에서 10개\n",
    "df.tail(10) # 밑에서 10개\n",
    "\n",
    "row = df.loc[0] # 시리즈로 리턴됨\n",
    "row "
   ]
  }
 ],
 "metadata": {
  "kernelspec": {
   "display_name": "env_django",
   "language": "python",
   "name": "python3"
  },
  "language_info": {
   "codemirror_mode": {
    "name": "ipython",
    "version": 3
   },
   "file_extension": ".py",
   "mimetype": "text/x-python",
   "name": "python",
   "nbconvert_exporter": "python",
   "pygments_lexer": "ipython3",
   "version": "3.10.16"
  }
 },
 "nbformat": 4,
 "nbformat_minor": 2
}
