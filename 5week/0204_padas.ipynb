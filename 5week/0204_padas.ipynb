{
 "cells": [
  {
   "cell_type": "markdown",
   "metadata": {},
   "source": [
    "판다스(numpy기반). 모듈 이름\n",
    " - 시리얼 (1차원)\n",
    " - 데이터 프레임 (2차원)\n"
   ]
  },
  {
   "cell_type": "code",
   "execution_count": 5,
   "metadata": {},
   "outputs": [
    {
     "name": "stdout",
     "output_type": "stream",
     "text": [
      "0    10\n",
      "1    20\n",
      "2    30\n",
      "dtype: int64\n",
      "0    고가\n",
      "1    시가\n",
      "dtype: object\n",
      "0       삼성\n",
      "1    81000\n",
      "dtype: object\n"
     ]
    }
   ],
   "source": [
    "# 판다스의 이해\n",
    "# 판다스 = 데이터프레임, 시리얼\n",
    "import pandas as pd\n",
    "\n",
    "# 시리즈 객체생성\n",
    "s = pd.Series([10,20,30])\n",
    "print(s)\n",
    "\n",
    "s = pd.Series([\"고가\",\"시가\"])\n",
    "print(s)\n",
    "\n",
    "s = pd.Series([\"삼성\",81000])\n",
    "print(s) # 문자형 데이터로 통합\n"
   ]
  },
  {
   "cell_type": "code",
   "execution_count": 15,
   "metadata": {},
   "outputs": [
    {
     "name": "stdout",
     "output_type": "stream",
     "text": [
      "RangeIndex(start=0, stop=3, step=1)\n",
      "[1000 2000 3000]\n",
      "[0, 1, 2]\n",
      "메로나     1000\n",
      "구구콘     2000\n",
      "하겐다즈    3000\n",
      "dtype: int64\n",
      "메로나     1000\n",
      "구구콘     2000\n",
      "하겐다즈    3000\n",
      "dtype: int64\n",
      "1000     메로나\n",
      "2000     구구콘\n",
      "3000    하겐다즈\n",
      "dtype: object\n"
     ]
    }
   ],
   "source": [
    "#인덱스\n",
    "\n",
    "s = pd.Series([1000,2000,3000])\n",
    "print(s.index) # 인덱스를 확인하는 객체\n",
    "print(s.values) # 넘파이로 반환\n",
    "print(s.index.to_list()) # 0 1 2 =>\n",
    "\n",
    "s.index = [\"메로나\",\"구구콘\",\"하겐다즈\"]\n",
    "print(s)\n",
    "\n",
    "# 값과 인덱스값 직접 할당\n",
    "ss= pd.Series([1000,2000,3000],[\"메로나\",\"구구콘\",\"하겐다즈\"])\n",
    "print(ss)\n",
    "\n",
    "# 키워드로 할당\n",
    "sss= pd.Series(index = [1000,2000,3000],data =[\"메로나\",\"구구콘\",\"하겐다즈\"])\n",
    "print(sss)\n"
   ]
  },
  {
   "cell_type": "code",
   "execution_count": 20,
   "metadata": {},
   "outputs": [
    {
     "name": "stdout",
     "output_type": "stream",
     "text": [
      "2019-05-31    42500\n",
      "2019-05-30    42550\n",
      "2019-05-29    41800\n",
      "2019-05-28    42550\n",
      "2019-05-27    42650\n",
      "dtype: int64\n",
      "[42500 42550 41800 42550 42650]\n",
      "['2019-05-31', '2019-05-30', '2019-05-29', '2019-05-28', '2019-05-27']\n"
     ]
    }
   ],
   "source": [
    "data = {\n",
    "    \"2019-05-31\" : 42500,\n",
    "    \"2019-05-30\" : 42550,\n",
    "    \"2019-05-29\" : 41800,\n",
    "    \"2019-05-28\" : 42550,\n",
    "    \"2019-05-27\" : 42650\n",
    "}\n",
    "\n",
    "s_samsung = pd.Series(data)\n",
    "print(s_samsung)\n",
    "print(s_samsung.values)\n",
    "print(s_samsung.index.to_list())\n",
    "\n"
   ]
  },
  {
   "cell_type": "code",
   "execution_count": 30,
   "metadata": {},
   "outputs": [
    {
     "name": "stdout",
     "output_type": "stream",
     "text": [
      "1000\n",
      "2000\n",
      "3000\n",
      "3000\n",
      "1000\n",
      "2000\n",
      "3000\n"
     ]
    }
   ],
   "source": [
    "# Read 인덱싱\n",
    "\n",
    "s = pd.Series([1000,2000,3000])\n",
    "\n",
    "s= pd.Series(data = [1000,2000,3000],index = [\"메로나\",\"구구콘\",\"하겐다즈\"])\n",
    "\n",
    "\n",
    "# iloc는 행번호로 접근\n",
    "print(s.iloc[0])\n",
    "print(s.iloc[1])\n",
    "print(s.iloc[2])\n",
    "print(s.iloc[-1])\n",
    "\n",
    "# loc는 인덱스로 접근\n",
    "print(s.loc[\"메로나\"])\n",
    "print(s.loc[\"구구콘\"])\n",
    "print(s.loc[\"하겐다즈\"])\n",
    "#print(s.loc[-1]) 에러발생\n",
    "\n"
   ]
  },
  {
   "cell_type": "markdown",
   "metadata": {},
   "source": [
    "판다스의 구성.\n",
    "iloc = 행번호로 인덱싱 접근\n",
    "loc = index로 인덱싱 접근\n",
    "```py\n",
    "#행번호    index           data\n",
    "# 0      [\"메로나\",       [1000\n",
    "# 1       \"구구콘\",       ,2000\n",
    "# 2       \"하겐다즈\"]     ,3000]\n",
    " ```"
   ]
  },
  {
   "cell_type": "code",
   "execution_count": 35,
   "metadata": {},
   "outputs": [
    {
     "name": "stdout",
     "output_type": "stream",
     "text": [
      "메로나    1000\n",
      "구구콘    2000\n",
      "dtype: int64\n",
      "메로나    1000\n",
      "구구콘    2000\n",
      "dtype: int64\n",
      "메로나     1000\n",
      "하겐다즈    3000\n",
      "dtype: int64\n"
     ]
    }
   ],
   "source": [
    "# Read 슬라이싱\n",
    "# 슬라이싱으로 값을 호출하게 되면 시리즈 객체로 리턴됨.\n",
    "# 값을 두개 이상으로 반환하게 될땐 객체로 반환함.\n",
    "\n",
    "s= pd.Series(data = [1000,2000,3000],index = [\"메로나\",\"구구콘\",\"하겐다즈\"])\n",
    "\n",
    "print(s.iloc[0:2])\n",
    "print(s.loc[\"메로나\":\"구구콘\"])\n",
    "\n",
    "indice = [\"메로나\",\"하겐다즈\"]\n",
    "print(s.loc[indice])"
   ]
  }
 ],
 "metadata": {
  "kernelspec": {
   "display_name": "env_django",
   "language": "python",
   "name": "python3"
  },
  "language_info": {
   "codemirror_mode": {
    "name": "ipython",
    "version": 3
   },
   "file_extension": ".py",
   "mimetype": "text/x-python",
   "name": "python",
   "nbconvert_exporter": "python",
   "pygments_lexer": "ipython3",
   "version": "3.10.16"
  }
 },
 "nbformat": 4,
 "nbformat_minor": 2
}
