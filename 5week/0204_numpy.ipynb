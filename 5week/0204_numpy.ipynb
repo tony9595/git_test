{
 "cells": [
  {
   "cell_type": "markdown",
   "metadata": {},
   "source": [
    "- 넘파이와 리스트의 차이점.\n",
    "1. 모든 원소가 같은 자료형이어야 한다. = 배열\n",
    "2. 초기 생성한 원소의 갯수를 바꿀 수 없다.\n",
    "\n",
    "- 넘파이의 장점\n",
    "  - 굉장히 큰 matrix처리 및 다양한 연산 기능 제공\n",
    "  - 반복문 없이 데이터 배열에 대한 처리 지원\n",
    "  - 선형대수와 관련된 다양한 기능 제공\n",
    "\n",
    "- 속도가 빠른 이유.\n",
    "  - numpy는 c언어로 구현되어 있음\n",
    "  - numpy는 task를 subtask로 알아서 나눠 병렬적으로 처리한다\n",
    "  - 메모리 접근 방식에 대한 차이로 인하여 속도가 빠르다 (주소값 저장이 아닌 실제 값을 메모리에 가지고 있어 메모리에 값이 연속적으로 저장이 되어 있고 이로 인하여 속도가 빠른다.)\n",
    "\n",
    "- 행렬의 필요성 [행렬은 어디에 쓰일까.]\n",
    "  - 컴퓨터의 메모리 구조는 행렬 형태로 표현이 가능합니다.\n",
    "  - 표 형태의 데이터는 행렬로 표현될 수 있습니다.\n",
    "\n",
    "\n",
    "\n"
   ]
  },
  {
   "cell_type": "code",
   "execution_count": 2,
   "metadata": {},
   "outputs": [
    {
     "name": "stdout",
     "output_type": "stream",
     "text": [
      "[1 2 3] \n",
      "\n",
      "[1.1 2.  3. ]\n",
      "float64 \n",
      "\n",
      "[[1 2 3]\n",
      " [4 5 6]] \n",
      "\n",
      "[[[1]\n",
      "  [2]]\n",
      "\n",
      " [[3]\n",
      "  [4]]]\n"
     ]
    }
   ],
   "source": [
    "import numpy as np\n",
    "\n",
    "# 넘파이 생성 방법\n",
    "arr  = np.array([1,2,3])\n",
    "print(arr,'\\n')\n",
    "type(arr)\n",
    "\n",
    "\n",
    "# 모든 자료형이 통일 된걸 확인\n",
    "arr  = np.array([1.1,2,3])\n",
    "print(arr)\n",
    "type(arr)\n",
    "print(arr.dtype,'\\n')\n",
    "\n",
    "# 2차원 배열 생성\n",
    "arr  = np.array([[1,2,3],[4,5,6]])\n",
    "print(arr,'\\n')\n",
    "\n",
    "# 3차원 배열 생성\n",
    "arr  = np.array([[[1],[2]],[[3],[4]]])\n",
    "print(arr)\n"
   ]
  },
  {
   "cell_type": "code",
   "execution_count": 3,
   "metadata": {},
   "outputs": [
    {
     "name": "stdout",
     "output_type": "stream",
     "text": [
      "[0 0 0 0 0 0 0 0 0 0]\n",
      "[[0. 0. 0.]\n",
      " [0. 0. 0.]\n",
      " [0. 0. 0.]]\n"
     ]
    }
   ],
   "source": [
    "# 두번째 방법 기본값이 있는 배열 만들기\n",
    "arr = np.zeros(10, dtype=np.int32) # 32bit의 범위 = -21억~21억\n",
    "print(arr)\n",
    "\n",
    "arr = np.zeros((3,3)) # 기본데이터 타입을 실수형으로 저장\n",
    "print(arr)"
   ]
  },
  {
   "cell_type": "code",
   "execution_count": 135,
   "metadata": {},
   "outputs": [
    {
     "name": "stdout",
     "output_type": "stream",
     "text": [
      "[1 1 1 1 1 1 1 1 1 1]\n"
     ]
    },
    {
     "data": {
      "text/plain": [
       "array([[1., 1., 1.],\n",
       "       [1., 1., 1.],\n",
       "       [1., 1., 1.]])"
      ]
     },
     "execution_count": 135,
     "metadata": {},
     "output_type": "execute_result"
    }
   ],
   "source": [
    "arr = np.ones(10, dtype=np.int32) # 32bit의 범위 = -21억~21억\n",
    "print(arr)\n",
    "\n",
    "arr = np.ones((3,3))\n",
    "arr"
   ]
  },
  {
   "cell_type": "code",
   "execution_count": 141,
   "metadata": {},
   "outputs": [
    {
     "name": "stdout",
     "output_type": "stream",
     "text": [
      "[1 3 5 7 9]\n",
      "[  0  20  40  60  80 100]\n"
     ]
    }
   ],
   "source": [
    "# 세번째 방법 연속된 값이 있는 배열 만들기\n",
    "arr = np.arange(1,10,2) # 시작, 끝, 간격\n",
    "print(arr)\n",
    "\n",
    "# 0~100을 6조각으로 나눈다.\n",
    "arr = np.linspace(0,100,6, dtype=np.int32)\n",
    "print(arr)"
   ]
  },
  {
   "cell_type": "code",
   "execution_count": 143,
   "metadata": {},
   "outputs": [
    {
     "name": "stdout",
     "output_type": "stream",
     "text": [
      "1\n",
      "(3,)\n",
      "1\n",
      "2\n",
      "4\n",
      "(5,)\n",
      "(2, 4)\n",
      "(3, 3, 3, 3)\n"
     ]
    }
   ],
   "source": [
    "# 배열의 차원과 크기 알아내기\n",
    "arr = np.linspace(0,100,3, dtype=np.int32)\n",
    "\n",
    "print(arr.ndim) # 행 갯수 = 몇 차원인지\n",
    "print(arr.shape) # 행 갯수\n",
    "a1 = np.array( [ 1, 2, 3, 4, 5 ])\n",
    "a2 = np.array( [ [ 1, 2, 3, 4 ] , [ 1, 2, 3, 4 ] ] )\n",
    "a3 = np.array( [ [ [ 1, 2, 3 ] , [ 1, 2, 3 ] ] ,\n",
    "                     [ [ 1, 2, 3 ] , [ 1, 2, 3 ] ] ,\n",
    "                     [ [ 1, 2, 3 ] , [ 1, 2, 3 ] ] ] )\n",
    "\n",
    "print(a1.ndim)\n",
    "print(a2.ndim)\n",
    "print(a3.ndim)\n",
    "\n",
    "print(a1.shape) #(5,) = 1행, 5열\n",
    "print(a2.shape) #(2, 4) = 2행, 4열\n",
    "print(a3.shape) #(3, 2, 3) = 3높이의, 2행의, 3개의 열\n",
    "\n",
    "# 스칼라  단행, 1행의 데이터\n",
    "# 벡터  2차원 배열\n",
    "# 텐서 3차원 이상"
   ]
  },
  {
   "cell_type": "code",
   "execution_count": 78,
   "metadata": {},
   "outputs": [
    {
     "name": "stdout",
     "output_type": "stream",
     "text": [
      "(3, 3)\n",
      "8\n",
      "[0 3 6]\n",
      "8\n",
      "4\n"
     ]
    }
   ],
   "source": [
    "# 읽는 방법. \n",
    "# 인덱싱과 슬라이싱\n",
    "\n",
    "arr = np.array( [ [ 0, 1, 2 ], \n",
    "                  [ 3, 4, 5 ],\n",
    "                  [ 6, 7, 8 ] ])\n",
    "print(arr.shape)\n",
    "\n",
    "#인덱싱\n",
    "print(arr[2,2])\n",
    "print(arr[0,0])\n",
    "\n",
    "#음수 인덱싱\n",
    "print(arr[-1,-1]) # 8\n",
    "print(arr[-2,-2]) # 4"
   ]
  },
  {
   "cell_type": "code",
   "execution_count": 101,
   "metadata": {},
   "outputs": [
    {
     "name": "stdout",
     "output_type": "stream",
     "text": [
      "(3, 5)\n",
      "[[5 3 1]]\n",
      "[[ 6  7  8  9 10]]\n"
     ]
    }
   ],
   "source": [
    "# 슬라이싱\n",
    "arr = np.array( [ [ 1, 2, 3, 4, 5 ],\n",
    "                  [ 6, 7, 8, 9, 10 ],\n",
    "                  [ 11, 12, 13, 14, 15] ] )\n",
    "\n",
    "print(arr.shape)\n",
    "print(arr[0:1,::-2])\n",
    "print(arr[1:2,:])"
   ]
  },
  {
   "cell_type": "code",
   "execution_count": 102,
   "metadata": {},
   "outputs": [
    {
     "name": "stdout",
     "output_type": "stream",
     "text": [
      "[0 2 4]\n"
     ]
    }
   ],
   "source": [
    "#불리언 배열 인덱싱\n",
    "\n",
    "arr = np.array([0,1,2,3,4,5])\n",
    "bool_arr = np.array([True,False,True,False,True,False])\n",
    "\n",
    "# 불리언 인덱싱을 사용할때 주의할점은 불리언배열과 인덱싱할배열이 같은 크기.\n",
    "print(arr[bool_arr])"
   ]
  },
  {
   "cell_type": "code",
   "execution_count": 72,
   "metadata": {},
   "outputs": [
    {
     "name": "stdout",
     "output_type": "stream",
     "text": [
      "[[1 1 2]\n",
      " [3 4 5]\n",
      " [6 7 8]]\n"
     ]
    }
   ],
   "source": [
    "# 값 수정\n",
    "\n",
    "arr = np.array( [ [ 0, 1, 2 ], \n",
    "                  [ 3, 4, 5 ],\n",
    "                  [ 6, 7, 8 ] ])\n",
    "\n",
    "arr [0,0]=1\n",
    "print(arr)"
   ]
  },
  {
   "cell_type": "code",
   "execution_count": 120,
   "metadata": {},
   "outputs": [
    {
     "name": "stdout",
     "output_type": "stream",
     "text": [
      "<class 'numpy.ndarray'> [5 7 9]\n",
      "[ 5 10 15]\n",
      "[21 25 29]\n",
      "[False  True False]\n",
      "[ True False False]\n"
     ]
    }
   ],
   "source": [
    "#연산\n",
    "#[1,2,1]+[3,4,'숫자']\n",
    "\n",
    "a = np.array([1,2,3])\n",
    "b = np.array([4,5,6])\n",
    "\n",
    "c = a+b\n",
    "print(type(c),c)\n",
    "\n",
    "c = 5*a\n",
    "print(c)\n",
    "\n",
    "c = 2 + 5 * b - a\n",
    "print(c)\n",
    "\n",
    "# == 사용하기\n",
    "\n",
    "c = np.array([21,25,24])\n",
    "print(c == 25)\n",
    "\n",
    "d = c == 21\n",
    "# d = np.array([True, False, False])\n",
    "print(d)"
   ]
  },
  {
   "cell_type": "code",
   "execution_count": 6,
   "metadata": {},
   "outputs": [
    {
     "name": "stdout",
     "output_type": "stream",
     "text": [
      "[ 5 10 15]\n"
     ]
    }
   ],
   "source": [
    "a = np.array([1,2,3])\n",
    "b = np.array([4,5,6])\n",
    "\n",
    "c = 5*a\n",
    "\n",
    "print(c)"
   ]
  },
  {
   "cell_type": "markdown",
   "metadata": {},
   "source": [
    "넘파이의 브로드케스팅\n",
    "\n",
    "5 * (1,2,3) <- 수학에서는 불가능한 수식.\n",
    "\n",
    "컴퓨터적 측면에서 보면\n",
    "5 * (1,2,3) => (5,5,5) * (1,2,3) 으로 해석됨.\n",
    "이걸 브로드캐스팅이라고 한다."
   ]
  },
  {
   "cell_type": "code",
   "execution_count": 9,
   "metadata": {},
   "outputs": [
    {
     "name": "stdout",
     "output_type": "stream",
     "text": [
      "[4 4 4]\n",
      "[-2  0  2]\n",
      "[3 4 3]\n",
      "[0.33333333 1.         3.        ]\n"
     ]
    }
   ],
   "source": [
    "# 연산을 함수로 ( 배열이 두개일때)\n",
    "a = np.array([1,2,3])\n",
    "b = np.array([3,2,1])\n",
    "\n",
    "c = np.add(a,b)\n",
    "print(c)\n",
    "c = np.subtract(a,b)\n",
    "print(c)\n",
    "c = np.multiply(a,b)\n",
    "print(c)\n",
    "c = np.divide(a,b)\n",
    "print(c)"
   ]
  },
  {
   "cell_type": "code",
   "execution_count": 10,
   "metadata": {},
   "outputs": [
    {
     "name": "stdout",
     "output_type": "stream",
     "text": [
      "[3 2 3]\n",
      "[1 2 1]\n"
     ]
    }
   ],
   "source": [
    "#최대 최소 함수\n",
    "a = np.array([1,2,3])\n",
    "b = np.array([3,2,1])\n",
    "\n",
    "# 같은 위치에 있는 값을 비교함.\n",
    "c = np.maximum(a,b)\n",
    "print(c)\n",
    "\n",
    "c = np.minimum(a,b)\n",
    "print(c)"
   ]
  },
  {
   "cell_type": "code",
   "execution_count": 16,
   "metadata": {},
   "outputs": [
    {
     "name": "stdout",
     "output_type": "stream",
     "text": [
      "6\n",
      "2.0\n",
      "0.816496580927726\n",
      "0.6666666666666666\n",
      "[1 3 6]\n",
      "[1 2 6]\n",
      "3\n",
      "1\n"
     ]
    }
   ],
   "source": [
    "# 통계 함수 (배열 한개)\n",
    "\n",
    "a = np.array([1,2,3])\n",
    "\n",
    "print(np.sum(a)) # 합계\n",
    "print(np.mean(a)) # 평균\n",
    "print(np.std(a)) # 표준편차\n",
    "print(np.var(a)) # 분산\n",
    "\n",
    "print(np.cumsum(a)) # 누적함\n",
    "print(np.cumprod(a)) # 누적곱\n",
    "\n",
    "print(np.max(a))\n",
    "print(np.min(a))"
   ]
  },
  {
   "cell_type": "code",
   "execution_count": 17,
   "metadata": {},
   "outputs": [
    {
     "name": "stdout",
     "output_type": "stream",
     "text": [
      "[ 1  2  3  4  5  6  7  8  9 10]\n"
     ]
    }
   ],
   "source": [
    "# 중복제거하기\n",
    "\n",
    "a = np.array([ 1, 1, 2, 3, 4, 5, 7, 7, 8, 5, 6, 8, 9, 10, 10])\n",
    "a = np.unique(a)\n",
    "print(a)"
   ]
  },
  {
   "cell_type": "code",
   "execution_count": 22,
   "metadata": {},
   "outputs": [
    {
     "name": "stdout",
     "output_type": "stream",
     "text": [
      "[-12  -5   2   3   8  31  50]\n",
      "[ 50  31   8   3   2  -5 -12]\n"
     ]
    }
   ],
   "source": [
    "# 정렬함수\n",
    "\n",
    "a = np.array([ 3,2,50,-5,31,8,-12])\n",
    "b = np.sort(a)\n",
    "print(b)\n",
    "\n",
    "#내림차순\n",
    "c = np.sort(a)[::-1]\n",
    "print(c)"
   ]
  },
  {
   "cell_type": "code",
   "execution_count": 41,
   "metadata": {},
   "outputs": [
    {
     "name": "stdout",
     "output_type": "stream",
     "text": [
      "[[ 2  3  3]\n",
      " [ 7  5  4]\n",
      " [11  8  9]]\n",
      "\n",
      "[[ 3  5 11]\n",
      " [ 2  8  9]\n",
      " [ 3  4  7]]\n"
     ]
    }
   ],
   "source": [
    "# 2차원 정렬\n",
    "a = np.array( [ [ 11, 5, 3 ],\n",
    "                [ 2, 8, 9 ],\n",
    "                [ 7, 3, 4] ] )\n",
    "\n",
    "sort_a = np.sort(a, axis = 0) # 2 차원에서의 행기준\n",
    "print(sort_a)\n",
    "\n",
    "print( )\n",
    "\n",
    "sort_a = np.sort(a, axis = 1) # 2 차원에서의 열기준\n",
    "print(sort_a)"
   ]
  },
  {
   "cell_type": "code",
   "execution_count": 56,
   "metadata": {},
   "outputs": [
    {
     "name": "stdout",
     "output_type": "stream",
     "text": [
      "[[[ 6 12  9]\n",
      "  [ 8  7  7]\n",
      "  [ 3  8 11]]\n",
      "\n",
      " [[ 9  9 13]\n",
      "  [11 13 13]\n",
      "  [11  7  5]]\n",
      "\n",
      " [[ 3 13  4]\n",
      "  [13 10  5]\n",
      "  [ 5  0  2]]]\n",
      "--------------0\n",
      "[[[ 3  9  4]\n",
      "  [ 8  7  5]\n",
      "  [ 3  0  2]]\n",
      "\n",
      " [[ 6 12  9]\n",
      "  [11 10  7]\n",
      "  [ 5  7  5]]\n",
      "\n",
      " [[ 9 13 13]\n",
      "  [13 13 13]\n",
      "  [11  8 11]]]\n",
      "--------------1\n",
      "[[[ 3  7  7]\n",
      "  [ 6  8  9]\n",
      "  [ 8 12 11]]\n",
      "\n",
      " [[ 9  7  5]\n",
      "  [11  9 13]\n",
      "  [11 13 13]]\n",
      "\n",
      " [[ 3  0  2]\n",
      "  [ 5 10  4]\n",
      "  [13 13  5]]]\n",
      "--------------2\n",
      "[[[ 6  9 12]\n",
      "  [ 7  7  8]\n",
      "  [ 3  8 11]]\n",
      "\n",
      " [[ 9  9 13]\n",
      "  [11 13 13]\n",
      "  [ 5  7 11]]\n",
      "\n",
      " [[ 3  4 13]\n",
      "  [ 5 10 13]\n",
      "  [ 0  2  5]]]\n"
     ]
    }
   ],
   "source": [
    "arr = np.random.randint(15, size=(3, 3, 3))\n",
    "print(arr)\n",
    "print(\"--------------0\")\n",
    "print(np.sort(arr, axis = 0))\n",
    "print(\"--------------1\")\n",
    "print(np.sort(arr, axis = 1))\n",
    "print(\"--------------2\")\n",
    "print(np.sort(arr, axis = 2))"
   ]
  },
  {
   "cell_type": "code",
   "execution_count": 54,
   "metadata": {},
   "outputs": [
    {
     "name": "stdout",
     "output_type": "stream",
     "text": [
      "[[2 3 4]\n",
      " [3 4 5]\n",
      " [4 5 6]]\n"
     ]
    }
   ],
   "source": [
    "#브로드케스팅\n",
    "import numpy as np\n",
    "\n",
    "arr1 = np.array([1, 2, 3])\n",
    "arr2 = np.array([[1],\n",
    "                 [2],\n",
    "                 [3]])\n",
    "\n",
    "result = arr1 + arr2\n",
    "print(result)"
   ]
  }
 ],
 "metadata": {
  "kernelspec": {
   "display_name": "env_django",
   "language": "python",
   "name": "python3"
  },
  "language_info": {
   "codemirror_mode": {
    "name": "ipython",
    "version": 3
   },
   "file_extension": ".py",
   "mimetype": "text/x-python",
   "name": "python",
   "nbconvert_exporter": "python",
   "pygments_lexer": "ipython3",
   "version": "3.10.16"
  }
 },
 "nbformat": 4,
 "nbformat_minor": 2
}
