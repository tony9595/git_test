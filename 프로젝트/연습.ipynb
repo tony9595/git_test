{
 "cells": [
  {
   "cell_type": "markdown",
   "metadata": {},
   "source": [
    "조회 시스템.\n",
    "메뉴밑에 게시물을 5개씩 보여주는 코드"
   ]
  },
  {
   "cell_type": "code",
   "execution_count": null,
   "metadata": {},
   "outputs": [],
   "source": [
    "posts= [[1,\"김박덕철\"],[2,\"지각변동\"],[3,\"철가면짱\"],[4,\"나로호\"],[5,\"김치찌게\"],[6,\"홍박사\"]]\n",
    "\n",
    "def show(hsp=None):\n",
    "    num = 5\n",
    "    if hsp == None:\n",
    "        num\n",
    "    elif (hsp == '<' and num-5 < 5) or (hsp == '>' and num > len(posts)+5):\n",
    "        print(\"범위를 초과했습니다.\")\n",
    "        \n",
    "    elif hsp == '<' and num >= 10:\n",
    "        num = num-5\n",
    "    elif hsp == '>' and num < len(posts):\n",
    "        num = num+5\n",
    "\n",
    "    for i in range(num-5,num):\n",
    "        if i < len(posts):\n",
    "            print(f\"{i+1}. 제목 : {posts[i][0]}\")\n",
    "        elif i >= len(posts):\n",
    "            print(f\"{i+1}. 등록된 게시물이 없습둥\")\n",
    "        \n",
    "def show_ez(hsp=None):\n",
    "    nums = 5\n",
    "    if hsp == None:\n",
    "        show(nums)\n",
    "    elif hsp == '<' and nums >= 10:\n",
    "        show(nums-5)\n",
    "    elif hsp == '>' and nums < len(posts):\n",
    "        show(nums+5)\n",
    "    \n",
    "show('<')"
   ]
  },
  {
   "cell_type": "markdown",
   "metadata": {},
   "source": [
    "제목옆에 내용을 몇글자씩만 보여주는 코드."
   ]
  },
  {
   "cell_type": "code",
   "execution_count": 1,
   "metadata": {},
   "outputs": [
    {
     "name": "stdout",
     "output_type": "stream",
     "text": [
      "지\n"
     ]
    }
   ],
   "source": [
    "posts= [[1,\"김박덕철\"],[2,\"지각변동\"],[3,\"철가면짱\"],[4,\"나로호\"],[5,\"김치찌게\"],[6,\"홍박사\"]]\n",
    "print(posts[1][1][:1])"
   ]
  },
  {
   "cell_type": "markdown",
   "metadata": {},
   "source": [
    "데이터베이스?\n",
    "서로 관련 있는 데이터들의 모임\n",
    "\n",
    "DBMS? \n",
    "데이터베이스 관리 시스템 (Database Management System)\n",
    " - 데이터베이스를 잘 구축해서 관리하는 작업에 사용되는 프로그램들의 묶음\n",
    " - 오라클사의 Oracle, 마이크로소프트사의 MS SQL, 리눅스 계열의 My SQL\n",
    " - 관계형 데이터 베이스로 발전 (동시성, 성능, 보안)\n",
    "\n",
    "\n",
    "공공기관 -> 대한민국 소프트웨어 시장의 30% 정도 국산 소프트웨어 티베로 쓰고 있음.\n",
    "\n",
    "데이터베이스 관리 시스템의 단점\n",
    " - 자원이 많고 복잡하며 비싸다.\n",
    " "
   ]
  }
 ],
 "metadata": {
  "kernelspec": {
   "display_name": "env_django",
   "language": "python",
   "name": "python3"
  },
  "language_info": {
   "codemirror_mode": {
    "name": "ipython",
    "version": 3
   },
   "file_extension": ".py",
   "mimetype": "text/x-python",
   "name": "python",
   "nbconvert_exporter": "python",
   "pygments_lexer": "ipython3",
   "version": "3.10.16"
  }
 },
 "nbformat": 4,
 "nbformat_minor": 2
}
